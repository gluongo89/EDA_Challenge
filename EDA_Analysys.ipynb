{
 "cells": [
  {
   "cell_type": "markdown",
   "id": "ea5f4206",
   "metadata": {},
   "source": [
    "In this notebook is reported the analysis step by step.\n",
    "\n",
    "Import the library necessary for the analysis and the data"
   ]
  },
  {
   "cell_type": "code",
   "execution_count": 1,
   "id": "1975a7f1",
   "metadata": {},
   "outputs": [
    {
     "data": {
      "text/html": [
       "<div>\n",
       "<style scoped>\n",
       "    .dataframe tbody tr th:only-of-type {\n",
       "        vertical-align: middle;\n",
       "    }\n",
       "\n",
       "    .dataframe tbody tr th {\n",
       "        vertical-align: top;\n",
       "    }\n",
       "\n",
       "    .dataframe thead th {\n",
       "        text-align: right;\n",
       "    }\n",
       "</style>\n",
       "<table border=\"1\" class=\"dataframe\">\n",
       "  <thead>\n",
       "    <tr style=\"text-align: right;\">\n",
       "      <th></th>\n",
       "      <th>price</th>\n",
       "      <th>id</th>\n",
       "      <th>bedrooms</th>\n",
       "      <th>bathrooms</th>\n",
       "      <th>sqft_living</th>\n",
       "      <th>sqft_lot</th>\n",
       "      <th>floors</th>\n",
       "      <th>waterfront</th>\n",
       "      <th>view</th>\n",
       "      <th>condition</th>\n",
       "      <th>...</th>\n",
       "      <th>sqft_above</th>\n",
       "      <th>sqft_basement</th>\n",
       "      <th>yr_built</th>\n",
       "      <th>yr_renovated</th>\n",
       "      <th>zipcode</th>\n",
       "      <th>lat</th>\n",
       "      <th>long</th>\n",
       "      <th>sqft_living15</th>\n",
       "      <th>sqft_lot15</th>\n",
       "      <th>date</th>\n",
       "    </tr>\n",
       "  </thead>\n",
       "  <tbody>\n",
       "    <tr>\n",
       "      <th>0</th>\n",
       "      <td>221900.0</td>\n",
       "      <td>7129300520</td>\n",
       "      <td>3.0</td>\n",
       "      <td>1.00</td>\n",
       "      <td>1180.0</td>\n",
       "      <td>5650.0</td>\n",
       "      <td>1.0</td>\n",
       "      <td>1</td>\n",
       "      <td>0.0</td>\n",
       "      <td>3</td>\n",
       "      <td>...</td>\n",
       "      <td>1180.0</td>\n",
       "      <td>0.0</td>\n",
       "      <td>1955</td>\n",
       "      <td>0</td>\n",
       "      <td>98178</td>\n",
       "      <td>47.5112</td>\n",
       "      <td>-122.257</td>\n",
       "      <td>1340.0</td>\n",
       "      <td>5650.0</td>\n",
       "      <td>2014-10-13</td>\n",
       "    </tr>\n",
       "    <tr>\n",
       "      <th>1</th>\n",
       "      <td>538000.0</td>\n",
       "      <td>6414100192</td>\n",
       "      <td>3.0</td>\n",
       "      <td>2.25</td>\n",
       "      <td>2570.0</td>\n",
       "      <td>7242.0</td>\n",
       "      <td>2.0</td>\n",
       "      <td>0</td>\n",
       "      <td>0.0</td>\n",
       "      <td>3</td>\n",
       "      <td>...</td>\n",
       "      <td>2170.0</td>\n",
       "      <td>400.0</td>\n",
       "      <td>1951</td>\n",
       "      <td>1991</td>\n",
       "      <td>98125</td>\n",
       "      <td>47.7210</td>\n",
       "      <td>-122.319</td>\n",
       "      <td>1690.0</td>\n",
       "      <td>7639.0</td>\n",
       "      <td>2014-12-09</td>\n",
       "    </tr>\n",
       "    <tr>\n",
       "      <th>2</th>\n",
       "      <td>604000.0</td>\n",
       "      <td>2487200875</td>\n",
       "      <td>4.0</td>\n",
       "      <td>3.00</td>\n",
       "      <td>1960.0</td>\n",
       "      <td>5000.0</td>\n",
       "      <td>1.0</td>\n",
       "      <td>0</td>\n",
       "      <td>0.0</td>\n",
       "      <td>5</td>\n",
       "      <td>...</td>\n",
       "      <td>1050.0</td>\n",
       "      <td>910.0</td>\n",
       "      <td>1965</td>\n",
       "      <td>0</td>\n",
       "      <td>98136</td>\n",
       "      <td>47.5208</td>\n",
       "      <td>-122.393</td>\n",
       "      <td>1360.0</td>\n",
       "      <td>5000.0</td>\n",
       "      <td>2014-12-09</td>\n",
       "    </tr>\n",
       "    <tr>\n",
       "      <th>3</th>\n",
       "      <td>510000.0</td>\n",
       "      <td>1954400510</td>\n",
       "      <td>3.0</td>\n",
       "      <td>2.00</td>\n",
       "      <td>1680.0</td>\n",
       "      <td>8080.0</td>\n",
       "      <td>1.0</td>\n",
       "      <td>0</td>\n",
       "      <td>0.0</td>\n",
       "      <td>3</td>\n",
       "      <td>...</td>\n",
       "      <td>1680.0</td>\n",
       "      <td>0.0</td>\n",
       "      <td>1987</td>\n",
       "      <td>0</td>\n",
       "      <td>98074</td>\n",
       "      <td>47.6168</td>\n",
       "      <td>-122.045</td>\n",
       "      <td>1800.0</td>\n",
       "      <td>7503.0</td>\n",
       "      <td>2015-02-18</td>\n",
       "    </tr>\n",
       "    <tr>\n",
       "      <th>4</th>\n",
       "      <td>1230000.0</td>\n",
       "      <td>7237550310</td>\n",
       "      <td>4.0</td>\n",
       "      <td>4.50</td>\n",
       "      <td>5420.0</td>\n",
       "      <td>101930.0</td>\n",
       "      <td>1.0</td>\n",
       "      <td>0</td>\n",
       "      <td>0.0</td>\n",
       "      <td>3</td>\n",
       "      <td>...</td>\n",
       "      <td>3890.0</td>\n",
       "      <td>1530.0</td>\n",
       "      <td>2001</td>\n",
       "      <td>0</td>\n",
       "      <td>98053</td>\n",
       "      <td>47.6561</td>\n",
       "      <td>-122.005</td>\n",
       "      <td>4760.0</td>\n",
       "      <td>101930.0</td>\n",
       "      <td>2014-05-12</td>\n",
       "    </tr>\n",
       "    <tr>\n",
       "      <th>...</th>\n",
       "      <td>...</td>\n",
       "      <td>...</td>\n",
       "      <td>...</td>\n",
       "      <td>...</td>\n",
       "      <td>...</td>\n",
       "      <td>...</td>\n",
       "      <td>...</td>\n",
       "      <td>...</td>\n",
       "      <td>...</td>\n",
       "      <td>...</td>\n",
       "      <td>...</td>\n",
       "      <td>...</td>\n",
       "      <td>...</td>\n",
       "      <td>...</td>\n",
       "      <td>...</td>\n",
       "      <td>...</td>\n",
       "      <td>...</td>\n",
       "      <td>...</td>\n",
       "      <td>...</td>\n",
       "      <td>...</td>\n",
       "      <td>...</td>\n",
       "    </tr>\n",
       "    <tr>\n",
       "      <th>17693</th>\n",
       "      <td>360000.0</td>\n",
       "      <td>263000018</td>\n",
       "      <td>3.0</td>\n",
       "      <td>2.50</td>\n",
       "      <td>1530.0</td>\n",
       "      <td>1131.0</td>\n",
       "      <td>3.0</td>\n",
       "      <td>0</td>\n",
       "      <td>0.0</td>\n",
       "      <td>3</td>\n",
       "      <td>...</td>\n",
       "      <td>1530.0</td>\n",
       "      <td>0.0</td>\n",
       "      <td>2009</td>\n",
       "      <td>0</td>\n",
       "      <td>98103</td>\n",
       "      <td>47.6993</td>\n",
       "      <td>-122.346</td>\n",
       "      <td>1530.0</td>\n",
       "      <td>1509.0</td>\n",
       "      <td>2014-05-21</td>\n",
       "    </tr>\n",
       "    <tr>\n",
       "      <th>17694</th>\n",
       "      <td>400000.0</td>\n",
       "      <td>6600060120</td>\n",
       "      <td>4.0</td>\n",
       "      <td>2.50</td>\n",
       "      <td>2310.0</td>\n",
       "      <td>5813.0</td>\n",
       "      <td>2.0</td>\n",
       "      <td>0</td>\n",
       "      <td>0.0</td>\n",
       "      <td>3</td>\n",
       "      <td>...</td>\n",
       "      <td>2310.0</td>\n",
       "      <td>0.0</td>\n",
       "      <td>2014</td>\n",
       "      <td>0</td>\n",
       "      <td>98146</td>\n",
       "      <td>47.5107</td>\n",
       "      <td>-122.362</td>\n",
       "      <td>1830.0</td>\n",
       "      <td>7200.0</td>\n",
       "      <td>2015-02-23</td>\n",
       "    </tr>\n",
       "    <tr>\n",
       "      <th>17695</th>\n",
       "      <td>402101.0</td>\n",
       "      <td>1523300141</td>\n",
       "      <td>2.0</td>\n",
       "      <td>0.75</td>\n",
       "      <td>1020.0</td>\n",
       "      <td>1350.0</td>\n",
       "      <td>2.0</td>\n",
       "      <td>0</td>\n",
       "      <td>0.0</td>\n",
       "      <td>3</td>\n",
       "      <td>...</td>\n",
       "      <td>1020.0</td>\n",
       "      <td>0.0</td>\n",
       "      <td>2009</td>\n",
       "      <td>0</td>\n",
       "      <td>98144</td>\n",
       "      <td>47.5944</td>\n",
       "      <td>-122.299</td>\n",
       "      <td>1020.0</td>\n",
       "      <td>2007.0</td>\n",
       "      <td>2014-06-23</td>\n",
       "    </tr>\n",
       "    <tr>\n",
       "      <th>17696</th>\n",
       "      <td>400000.0</td>\n",
       "      <td>291310100</td>\n",
       "      <td>3.0</td>\n",
       "      <td>2.50</td>\n",
       "      <td>1600.0</td>\n",
       "      <td>2388.0</td>\n",
       "      <td>2.0</td>\n",
       "      <td>1</td>\n",
       "      <td>0.0</td>\n",
       "      <td>3</td>\n",
       "      <td>...</td>\n",
       "      <td>1600.0</td>\n",
       "      <td>0.0</td>\n",
       "      <td>2004</td>\n",
       "      <td>0</td>\n",
       "      <td>98027</td>\n",
       "      <td>47.5345</td>\n",
       "      <td>-122.069</td>\n",
       "      <td>1410.0</td>\n",
       "      <td>1287.0</td>\n",
       "      <td>2015-01-16</td>\n",
       "    </tr>\n",
       "    <tr>\n",
       "      <th>17697</th>\n",
       "      <td>325000.0</td>\n",
       "      <td>1523300157</td>\n",
       "      <td>2.0</td>\n",
       "      <td>0.75</td>\n",
       "      <td>1020.0</td>\n",
       "      <td>1076.0</td>\n",
       "      <td>2.0</td>\n",
       "      <td>0</td>\n",
       "      <td>0.0</td>\n",
       "      <td>3</td>\n",
       "      <td>...</td>\n",
       "      <td>1020.0</td>\n",
       "      <td>0.0</td>\n",
       "      <td>2008</td>\n",
       "      <td>0</td>\n",
       "      <td>98144</td>\n",
       "      <td>47.5941</td>\n",
       "      <td>-122.299</td>\n",
       "      <td>1020.0</td>\n",
       "      <td>1357.0</td>\n",
       "      <td>2014-10-15</td>\n",
       "    </tr>\n",
       "  </tbody>\n",
       "</table>\n",
       "<p>17698 rows × 21 columns</p>\n",
       "</div>"
      ],
      "text/plain": [
       "           price          id  bedrooms  bathrooms  sqft_living  sqft_lot  \\\n",
       "0       221900.0  7129300520       3.0       1.00       1180.0    5650.0   \n",
       "1       538000.0  6414100192       3.0       2.25       2570.0    7242.0   \n",
       "2       604000.0  2487200875       4.0       3.00       1960.0    5000.0   \n",
       "3       510000.0  1954400510       3.0       2.00       1680.0    8080.0   \n",
       "4      1230000.0  7237550310       4.0       4.50       5420.0  101930.0   \n",
       "...          ...         ...       ...        ...          ...       ...   \n",
       "17693   360000.0   263000018       3.0       2.50       1530.0    1131.0   \n",
       "17694   400000.0  6600060120       4.0       2.50       2310.0    5813.0   \n",
       "17695   402101.0  1523300141       2.0       0.75       1020.0    1350.0   \n",
       "17696   400000.0   291310100       3.0       2.50       1600.0    2388.0   \n",
       "17697   325000.0  1523300157       2.0       0.75       1020.0    1076.0   \n",
       "\n",
       "       floors  waterfront  view  condition  ...  sqft_above  sqft_basement  \\\n",
       "0         1.0           1   0.0          3  ...      1180.0            0.0   \n",
       "1         2.0           0   0.0          3  ...      2170.0          400.0   \n",
       "2         1.0           0   0.0          5  ...      1050.0          910.0   \n",
       "3         1.0           0   0.0          3  ...      1680.0            0.0   \n",
       "4         1.0           0   0.0          3  ...      3890.0         1530.0   \n",
       "...       ...         ...   ...        ...  ...         ...            ...   \n",
       "17693     3.0           0   0.0          3  ...      1530.0            0.0   \n",
       "17694     2.0           0   0.0          3  ...      2310.0            0.0   \n",
       "17695     2.0           0   0.0          3  ...      1020.0            0.0   \n",
       "17696     2.0           1   0.0          3  ...      1600.0            0.0   \n",
       "17697     2.0           0   0.0          3  ...      1020.0            0.0   \n",
       "\n",
       "       yr_built  yr_renovated  zipcode      lat     long  sqft_living15  \\\n",
       "0          1955             0    98178  47.5112 -122.257         1340.0   \n",
       "1          1951          1991    98125  47.7210 -122.319         1690.0   \n",
       "2          1965             0    98136  47.5208 -122.393         1360.0   \n",
       "3          1987             0    98074  47.6168 -122.045         1800.0   \n",
       "4          2001             0    98053  47.6561 -122.005         4760.0   \n",
       "...         ...           ...      ...      ...      ...            ...   \n",
       "17693      2009             0    98103  47.6993 -122.346         1530.0   \n",
       "17694      2014             0    98146  47.5107 -122.362         1830.0   \n",
       "17695      2009             0    98144  47.5944 -122.299         1020.0   \n",
       "17696      2004             0    98027  47.5345 -122.069         1410.0   \n",
       "17697      2008             0    98144  47.5941 -122.299         1020.0   \n",
       "\n",
       "       sqft_lot15        date  \n",
       "0          5650.0  2014-10-13  \n",
       "1          7639.0  2014-12-09  \n",
       "2          5000.0  2014-12-09  \n",
       "3          7503.0  2015-02-18  \n",
       "4        101930.0  2014-05-12  \n",
       "...           ...         ...  \n",
       "17693      1509.0  2014-05-21  \n",
       "17694      7200.0  2015-02-23  \n",
       "17695      2007.0  2014-06-23  \n",
       "17696      1287.0  2015-01-16  \n",
       "17697      1357.0  2014-10-15  \n",
       "\n",
       "[17698 rows x 21 columns]"
      ]
     },
     "execution_count": 1,
     "metadata": {},
     "output_type": "execute_result"
    }
   ],
   "source": [
    "import warnings\n",
    "\n",
    "warnings.filterwarnings(\"ignore\")\n",
    "\n",
    "import pandas as pd\n",
    "import numpy as np\n",
    "import matplotlib.pyplot as plt\n",
    "import seaborn as sns\n",
    "import missingno as msno\n",
    "import geopandas as gpd\n",
    "\n",
    "\n",
    "df_analysis=pd.read_csv(\"./data/DATA_EDA_clean.csv\")\n",
    "df_analysis"
   ]
  },
  {
   "cell_type": "code",
   "execution_count": 2,
   "id": "9b5ebb55",
   "metadata": {},
   "outputs": [
    {
     "data": {
      "text/html": [
       "<div>\n",
       "<style scoped>\n",
       "    .dataframe tbody tr th:only-of-type {\n",
       "        vertical-align: middle;\n",
       "    }\n",
       "\n",
       "    .dataframe tbody tr th {\n",
       "        vertical-align: top;\n",
       "    }\n",
       "\n",
       "    .dataframe thead th {\n",
       "        text-align: right;\n",
       "    }\n",
       "</style>\n",
       "<table border=\"1\" class=\"dataframe\">\n",
       "  <thead>\n",
       "    <tr style=\"text-align: right;\">\n",
       "      <th></th>\n",
       "      <th>price</th>\n",
       "      <th>id</th>\n",
       "      <th>bedrooms</th>\n",
       "      <th>bathrooms</th>\n",
       "      <th>sqft_living</th>\n",
       "      <th>sqft_lot</th>\n",
       "      <th>floors</th>\n",
       "      <th>waterfront</th>\n",
       "      <th>view</th>\n",
       "      <th>condition</th>\n",
       "      <th>grade</th>\n",
       "      <th>sqft_above</th>\n",
       "      <th>sqft_basement</th>\n",
       "      <th>yr_built</th>\n",
       "      <th>yr_renovated</th>\n",
       "      <th>zipcode</th>\n",
       "      <th>lat</th>\n",
       "      <th>long</th>\n",
       "      <th>sqft_living15</th>\n",
       "      <th>sqft_lot15</th>\n",
       "    </tr>\n",
       "  </thead>\n",
       "  <tbody>\n",
       "    <tr>\n",
       "      <th>count</th>\n",
       "      <td>1.769800e+04</td>\n",
       "      <td>1.769800e+04</td>\n",
       "      <td>17698.000000</td>\n",
       "      <td>17698.000000</td>\n",
       "      <td>17698.000000</td>\n",
       "      <td>1.769800e+04</td>\n",
       "      <td>17698.000000</td>\n",
       "      <td>17698.000000</td>\n",
       "      <td>17698.000000</td>\n",
       "      <td>17698.000000</td>\n",
       "      <td>17698.000000</td>\n",
       "      <td>17698.000000</td>\n",
       "      <td>17698.000000</td>\n",
       "      <td>17698.000000</td>\n",
       "      <td>17698.000000</td>\n",
       "      <td>17698.000000</td>\n",
       "      <td>17698.000000</td>\n",
       "      <td>17698.000000</td>\n",
       "      <td>17698.000000</td>\n",
       "      <td>17698.000000</td>\n",
       "    </tr>\n",
       "    <tr>\n",
       "      <th>mean</th>\n",
       "      <td>5.406358e+05</td>\n",
       "      <td>4.588336e+09</td>\n",
       "      <td>3.378404</td>\n",
       "      <td>2.121130</td>\n",
       "      <td>2084.372641</td>\n",
       "      <td>1.527142e+04</td>\n",
       "      <td>1.496214</td>\n",
       "      <td>0.117132</td>\n",
       "      <td>0.232512</td>\n",
       "      <td>3.410837</td>\n",
       "      <td>7.662674</td>\n",
       "      <td>1791.951689</td>\n",
       "      <td>292.420952</td>\n",
       "      <td>1971.139338</td>\n",
       "      <td>83.793423</td>\n",
       "      <td>98077.712453</td>\n",
       "      <td>47.559435</td>\n",
       "      <td>-122.213379</td>\n",
       "      <td>1990.129732</td>\n",
       "      <td>12854.134535</td>\n",
       "    </tr>\n",
       "    <tr>\n",
       "      <th>std</th>\n",
       "      <td>3.677709e+05</td>\n",
       "      <td>2.876690e+09</td>\n",
       "      <td>0.932266</td>\n",
       "      <td>0.767113</td>\n",
       "      <td>916.513070</td>\n",
       "      <td>4.206568e+04</td>\n",
       "      <td>0.538628</td>\n",
       "      <td>0.321586</td>\n",
       "      <td>0.762614</td>\n",
       "      <td>0.652032</td>\n",
       "      <td>1.169438</td>\n",
       "      <td>826.589740</td>\n",
       "      <td>443.384773</td>\n",
       "      <td>29.344582</td>\n",
       "      <td>400.304560</td>\n",
       "      <td>53.480367</td>\n",
       "      <td>0.138536</td>\n",
       "      <td>0.140898</td>\n",
       "      <td>684.720979</td>\n",
       "      <td>27694.496055</td>\n",
       "    </tr>\n",
       "    <tr>\n",
       "      <th>min</th>\n",
       "      <td>8.000000e+04</td>\n",
       "      <td>1.000102e+06</td>\n",
       "      <td>1.000000</td>\n",
       "      <td>0.500000</td>\n",
       "      <td>370.000000</td>\n",
       "      <td>5.200000e+02</td>\n",
       "      <td>1.000000</td>\n",
       "      <td>0.000000</td>\n",
       "      <td>0.000000</td>\n",
       "      <td>1.000000</td>\n",
       "      <td>3.000000</td>\n",
       "      <td>370.000000</td>\n",
       "      <td>0.000000</td>\n",
       "      <td>1900.000000</td>\n",
       "      <td>0.000000</td>\n",
       "      <td>98001.000000</td>\n",
       "      <td>47.155900</td>\n",
       "      <td>-122.519000</td>\n",
       "      <td>399.000000</td>\n",
       "      <td>659.000000</td>\n",
       "    </tr>\n",
       "    <tr>\n",
       "      <th>25%</th>\n",
       "      <td>3.220000e+05</td>\n",
       "      <td>2.126049e+09</td>\n",
       "      <td>3.000000</td>\n",
       "      <td>1.750000</td>\n",
       "      <td>1430.000000</td>\n",
       "      <td>5.040000e+03</td>\n",
       "      <td>1.000000</td>\n",
       "      <td>0.000000</td>\n",
       "      <td>0.000000</td>\n",
       "      <td>3.000000</td>\n",
       "      <td>7.000000</td>\n",
       "      <td>1200.000000</td>\n",
       "      <td>0.000000</td>\n",
       "      <td>1952.000000</td>\n",
       "      <td>0.000000</td>\n",
       "      <td>98033.000000</td>\n",
       "      <td>47.469500</td>\n",
       "      <td>-122.328000</td>\n",
       "      <td>1490.000000</td>\n",
       "      <td>5100.000000</td>\n",
       "    </tr>\n",
       "    <tr>\n",
       "      <th>50%</th>\n",
       "      <td>4.500000e+05</td>\n",
       "      <td>3.905030e+09</td>\n",
       "      <td>3.000000</td>\n",
       "      <td>2.250000</td>\n",
       "      <td>1920.000000</td>\n",
       "      <td>7.603500e+03</td>\n",
       "      <td>1.500000</td>\n",
       "      <td>0.000000</td>\n",
       "      <td>0.000000</td>\n",
       "      <td>3.000000</td>\n",
       "      <td>7.000000</td>\n",
       "      <td>1570.000000</td>\n",
       "      <td>0.000000</td>\n",
       "      <td>1975.000000</td>\n",
       "      <td>0.000000</td>\n",
       "      <td>98065.000000</td>\n",
       "      <td>47.571150</td>\n",
       "      <td>-122.229000</td>\n",
       "      <td>1840.000000</td>\n",
       "      <td>7620.000000</td>\n",
       "    </tr>\n",
       "    <tr>\n",
       "      <th>75%</th>\n",
       "      <td>6.450000e+05</td>\n",
       "      <td>7.334401e+09</td>\n",
       "      <td>4.000000</td>\n",
       "      <td>2.500000</td>\n",
       "      <td>2550.000000</td>\n",
       "      <td>1.068875e+04</td>\n",
       "      <td>2.000000</td>\n",
       "      <td>0.000000</td>\n",
       "      <td>0.000000</td>\n",
       "      <td>4.000000</td>\n",
       "      <td>8.000000</td>\n",
       "      <td>2220.000000</td>\n",
       "      <td>560.000000</td>\n",
       "      <td>1997.000000</td>\n",
       "      <td>0.000000</td>\n",
       "      <td>98117.000000</td>\n",
       "      <td>47.677300</td>\n",
       "      <td>-122.124000</td>\n",
       "      <td>2370.000000</td>\n",
       "      <td>10095.000000</td>\n",
       "    </tr>\n",
       "    <tr>\n",
       "      <th>max</th>\n",
       "      <td>7.700000e+06</td>\n",
       "      <td>9.895000e+09</td>\n",
       "      <td>33.000000</td>\n",
       "      <td>8.000000</td>\n",
       "      <td>13540.000000</td>\n",
       "      <td>1.651359e+06</td>\n",
       "      <td>3.500000</td>\n",
       "      <td>1.000000</td>\n",
       "      <td>4.000000</td>\n",
       "      <td>5.000000</td>\n",
       "      <td>13.000000</td>\n",
       "      <td>9410.000000</td>\n",
       "      <td>4820.000000</td>\n",
       "      <td>2015.000000</td>\n",
       "      <td>2015.000000</td>\n",
       "      <td>98199.000000</td>\n",
       "      <td>47.777600</td>\n",
       "      <td>-121.315000</td>\n",
       "      <td>6210.000000</td>\n",
       "      <td>871200.000000</td>\n",
       "    </tr>\n",
       "  </tbody>\n",
       "</table>\n",
       "</div>"
      ],
      "text/plain": [
       "              price            id      bedrooms     bathrooms   sqft_living  \\\n",
       "count  1.769800e+04  1.769800e+04  17698.000000  17698.000000  17698.000000   \n",
       "mean   5.406358e+05  4.588336e+09      3.378404      2.121130   2084.372641   \n",
       "std    3.677709e+05  2.876690e+09      0.932266      0.767113    916.513070   \n",
       "min    8.000000e+04  1.000102e+06      1.000000      0.500000    370.000000   \n",
       "25%    3.220000e+05  2.126049e+09      3.000000      1.750000   1430.000000   \n",
       "50%    4.500000e+05  3.905030e+09      3.000000      2.250000   1920.000000   \n",
       "75%    6.450000e+05  7.334401e+09      4.000000      2.500000   2550.000000   \n",
       "max    7.700000e+06  9.895000e+09     33.000000      8.000000  13540.000000   \n",
       "\n",
       "           sqft_lot        floors    waterfront          view     condition  \\\n",
       "count  1.769800e+04  17698.000000  17698.000000  17698.000000  17698.000000   \n",
       "mean   1.527142e+04      1.496214      0.117132      0.232512      3.410837   \n",
       "std    4.206568e+04      0.538628      0.321586      0.762614      0.652032   \n",
       "min    5.200000e+02      1.000000      0.000000      0.000000      1.000000   \n",
       "25%    5.040000e+03      1.000000      0.000000      0.000000      3.000000   \n",
       "50%    7.603500e+03      1.500000      0.000000      0.000000      3.000000   \n",
       "75%    1.068875e+04      2.000000      0.000000      0.000000      4.000000   \n",
       "max    1.651359e+06      3.500000      1.000000      4.000000      5.000000   \n",
       "\n",
       "              grade    sqft_above  sqft_basement      yr_built  yr_renovated  \\\n",
       "count  17698.000000  17698.000000   17698.000000  17698.000000  17698.000000   \n",
       "mean       7.662674   1791.951689     292.420952   1971.139338     83.793423   \n",
       "std        1.169438    826.589740     443.384773     29.344582    400.304560   \n",
       "min        3.000000    370.000000       0.000000   1900.000000      0.000000   \n",
       "25%        7.000000   1200.000000       0.000000   1952.000000      0.000000   \n",
       "50%        7.000000   1570.000000       0.000000   1975.000000      0.000000   \n",
       "75%        8.000000   2220.000000     560.000000   1997.000000      0.000000   \n",
       "max       13.000000   9410.000000    4820.000000   2015.000000   2015.000000   \n",
       "\n",
       "            zipcode           lat          long  sqft_living15     sqft_lot15  \n",
       "count  17698.000000  17698.000000  17698.000000   17698.000000   17698.000000  \n",
       "mean   98077.712453     47.559435   -122.213379    1990.129732   12854.134535  \n",
       "std       53.480367      0.138536      0.140898     684.720979   27694.496055  \n",
       "min    98001.000000     47.155900   -122.519000     399.000000     659.000000  \n",
       "25%    98033.000000     47.469500   -122.328000    1490.000000    5100.000000  \n",
       "50%    98065.000000     47.571150   -122.229000    1840.000000    7620.000000  \n",
       "75%    98117.000000     47.677300   -122.124000    2370.000000   10095.000000  \n",
       "max    98199.000000     47.777600   -121.315000    6210.000000  871200.000000  "
      ]
     },
     "execution_count": 2,
     "metadata": {},
     "output_type": "execute_result"
    }
   ],
   "source": [
    "df_analysis.describe()"
   ]
  },
  {
   "cell_type": "code",
   "execution_count": 3,
   "id": "c52d0cc9",
   "metadata": {},
   "outputs": [
    {
     "name": "stdout",
     "output_type": "stream",
     "text": [
      "<class 'pandas.core.frame.DataFrame'>\n",
      "RangeIndex: 17698 entries, 0 to 17697\n",
      "Data columns (total 21 columns):\n",
      " #   Column         Non-Null Count  Dtype  \n",
      "---  ------         --------------  -----  \n",
      " 0   price          17698 non-null  float64\n",
      " 1   id             17698 non-null  int64  \n",
      " 2   bedrooms       17698 non-null  float64\n",
      " 3   bathrooms      17698 non-null  float64\n",
      " 4   sqft_living    17698 non-null  float64\n",
      " 5   sqft_lot       17698 non-null  float64\n",
      " 6   floors         17698 non-null  float64\n",
      " 7   waterfront     17698 non-null  int64  \n",
      " 8   view           17698 non-null  float64\n",
      " 9   condition      17698 non-null  int64  \n",
      " 10  grade          17698 non-null  int64  \n",
      " 11  sqft_above     17698 non-null  float64\n",
      " 12  sqft_basement  17698 non-null  float64\n",
      " 13  yr_built       17698 non-null  int64  \n",
      " 14  yr_renovated   17698 non-null  int64  \n",
      " 15  zipcode        17698 non-null  int64  \n",
      " 16  lat            17698 non-null  float64\n",
      " 17  long           17698 non-null  float64\n",
      " 18  sqft_living15  17698 non-null  float64\n",
      " 19  sqft_lot15     17698 non-null  float64\n",
      " 20  date           17698 non-null  object \n",
      "dtypes: float64(13), int64(7), object(1)\n",
      "memory usage: 2.8+ MB\n"
     ]
    }
   ],
   "source": [
    "df_analysis.info()"
   ]
  },
  {
   "cell_type": "code",
   "execution_count": null,
   "id": "e3df447f",
   "metadata": {},
   "outputs": [],
   "source": []
  },
  {
   "cell_type": "code",
   "execution_count": 4,
   "id": "011055f6",
   "metadata": {},
   "outputs": [
    {
     "name": "stdout",
     "output_type": "stream",
     "text": [
      "<class 'pandas.core.frame.DataFrame'>\n",
      "RangeIndex: 17698 entries, 0 to 17697\n",
      "Data columns (total 21 columns):\n",
      " #   Column         Non-Null Count  Dtype  \n",
      "---  ------         --------------  -----  \n",
      " 0   price          17698 non-null  float64\n",
      " 1   id             17698 non-null  int64  \n",
      " 2   bedrooms       17698 non-null  float64\n",
      " 3   bathrooms      17698 non-null  float64\n",
      " 4   sqft_living    17698 non-null  float64\n",
      " 5   sqft_lot       17698 non-null  float64\n",
      " 6   floors         17698 non-null  float64\n",
      " 7   waterfront     17698 non-null  object \n",
      " 8   view           17698 non-null  float64\n",
      " 9   condition      17698 non-null  int64  \n",
      " 10  grade          17698 non-null  int64  \n",
      " 11  sqft_above     17698 non-null  float64\n",
      " 12  sqft_basement  17698 non-null  float64\n",
      " 13  yr_built       17698 non-null  int64  \n",
      " 14  yr_renovated   17698 non-null  int64  \n",
      " 15  zipcode        17698 non-null  object \n",
      " 16  lat            17698 non-null  float64\n",
      " 17  long           17698 non-null  float64\n",
      " 18  sqft_living15  17698 non-null  float64\n",
      " 19  sqft_lot15     17698 non-null  float64\n",
      " 20  date           17698 non-null  object \n",
      "dtypes: float64(13), int64(5), object(3)\n",
      "memory usage: 2.8+ MB\n"
     ]
    }
   ],
   "source": [
    "df_analysis['zipcode'] = df_analysis['zipcode'].round().astype(str)\n",
    "df_analysis['waterfront'] = df_analysis['waterfront'].round().astype(str)\n",
    "df_analysis.info()\n"
   ]
  },
  {
   "cell_type": "markdown",
   "id": "c8382ba9",
   "metadata": {},
   "source": [
    "Client request:“Invest in poor neighborhood, buying & selling, costs back + little profit, socially responsible.”\n",
    "\n",
    "Based on her request it is necessary to determinate the price per total square foot\n",
    "\n",
    "The total square foot is defined as the sum of the sqft_lot and sqft_living ( the sqft_living contains also the sqft basement)\n",
    "\n",
    "Define new column tot_sqft"
   ]
  },
  {
   "cell_type": "code",
   "execution_count": 5,
   "id": "afba00f1",
   "metadata": {},
   "outputs": [
    {
     "data": {
      "text/html": [
       "<div>\n",
       "<style scoped>\n",
       "    .dataframe tbody tr th:only-of-type {\n",
       "        vertical-align: middle;\n",
       "    }\n",
       "\n",
       "    .dataframe tbody tr th {\n",
       "        vertical-align: top;\n",
       "    }\n",
       "\n",
       "    .dataframe thead th {\n",
       "        text-align: right;\n",
       "    }\n",
       "</style>\n",
       "<table border=\"1\" class=\"dataframe\">\n",
       "  <thead>\n",
       "    <tr style=\"text-align: right;\">\n",
       "      <th></th>\n",
       "      <th>price</th>\n",
       "      <th>id</th>\n",
       "      <th>bedrooms</th>\n",
       "      <th>bathrooms</th>\n",
       "      <th>sqft_living</th>\n",
       "      <th>sqft_lot</th>\n",
       "      <th>floors</th>\n",
       "      <th>waterfront</th>\n",
       "      <th>view</th>\n",
       "      <th>condition</th>\n",
       "      <th>...</th>\n",
       "      <th>sqft_basement</th>\n",
       "      <th>yr_built</th>\n",
       "      <th>yr_renovated</th>\n",
       "      <th>zipcode</th>\n",
       "      <th>lat</th>\n",
       "      <th>long</th>\n",
       "      <th>sqft_living15</th>\n",
       "      <th>sqft_lot15</th>\n",
       "      <th>date</th>\n",
       "      <th>tot_sqft</th>\n",
       "    </tr>\n",
       "  </thead>\n",
       "  <tbody>\n",
       "    <tr>\n",
       "      <th>0</th>\n",
       "      <td>221900.0</td>\n",
       "      <td>7129300520</td>\n",
       "      <td>3.0</td>\n",
       "      <td>1.00</td>\n",
       "      <td>1180.0</td>\n",
       "      <td>5650.0</td>\n",
       "      <td>1.0</td>\n",
       "      <td>1</td>\n",
       "      <td>0.0</td>\n",
       "      <td>3</td>\n",
       "      <td>...</td>\n",
       "      <td>0.0</td>\n",
       "      <td>1955</td>\n",
       "      <td>0</td>\n",
       "      <td>98178</td>\n",
       "      <td>47.5112</td>\n",
       "      <td>-122.257</td>\n",
       "      <td>1340.0</td>\n",
       "      <td>5650.0</td>\n",
       "      <td>2014-10-13</td>\n",
       "      <td>6830.0</td>\n",
       "    </tr>\n",
       "    <tr>\n",
       "      <th>1</th>\n",
       "      <td>538000.0</td>\n",
       "      <td>6414100192</td>\n",
       "      <td>3.0</td>\n",
       "      <td>2.25</td>\n",
       "      <td>2570.0</td>\n",
       "      <td>7242.0</td>\n",
       "      <td>2.0</td>\n",
       "      <td>0</td>\n",
       "      <td>0.0</td>\n",
       "      <td>3</td>\n",
       "      <td>...</td>\n",
       "      <td>400.0</td>\n",
       "      <td>1951</td>\n",
       "      <td>1991</td>\n",
       "      <td>98125</td>\n",
       "      <td>47.7210</td>\n",
       "      <td>-122.319</td>\n",
       "      <td>1690.0</td>\n",
       "      <td>7639.0</td>\n",
       "      <td>2014-12-09</td>\n",
       "      <td>9812.0</td>\n",
       "    </tr>\n",
       "    <tr>\n",
       "      <th>2</th>\n",
       "      <td>604000.0</td>\n",
       "      <td>2487200875</td>\n",
       "      <td>4.0</td>\n",
       "      <td>3.00</td>\n",
       "      <td>1960.0</td>\n",
       "      <td>5000.0</td>\n",
       "      <td>1.0</td>\n",
       "      <td>0</td>\n",
       "      <td>0.0</td>\n",
       "      <td>5</td>\n",
       "      <td>...</td>\n",
       "      <td>910.0</td>\n",
       "      <td>1965</td>\n",
       "      <td>0</td>\n",
       "      <td>98136</td>\n",
       "      <td>47.5208</td>\n",
       "      <td>-122.393</td>\n",
       "      <td>1360.0</td>\n",
       "      <td>5000.0</td>\n",
       "      <td>2014-12-09</td>\n",
       "      <td>6960.0</td>\n",
       "    </tr>\n",
       "    <tr>\n",
       "      <th>3</th>\n",
       "      <td>510000.0</td>\n",
       "      <td>1954400510</td>\n",
       "      <td>3.0</td>\n",
       "      <td>2.00</td>\n",
       "      <td>1680.0</td>\n",
       "      <td>8080.0</td>\n",
       "      <td>1.0</td>\n",
       "      <td>0</td>\n",
       "      <td>0.0</td>\n",
       "      <td>3</td>\n",
       "      <td>...</td>\n",
       "      <td>0.0</td>\n",
       "      <td>1987</td>\n",
       "      <td>0</td>\n",
       "      <td>98074</td>\n",
       "      <td>47.6168</td>\n",
       "      <td>-122.045</td>\n",
       "      <td>1800.0</td>\n",
       "      <td>7503.0</td>\n",
       "      <td>2015-02-18</td>\n",
       "      <td>9760.0</td>\n",
       "    </tr>\n",
       "    <tr>\n",
       "      <th>4</th>\n",
       "      <td>1230000.0</td>\n",
       "      <td>7237550310</td>\n",
       "      <td>4.0</td>\n",
       "      <td>4.50</td>\n",
       "      <td>5420.0</td>\n",
       "      <td>101930.0</td>\n",
       "      <td>1.0</td>\n",
       "      <td>0</td>\n",
       "      <td>0.0</td>\n",
       "      <td>3</td>\n",
       "      <td>...</td>\n",
       "      <td>1530.0</td>\n",
       "      <td>2001</td>\n",
       "      <td>0</td>\n",
       "      <td>98053</td>\n",
       "      <td>47.6561</td>\n",
       "      <td>-122.005</td>\n",
       "      <td>4760.0</td>\n",
       "      <td>101930.0</td>\n",
       "      <td>2014-05-12</td>\n",
       "      <td>107350.0</td>\n",
       "    </tr>\n",
       "    <tr>\n",
       "      <th>...</th>\n",
       "      <td>...</td>\n",
       "      <td>...</td>\n",
       "      <td>...</td>\n",
       "      <td>...</td>\n",
       "      <td>...</td>\n",
       "      <td>...</td>\n",
       "      <td>...</td>\n",
       "      <td>...</td>\n",
       "      <td>...</td>\n",
       "      <td>...</td>\n",
       "      <td>...</td>\n",
       "      <td>...</td>\n",
       "      <td>...</td>\n",
       "      <td>...</td>\n",
       "      <td>...</td>\n",
       "      <td>...</td>\n",
       "      <td>...</td>\n",
       "      <td>...</td>\n",
       "      <td>...</td>\n",
       "      <td>...</td>\n",
       "      <td>...</td>\n",
       "    </tr>\n",
       "    <tr>\n",
       "      <th>17693</th>\n",
       "      <td>360000.0</td>\n",
       "      <td>263000018</td>\n",
       "      <td>3.0</td>\n",
       "      <td>2.50</td>\n",
       "      <td>1530.0</td>\n",
       "      <td>1131.0</td>\n",
       "      <td>3.0</td>\n",
       "      <td>0</td>\n",
       "      <td>0.0</td>\n",
       "      <td>3</td>\n",
       "      <td>...</td>\n",
       "      <td>0.0</td>\n",
       "      <td>2009</td>\n",
       "      <td>0</td>\n",
       "      <td>98103</td>\n",
       "      <td>47.6993</td>\n",
       "      <td>-122.346</td>\n",
       "      <td>1530.0</td>\n",
       "      <td>1509.0</td>\n",
       "      <td>2014-05-21</td>\n",
       "      <td>2661.0</td>\n",
       "    </tr>\n",
       "    <tr>\n",
       "      <th>17694</th>\n",
       "      <td>400000.0</td>\n",
       "      <td>6600060120</td>\n",
       "      <td>4.0</td>\n",
       "      <td>2.50</td>\n",
       "      <td>2310.0</td>\n",
       "      <td>5813.0</td>\n",
       "      <td>2.0</td>\n",
       "      <td>0</td>\n",
       "      <td>0.0</td>\n",
       "      <td>3</td>\n",
       "      <td>...</td>\n",
       "      <td>0.0</td>\n",
       "      <td>2014</td>\n",
       "      <td>0</td>\n",
       "      <td>98146</td>\n",
       "      <td>47.5107</td>\n",
       "      <td>-122.362</td>\n",
       "      <td>1830.0</td>\n",
       "      <td>7200.0</td>\n",
       "      <td>2015-02-23</td>\n",
       "      <td>8123.0</td>\n",
       "    </tr>\n",
       "    <tr>\n",
       "      <th>17695</th>\n",
       "      <td>402101.0</td>\n",
       "      <td>1523300141</td>\n",
       "      <td>2.0</td>\n",
       "      <td>0.75</td>\n",
       "      <td>1020.0</td>\n",
       "      <td>1350.0</td>\n",
       "      <td>2.0</td>\n",
       "      <td>0</td>\n",
       "      <td>0.0</td>\n",
       "      <td>3</td>\n",
       "      <td>...</td>\n",
       "      <td>0.0</td>\n",
       "      <td>2009</td>\n",
       "      <td>0</td>\n",
       "      <td>98144</td>\n",
       "      <td>47.5944</td>\n",
       "      <td>-122.299</td>\n",
       "      <td>1020.0</td>\n",
       "      <td>2007.0</td>\n",
       "      <td>2014-06-23</td>\n",
       "      <td>2370.0</td>\n",
       "    </tr>\n",
       "    <tr>\n",
       "      <th>17696</th>\n",
       "      <td>400000.0</td>\n",
       "      <td>291310100</td>\n",
       "      <td>3.0</td>\n",
       "      <td>2.50</td>\n",
       "      <td>1600.0</td>\n",
       "      <td>2388.0</td>\n",
       "      <td>2.0</td>\n",
       "      <td>1</td>\n",
       "      <td>0.0</td>\n",
       "      <td>3</td>\n",
       "      <td>...</td>\n",
       "      <td>0.0</td>\n",
       "      <td>2004</td>\n",
       "      <td>0</td>\n",
       "      <td>98027</td>\n",
       "      <td>47.5345</td>\n",
       "      <td>-122.069</td>\n",
       "      <td>1410.0</td>\n",
       "      <td>1287.0</td>\n",
       "      <td>2015-01-16</td>\n",
       "      <td>3988.0</td>\n",
       "    </tr>\n",
       "    <tr>\n",
       "      <th>17697</th>\n",
       "      <td>325000.0</td>\n",
       "      <td>1523300157</td>\n",
       "      <td>2.0</td>\n",
       "      <td>0.75</td>\n",
       "      <td>1020.0</td>\n",
       "      <td>1076.0</td>\n",
       "      <td>2.0</td>\n",
       "      <td>0</td>\n",
       "      <td>0.0</td>\n",
       "      <td>3</td>\n",
       "      <td>...</td>\n",
       "      <td>0.0</td>\n",
       "      <td>2008</td>\n",
       "      <td>0</td>\n",
       "      <td>98144</td>\n",
       "      <td>47.5941</td>\n",
       "      <td>-122.299</td>\n",
       "      <td>1020.0</td>\n",
       "      <td>1357.0</td>\n",
       "      <td>2014-10-15</td>\n",
       "      <td>2096.0</td>\n",
       "    </tr>\n",
       "  </tbody>\n",
       "</table>\n",
       "<p>17698 rows × 22 columns</p>\n",
       "</div>"
      ],
      "text/plain": [
       "           price          id  bedrooms  bathrooms  sqft_living  sqft_lot  \\\n",
       "0       221900.0  7129300520       3.0       1.00       1180.0    5650.0   \n",
       "1       538000.0  6414100192       3.0       2.25       2570.0    7242.0   \n",
       "2       604000.0  2487200875       4.0       3.00       1960.0    5000.0   \n",
       "3       510000.0  1954400510       3.0       2.00       1680.0    8080.0   \n",
       "4      1230000.0  7237550310       4.0       4.50       5420.0  101930.0   \n",
       "...          ...         ...       ...        ...          ...       ...   \n",
       "17693   360000.0   263000018       3.0       2.50       1530.0    1131.0   \n",
       "17694   400000.0  6600060120       4.0       2.50       2310.0    5813.0   \n",
       "17695   402101.0  1523300141       2.0       0.75       1020.0    1350.0   \n",
       "17696   400000.0   291310100       3.0       2.50       1600.0    2388.0   \n",
       "17697   325000.0  1523300157       2.0       0.75       1020.0    1076.0   \n",
       "\n",
       "       floors waterfront  view  condition  ...  sqft_basement  yr_built  \\\n",
       "0         1.0          1   0.0          3  ...            0.0      1955   \n",
       "1         2.0          0   0.0          3  ...          400.0      1951   \n",
       "2         1.0          0   0.0          5  ...          910.0      1965   \n",
       "3         1.0          0   0.0          3  ...            0.0      1987   \n",
       "4         1.0          0   0.0          3  ...         1530.0      2001   \n",
       "...       ...        ...   ...        ...  ...            ...       ...   \n",
       "17693     3.0          0   0.0          3  ...            0.0      2009   \n",
       "17694     2.0          0   0.0          3  ...            0.0      2014   \n",
       "17695     2.0          0   0.0          3  ...            0.0      2009   \n",
       "17696     2.0          1   0.0          3  ...            0.0      2004   \n",
       "17697     2.0          0   0.0          3  ...            0.0      2008   \n",
       "\n",
       "       yr_renovated  zipcode      lat     long  sqft_living15  sqft_lot15  \\\n",
       "0                 0    98178  47.5112 -122.257         1340.0      5650.0   \n",
       "1              1991    98125  47.7210 -122.319         1690.0      7639.0   \n",
       "2                 0    98136  47.5208 -122.393         1360.0      5000.0   \n",
       "3                 0    98074  47.6168 -122.045         1800.0      7503.0   \n",
       "4                 0    98053  47.6561 -122.005         4760.0    101930.0   \n",
       "...             ...      ...      ...      ...            ...         ...   \n",
       "17693             0    98103  47.6993 -122.346         1530.0      1509.0   \n",
       "17694             0    98146  47.5107 -122.362         1830.0      7200.0   \n",
       "17695             0    98144  47.5944 -122.299         1020.0      2007.0   \n",
       "17696             0    98027  47.5345 -122.069         1410.0      1287.0   \n",
       "17697             0    98144  47.5941 -122.299         1020.0      1357.0   \n",
       "\n",
       "             date  tot_sqft  \n",
       "0      2014-10-13    6830.0  \n",
       "1      2014-12-09    9812.0  \n",
       "2      2014-12-09    6960.0  \n",
       "3      2015-02-18    9760.0  \n",
       "4      2014-05-12  107350.0  \n",
       "...           ...       ...  \n",
       "17693  2014-05-21    2661.0  \n",
       "17694  2015-02-23    8123.0  \n",
       "17695  2014-06-23    2370.0  \n",
       "17696  2015-01-16    3988.0  \n",
       "17697  2014-10-15    2096.0  \n",
       "\n",
       "[17698 rows x 22 columns]"
      ]
     },
     "execution_count": 5,
     "metadata": {},
     "output_type": "execute_result"
    }
   ],
   "source": [
    "df_analysis['tot_sqft'] = df_analysis['sqft_living'] + df_analysis['sqft_lot']\n",
    "df_analysis"
   ]
  },
  {
   "cell_type": "markdown",
   "id": "4cbbe126",
   "metadata": {},
   "source": [
    "Now it is important to determinate the price per square foot as it can be used as normalised criteria."
   ]
  },
  {
   "cell_type": "code",
   "execution_count": 6,
   "id": "fd52bace",
   "metadata": {},
   "outputs": [
    {
     "data": {
      "text/html": [
       "<div>\n",
       "<style scoped>\n",
       "    .dataframe tbody tr th:only-of-type {\n",
       "        vertical-align: middle;\n",
       "    }\n",
       "\n",
       "    .dataframe tbody tr th {\n",
       "        vertical-align: top;\n",
       "    }\n",
       "\n",
       "    .dataframe thead th {\n",
       "        text-align: right;\n",
       "    }\n",
       "</style>\n",
       "<table border=\"1\" class=\"dataframe\">\n",
       "  <thead>\n",
       "    <tr style=\"text-align: right;\">\n",
       "      <th></th>\n",
       "      <th>price</th>\n",
       "      <th>id</th>\n",
       "      <th>bedrooms</th>\n",
       "      <th>bathrooms</th>\n",
       "      <th>sqft_living</th>\n",
       "      <th>sqft_lot</th>\n",
       "      <th>floors</th>\n",
       "      <th>waterfront</th>\n",
       "      <th>view</th>\n",
       "      <th>condition</th>\n",
       "      <th>...</th>\n",
       "      <th>yr_built</th>\n",
       "      <th>yr_renovated</th>\n",
       "      <th>zipcode</th>\n",
       "      <th>lat</th>\n",
       "      <th>long</th>\n",
       "      <th>sqft_living15</th>\n",
       "      <th>sqft_lot15</th>\n",
       "      <th>date</th>\n",
       "      <th>tot_sqft</th>\n",
       "      <th>price_per_sqft</th>\n",
       "    </tr>\n",
       "  </thead>\n",
       "  <tbody>\n",
       "    <tr>\n",
       "      <th>0</th>\n",
       "      <td>221900.0</td>\n",
       "      <td>7129300520</td>\n",
       "      <td>3.0</td>\n",
       "      <td>1.00</td>\n",
       "      <td>1180.0</td>\n",
       "      <td>5650.0</td>\n",
       "      <td>1.0</td>\n",
       "      <td>1</td>\n",
       "      <td>0.0</td>\n",
       "      <td>3</td>\n",
       "      <td>...</td>\n",
       "      <td>1955</td>\n",
       "      <td>0</td>\n",
       "      <td>98178</td>\n",
       "      <td>47.5112</td>\n",
       "      <td>-122.257</td>\n",
       "      <td>1340.0</td>\n",
       "      <td>5650.0</td>\n",
       "      <td>2014-10-13</td>\n",
       "      <td>6830.0</td>\n",
       "      <td>188.050847</td>\n",
       "    </tr>\n",
       "    <tr>\n",
       "      <th>1</th>\n",
       "      <td>538000.0</td>\n",
       "      <td>6414100192</td>\n",
       "      <td>3.0</td>\n",
       "      <td>2.25</td>\n",
       "      <td>2570.0</td>\n",
       "      <td>7242.0</td>\n",
       "      <td>2.0</td>\n",
       "      <td>0</td>\n",
       "      <td>0.0</td>\n",
       "      <td>3</td>\n",
       "      <td>...</td>\n",
       "      <td>1951</td>\n",
       "      <td>1991</td>\n",
       "      <td>98125</td>\n",
       "      <td>47.7210</td>\n",
       "      <td>-122.319</td>\n",
       "      <td>1690.0</td>\n",
       "      <td>7639.0</td>\n",
       "      <td>2014-12-09</td>\n",
       "      <td>9812.0</td>\n",
       "      <td>209.338521</td>\n",
       "    </tr>\n",
       "    <tr>\n",
       "      <th>2</th>\n",
       "      <td>604000.0</td>\n",
       "      <td>2487200875</td>\n",
       "      <td>4.0</td>\n",
       "      <td>3.00</td>\n",
       "      <td>1960.0</td>\n",
       "      <td>5000.0</td>\n",
       "      <td>1.0</td>\n",
       "      <td>0</td>\n",
       "      <td>0.0</td>\n",
       "      <td>5</td>\n",
       "      <td>...</td>\n",
       "      <td>1965</td>\n",
       "      <td>0</td>\n",
       "      <td>98136</td>\n",
       "      <td>47.5208</td>\n",
       "      <td>-122.393</td>\n",
       "      <td>1360.0</td>\n",
       "      <td>5000.0</td>\n",
       "      <td>2014-12-09</td>\n",
       "      <td>6960.0</td>\n",
       "      <td>308.163265</td>\n",
       "    </tr>\n",
       "    <tr>\n",
       "      <th>3</th>\n",
       "      <td>510000.0</td>\n",
       "      <td>1954400510</td>\n",
       "      <td>3.0</td>\n",
       "      <td>2.00</td>\n",
       "      <td>1680.0</td>\n",
       "      <td>8080.0</td>\n",
       "      <td>1.0</td>\n",
       "      <td>0</td>\n",
       "      <td>0.0</td>\n",
       "      <td>3</td>\n",
       "      <td>...</td>\n",
       "      <td>1987</td>\n",
       "      <td>0</td>\n",
       "      <td>98074</td>\n",
       "      <td>47.6168</td>\n",
       "      <td>-122.045</td>\n",
       "      <td>1800.0</td>\n",
       "      <td>7503.0</td>\n",
       "      <td>2015-02-18</td>\n",
       "      <td>9760.0</td>\n",
       "      <td>303.571429</td>\n",
       "    </tr>\n",
       "    <tr>\n",
       "      <th>4</th>\n",
       "      <td>1230000.0</td>\n",
       "      <td>7237550310</td>\n",
       "      <td>4.0</td>\n",
       "      <td>4.50</td>\n",
       "      <td>5420.0</td>\n",
       "      <td>101930.0</td>\n",
       "      <td>1.0</td>\n",
       "      <td>0</td>\n",
       "      <td>0.0</td>\n",
       "      <td>3</td>\n",
       "      <td>...</td>\n",
       "      <td>2001</td>\n",
       "      <td>0</td>\n",
       "      <td>98053</td>\n",
       "      <td>47.6561</td>\n",
       "      <td>-122.005</td>\n",
       "      <td>4760.0</td>\n",
       "      <td>101930.0</td>\n",
       "      <td>2014-05-12</td>\n",
       "      <td>107350.0</td>\n",
       "      <td>226.937269</td>\n",
       "    </tr>\n",
       "    <tr>\n",
       "      <th>...</th>\n",
       "      <td>...</td>\n",
       "      <td>...</td>\n",
       "      <td>...</td>\n",
       "      <td>...</td>\n",
       "      <td>...</td>\n",
       "      <td>...</td>\n",
       "      <td>...</td>\n",
       "      <td>...</td>\n",
       "      <td>...</td>\n",
       "      <td>...</td>\n",
       "      <td>...</td>\n",
       "      <td>...</td>\n",
       "      <td>...</td>\n",
       "      <td>...</td>\n",
       "      <td>...</td>\n",
       "      <td>...</td>\n",
       "      <td>...</td>\n",
       "      <td>...</td>\n",
       "      <td>...</td>\n",
       "      <td>...</td>\n",
       "      <td>...</td>\n",
       "    </tr>\n",
       "    <tr>\n",
       "      <th>17693</th>\n",
       "      <td>360000.0</td>\n",
       "      <td>263000018</td>\n",
       "      <td>3.0</td>\n",
       "      <td>2.50</td>\n",
       "      <td>1530.0</td>\n",
       "      <td>1131.0</td>\n",
       "      <td>3.0</td>\n",
       "      <td>0</td>\n",
       "      <td>0.0</td>\n",
       "      <td>3</td>\n",
       "      <td>...</td>\n",
       "      <td>2009</td>\n",
       "      <td>0</td>\n",
       "      <td>98103</td>\n",
       "      <td>47.6993</td>\n",
       "      <td>-122.346</td>\n",
       "      <td>1530.0</td>\n",
       "      <td>1509.0</td>\n",
       "      <td>2014-05-21</td>\n",
       "      <td>2661.0</td>\n",
       "      <td>235.294118</td>\n",
       "    </tr>\n",
       "    <tr>\n",
       "      <th>17694</th>\n",
       "      <td>400000.0</td>\n",
       "      <td>6600060120</td>\n",
       "      <td>4.0</td>\n",
       "      <td>2.50</td>\n",
       "      <td>2310.0</td>\n",
       "      <td>5813.0</td>\n",
       "      <td>2.0</td>\n",
       "      <td>0</td>\n",
       "      <td>0.0</td>\n",
       "      <td>3</td>\n",
       "      <td>...</td>\n",
       "      <td>2014</td>\n",
       "      <td>0</td>\n",
       "      <td>98146</td>\n",
       "      <td>47.5107</td>\n",
       "      <td>-122.362</td>\n",
       "      <td>1830.0</td>\n",
       "      <td>7200.0</td>\n",
       "      <td>2015-02-23</td>\n",
       "      <td>8123.0</td>\n",
       "      <td>173.160173</td>\n",
       "    </tr>\n",
       "    <tr>\n",
       "      <th>17695</th>\n",
       "      <td>402101.0</td>\n",
       "      <td>1523300141</td>\n",
       "      <td>2.0</td>\n",
       "      <td>0.75</td>\n",
       "      <td>1020.0</td>\n",
       "      <td>1350.0</td>\n",
       "      <td>2.0</td>\n",
       "      <td>0</td>\n",
       "      <td>0.0</td>\n",
       "      <td>3</td>\n",
       "      <td>...</td>\n",
       "      <td>2009</td>\n",
       "      <td>0</td>\n",
       "      <td>98144</td>\n",
       "      <td>47.5944</td>\n",
       "      <td>-122.299</td>\n",
       "      <td>1020.0</td>\n",
       "      <td>2007.0</td>\n",
       "      <td>2014-06-23</td>\n",
       "      <td>2370.0</td>\n",
       "      <td>394.216667</td>\n",
       "    </tr>\n",
       "    <tr>\n",
       "      <th>17696</th>\n",
       "      <td>400000.0</td>\n",
       "      <td>291310100</td>\n",
       "      <td>3.0</td>\n",
       "      <td>2.50</td>\n",
       "      <td>1600.0</td>\n",
       "      <td>2388.0</td>\n",
       "      <td>2.0</td>\n",
       "      <td>1</td>\n",
       "      <td>0.0</td>\n",
       "      <td>3</td>\n",
       "      <td>...</td>\n",
       "      <td>2004</td>\n",
       "      <td>0</td>\n",
       "      <td>98027</td>\n",
       "      <td>47.5345</td>\n",
       "      <td>-122.069</td>\n",
       "      <td>1410.0</td>\n",
       "      <td>1287.0</td>\n",
       "      <td>2015-01-16</td>\n",
       "      <td>3988.0</td>\n",
       "      <td>250.000000</td>\n",
       "    </tr>\n",
       "    <tr>\n",
       "      <th>17697</th>\n",
       "      <td>325000.0</td>\n",
       "      <td>1523300157</td>\n",
       "      <td>2.0</td>\n",
       "      <td>0.75</td>\n",
       "      <td>1020.0</td>\n",
       "      <td>1076.0</td>\n",
       "      <td>2.0</td>\n",
       "      <td>0</td>\n",
       "      <td>0.0</td>\n",
       "      <td>3</td>\n",
       "      <td>...</td>\n",
       "      <td>2008</td>\n",
       "      <td>0</td>\n",
       "      <td>98144</td>\n",
       "      <td>47.5941</td>\n",
       "      <td>-122.299</td>\n",
       "      <td>1020.0</td>\n",
       "      <td>1357.0</td>\n",
       "      <td>2014-10-15</td>\n",
       "      <td>2096.0</td>\n",
       "      <td>318.627451</td>\n",
       "    </tr>\n",
       "  </tbody>\n",
       "</table>\n",
       "<p>17698 rows × 23 columns</p>\n",
       "</div>"
      ],
      "text/plain": [
       "           price          id  bedrooms  bathrooms  sqft_living  sqft_lot  \\\n",
       "0       221900.0  7129300520       3.0       1.00       1180.0    5650.0   \n",
       "1       538000.0  6414100192       3.0       2.25       2570.0    7242.0   \n",
       "2       604000.0  2487200875       4.0       3.00       1960.0    5000.0   \n",
       "3       510000.0  1954400510       3.0       2.00       1680.0    8080.0   \n",
       "4      1230000.0  7237550310       4.0       4.50       5420.0  101930.0   \n",
       "...          ...         ...       ...        ...          ...       ...   \n",
       "17693   360000.0   263000018       3.0       2.50       1530.0    1131.0   \n",
       "17694   400000.0  6600060120       4.0       2.50       2310.0    5813.0   \n",
       "17695   402101.0  1523300141       2.0       0.75       1020.0    1350.0   \n",
       "17696   400000.0   291310100       3.0       2.50       1600.0    2388.0   \n",
       "17697   325000.0  1523300157       2.0       0.75       1020.0    1076.0   \n",
       "\n",
       "       floors waterfront  view  condition  ...  yr_built  yr_renovated  \\\n",
       "0         1.0          1   0.0          3  ...      1955             0   \n",
       "1         2.0          0   0.0          3  ...      1951          1991   \n",
       "2         1.0          0   0.0          5  ...      1965             0   \n",
       "3         1.0          0   0.0          3  ...      1987             0   \n",
       "4         1.0          0   0.0          3  ...      2001             0   \n",
       "...       ...        ...   ...        ...  ...       ...           ...   \n",
       "17693     3.0          0   0.0          3  ...      2009             0   \n",
       "17694     2.0          0   0.0          3  ...      2014             0   \n",
       "17695     2.0          0   0.0          3  ...      2009             0   \n",
       "17696     2.0          1   0.0          3  ...      2004             0   \n",
       "17697     2.0          0   0.0          3  ...      2008             0   \n",
       "\n",
       "       zipcode      lat     long sqft_living15  sqft_lot15        date  \\\n",
       "0        98178  47.5112 -122.257        1340.0      5650.0  2014-10-13   \n",
       "1        98125  47.7210 -122.319        1690.0      7639.0  2014-12-09   \n",
       "2        98136  47.5208 -122.393        1360.0      5000.0  2014-12-09   \n",
       "3        98074  47.6168 -122.045        1800.0      7503.0  2015-02-18   \n",
       "4        98053  47.6561 -122.005        4760.0    101930.0  2014-05-12   \n",
       "...        ...      ...      ...           ...         ...         ...   \n",
       "17693    98103  47.6993 -122.346        1530.0      1509.0  2014-05-21   \n",
       "17694    98146  47.5107 -122.362        1830.0      7200.0  2015-02-23   \n",
       "17695    98144  47.5944 -122.299        1020.0      2007.0  2014-06-23   \n",
       "17696    98027  47.5345 -122.069        1410.0      1287.0  2015-01-16   \n",
       "17697    98144  47.5941 -122.299        1020.0      1357.0  2014-10-15   \n",
       "\n",
       "       tot_sqft  price_per_sqft  \n",
       "0        6830.0      188.050847  \n",
       "1        9812.0      209.338521  \n",
       "2        6960.0      308.163265  \n",
       "3        9760.0      303.571429  \n",
       "4      107350.0      226.937269  \n",
       "...         ...             ...  \n",
       "17693    2661.0      235.294118  \n",
       "17694    8123.0      173.160173  \n",
       "17695    2370.0      394.216667  \n",
       "17696    3988.0      250.000000  \n",
       "17697    2096.0      318.627451  \n",
       "\n",
       "[17698 rows x 23 columns]"
      ]
     },
     "execution_count": 6,
     "metadata": {},
     "output_type": "execute_result"
    }
   ],
   "source": [
    "df_analysis['price_per_sqft'] = df_analysis['price'] / df_analysis['sqft_living']\n",
    "df_analysis"
   ]
  },
  {
   "cell_type": "markdown",
   "id": "62193ad1",
   "metadata": {},
   "source": [
    "A plot can help better understand the price per sqft distribution respect the zipcode."
   ]
  },
  {
   "cell_type": "code",
   "execution_count": 7,
   "id": "7fc8dffd",
   "metadata": {},
   "outputs": [
    {
     "data": {
      "text/plain": [
       "<Axes: xlabel='zipcode', ylabel='price_per_sqft'>"
      ]
     },
     "execution_count": 7,
     "metadata": {},
     "output_type": "execute_result"
    },
    {
     "data": {
      "image/png": "[encoded data removed]",
      "text/plain": [
       "<Figure size 4000x600 with 1 Axes>"
      ]
     },
     "metadata": {},
     "output_type": "display_data"
    }
   ],
   "source": [
    "plt.figure(figsize=(40, 6))  # Set width=10, height=6 (in inches)\n",
    "\n",
    "sns.barplot(df_analysis,x='zipcode', y='price_per_sqft',  )"
   ]
  },
  {
   "cell_type": "code",
   "execution_count": 8,
   "id": "417eef38",
   "metadata": {},
   "outputs": [
    {
     "data": {
      "text/plain": [
       "<Axes: xlabel='zipcode', ylabel='price_per_sqft'>"
      ]
     },
     "execution_count": 8,
     "metadata": {},
     "output_type": "execute_result"
    },
    {
     "data": {
      "image/png": "[encoded data removed]",
      "text/plain": [
       "<Figure size 4000x600 with 1 Axes>"
      ]
     },
     "metadata": {},
     "output_type": "display_data"
    }
   ],
   "source": [
    "plt.figure(figsize=(40, 6))  # Set width=10, height=6 (in inches)\n",
    "sns.boxplot(df_analysis, x='zipcode', y='price_per_sqft')"
   ]
  },
  {
   "cell_type": "code",
   "execution_count": 9,
   "id": "e7b9ee82",
   "metadata": {},
   "outputs": [
    {
     "data": {
      "text/plain": [
       "<Axes: >"
      ]
     },
     "execution_count": 9,
     "metadata": {},
     "output_type": "execute_result"
    },
    {
     "data": {
      "image/png": "[encoded data removed]",
      "text/plain": [
       "<Figure size 600x500 with 2 Axes>"
      ]
     },
     "metadata": {},
     "output_type": "display_data"
    }
   ],
   "source": [
    "plt.figure(figsize=(6,5),dpi=100)\n",
    "sns.heatmap(df_analysis[['zipcode','price_per_sqft', 'price', 'condition', 'grade']].corr(), annot=True, fmt='.2f',cmap='coolwarm', vmin=-1,vmax=1)"
   ]
  },
  {
   "cell_type": "markdown",
   "id": "80a0ede6",
   "metadata": {},
   "source": [
    "Now we have information about the distribution of the price per square foot and zipcode. \n",
    "\n",
    "We must identify those that are relatively cheap. From the Boxplot it can be observed that the price per sqft shows a common range between all zipcode. \n",
    "\n",
    "Therefore we need to identifies the poorest neighborhood: by considering the median value (so that outlier do not affect my analysis) and sorting them, it is possible to define the poorest neighborhood\n",
    "\n",
    "We define the poorest as the one below a threshold value that we assume to be the bottom 25% of the zip"
   ]
  },
  {
   "cell_type": "code",
   "execution_count": 10,
   "id": "fda55b37",
   "metadata": {},
   "outputs": [
    {
     "data": {
      "text/plain": [
       "zipcode\n",
       "98023    144.928389\n",
       "98001    145.954339\n",
       "98032    146.205357\n",
       "98002    147.534785\n",
       "98092    149.796235\n",
       "            ...    \n",
       "98119    417.647059\n",
       "98112    424.581276\n",
       "98109    426.482770\n",
       "98004    454.632491\n",
       "98039    560.324024\n",
       "Name: price_per_sqft, Length: 70, dtype: float64"
      ]
     },
     "execution_count": 10,
     "metadata": {},
     "output_type": "execute_result"
    }
   ],
   "source": [
    "# by group by the zipcode and the price per sqft, we extrapolate the median and we sort them\n",
    "zip_prices = df_analysis.groupby('zipcode')['price_per_sqft'].median().sort_values()\n",
    "zip_prices"
   ]
  },
  {
   "cell_type": "code",
   "execution_count": 11,
   "id": "3db17370",
   "metadata": {},
   "outputs": [
    {
     "data": {
      "text/plain": [
       "['98023',\n",
       " '98001',\n",
       " '98032',\n",
       " '98002',\n",
       " '98092',\n",
       " '98030',\n",
       " '98003',\n",
       " '98031',\n",
       " '98188',\n",
       " '98042',\n",
       " '98022',\n",
       " '98168',\n",
       " '98038',\n",
       " '98058',\n",
       " '98198',\n",
       " '98055',\n",
       " '98148',\n",
       " '98178']"
      ]
     },
     "execution_count": 11,
     "metadata": {},
     "output_type": "execute_result"
    }
   ],
   "source": [
    "#definition of the threshold\n",
    "threshold=zip_prices.quantile(0.25)\n",
    "\n",
    "# refining the data set so it will consider only the data below this value\n",
    "poor_zipcodes=zip_prices[zip_prices<threshold].index.tolist() # it creates a list of the poor zipcode\n",
    "poor_zipcodes"
   ]
  },
  {
   "cell_type": "markdown",
   "id": "c6c5423e",
   "metadata": {},
   "source": [
    "Now that we have the list of the poor_zipcode, we need to collect the other information from the data frame. Now we can associate to the house having this zipcode the poor_zipcode attribute"
   ]
  },
  {
   "cell_type": "code",
   "execution_count": 12,
   "id": "f2cbb95e",
   "metadata": {},
   "outputs": [
    {
     "data": {
      "text/html": [
       "<div>\n",
       "<style scoped>\n",
       "    .dataframe tbody tr th:only-of-type {\n",
       "        vertical-align: middle;\n",
       "    }\n",
       "\n",
       "    .dataframe tbody tr th {\n",
       "        vertical-align: top;\n",
       "    }\n",
       "\n",
       "    .dataframe thead th {\n",
       "        text-align: right;\n",
       "    }\n",
       "</style>\n",
       "<table border=\"1\" class=\"dataframe\">\n",
       "  <thead>\n",
       "    <tr style=\"text-align: right;\">\n",
       "      <th></th>\n",
       "      <th>price</th>\n",
       "      <th>id</th>\n",
       "      <th>bedrooms</th>\n",
       "      <th>bathrooms</th>\n",
       "      <th>sqft_living</th>\n",
       "      <th>sqft_lot</th>\n",
       "      <th>floors</th>\n",
       "      <th>waterfront</th>\n",
       "      <th>view</th>\n",
       "      <th>condition</th>\n",
       "      <th>...</th>\n",
       "      <th>yr_renovated</th>\n",
       "      <th>zipcode</th>\n",
       "      <th>lat</th>\n",
       "      <th>long</th>\n",
       "      <th>sqft_living15</th>\n",
       "      <th>sqft_lot15</th>\n",
       "      <th>date</th>\n",
       "      <th>tot_sqft</th>\n",
       "      <th>price_per_sqft</th>\n",
       "      <th>poor_neighborhood</th>\n",
       "    </tr>\n",
       "  </thead>\n",
       "  <tbody>\n",
       "    <tr>\n",
       "      <th>0</th>\n",
       "      <td>221900.0</td>\n",
       "      <td>7129300520</td>\n",
       "      <td>3.0</td>\n",
       "      <td>1.00</td>\n",
       "      <td>1180.0</td>\n",
       "      <td>5650.0</td>\n",
       "      <td>1.0</td>\n",
       "      <td>1</td>\n",
       "      <td>0.0</td>\n",
       "      <td>3</td>\n",
       "      <td>...</td>\n",
       "      <td>0</td>\n",
       "      <td>98178</td>\n",
       "      <td>47.5112</td>\n",
       "      <td>-122.257</td>\n",
       "      <td>1340.0</td>\n",
       "      <td>5650.0</td>\n",
       "      <td>2014-10-13</td>\n",
       "      <td>6830.0</td>\n",
       "      <td>188.050847</td>\n",
       "      <td>True</td>\n",
       "    </tr>\n",
       "    <tr>\n",
       "      <th>1</th>\n",
       "      <td>538000.0</td>\n",
       "      <td>6414100192</td>\n",
       "      <td>3.0</td>\n",
       "      <td>2.25</td>\n",
       "      <td>2570.0</td>\n",
       "      <td>7242.0</td>\n",
       "      <td>2.0</td>\n",
       "      <td>0</td>\n",
       "      <td>0.0</td>\n",
       "      <td>3</td>\n",
       "      <td>...</td>\n",
       "      <td>1991</td>\n",
       "      <td>98125</td>\n",
       "      <td>47.7210</td>\n",
       "      <td>-122.319</td>\n",
       "      <td>1690.0</td>\n",
       "      <td>7639.0</td>\n",
       "      <td>2014-12-09</td>\n",
       "      <td>9812.0</td>\n",
       "      <td>209.338521</td>\n",
       "      <td>False</td>\n",
       "    </tr>\n",
       "    <tr>\n",
       "      <th>2</th>\n",
       "      <td>604000.0</td>\n",
       "      <td>2487200875</td>\n",
       "      <td>4.0</td>\n",
       "      <td>3.00</td>\n",
       "      <td>1960.0</td>\n",
       "      <td>5000.0</td>\n",
       "      <td>1.0</td>\n",
       "      <td>0</td>\n",
       "      <td>0.0</td>\n",
       "      <td>5</td>\n",
       "      <td>...</td>\n",
       "      <td>0</td>\n",
       "      <td>98136</td>\n",
       "      <td>47.5208</td>\n",
       "      <td>-122.393</td>\n",
       "      <td>1360.0</td>\n",
       "      <td>5000.0</td>\n",
       "      <td>2014-12-09</td>\n",
       "      <td>6960.0</td>\n",
       "      <td>308.163265</td>\n",
       "      <td>False</td>\n",
       "    </tr>\n",
       "    <tr>\n",
       "      <th>3</th>\n",
       "      <td>510000.0</td>\n",
       "      <td>1954400510</td>\n",
       "      <td>3.0</td>\n",
       "      <td>2.00</td>\n",
       "      <td>1680.0</td>\n",
       "      <td>8080.0</td>\n",
       "      <td>1.0</td>\n",
       "      <td>0</td>\n",
       "      <td>0.0</td>\n",
       "      <td>3</td>\n",
       "      <td>...</td>\n",
       "      <td>0</td>\n",
       "      <td>98074</td>\n",
       "      <td>47.6168</td>\n",
       "      <td>-122.045</td>\n",
       "      <td>1800.0</td>\n",
       "      <td>7503.0</td>\n",
       "      <td>2015-02-18</td>\n",
       "      <td>9760.0</td>\n",
       "      <td>303.571429</td>\n",
       "      <td>False</td>\n",
       "    </tr>\n",
       "    <tr>\n",
       "      <th>4</th>\n",
       "      <td>1230000.0</td>\n",
       "      <td>7237550310</td>\n",
       "      <td>4.0</td>\n",
       "      <td>4.50</td>\n",
       "      <td>5420.0</td>\n",
       "      <td>101930.0</td>\n",
       "      <td>1.0</td>\n",
       "      <td>0</td>\n",
       "      <td>0.0</td>\n",
       "      <td>3</td>\n",
       "      <td>...</td>\n",
       "      <td>0</td>\n",
       "      <td>98053</td>\n",
       "      <td>47.6561</td>\n",
       "      <td>-122.005</td>\n",
       "      <td>4760.0</td>\n",
       "      <td>101930.0</td>\n",
       "      <td>2014-05-12</td>\n",
       "      <td>107350.0</td>\n",
       "      <td>226.937269</td>\n",
       "      <td>False</td>\n",
       "    </tr>\n",
       "    <tr>\n",
       "      <th>...</th>\n",
       "      <td>...</td>\n",
       "      <td>...</td>\n",
       "      <td>...</td>\n",
       "      <td>...</td>\n",
       "      <td>...</td>\n",
       "      <td>...</td>\n",
       "      <td>...</td>\n",
       "      <td>...</td>\n",
       "      <td>...</td>\n",
       "      <td>...</td>\n",
       "      <td>...</td>\n",
       "      <td>...</td>\n",
       "      <td>...</td>\n",
       "      <td>...</td>\n",
       "      <td>...</td>\n",
       "      <td>...</td>\n",
       "      <td>...</td>\n",
       "      <td>...</td>\n",
       "      <td>...</td>\n",
       "      <td>...</td>\n",
       "      <td>...</td>\n",
       "    </tr>\n",
       "    <tr>\n",
       "      <th>17693</th>\n",
       "      <td>360000.0</td>\n",
       "      <td>263000018</td>\n",
       "      <td>3.0</td>\n",
       "      <td>2.50</td>\n",
       "      <td>1530.0</td>\n",
       "      <td>1131.0</td>\n",
       "      <td>3.0</td>\n",
       "      <td>0</td>\n",
       "      <td>0.0</td>\n",
       "      <td>3</td>\n",
       "      <td>...</td>\n",
       "      <td>0</td>\n",
       "      <td>98103</td>\n",
       "      <td>47.6993</td>\n",
       "      <td>-122.346</td>\n",
       "      <td>1530.0</td>\n",
       "      <td>1509.0</td>\n",
       "      <td>2014-05-21</td>\n",
       "      <td>2661.0</td>\n",
       "      <td>235.294118</td>\n",
       "      <td>False</td>\n",
       "    </tr>\n",
       "    <tr>\n",
       "      <th>17694</th>\n",
       "      <td>400000.0</td>\n",
       "      <td>6600060120</td>\n",
       "      <td>4.0</td>\n",
       "      <td>2.50</td>\n",
       "      <td>2310.0</td>\n",
       "      <td>5813.0</td>\n",
       "      <td>2.0</td>\n",
       "      <td>0</td>\n",
       "      <td>0.0</td>\n",
       "      <td>3</td>\n",
       "      <td>...</td>\n",
       "      <td>0</td>\n",
       "      <td>98146</td>\n",
       "      <td>47.5107</td>\n",
       "      <td>-122.362</td>\n",
       "      <td>1830.0</td>\n",
       "      <td>7200.0</td>\n",
       "      <td>2015-02-23</td>\n",
       "      <td>8123.0</td>\n",
       "      <td>173.160173</td>\n",
       "      <td>False</td>\n",
       "    </tr>\n",
       "    <tr>\n",
       "      <th>17695</th>\n",
       "      <td>402101.0</td>\n",
       "      <td>1523300141</td>\n",
       "      <td>2.0</td>\n",
       "      <td>0.75</td>\n",
       "      <td>1020.0</td>\n",
       "      <td>1350.0</td>\n",
       "      <td>2.0</td>\n",
       "      <td>0</td>\n",
       "      <td>0.0</td>\n",
       "      <td>3</td>\n",
       "      <td>...</td>\n",
       "      <td>0</td>\n",
       "      <td>98144</td>\n",
       "      <td>47.5944</td>\n",
       "      <td>-122.299</td>\n",
       "      <td>1020.0</td>\n",
       "      <td>2007.0</td>\n",
       "      <td>2014-06-23</td>\n",
       "      <td>2370.0</td>\n",
       "      <td>394.216667</td>\n",
       "      <td>False</td>\n",
       "    </tr>\n",
       "    <tr>\n",
       "      <th>17696</th>\n",
       "      <td>400000.0</td>\n",
       "      <td>291310100</td>\n",
       "      <td>3.0</td>\n",
       "      <td>2.50</td>\n",
       "      <td>1600.0</td>\n",
       "      <td>2388.0</td>\n",
       "      <td>2.0</td>\n",
       "      <td>1</td>\n",
       "      <td>0.0</td>\n",
       "      <td>3</td>\n",
       "      <td>...</td>\n",
       "      <td>0</td>\n",
       "      <td>98027</td>\n",
       "      <td>47.5345</td>\n",
       "      <td>-122.069</td>\n",
       "      <td>1410.0</td>\n",
       "      <td>1287.0</td>\n",
       "      <td>2015-01-16</td>\n",
       "      <td>3988.0</td>\n",
       "      <td>250.000000</td>\n",
       "      <td>False</td>\n",
       "    </tr>\n",
       "    <tr>\n",
       "      <th>17697</th>\n",
       "      <td>325000.0</td>\n",
       "      <td>1523300157</td>\n",
       "      <td>2.0</td>\n",
       "      <td>0.75</td>\n",
       "      <td>1020.0</td>\n",
       "      <td>1076.0</td>\n",
       "      <td>2.0</td>\n",
       "      <td>0</td>\n",
       "      <td>0.0</td>\n",
       "      <td>3</td>\n",
       "      <td>...</td>\n",
       "      <td>0</td>\n",
       "      <td>98144</td>\n",
       "      <td>47.5941</td>\n",
       "      <td>-122.299</td>\n",
       "      <td>1020.0</td>\n",
       "      <td>1357.0</td>\n",
       "      <td>2014-10-15</td>\n",
       "      <td>2096.0</td>\n",
       "      <td>318.627451</td>\n",
       "      <td>False</td>\n",
       "    </tr>\n",
       "  </tbody>\n",
       "</table>\n",
       "<p>17698 rows × 24 columns</p>\n",
       "</div>"
      ],
      "text/plain": [
       "           price          id  bedrooms  bathrooms  sqft_living  sqft_lot  \\\n",
       "0       221900.0  7129300520       3.0       1.00       1180.0    5650.0   \n",
       "1       538000.0  6414100192       3.0       2.25       2570.0    7242.0   \n",
       "2       604000.0  2487200875       4.0       3.00       1960.0    5000.0   \n",
       "3       510000.0  1954400510       3.0       2.00       1680.0    8080.0   \n",
       "4      1230000.0  7237550310       4.0       4.50       5420.0  101930.0   \n",
       "...          ...         ...       ...        ...          ...       ...   \n",
       "17693   360000.0   263000018       3.0       2.50       1530.0    1131.0   \n",
       "17694   400000.0  6600060120       4.0       2.50       2310.0    5813.0   \n",
       "17695   402101.0  1523300141       2.0       0.75       1020.0    1350.0   \n",
       "17696   400000.0   291310100       3.0       2.50       1600.0    2388.0   \n",
       "17697   325000.0  1523300157       2.0       0.75       1020.0    1076.0   \n",
       "\n",
       "       floors waterfront  view  condition  ...  yr_renovated  zipcode  \\\n",
       "0         1.0          1   0.0          3  ...             0    98178   \n",
       "1         2.0          0   0.0          3  ...          1991    98125   \n",
       "2         1.0          0   0.0          5  ...             0    98136   \n",
       "3         1.0          0   0.0          3  ...             0    98074   \n",
       "4         1.0          0   0.0          3  ...             0    98053   \n",
       "...       ...        ...   ...        ...  ...           ...      ...   \n",
       "17693     3.0          0   0.0          3  ...             0    98103   \n",
       "17694     2.0          0   0.0          3  ...             0    98146   \n",
       "17695     2.0          0   0.0          3  ...             0    98144   \n",
       "17696     2.0          1   0.0          3  ...             0    98027   \n",
       "17697     2.0          0   0.0          3  ...             0    98144   \n",
       "\n",
       "           lat     long  sqft_living15 sqft_lot15        date  tot_sqft  \\\n",
       "0      47.5112 -122.257         1340.0     5650.0  2014-10-13    6830.0   \n",
       "1      47.7210 -122.319         1690.0     7639.0  2014-12-09    9812.0   \n",
       "2      47.5208 -122.393         1360.0     5000.0  2014-12-09    6960.0   \n",
       "3      47.6168 -122.045         1800.0     7503.0  2015-02-18    9760.0   \n",
       "4      47.6561 -122.005         4760.0   101930.0  2014-05-12  107350.0   \n",
       "...        ...      ...            ...        ...         ...       ...   \n",
       "17693  47.6993 -122.346         1530.0     1509.0  2014-05-21    2661.0   \n",
       "17694  47.5107 -122.362         1830.0     7200.0  2015-02-23    8123.0   \n",
       "17695  47.5944 -122.299         1020.0     2007.0  2014-06-23    2370.0   \n",
       "17696  47.5345 -122.069         1410.0     1287.0  2015-01-16    3988.0   \n",
       "17697  47.5941 -122.299         1020.0     1357.0  2014-10-15    2096.0   \n",
       "\n",
       "       price_per_sqft  poor_neighborhood  \n",
       "0          188.050847               True  \n",
       "1          209.338521              False  \n",
       "2          308.163265              False  \n",
       "3          303.571429              False  \n",
       "4          226.937269              False  \n",
       "...               ...                ...  \n",
       "17693      235.294118              False  \n",
       "17694      173.160173              False  \n",
       "17695      394.216667              False  \n",
       "17696      250.000000              False  \n",
       "17697      318.627451              False  \n",
       "\n",
       "[17698 rows x 24 columns]"
      ]
     },
     "execution_count": 12,
     "metadata": {},
     "output_type": "execute_result"
    }
   ],
   "source": [
    "df_analysis['poor_neighborhood'] = df_analysis['zipcode'].isin(poor_zipcodes) #define a new colone with values true or false indicating it belongs to a poor zipcode\n",
    "df_analysis\n"
   ]
  },
  {
   "cell_type": "code",
   "execution_count": 13,
   "id": "7ab9f064",
   "metadata": {},
   "outputs": [
    {
     "data": {
      "text/plain": [
       "<Axes: xlabel='year_sold', ylabel='price'>"
      ]
     },
     "execution_count": 13,
     "metadata": {},
     "output_type": "execute_result"
    },
    {
     "data": {
      "image/png": "[encoded data removed]",
      "text/plain": [
       "<Figure size 640x480 with 1 Axes>"
      ]
     },
     "metadata": {},
     "output_type": "display_data"
    }
   ],
   "source": [
    "df_analysis['year_sold'] = pd.to_datetime(df_analysis['date']).dt.year\n",
    "sns.lineplot(data=df_analysis[df_analysis['zipcode'].isin(poor_zipcodes)],\n",
    "             x='year_sold', y='price', estimator='mean', ci=None)\n"
   ]
  },
  {
   "cell_type": "markdown",
   "id": "998b90ee",
   "metadata": {},
   "source": [
    "Since the client is looking for buying and to selling, we need to determinate what houses could be renovated and sold at higher price.\n",
    "\n",
    "The house condition should be low and and have a low grade too. They must be old and not being renovated."
   ]
  },
  {
   "cell_type": "code",
   "execution_count": 14,
   "id": "d9350aa6",
   "metadata": {},
   "outputs": [
    {
     "data": {
      "text/html": [
       "<div>\n",
       "<style scoped>\n",
       "    .dataframe tbody tr th:only-of-type {\n",
       "        vertical-align: middle;\n",
       "    }\n",
       "\n",
       "    .dataframe tbody tr th {\n",
       "        vertical-align: top;\n",
       "    }\n",
       "\n",
       "    .dataframe thead th {\n",
       "        text-align: right;\n",
       "    }\n",
       "</style>\n",
       "<table border=\"1\" class=\"dataframe\">\n",
       "  <thead>\n",
       "    <tr style=\"text-align: right;\">\n",
       "      <th></th>\n",
       "      <th>price</th>\n",
       "      <th>id</th>\n",
       "      <th>bedrooms</th>\n",
       "      <th>bathrooms</th>\n",
       "      <th>sqft_living</th>\n",
       "      <th>sqft_lot</th>\n",
       "      <th>floors</th>\n",
       "      <th>waterfront</th>\n",
       "      <th>view</th>\n",
       "      <th>condition</th>\n",
       "      <th>...</th>\n",
       "      <th>zipcode</th>\n",
       "      <th>lat</th>\n",
       "      <th>long</th>\n",
       "      <th>sqft_living15</th>\n",
       "      <th>sqft_lot15</th>\n",
       "      <th>date</th>\n",
       "      <th>tot_sqft</th>\n",
       "      <th>price_per_sqft</th>\n",
       "      <th>poor_neighborhood</th>\n",
       "      <th>year_sold</th>\n",
       "    </tr>\n",
       "  </thead>\n",
       "  <tbody>\n",
       "    <tr>\n",
       "      <th>0</th>\n",
       "      <td>221900.0</td>\n",
       "      <td>7129300520</td>\n",
       "      <td>3.0</td>\n",
       "      <td>1.00</td>\n",
       "      <td>1180.0</td>\n",
       "      <td>5650.0</td>\n",
       "      <td>1.0</td>\n",
       "      <td>1</td>\n",
       "      <td>0.0</td>\n",
       "      <td>3</td>\n",
       "      <td>...</td>\n",
       "      <td>98178</td>\n",
       "      <td>47.5112</td>\n",
       "      <td>-122.257</td>\n",
       "      <td>1340.0</td>\n",
       "      <td>5650.0</td>\n",
       "      <td>2014-10-13</td>\n",
       "      <td>6830.0</td>\n",
       "      <td>188.050847</td>\n",
       "      <td>True</td>\n",
       "      <td>2014</td>\n",
       "    </tr>\n",
       "    <tr>\n",
       "      <th>5</th>\n",
       "      <td>257500.0</td>\n",
       "      <td>1321400060</td>\n",
       "      <td>3.0</td>\n",
       "      <td>2.25</td>\n",
       "      <td>1715.0</td>\n",
       "      <td>6819.0</td>\n",
       "      <td>2.0</td>\n",
       "      <td>0</td>\n",
       "      <td>0.0</td>\n",
       "      <td>3</td>\n",
       "      <td>...</td>\n",
       "      <td>98003</td>\n",
       "      <td>47.3097</td>\n",
       "      <td>-122.327</td>\n",
       "      <td>2238.0</td>\n",
       "      <td>6819.0</td>\n",
       "      <td>2014-06-27</td>\n",
       "      <td>8534.0</td>\n",
       "      <td>150.145773</td>\n",
       "      <td>True</td>\n",
       "      <td>2014</td>\n",
       "    </tr>\n",
       "    <tr>\n",
       "      <th>7</th>\n",
       "      <td>323000.0</td>\n",
       "      <td>3793500160</td>\n",
       "      <td>3.0</td>\n",
       "      <td>2.50</td>\n",
       "      <td>1890.0</td>\n",
       "      <td>6560.0</td>\n",
       "      <td>2.0</td>\n",
       "      <td>0</td>\n",
       "      <td>0.0</td>\n",
       "      <td>3</td>\n",
       "      <td>...</td>\n",
       "      <td>98038</td>\n",
       "      <td>47.3684</td>\n",
       "      <td>-122.031</td>\n",
       "      <td>2390.0</td>\n",
       "      <td>7570.0</td>\n",
       "      <td>2015-03-12</td>\n",
       "      <td>8450.0</td>\n",
       "      <td>170.899471</td>\n",
       "      <td>True</td>\n",
       "      <td>2015</td>\n",
       "    </tr>\n",
       "    <tr>\n",
       "      <th>28</th>\n",
       "      <td>322500.0</td>\n",
       "      <td>7955080270</td>\n",
       "      <td>4.0</td>\n",
       "      <td>2.75</td>\n",
       "      <td>2060.0</td>\n",
       "      <td>6659.0</td>\n",
       "      <td>1.0</td>\n",
       "      <td>0</td>\n",
       "      <td>0.0</td>\n",
       "      <td>3</td>\n",
       "      <td>...</td>\n",
       "      <td>98058</td>\n",
       "      <td>47.4276</td>\n",
       "      <td>-122.157</td>\n",
       "      <td>2020.0</td>\n",
       "      <td>8720.0</td>\n",
       "      <td>2014-12-03</td>\n",
       "      <td>8719.0</td>\n",
       "      <td>156.553398</td>\n",
       "      <td>True</td>\n",
       "      <td>2014</td>\n",
       "    </tr>\n",
       "    <tr>\n",
       "      <th>32</th>\n",
       "      <td>240000.0</td>\n",
       "      <td>7895500070</td>\n",
       "      <td>4.0</td>\n",
       "      <td>1.00</td>\n",
       "      <td>1220.0</td>\n",
       "      <td>8075.0</td>\n",
       "      <td>1.0</td>\n",
       "      <td>0</td>\n",
       "      <td>0.0</td>\n",
       "      <td>2</td>\n",
       "      <td>...</td>\n",
       "      <td>98001</td>\n",
       "      <td>47.3341</td>\n",
       "      <td>-122.282</td>\n",
       "      <td>1290.0</td>\n",
       "      <td>7800.0</td>\n",
       "      <td>2015-02-13</td>\n",
       "      <td>9295.0</td>\n",
       "      <td>196.721311</td>\n",
       "      <td>True</td>\n",
       "      <td>2015</td>\n",
       "    </tr>\n",
       "    <tr>\n",
       "      <th>...</th>\n",
       "      <td>...</td>\n",
       "      <td>...</td>\n",
       "      <td>...</td>\n",
       "      <td>...</td>\n",
       "      <td>...</td>\n",
       "      <td>...</td>\n",
       "      <td>...</td>\n",
       "      <td>...</td>\n",
       "      <td>...</td>\n",
       "      <td>...</td>\n",
       "      <td>...</td>\n",
       "      <td>...</td>\n",
       "      <td>...</td>\n",
       "      <td>...</td>\n",
       "      <td>...</td>\n",
       "      <td>...</td>\n",
       "      <td>...</td>\n",
       "      <td>...</td>\n",
       "      <td>...</td>\n",
       "      <td>...</td>\n",
       "      <td>...</td>\n",
       "    </tr>\n",
       "    <tr>\n",
       "      <th>17588</th>\n",
       "      <td>249000.0</td>\n",
       "      <td>121039156</td>\n",
       "      <td>3.0</td>\n",
       "      <td>1.00</td>\n",
       "      <td>1030.0</td>\n",
       "      <td>24750.0</td>\n",
       "      <td>1.0</td>\n",
       "      <td>0</td>\n",
       "      <td>2.0</td>\n",
       "      <td>3</td>\n",
       "      <td>...</td>\n",
       "      <td>98023</td>\n",
       "      <td>47.3343</td>\n",
       "      <td>-122.362</td>\n",
       "      <td>2810.0</td>\n",
       "      <td>28800.0</td>\n",
       "      <td>2015-01-09</td>\n",
       "      <td>25780.0</td>\n",
       "      <td>241.747573</td>\n",
       "      <td>True</td>\n",
       "      <td>2015</td>\n",
       "    </tr>\n",
       "    <tr>\n",
       "      <th>17630</th>\n",
       "      <td>290000.0</td>\n",
       "      <td>1760650820</td>\n",
       "      <td>3.0</td>\n",
       "      <td>2.25</td>\n",
       "      <td>1610.0</td>\n",
       "      <td>3764.0</td>\n",
       "      <td>2.0</td>\n",
       "      <td>0</td>\n",
       "      <td>0.0</td>\n",
       "      <td>3</td>\n",
       "      <td>...</td>\n",
       "      <td>98042</td>\n",
       "      <td>47.3589</td>\n",
       "      <td>-122.083</td>\n",
       "      <td>1610.0</td>\n",
       "      <td>3825.0</td>\n",
       "      <td>2015-04-28</td>\n",
       "      <td>5374.0</td>\n",
       "      <td>180.124224</td>\n",
       "      <td>True</td>\n",
       "      <td>2015</td>\n",
       "    </tr>\n",
       "    <tr>\n",
       "      <th>17635</th>\n",
       "      <td>332000.0</td>\n",
       "      <td>2909310100</td>\n",
       "      <td>4.0</td>\n",
       "      <td>2.50</td>\n",
       "      <td>2380.0</td>\n",
       "      <td>5737.0</td>\n",
       "      <td>2.0</td>\n",
       "      <td>0</td>\n",
       "      <td>0.0</td>\n",
       "      <td>3</td>\n",
       "      <td>...</td>\n",
       "      <td>98023</td>\n",
       "      <td>47.2815</td>\n",
       "      <td>-122.356</td>\n",
       "      <td>2380.0</td>\n",
       "      <td>5396.0</td>\n",
       "      <td>2014-10-15</td>\n",
       "      <td>8117.0</td>\n",
       "      <td>139.495798</td>\n",
       "      <td>True</td>\n",
       "      <td>2014</td>\n",
       "    </tr>\n",
       "    <tr>\n",
       "      <th>17660</th>\n",
       "      <td>341780.0</td>\n",
       "      <td>5007500120</td>\n",
       "      <td>4.0</td>\n",
       "      <td>2.75</td>\n",
       "      <td>2260.0</td>\n",
       "      <td>4440.0</td>\n",
       "      <td>2.0</td>\n",
       "      <td>0</td>\n",
       "      <td>0.0</td>\n",
       "      <td>3</td>\n",
       "      <td>...</td>\n",
       "      <td>98001</td>\n",
       "      <td>47.3507</td>\n",
       "      <td>-122.291</td>\n",
       "      <td>2260.0</td>\n",
       "      <td>4563.0</td>\n",
       "      <td>2015-02-26</td>\n",
       "      <td>6700.0</td>\n",
       "      <td>151.230088</td>\n",
       "      <td>True</td>\n",
       "      <td>2015</td>\n",
       "    </tr>\n",
       "    <tr>\n",
       "      <th>17677</th>\n",
       "      <td>270000.0</td>\n",
       "      <td>3832050760</td>\n",
       "      <td>3.0</td>\n",
       "      <td>2.50</td>\n",
       "      <td>1870.0</td>\n",
       "      <td>5000.0</td>\n",
       "      <td>2.0</td>\n",
       "      <td>0</td>\n",
       "      <td>0.0</td>\n",
       "      <td>3</td>\n",
       "      <td>...</td>\n",
       "      <td>98042</td>\n",
       "      <td>47.3339</td>\n",
       "      <td>-122.055</td>\n",
       "      <td>2170.0</td>\n",
       "      <td>5399.0</td>\n",
       "      <td>2014-08-28</td>\n",
       "      <td>6870.0</td>\n",
       "      <td>144.385027</td>\n",
       "      <td>True</td>\n",
       "      <td>2014</td>\n",
       "    </tr>\n",
       "  </tbody>\n",
       "</table>\n",
       "<p>1477 rows × 25 columns</p>\n",
       "</div>"
      ],
      "text/plain": [
       "          price          id  bedrooms  bathrooms  sqft_living  sqft_lot  \\\n",
       "0      221900.0  7129300520       3.0       1.00       1180.0    5650.0   \n",
       "5      257500.0  1321400060       3.0       2.25       1715.0    6819.0   \n",
       "7      323000.0  3793500160       3.0       2.50       1890.0    6560.0   \n",
       "28     322500.0  7955080270       4.0       2.75       2060.0    6659.0   \n",
       "32     240000.0  7895500070       4.0       1.00       1220.0    8075.0   \n",
       "...         ...         ...       ...        ...          ...       ...   \n",
       "17588  249000.0   121039156       3.0       1.00       1030.0   24750.0   \n",
       "17630  290000.0  1760650820       3.0       2.25       1610.0    3764.0   \n",
       "17635  332000.0  2909310100       4.0       2.50       2380.0    5737.0   \n",
       "17660  341780.0  5007500120       4.0       2.75       2260.0    4440.0   \n",
       "17677  270000.0  3832050760       3.0       2.50       1870.0    5000.0   \n",
       "\n",
       "       floors waterfront  view  condition  ...  zipcode      lat     long  \\\n",
       "0         1.0          1   0.0          3  ...    98178  47.5112 -122.257   \n",
       "5         2.0          0   0.0          3  ...    98003  47.3097 -122.327   \n",
       "7         2.0          0   0.0          3  ...    98038  47.3684 -122.031   \n",
       "28        1.0          0   0.0          3  ...    98058  47.4276 -122.157   \n",
       "32        1.0          0   0.0          2  ...    98001  47.3341 -122.282   \n",
       "...       ...        ...   ...        ...  ...      ...      ...      ...   \n",
       "17588     1.0          0   2.0          3  ...    98023  47.3343 -122.362   \n",
       "17630     2.0          0   0.0          3  ...    98042  47.3589 -122.083   \n",
       "17635     2.0          0   0.0          3  ...    98023  47.2815 -122.356   \n",
       "17660     2.0          0   0.0          3  ...    98001  47.3507 -122.291   \n",
       "17677     2.0          0   0.0          3  ...    98042  47.3339 -122.055   \n",
       "\n",
       "       sqft_living15  sqft_lot15        date  tot_sqft  price_per_sqft  \\\n",
       "0             1340.0      5650.0  2014-10-13    6830.0      188.050847   \n",
       "5             2238.0      6819.0  2014-06-27    8534.0      150.145773   \n",
       "7             2390.0      7570.0  2015-03-12    8450.0      170.899471   \n",
       "28            2020.0      8720.0  2014-12-03    8719.0      156.553398   \n",
       "32            1290.0      7800.0  2015-02-13    9295.0      196.721311   \n",
       "...              ...         ...         ...       ...             ...   \n",
       "17588         2810.0     28800.0  2015-01-09   25780.0      241.747573   \n",
       "17630         1610.0      3825.0  2015-04-28    5374.0      180.124224   \n",
       "17635         2380.0      5396.0  2014-10-15    8117.0      139.495798   \n",
       "17660         2260.0      4563.0  2015-02-26    6700.0      151.230088   \n",
       "17677         2170.0      5399.0  2014-08-28    6870.0      144.385027   \n",
       "\n",
       "       poor_neighborhood  year_sold  \n",
       "0                   True       2014  \n",
       "5                   True       2014  \n",
       "7                   True       2015  \n",
       "28                  True       2014  \n",
       "32                  True       2015  \n",
       "...                  ...        ...  \n",
       "17588               True       2015  \n",
       "17630               True       2015  \n",
       "17635               True       2014  \n",
       "17660               True       2015  \n",
       "17677               True       2014  \n",
       "\n",
       "[1477 rows x 25 columns]"
      ]
     },
     "execution_count": 14,
     "metadata": {},
     "output_type": "execute_result"
    }
   ],
   "source": [
    "candidates = df_analysis[               #it creates a new data frame with the following conditions\n",
    "    (df_analysis['poor_neighborhood']) &\n",
    "    (df_analysis['condition'] <= 3) &  # Slightly lower condition\n",
    "    (df_analysis['grade'] <= 7) &      # Modest homes\n",
    "    (df_analysis['price'] < df_analysis['price'].quantile(0.3)) & # Cheap relative to rest\n",
    "    (df_analysis['yr_renovated'] == 0)  #no renovation\n",
    "]\n",
    "candidates"
   ]
  },
  {
   "cell_type": "code",
   "execution_count": 15,
   "id": "a4d7e93d",
   "metadata": {},
   "outputs": [
    {
     "data": {
      "text/plain": [
       "Text(0.5, 1.0, 'House Condition Distribution in Poor ZIP Codes')"
      ]
     },
     "execution_count": 15,
     "metadata": {},
     "output_type": "execute_result"
    },
    {
     "data": {
      "image/png": "[encoded data removed]",
      "text/plain": [
       "<Figure size 640x480 with 1 Axes>"
      ]
     },
     "metadata": {},
     "output_type": "display_data"
    }
   ],
   "source": [
    "sns.countplot(candidates, x='condition')\n",
    "plt.title(\"House Condition Distribution in Poor ZIP Codes\")\n"
   ]
  },
  {
   "cell_type": "code",
   "execution_count": 16,
   "id": "27bf9514",
   "metadata": {},
   "outputs": [
    {
     "data": {
      "text/plain": [
       "<Axes: xlabel='zipcode', ylabel='price_per_sqft'>"
      ]
     },
     "execution_count": 16,
     "metadata": {},
     "output_type": "execute_result"
    },
    {
     "data": {
      "image/png": "[encoded data removed]",
      "text/plain": [
       "<Figure size 4000x600 with 1 Axes>"
      ]
     },
     "metadata": {},
     "output_type": "display_data"
    }
   ],
   "source": [
    "plt.figure(figsize=(40, 6))  # Set width=10, height=6 (in inches)\n",
    "sns.scatterplot(candidates, x='zipcode', y='price_per_sqft')"
   ]
  },
  {
   "cell_type": "markdown",
   "id": "be27e6c4",
   "metadata": {},
   "source": [
    "At this point we need to determinate which houses can increase in value.\n",
    "\n",
    "To do so, we need to determinate the new value they will acquire after the renovation. We assume that such value is the median of the price per sqft in the same zipcode"
   ]
  },
  {
   "cell_type": "code",
   "execution_count": 17,
   "id": "437b1559",
   "metadata": {},
   "outputs": [
    {
     "data": {
      "text/plain": [
       "0        213183.750751\n",
       "5        265039.914955\n",
       "7        323050.000000\n",
       "28       356216.385241\n",
       "32       178064.294108\n",
       "             ...      \n",
       "17588    149276.240586\n",
       "17630    256379.146919\n",
       "17635    344929.565627\n",
       "17660    329856.807118\n",
       "17677    297781.990521\n",
       "Name: est_resale_price, Length: 1477, dtype: float64"
      ]
     },
     "execution_count": 17,
     "metadata": {},
     "output_type": "execute_result"
    }
   ],
   "source": [
    "median_price_per_sqft_by_zip = df_analysis.groupby('zipcode')['price_per_sqft'].median()\n",
    "\n",
    "# It creates a new column with an estimate potential resale value. The new value of the house is equal of sqft_living * the price_per_sqft\n",
    "candidates['est_resale_price'] = (\n",
    "    candidates['sqft_living'] * candidates['zipcode'].map(median_price_per_sqft_by_zip) # it multiplicate the sqft_living for the median of the price per sqft in the same zip code. Map return the index of the median value for that zipcode\n",
    ")\n",
    "candidates['est_resale_price']"
   ]
  },
  {
   "cell_type": "markdown",
   "id": "62a03097",
   "metadata": {},
   "source": [
    "At this point we need to estimate the profit for selling the house after the renovation.\n",
    "\n",
    "We assume a cost of 300$ per square foot and we expect a profit of at least 10000$."
   ]
  },
  {
   "cell_type": "code",
   "execution_count": 18,
   "id": "097817f2",
   "metadata": {},
   "outputs": [
    {
     "data": {
      "text/plain": [
       "0        -91316.249249\n",
       "5       -112510.085045\n",
       "7       -132250.000000\n",
       "28      -110483.614759\n",
       "32      -147335.705892\n",
       "             ...      \n",
       "17588   -171823.759414\n",
       "17630   -146320.853081\n",
       "17635   -153670.434373\n",
       "17660   -170123.192882\n",
       "17677   -103118.009479\n",
       "Name: expected_profit, Length: 1477, dtype: float64"
      ]
     },
     "execution_count": 18,
     "metadata": {},
     "output_type": "execute_result"
    }
   ],
   "source": [
    "renovation_cost_per_sqft = 70  # Assuming a cost of 70$ per square foot\n",
    "candidates['renovation_cost'] = candidates['sqft_living'] * renovation_cost_per_sqft\n",
    "\n",
    "candidates['expected_profit'] = (\n",
    "    candidates['est_resale_price'] - candidates['price'] - candidates['renovation_cost']\n",
    ")\n",
    "candidates['expected_profit']\n",
    "\n"
   ]
  },
  {
   "cell_type": "code",
   "execution_count": 19,
   "id": "879fdbf2",
   "metadata": {},
   "outputs": [
    {
     "data": {
      "text/html": [
       "<div>\n",
       "<style scoped>\n",
       "    .dataframe tbody tr th:only-of-type {\n",
       "        vertical-align: middle;\n",
       "    }\n",
       "\n",
       "    .dataframe tbody tr th {\n",
       "        vertical-align: top;\n",
       "    }\n",
       "\n",
       "    .dataframe thead th {\n",
       "        text-align: right;\n",
       "    }\n",
       "</style>\n",
       "<table border=\"1\" class=\"dataframe\">\n",
       "  <thead>\n",
       "    <tr style=\"text-align: right;\">\n",
       "      <th></th>\n",
       "      <th>price</th>\n",
       "      <th>id</th>\n",
       "      <th>bedrooms</th>\n",
       "      <th>bathrooms</th>\n",
       "      <th>sqft_living</th>\n",
       "      <th>sqft_lot</th>\n",
       "      <th>floors</th>\n",
       "      <th>waterfront</th>\n",
       "      <th>view</th>\n",
       "      <th>condition</th>\n",
       "      <th>...</th>\n",
       "      <th>sqft_living15</th>\n",
       "      <th>sqft_lot15</th>\n",
       "      <th>date</th>\n",
       "      <th>tot_sqft</th>\n",
       "      <th>price_per_sqft</th>\n",
       "      <th>poor_neighborhood</th>\n",
       "      <th>year_sold</th>\n",
       "      <th>est_resale_price</th>\n",
       "      <th>renovation_cost</th>\n",
       "      <th>expected_profit</th>\n",
       "    </tr>\n",
       "  </thead>\n",
       "  <tbody>\n",
       "    <tr>\n",
       "      <th>1540</th>\n",
       "      <td>207000.0</td>\n",
       "      <td>2143700830</td>\n",
       "      <td>4.0</td>\n",
       "      <td>2.50</td>\n",
       "      <td>2100.0</td>\n",
       "      <td>19680.0</td>\n",
       "      <td>1.5</td>\n",
       "      <td>0</td>\n",
       "      <td>0.0</td>\n",
       "      <td>3</td>\n",
       "      <td>...</td>\n",
       "      <td>1340.0</td>\n",
       "      <td>12300.0</td>\n",
       "      <td>2014-10-06</td>\n",
       "      <td>21780.0</td>\n",
       "      <td>98.571429</td>\n",
       "      <td>True</td>\n",
       "      <td>2014</td>\n",
       "      <td>366125.294580</td>\n",
       "      <td>147000.0</td>\n",
       "      <td>12125.294580</td>\n",
       "    </tr>\n",
       "    <tr>\n",
       "      <th>1802</th>\n",
       "      <td>150000.0</td>\n",
       "      <td>4058802105</td>\n",
       "      <td>3.0</td>\n",
       "      <td>1.00</td>\n",
       "      <td>1450.0</td>\n",
       "      <td>6776.0</td>\n",
       "      <td>1.0</td>\n",
       "      <td>0</td>\n",
       "      <td>0.0</td>\n",
       "      <td>3</td>\n",
       "      <td>...</td>\n",
       "      <td>1680.0</td>\n",
       "      <td>7200.0</td>\n",
       "      <td>2014-09-04</td>\n",
       "      <td>8226.0</td>\n",
       "      <td>103.448276</td>\n",
       "      <td>True</td>\n",
       "      <td>2014</td>\n",
       "      <td>261963.083550</td>\n",
       "      <td>101500.0</td>\n",
       "      <td>10463.083550</td>\n",
       "    </tr>\n",
       "    <tr>\n",
       "      <th>1870</th>\n",
       "      <td>210000.0</td>\n",
       "      <td>522049104</td>\n",
       "      <td>5.0</td>\n",
       "      <td>1.75</td>\n",
       "      <td>2340.0</td>\n",
       "      <td>9148.0</td>\n",
       "      <td>2.0</td>\n",
       "      <td>1</td>\n",
       "      <td>0.0</td>\n",
       "      <td>3</td>\n",
       "      <td>...</td>\n",
       "      <td>1390.0</td>\n",
       "      <td>10019.0</td>\n",
       "      <td>2014-07-29</td>\n",
       "      <td>11488.0</td>\n",
       "      <td>89.743590</td>\n",
       "      <td>True</td>\n",
       "      <td>2014</td>\n",
       "      <td>405413.868613</td>\n",
       "      <td>163800.0</td>\n",
       "      <td>31613.868613</td>\n",
       "    </tr>\n",
       "    <tr>\n",
       "      <th>2290</th>\n",
       "      <td>199000.0</td>\n",
       "      <td>3352401981</td>\n",
       "      <td>4.0</td>\n",
       "      <td>2.00</td>\n",
       "      <td>2030.0</td>\n",
       "      <td>8120.0</td>\n",
       "      <td>2.0</td>\n",
       "      <td>0</td>\n",
       "      <td>0.0</td>\n",
       "      <td>3</td>\n",
       "      <td>...</td>\n",
       "      <td>1520.0</td>\n",
       "      <td>9440.0</td>\n",
       "      <td>2014-05-21</td>\n",
       "      <td>10150.0</td>\n",
       "      <td>98.029557</td>\n",
       "      <td>True</td>\n",
       "      <td>2014</td>\n",
       "      <td>366748.316971</td>\n",
       "      <td>142100.0</td>\n",
       "      <td>25648.316971</td>\n",
       "    </tr>\n",
       "    <tr>\n",
       "      <th>6521</th>\n",
       "      <td>200000.0</td>\n",
       "      <td>257000037</td>\n",
       "      <td>3.0</td>\n",
       "      <td>1.00</td>\n",
       "      <td>2120.0</td>\n",
       "      <td>31564.0</td>\n",
       "      <td>1.0</td>\n",
       "      <td>0</td>\n",
       "      <td>0.0</td>\n",
       "      <td>3</td>\n",
       "      <td>...</td>\n",
       "      <td>1790.0</td>\n",
       "      <td>11571.0</td>\n",
       "      <td>2014-12-29</td>\n",
       "      <td>33684.0</td>\n",
       "      <td>94.339623</td>\n",
       "      <td>True</td>\n",
       "      <td>2014</td>\n",
       "      <td>359934.065934</td>\n",
       "      <td>148400.0</td>\n",
       "      <td>11534.065934</td>\n",
       "    </tr>\n",
       "    <tr>\n",
       "      <th>6586</th>\n",
       "      <td>210000.0</td>\n",
       "      <td>3348401095</td>\n",
       "      <td>4.0</td>\n",
       "      <td>1.75</td>\n",
       "      <td>2090.0</td>\n",
       "      <td>6485.0</td>\n",
       "      <td>1.0</td>\n",
       "      <td>0</td>\n",
       "      <td>0.0</td>\n",
       "      <td>3</td>\n",
       "      <td>...</td>\n",
       "      <td>2190.0</td>\n",
       "      <td>9600.0</td>\n",
       "      <td>2015-04-27</td>\n",
       "      <td>8575.0</td>\n",
       "      <td>100.478469</td>\n",
       "      <td>True</td>\n",
       "      <td>2015</td>\n",
       "      <td>377588.168704</td>\n",
       "      <td>146300.0</td>\n",
       "      <td>21288.168704</td>\n",
       "    </tr>\n",
       "    <tr>\n",
       "      <th>7190</th>\n",
       "      <td>159075.0</td>\n",
       "      <td>7812800515</td>\n",
       "      <td>4.0</td>\n",
       "      <td>1.50</td>\n",
       "      <td>1580.0</td>\n",
       "      <td>6200.0</td>\n",
       "      <td>1.0</td>\n",
       "      <td>0</td>\n",
       "      <td>0.0</td>\n",
       "      <td>3</td>\n",
       "      <td>...</td>\n",
       "      <td>1320.0</td>\n",
       "      <td>6499.0</td>\n",
       "      <td>2014-10-25</td>\n",
       "      <td>7780.0</td>\n",
       "      <td>100.680380</td>\n",
       "      <td>True</td>\n",
       "      <td>2014</td>\n",
       "      <td>285449.428972</td>\n",
       "      <td>110600.0</td>\n",
       "      <td>15774.428972</td>\n",
       "    </tr>\n",
       "    <tr>\n",
       "      <th>7989</th>\n",
       "      <td>270000.0</td>\n",
       "      <td>2144800117</td>\n",
       "      <td>4.0</td>\n",
       "      <td>2.25</td>\n",
       "      <td>2600.0</td>\n",
       "      <td>9900.0</td>\n",
       "      <td>1.0</td>\n",
       "      <td>0</td>\n",
       "      <td>0.0</td>\n",
       "      <td>3</td>\n",
       "      <td>...</td>\n",
       "      <td>1770.0</td>\n",
       "      <td>11250.0</td>\n",
       "      <td>2014-06-26</td>\n",
       "      <td>12500.0</td>\n",
       "      <td>103.846154</td>\n",
       "      <td>True</td>\n",
       "      <td>2014</td>\n",
       "      <td>469726.908435</td>\n",
       "      <td>182000.0</td>\n",
       "      <td>17726.908435</td>\n",
       "    </tr>\n",
       "    <tr>\n",
       "      <th>8214</th>\n",
       "      <td>292050.0</td>\n",
       "      <td>5476800069</td>\n",
       "      <td>5.0</td>\n",
       "      <td>3.00</td>\n",
       "      <td>2840.0</td>\n",
       "      <td>7199.0</td>\n",
       "      <td>1.0</td>\n",
       "      <td>1</td>\n",
       "      <td>0.0</td>\n",
       "      <td>3</td>\n",
       "      <td>...</td>\n",
       "      <td>2210.0</td>\n",
       "      <td>10800.0</td>\n",
       "      <td>2014-05-27</td>\n",
       "      <td>10039.0</td>\n",
       "      <td>102.834507</td>\n",
       "      <td>True</td>\n",
       "      <td>2014</td>\n",
       "      <td>513086.315368</td>\n",
       "      <td>198800.0</td>\n",
       "      <td>22236.315368</td>\n",
       "    </tr>\n",
       "    <tr>\n",
       "      <th>8684</th>\n",
       "      <td>95000.0</td>\n",
       "      <td>6198400218</td>\n",
       "      <td>2.0</td>\n",
       "      <td>1.00</td>\n",
       "      <td>1070.0</td>\n",
       "      <td>20450.0</td>\n",
       "      <td>1.0</td>\n",
       "      <td>0</td>\n",
       "      <td>0.0</td>\n",
       "      <td>2</td>\n",
       "      <td>...</td>\n",
       "      <td>1360.0</td>\n",
       "      <td>15581.0</td>\n",
       "      <td>2014-09-19</td>\n",
       "      <td>21520.0</td>\n",
       "      <td>88.785047</td>\n",
       "      <td>True</td>\n",
       "      <td>2014</td>\n",
       "      <td>185025.015635</td>\n",
       "      <td>74900.0</td>\n",
       "      <td>15125.015635</td>\n",
       "    </tr>\n",
       "    <tr>\n",
       "      <th>9645</th>\n",
       "      <td>160000.0</td>\n",
       "      <td>9133600135</td>\n",
       "      <td>4.0</td>\n",
       "      <td>2.25</td>\n",
       "      <td>1800.0</td>\n",
       "      <td>14722.0</td>\n",
       "      <td>1.0</td>\n",
       "      <td>0</td>\n",
       "      <td>0.0</td>\n",
       "      <td>3</td>\n",
       "      <td>...</td>\n",
       "      <td>2400.0</td>\n",
       "      <td>10000.0</td>\n",
       "      <td>2015-02-11</td>\n",
       "      <td>16522.0</td>\n",
       "      <td>88.888889</td>\n",
       "      <td>True</td>\n",
       "      <td>2015</td>\n",
       "      <td>313821.681068</td>\n",
       "      <td>126000.0</td>\n",
       "      <td>27821.681068</td>\n",
       "    </tr>\n",
       "    <tr>\n",
       "      <th>10320</th>\n",
       "      <td>205000.0</td>\n",
       "      <td>1623049133</td>\n",
       "      <td>4.0</td>\n",
       "      <td>2.00</td>\n",
       "      <td>2200.0</td>\n",
       "      <td>13320.0</td>\n",
       "      <td>1.0</td>\n",
       "      <td>0</td>\n",
       "      <td>0.0</td>\n",
       "      <td>3</td>\n",
       "      <td>...</td>\n",
       "      <td>1330.0</td>\n",
       "      <td>6099.0</td>\n",
       "      <td>2014-07-29</td>\n",
       "      <td>15520.0</td>\n",
       "      <td>93.181818</td>\n",
       "      <td>True</td>\n",
       "      <td>2014</td>\n",
       "      <td>373516.483516</td>\n",
       "      <td>154000.0</td>\n",
       "      <td>14516.483516</td>\n",
       "    </tr>\n",
       "    <tr>\n",
       "      <th>10835</th>\n",
       "      <td>150000.0</td>\n",
       "      <td>2976800749</td>\n",
       "      <td>4.0</td>\n",
       "      <td>2.00</td>\n",
       "      <td>1460.0</td>\n",
       "      <td>7254.0</td>\n",
       "      <td>1.0</td>\n",
       "      <td>0</td>\n",
       "      <td>0.0</td>\n",
       "      <td>3</td>\n",
       "      <td>...</td>\n",
       "      <td>1460.0</td>\n",
       "      <td>7236.0</td>\n",
       "      <td>2014-10-31</td>\n",
       "      <td>8714.0</td>\n",
       "      <td>102.739726</td>\n",
       "      <td>True</td>\n",
       "      <td>2014</td>\n",
       "      <td>263769.725506</td>\n",
       "      <td>102200.0</td>\n",
       "      <td>11569.725506</td>\n",
       "    </tr>\n",
       "    <tr>\n",
       "      <th>12642</th>\n",
       "      <td>195000.0</td>\n",
       "      <td>6121800050</td>\n",
       "      <td>4.0</td>\n",
       "      <td>1.50</td>\n",
       "      <td>2170.0</td>\n",
       "      <td>9948.0</td>\n",
       "      <td>2.0</td>\n",
       "      <td>0</td>\n",
       "      <td>0.0</td>\n",
       "      <td>3</td>\n",
       "      <td>...</td>\n",
       "      <td>1500.0</td>\n",
       "      <td>9750.0</td>\n",
       "      <td>2014-10-29</td>\n",
       "      <td>12118.0</td>\n",
       "      <td>89.861751</td>\n",
       "      <td>True</td>\n",
       "      <td>2014</td>\n",
       "      <td>381511.917234</td>\n",
       "      <td>151900.0</td>\n",
       "      <td>34611.917234</td>\n",
       "    </tr>\n",
       "    <tr>\n",
       "      <th>12746</th>\n",
       "      <td>180000.0</td>\n",
       "      <td>2560801222</td>\n",
       "      <td>3.0</td>\n",
       "      <td>2.25</td>\n",
       "      <td>1990.0</td>\n",
       "      <td>6350.0</td>\n",
       "      <td>2.0</td>\n",
       "      <td>1</td>\n",
       "      <td>0.0</td>\n",
       "      <td>3</td>\n",
       "      <td>...</td>\n",
       "      <td>1220.0</td>\n",
       "      <td>6250.0</td>\n",
       "      <td>2014-06-18</td>\n",
       "      <td>8340.0</td>\n",
       "      <td>90.452261</td>\n",
       "      <td>True</td>\n",
       "      <td>2014</td>\n",
       "      <td>344775.042111</td>\n",
       "      <td>139300.0</td>\n",
       "      <td>25475.042111</td>\n",
       "    </tr>\n",
       "    <tr>\n",
       "      <th>15682</th>\n",
       "      <td>235000.0</td>\n",
       "      <td>8643200061</td>\n",
       "      <td>5.0</td>\n",
       "      <td>2.50</td>\n",
       "      <td>2500.0</td>\n",
       "      <td>9583.0</td>\n",
       "      <td>1.0</td>\n",
       "      <td>0</td>\n",
       "      <td>0.0</td>\n",
       "      <td>3</td>\n",
       "      <td>...</td>\n",
       "      <td>2120.0</td>\n",
       "      <td>19352.0</td>\n",
       "      <td>2014-06-26</td>\n",
       "      <td>12083.0</td>\n",
       "      <td>94.000000</td>\n",
       "      <td>True</td>\n",
       "      <td>2014</td>\n",
       "      <td>433134.475014</td>\n",
       "      <td>175000.0</td>\n",
       "      <td>23134.475014</td>\n",
       "    </tr>\n",
       "    <tr>\n",
       "      <th>16390</th>\n",
       "      <td>279000.0</td>\n",
       "      <td>1123049232</td>\n",
       "      <td>5.0</td>\n",
       "      <td>2.50</td>\n",
       "      <td>2690.0</td>\n",
       "      <td>5557.0</td>\n",
       "      <td>2.0</td>\n",
       "      <td>0</td>\n",
       "      <td>0.0</td>\n",
       "      <td>3</td>\n",
       "      <td>...</td>\n",
       "      <td>2090.0</td>\n",
       "      <td>10500.0</td>\n",
       "      <td>2014-06-06</td>\n",
       "      <td>8247.0</td>\n",
       "      <td>103.717472</td>\n",
       "      <td>True</td>\n",
       "      <td>2014</td>\n",
       "      <td>485986.686035</td>\n",
       "      <td>188300.0</td>\n",
       "      <td>18686.686035</td>\n",
       "    </tr>\n",
       "  </tbody>\n",
       "</table>\n",
       "<p>17 rows × 28 columns</p>\n",
       "</div>"
      ],
      "text/plain": [
       "          price          id  bedrooms  bathrooms  sqft_living  sqft_lot  \\\n",
       "1540   207000.0  2143700830       4.0       2.50       2100.0   19680.0   \n",
       "1802   150000.0  4058802105       3.0       1.00       1450.0    6776.0   \n",
       "1870   210000.0   522049104       5.0       1.75       2340.0    9148.0   \n",
       "2290   199000.0  3352401981       4.0       2.00       2030.0    8120.0   \n",
       "6521   200000.0   257000037       3.0       1.00       2120.0   31564.0   \n",
       "6586   210000.0  3348401095       4.0       1.75       2090.0    6485.0   \n",
       "7190   159075.0  7812800515       4.0       1.50       1580.0    6200.0   \n",
       "7989   270000.0  2144800117       4.0       2.25       2600.0    9900.0   \n",
       "8214   292050.0  5476800069       5.0       3.00       2840.0    7199.0   \n",
       "8684    95000.0  6198400218       2.0       1.00       1070.0   20450.0   \n",
       "9645   160000.0  9133600135       4.0       2.25       1800.0   14722.0   \n",
       "10320  205000.0  1623049133       4.0       2.00       2200.0   13320.0   \n",
       "10835  150000.0  2976800749       4.0       2.00       1460.0    7254.0   \n",
       "12642  195000.0  6121800050       4.0       1.50       2170.0    9948.0   \n",
       "12746  180000.0  2560801222       3.0       2.25       1990.0    6350.0   \n",
       "15682  235000.0  8643200061       5.0       2.50       2500.0    9583.0   \n",
       "16390  279000.0  1123049232       5.0       2.50       2690.0    5557.0   \n",
       "\n",
       "       floors waterfront  view  condition  ...  sqft_living15  sqft_lot15  \\\n",
       "1540      1.5          0   0.0          3  ...         1340.0     12300.0   \n",
       "1802      1.0          0   0.0          3  ...         1680.0      7200.0   \n",
       "1870      2.0          1   0.0          3  ...         1390.0     10019.0   \n",
       "2290      2.0          0   0.0          3  ...         1520.0      9440.0   \n",
       "6521      1.0          0   0.0          3  ...         1790.0     11571.0   \n",
       "6586      1.0          0   0.0          3  ...         2190.0      9600.0   \n",
       "7190      1.0          0   0.0          3  ...         1320.0      6499.0   \n",
       "7989      1.0          0   0.0          3  ...         1770.0     11250.0   \n",
       "8214      1.0          1   0.0          3  ...         2210.0     10800.0   \n",
       "8684      1.0          0   0.0          2  ...         1360.0     15581.0   \n",
       "9645      1.0          0   0.0          3  ...         2400.0     10000.0   \n",
       "10320     1.0          0   0.0          3  ...         1330.0      6099.0   \n",
       "10835     1.0          0   0.0          3  ...         1460.0      7236.0   \n",
       "12642     2.0          0   0.0          3  ...         1500.0      9750.0   \n",
       "12746     2.0          1   0.0          3  ...         1220.0      6250.0   \n",
       "15682     1.0          0   0.0          3  ...         2120.0     19352.0   \n",
       "16390     2.0          0   0.0          3  ...         2090.0     10500.0   \n",
       "\n",
       "             date  tot_sqft  price_per_sqft poor_neighborhood  year_sold  \\\n",
       "1540   2014-10-06   21780.0       98.571429              True       2014   \n",
       "1802   2014-09-04    8226.0      103.448276              True       2014   \n",
       "1870   2014-07-29   11488.0       89.743590              True       2014   \n",
       "2290   2014-05-21   10150.0       98.029557              True       2014   \n",
       "6521   2014-12-29   33684.0       94.339623              True       2014   \n",
       "6586   2015-04-27    8575.0      100.478469              True       2015   \n",
       "7190   2014-10-25    7780.0      100.680380              True       2014   \n",
       "7989   2014-06-26   12500.0      103.846154              True       2014   \n",
       "8214   2014-05-27   10039.0      102.834507              True       2014   \n",
       "8684   2014-09-19   21520.0       88.785047              True       2014   \n",
       "9645   2015-02-11   16522.0       88.888889              True       2015   \n",
       "10320  2014-07-29   15520.0       93.181818              True       2014   \n",
       "10835  2014-10-31    8714.0      102.739726              True       2014   \n",
       "12642  2014-10-29   12118.0       89.861751              True       2014   \n",
       "12746  2014-06-18    8340.0       90.452261              True       2014   \n",
       "15682  2014-06-26   12083.0       94.000000              True       2014   \n",
       "16390  2014-06-06    8247.0      103.717472              True       2014   \n",
       "\n",
       "       est_resale_price  renovation_cost  expected_profit  \n",
       "1540      366125.294580         147000.0     12125.294580  \n",
       "1802      261963.083550         101500.0     10463.083550  \n",
       "1870      405413.868613         163800.0     31613.868613  \n",
       "2290      366748.316971         142100.0     25648.316971  \n",
       "6521      359934.065934         148400.0     11534.065934  \n",
       "6586      377588.168704         146300.0     21288.168704  \n",
       "7190      285449.428972         110600.0     15774.428972  \n",
       "7989      469726.908435         182000.0     17726.908435  \n",
       "8214      513086.315368         198800.0     22236.315368  \n",
       "8684      185025.015635          74900.0     15125.015635  \n",
       "9645      313821.681068         126000.0     27821.681068  \n",
       "10320     373516.483516         154000.0     14516.483516  \n",
       "10835     263769.725506         102200.0     11569.725506  \n",
       "12642     381511.917234         151900.0     34611.917234  \n",
       "12746     344775.042111         139300.0     25475.042111  \n",
       "15682     433134.475014         175000.0     23134.475014  \n",
       "16390     485986.686035         188300.0     18686.686035  \n",
       "\n",
       "[17 rows x 28 columns]"
      ]
     },
     "execution_count": 19,
     "metadata": {},
     "output_type": "execute_result"
    }
   ],
   "source": [
    "# Add a small profit requirement\n",
    "min_profit = 10000  # set threshold\n",
    "candidates_2 = candidates[candidates['expected_profit'] >= min_profit]\n",
    "candidates_2"
   ]
  },
  {
   "cell_type": "markdown",
   "id": "d7372544",
   "metadata": {},
   "source": []
  },
  {
   "cell_type": "code",
   "execution_count": 20,
   "id": "ead5fb60",
   "metadata": {},
   "outputs": [],
   "source": [
    "profit_by_zip = candidates_2.groupby('zipcode')['expected_profit'].mean().reset_index()\n",
    "\n",
    "# Sort by profit if desired\n",
    "profit_by_zip = profit_by_zip.sort_values('expected_profit', ascending=False)\n"
   ]
  },
  {
   "cell_type": "code",
   "execution_count": 21,
   "id": "a82d8a0b",
   "metadata": {},
   "outputs": [
    {
     "data": {
      "image/png": "[encoded data removed]",
      "text/plain": [
       "<Figure size 1200x600 with 1 Axes>"
      ]
     },
     "metadata": {},
     "output_type": "display_data"
    }
   ],
   "source": [
    "plt.figure(figsize=(12, 6))\n",
    "sns.barplot(data=profit_by_zip, x='zipcode', y='expected_profit')\n",
    "plt.title('Average Expected Profit by ZIP Code')\n",
    "plt.ylabel('Expected Profit ($)')\n",
    "plt.xlabel('ZIP Code')\n",
    "plt.xticks(rotation=45)\n",
    "plt.tight_layout()\n",
    "plt.show()"
   ]
  },
  {
   "cell_type": "code",
   "execution_count": null,
   "id": "1a0e96e8",
   "metadata": {},
   "outputs": [
    {
     "data": {
      "application/vnd.plotly.v1+json": {
       "config": {
        "plotlyServerURL": "https://plot.ly"
       },
       "data": [
        {
         "customdata": [
          [
           "98055",
           207000,
           12125.294579732872
          ],
          [
           "98178",
           150000,
           10463.08355039073
          ],
          [
           "98198",
           210000,
           31613.86861313862
          ],
          [
           "98178",
           199000,
           25648.31697054702
          ],
          [
           "98168",
           200000,
           11534.065934065904
          ],
          [
           "98178",
           210000,
           21288.168703666597
          ],
          [
           "98178",
           159075,
           15774.428972149908
          ],
          [
           "98178",
           270000,
           17726.908435183344
          ],
          [
           "98178",
           292050,
           22236.315367661824
          ],
          [
           "98058",
           95000,
           15125.015634771727
          ],
          [
           "98055",
           160000,
           27821.68106834247
          ],
          [
           "98168",
           205000,
           14516.48351648351
          ],
          [
           "98178",
           150000,
           11569.72550591064
          ],
          [
           "98148",
           195000,
           34611.91723415401
          ],
          [
           "98198",
           180000,
           25475.042111173447
          ],
          [
           "98198",
           235000,
           23134.475014036987
          ],
          [
           "98178",
           279000,
           18686.686034862767
          ]
         ],
         "hovertemplate": "sqft_living=%{marker.size}<br>lat=%{lat}<br>long=%{lon}<br>zipcode=%{customdata[0]}<br>price=%{customdata[1]}<br>expected_profit=%{marker.color}<extra></extra>",
         "lat": {
          "bdata": "MEymCka9R0DGbTSAt8BHQGfV52ortkdAq8/VVuy/R0DlYaHWNL9HQKyt2F92v0dAumsJ+aC/R0C8lpAPer5HQEa28/3UwEdAnYAmwoa3R0ADCYofY75HQCGwcmiRvUdAxm00gLfAR0B0JJf/kLZHQP5D+u3rsEdANIC3QIKyR0CQoPgx5r5HQA==",
          "dtype": "f8"
         },
         "legendgroup": "",
         "lon": {
          "bdata": "H4XrUbiOXsBWDi2ynY9ewNv5fmq8lF7AYhBYObSQXsBQjZduEpNewClcj8L1kF7Aj8L1KFyPXsC6SQwCK49ewJqZmZmZkV7AwcqhRbaLXsCDwMqhRY5ewKabxCCwkl7Ax0s3iUGQXsB3vp8aL5VewE5iEFg5lF7AhxbZzveTXsDVeOkmMZBewA==",
          "dtype": "f8"
         },
         "marker": {
          "color": {
           "bdata": "YOfJtKWux0Dgecexim/EQNCPW5d3395AUNU+SRQM2UBgCIdwCIfGQLB2CswKytRAYDWP6DbPzkDAUs0juk/RQHDY+y4Ut9VAoPhRAIKKzUBQrJ+WayvbQOA93uM9WsxAoK9g3dyYxkDIcPtZfebgQDAQ87HC4NhAgEahZp6X1kDgxP7nqz/SQA==",
           "dtype": "f8"
          },
          "coloraxis": "coloraxis",
          "size": {
           "bdata": "AAAAAABooEAAAAAAAKiWQAAAAAAASKJAAAAAAAC4n0AAAAAAAJCgQAAAAAAAVKBAAAAAAACwmEAAAAAAAFCkQAAAAAAAMKZAAAAAAAC4kEAAAAAAACCcQAAAAAAAMKFAAAAAAADQlkAAAAAAAPSgQAAAAAAAGJ9AAAAAAACIo0AAAAAAAASlQA==",
           "dtype": "f8"
          },
          "sizemode": "area",
          "sizeref": 7.1
         },
         "mode": "markers",
         "name": "",
         "showlegend": false,
         "subplot": "mapbox",
         "type": "scattermapbox"
        }
       ],
       "layout": {
        "coloraxis": {
         "colorbar": {
          "title": {
           "text": "expected_profit"
          }
         },
         "colorscale": [
          [
           0,
           "#0d0887"
          ],
          [
           0.1111111111111111,
           "#46039f"
          ],
          [
           0.2222222222222222,
           "#7201a8"
          ],
          [
           0.3333333333333333,
           "#9c179e"
          ],
          [
           0.4444444444444444,
           "#bd3786"
          ],
          [
           0.5555555555555556,
           "#d8576b"
          ],
          [
           0.6666666666666666,
           "#ed7953"
          ],
          [
           0.7777777777777778,
           "#fb9f3a"
          ],
          [
           0.8888888888888888,
           "#fdca26"
          ],
          [
           1,
           "#f0f921"
          ]
         ]
        },
        "legend": {
         "itemsizing": "constant",
         "tracegroupgap": 0
        },
        "mapbox": {
         "center": {
          "lat": 47.470029411764706,
          "lon": -122.2669411764706
         },
         "domain": {
          "x": [
           0,
           1
          ],
          "y": [
           0,
           1
          ]
         },
         "style": "carto-positron",
         "zoom": 9
        },
        "template": {
         "data": {
          "bar": [
           {
            "error_x": {
             "color": "#2a3f5f"
            },
            "error_y": {
             "color": "#2a3f5f"
            },
            "marker": {
             "line": {
              "color": "#E5ECF6",
              "width": 0.5
             },
             "pattern": {
              "fillmode": "overlay",
              "size": 10,
              "solidity": 0.2
             }
            },
            "type": "bar"
           }
          ],
          "barpolar": [
           {
            "marker": {
             "line": {
              "color": "#E5ECF6",
              "width": 0.5
             },
             "pattern": {
              "fillmode": "overlay",
              "size": 10,
              "solidity": 0.2
             }
            },
            "type": "barpolar"
           }
          ],
          "carpet": [
           {
            "aaxis": {
             "endlinecolor": "#2a3f5f",
             "gridcolor": "white",
             "linecolor": "white",
             "minorgridcolor": "white",
             "startlinecolor": "#2a3f5f"
            },
            "baxis": {
             "endlinecolor": "#2a3f5f",
             "gridcolor": "white",
             "linecolor": "white",
             "minorgridcolor": "white",
             "startlinecolor": "#2a3f5f"
            },
            "type": "carpet"
           }
          ],
          "choropleth": [
           {
            "colorbar": {
             "outlinewidth": 0,
             "ticks": ""
            },
            "type": "choropleth"
           }
          ],
          "contour": [
           {
            "colorbar": {
             "outlinewidth": 0,
             "ticks": ""
            },
            "colorscale": [
             [
              0,
              "#0d0887"
             ],
             [
              0.1111111111111111,
              "#46039f"
             ],
             [
              0.2222222222222222,
              "#7201a8"
             ],
             [
              0.3333333333333333,
              "#9c179e"
             ],
             [
              0.4444444444444444,
              "#bd3786"
             ],
             [
              0.5555555555555556,
              "#d8576b"
             ],
             [
              0.6666666666666666,
              "#ed7953"
             ],
             [
              0.7777777777777778,
              "#fb9f3a"
             ],
             [
              0.8888888888888888,
              "#fdca26"
             ],
             [
              1,
              "#f0f921"
             ]
            ],
            "type": "contour"
           }
          ],
          "contourcarpet": [
           {
            "colorbar": {
             "outlinewidth": 0,
             "ticks": ""
            },
            "type": "contourcarpet"
           }
          ],
          "heatmap": [
           {
            "colorbar": {
             "outlinewidth": 0,
             "ticks": ""
            },
            "colorscale": [
             [
              0,
              "#0d0887"
             ],
             [
              0.1111111111111111,
              "#46039f"
             ],
             [
              0.2222222222222222,
              "#7201a8"
             ],
             [
              0.3333333333333333,
              "#9c179e"
             ],
             [
              0.4444444444444444,
              "#bd3786"
             ],
             [
              0.5555555555555556,
              "#d8576b"
             ],
             [
              0.6666666666666666,
              "#ed7953"
             ],
             [
              0.7777777777777778,
              "#fb9f3a"
             ],
             [
              0.8888888888888888,
              "#fdca26"
             ],
             [
              1,
              "#f0f921"
             ]
            ],
            "type": "heatmap"
           }
          ],
          "histogram": [
           {
            "marker": {
             "pattern": {
              "fillmode": "overlay",
              "size": 10,
              "solidity": 0.2
             }
            },
            "type": "histogram"
           }
          ],
          "histogram2d": [
           {
            "colorbar": {
             "outlinewidth": 0,
             "ticks": ""
            },
            "colorscale": [
             [
              0,
              "#0d0887"
             ],
             [
              0.1111111111111111,
              "#46039f"
             ],
             [
              0.2222222222222222,
              "#7201a8"
             ],
             [
              0.3333333333333333,
              "#9c179e"
             ],
             [
              0.4444444444444444,
              "#bd3786"
             ],
             [
              0.5555555555555556,
              "#d8576b"
             ],
             [
              0.6666666666666666,
              "#ed7953"
             ],
             [
              0.7777777777777778,
              "#fb9f3a"
             ],
             [
              0.8888888888888888,
              "#fdca26"
             ],
             [
              1,
              "#f0f921"
             ]
            ],
            "type": "histogram2d"
           }
          ],
          "histogram2dcontour": [
           {
            "colorbar": {
             "outlinewidth": 0,
             "ticks": ""
            },
            "colorscale": [
             [
              0,
              "#0d0887"
             ],
             [
              0.1111111111111111,
              "#46039f"
             ],
             [
              0.2222222222222222,
              "#7201a8"
             ],
             [
              0.3333333333333333,
              "#9c179e"
             ],
             [
              0.4444444444444444,
              "#bd3786"
             ],
             [
              0.5555555555555556,
              "#d8576b"
             ],
             [
              0.6666666666666666,
              "#ed7953"
             ],
             [
              0.7777777777777778,
              "#fb9f3a"
             ],
             [
              0.8888888888888888,
              "#fdca26"
             ],
             [
              1,
              "#f0f921"
             ]
            ],
            "type": "histogram2dcontour"
           }
          ],
          "mesh3d": [
           {
            "colorbar": {
             "outlinewidth": 0,
             "ticks": ""
            },
            "type": "mesh3d"
           }
          ],
          "parcoords": [
           {
            "line": {
             "colorbar": {
              "outlinewidth": 0,
              "ticks": ""
             }
            },
            "type": "parcoords"
           }
          ],
          "pie": [
           {
            "automargin": true,
            "type": "pie"
           }
          ],
          "scatter": [
           {
            "fillpattern": {
             "fillmode": "overlay",
             "size": 10,
             "solidity": 0.2
            },
            "type": "scatter"
           }
          ],
          "scatter3d": [
           {
            "line": {
             "colorbar": {
              "outlinewidth": 0,
              "ticks": ""
             }
            },
            "marker": {
             "colorbar": {
              "outlinewidth": 0,
              "ticks": ""
             }
            },
            "type": "scatter3d"
           }
          ],
          "scattercarpet": [
           {
            "marker": {
             "colorbar": {
              "outlinewidth": 0,
              "ticks": ""
             }
            },
            "type": "scattercarpet"
           }
          ],
          "scattergeo": [
           {
            "marker": {
             "colorbar": {
              "outlinewidth": 0,
              "ticks": ""
             }
            },
            "type": "scattergeo"
           }
          ],
          "scattergl": [
           {
            "marker": {
             "colorbar": {
              "outlinewidth": 0,
              "ticks": ""
             }
            },
            "type": "scattergl"
           }
          ],
          "scattermap": [
           {
            "marker": {
             "colorbar": {
              "outlinewidth": 0,
              "ticks": ""
             }
            },
            "type": "scattermap"
           }
          ],
          "scattermapbox": [
           {
            "marker": {
             "colorbar": {
              "outlinewidth": 0,
              "ticks": ""
             }
            },
            "type": "scattermapbox"
           }
          ],
          "scatterpolar": [
           {
            "marker": {
             "colorbar": {
              "outlinewidth": 0,
              "ticks": ""
             }
            },
            "type": "scatterpolar"
           }
          ],
          "scatterpolargl": [
           {
            "marker": {
             "colorbar": {
              "outlinewidth": 0,
              "ticks": ""
             }
            },
            "type": "scatterpolargl"
           }
          ],
          "scatterternary": [
           {
            "marker": {
             "colorbar": {
              "outlinewidth": 0,
              "ticks": ""
             }
            },
            "type": "scatterternary"
           }
          ],
          "surface": [
           {
            "colorbar": {
             "outlinewidth": 0,
             "ticks": ""
            },
            "colorscale": [
             [
              0,
              "#0d0887"
             ],
             [
              0.1111111111111111,
              "#46039f"
             ],
             [
              0.2222222222222222,
              "#7201a8"
             ],
             [
              0.3333333333333333,
              "#9c179e"
             ],
             [
              0.4444444444444444,
              "#bd3786"
             ],
             [
              0.5555555555555556,
              "#d8576b"
             ],
             [
              0.6666666666666666,
              "#ed7953"
             ],
             [
              0.7777777777777778,
              "#fb9f3a"
             ],
             [
              0.8888888888888888,
              "#fdca26"
             ],
             [
              1,
              "#f0f921"
             ]
            ],
            "type": "surface"
           }
          ],
          "table": [
           {
            "cells": {
             "fill": {
              "color": "#EBF0F8"
             },
             "line": {
              "color": "white"
             }
            },
            "header": {
             "fill": {
              "color": "#C8D4E3"
             },
             "line": {
              "color": "white"
             }
            },
            "type": "table"
           }
          ]
         },
         "layout": {
          "annotationdefaults": {
           "arrowcolor": "#2a3f5f",
           "arrowhead": 0,
           "arrowwidth": 1
          },
          "autotypenumbers": "strict",
          "coloraxis": {
           "colorbar": {
            "outlinewidth": 0,
            "ticks": ""
           }
          },
          "colorscale": {
           "diverging": [
            [
             0,
             "#8e0152"
            ],
            [
             0.1,
             "#c51b7d"
            ],
            [
             0.2,
             "#de77ae"
            ],
            [
             0.3,
             "#f1b6da"
            ],
            [
             0.4,
             "#fde0ef"
            ],
            [
             0.5,
             "#f7f7f7"
            ],
            [
             0.6,
             "#e6f5d0"
            ],
            [
             0.7,
             "#b8e186"
            ],
            [
             0.8,
             "#7fbc41"
            ],
            [
             0.9,
             "#4d9221"
            ],
            [
             1,
             "#276419"
            ]
           ],
           "sequential": [
            [
             0,
             "#0d0887"
            ],
            [
             0.1111111111111111,
             "#46039f"
            ],
            [
             0.2222222222222222,
             "#7201a8"
            ],
            [
             0.3333333333333333,
             "#9c179e"
            ],
            [
             0.4444444444444444,
             "#bd3786"
            ],
            [
             0.5555555555555556,
             "#d8576b"
            ],
            [
             0.6666666666666666,
             "#ed7953"
            ],
            [
             0.7777777777777778,
             "#fb9f3a"
            ],
            [
             0.8888888888888888,
             "#fdca26"
            ],
            [
             1,
             "#f0f921"
            ]
           ],
           "sequentialminus": [
            [
             0,
             "#0d0887"
            ],
            [
             0.1111111111111111,
             "#46039f"
            ],
            [
             0.2222222222222222,
             "#7201a8"
            ],
            [
             0.3333333333333333,
             "#9c179e"
            ],
            [
             0.4444444444444444,
             "#bd3786"
            ],
            [
             0.5555555555555556,
             "#d8576b"
            ],
            [
             0.6666666666666666,
             "#ed7953"
            ],
            [
             0.7777777777777778,
             "#fb9f3a"
            ],
            [
             0.8888888888888888,
             "#fdca26"
            ],
            [
             1,
             "#f0f921"
            ]
           ]
          },
          "colorway": [
           "#636efa",
           "#EF553B",
           "#00cc96",
           "#ab63fa",
           "#FFA15A",
           "#19d3f3",
           "#FF6692",
           "#B6E880",
           "#FF97FF",
           "#FECB52"
          ],
          "font": {
           "color": "#2a3f5f"
          },
          "geo": {
           "bgcolor": "white",
           "lakecolor": "white",
           "landcolor": "#E5ECF6",
           "showlakes": true,
           "showland": true,
           "subunitcolor": "white"
          },
          "hoverlabel": {
           "align": "left"
          },
          "hovermode": "closest",
          "mapbox": {
           "style": "light"
          },
          "paper_bgcolor": "white",
          "plot_bgcolor": "#E5ECF6",
          "polar": {
           "angularaxis": {
            "gridcolor": "white",
            "linecolor": "white",
            "ticks": ""
           },
           "bgcolor": "#E5ECF6",
           "radialaxis": {
            "gridcolor": "white",
            "linecolor": "white",
            "ticks": ""
           }
          },
          "scene": {
           "xaxis": {
            "backgroundcolor": "#E5ECF6",
            "gridcolor": "white",
            "gridwidth": 2,
            "linecolor": "white",
            "showbackground": true,
            "ticks": "",
            "zerolinecolor": "white"
           },
           "yaxis": {
            "backgroundcolor": "#E5ECF6",
            "gridcolor": "white",
            "gridwidth": 2,
            "linecolor": "white",
            "showbackground": true,
            "ticks": "",
            "zerolinecolor": "white"
           },
           "zaxis": {
            "backgroundcolor": "#E5ECF6",
            "gridcolor": "white",
            "gridwidth": 2,
            "linecolor": "white",
            "showbackground": true,
            "ticks": "",
            "zerolinecolor": "white"
           }
          },
          "shapedefaults": {
           "line": {
            "color": "#2a3f5f"
           }
          },
          "ternary": {
           "aaxis": {
            "gridcolor": "white",
            "linecolor": "white",
            "ticks": ""
           },
           "baxis": {
            "gridcolor": "white",
            "linecolor": "white",
            "ticks": ""
           },
           "bgcolor": "#E5ECF6",
           "caxis": {
            "gridcolor": "white",
            "linecolor": "white",
            "ticks": ""
           }
          },
          "title": {
           "x": 0.05
          },
          "xaxis": {
           "automargin": true,
           "gridcolor": "white",
           "linecolor": "white",
           "ticks": "",
           "title": {
            "standoff": 15
           },
           "zerolinecolor": "white",
           "zerolinewidth": 2
          },
          "yaxis": {
           "automargin": true,
           "gridcolor": "white",
           "linecolor": "white",
           "ticks": "",
           "title": {
            "standoff": 15
           },
           "zerolinecolor": "white",
           "zerolinewidth": 2
          }
         }
        },
        "title": {
         "text": "Investment Candidates by Location"
        }
       }
      }
     },
     "metadata": {},
     "output_type": "display_data"
    }
   ],
   "source": [
    "import plotly.express as px\n",
    "\n",
    "px.scatter_mapbox(candidates_2,\n",
    "    lat=\"lat\", lon=\"long\",\n",
    "    color=\"expected_profit\",\n",
    "    size=\"sqft_living\",\n",
    "    hover_data=[\"zipcode\", \"price\", \"expected_profit\"],\n",
    "    mapbox_style=\"carto-positron\", zoom=10,\n",
    "    title=\"Investment Candidates by Location\"\n",
    ")\n"
   ]
  },
  {
   "cell_type": "code",
   "execution_count": 23,
   "id": "2b263ea5",
   "metadata": {},
   "outputs": [
    {
     "data": {
      "text/plain": [
       "<Axes: xlabel='price', ylabel='est_resale_price'>"
      ]
     },
     "execution_count": 23,
     "metadata": {},
     "output_type": "execute_result"
    },
    {
     "data": {
      "image/png": "[encoded data removed]",
      "text/plain": [
       "<Figure size 640x480 with 1 Axes>"
      ]
     },
     "metadata": {},
     "output_type": "display_data"
    }
   ],
   "source": [
    "sns.scatterplot(data=candidates_2, x='price', y='est_resale_price', hue='zipcode')\n"
   ]
  },
  {
   "cell_type": "code",
   "execution_count": 24,
   "id": "79102de6",
   "metadata": {},
   "outputs": [
    {
     "data": {
      "text/plain": [
       "<Axes: xlabel='renovation_cost', ylabel='expected_profit'>"
      ]
     },
     "execution_count": 24,
     "metadata": {},
     "output_type": "execute_result"
    },
    {
     "data": {
      "image/png": "[encoded data removed]",
      "text/plain": [
       "<Figure size 640x480 with 1 Axes>"
      ]
     },
     "metadata": {},
     "output_type": "display_data"
    }
   ],
   "source": [
    "sns.scatterplot(data=candidates_2, x='renovation_cost', y='expected_profit', hue='zipcode')\n"
   ]
  },
  {
   "cell_type": "code",
   "execution_count": 25,
   "id": "7e800786",
   "metadata": {},
   "outputs": [
    {
     "data": {
      "text/plain": [
       "<Axes: >"
      ]
     },
     "execution_count": 25,
     "metadata": {},
     "output_type": "execute_result"
    },
    {
     "data": {
      "image/png": "[encoded data removed]",
      "text/plain": [
       "<Figure size 600x500 with 2 Axes>"
      ]
     },
     "metadata": {},
     "output_type": "display_data"
    }
   ],
   "source": [
    "plt.figure(figsize=(6,5),dpi=100)\n",
    "sns.heatmap(df_analysis[['zipcode','price_per_sqft','floors', 'waterfront','sqft_living', 'yr_built', 'yr_renovated','lat','long']].corr(), annot=True, fmt='.2f',cmap='coolwarm', vmin=-1,\n",
    "    vmax=1)"
   ]
  },
  {
   "cell_type": "code",
   "execution_count": 26,
   "id": "97993219",
   "metadata": {},
   "outputs": [
    {
     "ename": "NameError",
     "evalue": "name 'group_by_zipcode' is not defined",
     "output_type": "error",
     "traceback": [
      "\u001b[31m---------------------------------------------------------------------------\u001b[39m",
      "\u001b[31mNameError\u001b[39m                                 Traceback (most recent call last)",
      "\u001b[36mCell\u001b[39m\u001b[36m \u001b[39m\u001b[32mIn[26]\u001b[39m\u001b[32m, line 2\u001b[39m\n\u001b[32m      1\u001b[39m plt.figure(figsize=(\u001b[32m30\u001b[39m, \u001b[32m6\u001b[39m))\n\u001b[32m----> \u001b[39m\u001b[32m2\u001b[39m \u001b[43mgroup_by_zipcode\u001b[49m.plot(kind=\u001b[33m'\u001b[39m\u001b[33mbar\u001b[39m\u001b[33m'\u001b[39m)\n\u001b[32m      3\u001b[39m plt.ylabel(\u001b[33m'\u001b[39m\u001b[33mprice_per_sqft\u001b[39m\u001b[33m'\u001b[39m)\n\u001b[32m      4\u001b[39m \u001b[38;5;66;03m#plt.title('Average by Group')\u001b[39;00m\n",
      "\u001b[31mNameError\u001b[39m: name 'group_by_zipcode' is not defined"
     ]
    },
    {
     "data": {
      "text/plain": [
       "<Figure size 3000x600 with 0 Axes>"
      ]
     },
     "metadata": {},
     "output_type": "display_data"
    }
   ],
   "source": [
    "plt.figure(figsize=(30, 6))\n",
    "group_by_zipcode.plot(kind='bar')\n",
    "plt.ylabel('price_per_sqft')\n",
    "#plt.title('Average by Group')\n",
    "plt.show()\n",
    "\n"
   ]
  },
  {
   "cell_type": "markdown",
   "id": "b0e7e3d2",
   "metadata": {},
   "source": [
    "Assuming that the poor part of King county are the one where the price per sqft is than 40$/sqft, we can reduce"
   ]
  },
  {
   "cell_type": "code",
   "execution_count": null,
   "id": "977d30f3",
   "metadata": {},
   "outputs": [],
   "source": []
  },
  {
   "cell_type": "markdown",
   "id": "dcb7461b",
   "metadata": {},
   "source": []
  },
  {
   "cell_type": "code",
   "execution_count": null,
   "id": "e5bf0532",
   "metadata": {},
   "outputs": [],
   "source": [
    "import optbinning as op\n",
    "# data analysis stack\n",
    "import numpy as np\n",
    "import pandas as pd\n",
    "\n",
    "# data visualization stack\n",
    "import matplotlib.pyplot as plt\n",
    "%matplotlib inline\n",
    "import seaborn as sns\n",
    "sns.set_style('whitegrid')\n",
    "\n",
    "# statistics stack\n",
    "from scipy import stats\n",
    "\n",
    "# machine learning stack\n",
    "from sklearn.preprocessing import LabelEncoder\n",
    "from sklearn.metrics import silhouette_score\n",
    "\n",
    "# miscellaneous\n",
    "import warnings\n",
    "warnings.simplefilter('ignore')\n",
    "\n",
    "df=df_analysis.copy()\n",
    "\n",
    "numerical_features = [\n",
    "    'price_per_sqft','sqft_living'\n",
    "]\n",
    "\n",
    "\n",
    "categorical_features = [\n",
    "    'zipcode','waterfront'\n",
    "]"
   ]
  },
  {
   "cell_type": "code",
   "execution_count": null,
   "id": "bdb93113",
   "metadata": {},
   "outputs": [],
   "source": [
    "def cat_num_correlation(df_,cat_col,num_col):\n",
    "    \"\"\"\n",
    "    This function spits out a sensible correlation coefficient\n",
    "    between a categorical column and a numerical column of a dataframe.\n",
    "    The correlation is essentially the corrected Cramer's correlation statistic,\n",
    "    after the numerical data points have been transformed under optimal binning\n",
    "    \"\"\"\n",
    "    _df = df_.copy()\n",
    "    class_number = _df[cat_col].nunique()\n",
    "    binning = op.MulticlassOptimalBinning()\n",
    "    _df['binned_feature'] =binning.fit_transform(_df[num_col], _df[cat_col])\n",
    "    result = cat_cat_correlation(_df,cat_col,'binned_feature')\n",
    "    return round(result,3)"
   ]
  },
  {
   "cell_type": "code",
   "execution_count": null,
   "id": "9eaadbc7",
   "metadata": {},
   "outputs": [],
   "source": [
    "def cat_cat_correlation(df_,cat_col1,cat_col2):\n",
    "    \"\"\"\n",
    "    This function spits out Cramer's correlation statistic, with Bergsma-Wicher \n",
    "    correction, between two categorical columns of a dataframe \n",
    "    \"\"\"\n",
    "    crosstab = pd.crosstab(df_[cat_col1], df_[cat_col2])\n",
    "    chi_sqr = stats.chi2_contingency(crosstab)[0]\n",
    "    n = crosstab.sum().sum()\n",
    "    r,k = crosstab.shape\n",
    "    phi_sqr_corr = max(0, chi_sqr/n - ((k-1)*(r-1))/(n-1))    \n",
    "    r_corr = r - ((r-1)**2)/(n-1)\n",
    "    k_corr = k - ((k-1)**2)/(n-1)\n",
    "    \n",
    "    result = np.sqrt(phi_sqr_corr / min( (k_corr-1), (r_corr-1)))\n",
    "    return round(result,3)"
   ]
  },
  {
   "cell_type": "code",
   "execution_count": null,
   "id": "fd1a6afd",
   "metadata": {},
   "outputs": [
    {
     "data": {
      "image/png": "[encoded data removed]",
      "text/plain": [
       "<Figure size 500x400 with 2 Axes>"
      ]
     },
     "metadata": {},
     "output_type": "display_data"
    }
   ],
   "source": [
    "cat_num_corr_values = dict(\n",
    "    zip(\n",
    "        numerical_features,\n",
    "        [[cat_num_correlation(df,f1,f2) for f1 in categorical_features] for f2 in numerical_features]\n",
    "    )\n",
    ")\n",
    "\n",
    "plt.figure(figsize=(5,4),dpi=100)\n",
    "sns.heatmap(data=pd.DataFrame(data=cat_num_corr_values,index=categorical_features),\n",
    "            cmap='viridis',\n",
    "            linecolor='white',\n",
    "            linewidth=1,\n",
    "            annot=True,\n",
    "            vmin=0,\n",
    "            vmax=1\n",
    "           );"
   ]
  },
  {
   "cell_type": "code",
   "execution_count": null,
   "id": "54d5341e",
   "metadata": {},
   "outputs": [],
   "source": []
  }
 ],
 "metadata": {
  "kernelspec": {
   "display_name": ".venv",
   "language": "python",
   "name": "python3"
  },
  "language_info": {
   "codemirror_mode": {
    "name": "ipython",
    "version": 3
   },
   "file_extension": ".py",
   "mimetype": "text/x-python",
   "name": "python",
   "nbconvert_exporter": "python",
   "pygments_lexer": "ipython3",
   "version": "3.11.3"
  }
 },
 "nbformat": 4,
 "nbformat_minor": 5
}
