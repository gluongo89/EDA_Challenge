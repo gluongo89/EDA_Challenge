{
 "cells": [
  {
   "cell_type": "markdown",
   "id": "ea5f4206",
   "metadata": {},
   "source": [
    "In this notebook is reported the analysis step by step.\n",
    "\n",
    "Import the library necessary for the analysis and the data"
   ]
  },
  {
   "cell_type": "code",
   "execution_count": 961,
   "id": "1975a7f1",
   "metadata": {},
   "outputs": [
    {
     "data": {
      "text/html": [
       "<div>\n",
       "<style scoped>\n",
       "    .dataframe tbody tr th:only-of-type {\n",
       "        vertical-align: middle;\n",
       "    }\n",
       "\n",
       "    .dataframe tbody tr th {\n",
       "        vertical-align: top;\n",
       "    }\n",
       "\n",
       "    .dataframe thead th {\n",
       "        text-align: right;\n",
       "    }\n",
       "</style>\n",
       "<table border=\"1\" class=\"dataframe\">\n",
       "  <thead>\n",
       "    <tr style=\"text-align: right;\">\n",
       "      <th></th>\n",
       "      <th>price</th>\n",
       "      <th>id</th>\n",
       "      <th>bedrooms</th>\n",
       "      <th>bathrooms</th>\n",
       "      <th>sqft_living</th>\n",
       "      <th>sqft_lot</th>\n",
       "      <th>floors</th>\n",
       "      <th>waterfront</th>\n",
       "      <th>view</th>\n",
       "      <th>condition</th>\n",
       "      <th>...</th>\n",
       "      <th>sqft_above</th>\n",
       "      <th>sqft_basement</th>\n",
       "      <th>yr_built</th>\n",
       "      <th>yr_renovated</th>\n",
       "      <th>zipcode</th>\n",
       "      <th>lat</th>\n",
       "      <th>long</th>\n",
       "      <th>sqft_living15</th>\n",
       "      <th>sqft_lot15</th>\n",
       "      <th>date</th>\n",
       "    </tr>\n",
       "  </thead>\n",
       "  <tbody>\n",
       "    <tr>\n",
       "      <th>0</th>\n",
       "      <td>221900.0</td>\n",
       "      <td>7129300520</td>\n",
       "      <td>3.0</td>\n",
       "      <td>1.00</td>\n",
       "      <td>1180.0</td>\n",
       "      <td>5650.0</td>\n",
       "      <td>1.0</td>\n",
       "      <td>1</td>\n",
       "      <td>0.0</td>\n",
       "      <td>3</td>\n",
       "      <td>...</td>\n",
       "      <td>1180.0</td>\n",
       "      <td>0.0</td>\n",
       "      <td>1955</td>\n",
       "      <td>0</td>\n",
       "      <td>98178</td>\n",
       "      <td>47.5112</td>\n",
       "      <td>-122.257</td>\n",
       "      <td>1340.0</td>\n",
       "      <td>5650.0</td>\n",
       "      <td>2014-10-13</td>\n",
       "    </tr>\n",
       "    <tr>\n",
       "      <th>1</th>\n",
       "      <td>538000.0</td>\n",
       "      <td>6414100192</td>\n",
       "      <td>3.0</td>\n",
       "      <td>2.25</td>\n",
       "      <td>2570.0</td>\n",
       "      <td>7242.0</td>\n",
       "      <td>2.0</td>\n",
       "      <td>0</td>\n",
       "      <td>0.0</td>\n",
       "      <td>3</td>\n",
       "      <td>...</td>\n",
       "      <td>2170.0</td>\n",
       "      <td>400.0</td>\n",
       "      <td>1951</td>\n",
       "      <td>1991</td>\n",
       "      <td>98125</td>\n",
       "      <td>47.7210</td>\n",
       "      <td>-122.319</td>\n",
       "      <td>1690.0</td>\n",
       "      <td>7639.0</td>\n",
       "      <td>2014-12-09</td>\n",
       "    </tr>\n",
       "    <tr>\n",
       "      <th>2</th>\n",
       "      <td>604000.0</td>\n",
       "      <td>2487200875</td>\n",
       "      <td>4.0</td>\n",
       "      <td>3.00</td>\n",
       "      <td>1960.0</td>\n",
       "      <td>5000.0</td>\n",
       "      <td>1.0</td>\n",
       "      <td>0</td>\n",
       "      <td>0.0</td>\n",
       "      <td>5</td>\n",
       "      <td>...</td>\n",
       "      <td>1050.0</td>\n",
       "      <td>910.0</td>\n",
       "      <td>1965</td>\n",
       "      <td>0</td>\n",
       "      <td>98136</td>\n",
       "      <td>47.5208</td>\n",
       "      <td>-122.393</td>\n",
       "      <td>1360.0</td>\n",
       "      <td>5000.0</td>\n",
       "      <td>2014-12-09</td>\n",
       "    </tr>\n",
       "    <tr>\n",
       "      <th>3</th>\n",
       "      <td>510000.0</td>\n",
       "      <td>1954400510</td>\n",
       "      <td>3.0</td>\n",
       "      <td>2.00</td>\n",
       "      <td>1680.0</td>\n",
       "      <td>8080.0</td>\n",
       "      <td>1.0</td>\n",
       "      <td>0</td>\n",
       "      <td>0.0</td>\n",
       "      <td>3</td>\n",
       "      <td>...</td>\n",
       "      <td>1680.0</td>\n",
       "      <td>0.0</td>\n",
       "      <td>1987</td>\n",
       "      <td>0</td>\n",
       "      <td>98074</td>\n",
       "      <td>47.6168</td>\n",
       "      <td>-122.045</td>\n",
       "      <td>1800.0</td>\n",
       "      <td>7503.0</td>\n",
       "      <td>2015-02-18</td>\n",
       "    </tr>\n",
       "    <tr>\n",
       "      <th>4</th>\n",
       "      <td>1230000.0</td>\n",
       "      <td>7237550310</td>\n",
       "      <td>4.0</td>\n",
       "      <td>4.50</td>\n",
       "      <td>5420.0</td>\n",
       "      <td>101930.0</td>\n",
       "      <td>1.0</td>\n",
       "      <td>0</td>\n",
       "      <td>0.0</td>\n",
       "      <td>3</td>\n",
       "      <td>...</td>\n",
       "      <td>3890.0</td>\n",
       "      <td>1530.0</td>\n",
       "      <td>2001</td>\n",
       "      <td>0</td>\n",
       "      <td>98053</td>\n",
       "      <td>47.6561</td>\n",
       "      <td>-122.005</td>\n",
       "      <td>4760.0</td>\n",
       "      <td>101930.0</td>\n",
       "      <td>2014-05-12</td>\n",
       "    </tr>\n",
       "    <tr>\n",
       "      <th>...</th>\n",
       "      <td>...</td>\n",
       "      <td>...</td>\n",
       "      <td>...</td>\n",
       "      <td>...</td>\n",
       "      <td>...</td>\n",
       "      <td>...</td>\n",
       "      <td>...</td>\n",
       "      <td>...</td>\n",
       "      <td>...</td>\n",
       "      <td>...</td>\n",
       "      <td>...</td>\n",
       "      <td>...</td>\n",
       "      <td>...</td>\n",
       "      <td>...</td>\n",
       "      <td>...</td>\n",
       "      <td>...</td>\n",
       "      <td>...</td>\n",
       "      <td>...</td>\n",
       "      <td>...</td>\n",
       "      <td>...</td>\n",
       "      <td>...</td>\n",
       "    </tr>\n",
       "    <tr>\n",
       "      <th>17693</th>\n",
       "      <td>360000.0</td>\n",
       "      <td>263000018</td>\n",
       "      <td>3.0</td>\n",
       "      <td>2.50</td>\n",
       "      <td>1530.0</td>\n",
       "      <td>1131.0</td>\n",
       "      <td>3.0</td>\n",
       "      <td>0</td>\n",
       "      <td>0.0</td>\n",
       "      <td>3</td>\n",
       "      <td>...</td>\n",
       "      <td>1530.0</td>\n",
       "      <td>0.0</td>\n",
       "      <td>2009</td>\n",
       "      <td>0</td>\n",
       "      <td>98103</td>\n",
       "      <td>47.6993</td>\n",
       "      <td>-122.346</td>\n",
       "      <td>1530.0</td>\n",
       "      <td>1509.0</td>\n",
       "      <td>2014-05-21</td>\n",
       "    </tr>\n",
       "    <tr>\n",
       "      <th>17694</th>\n",
       "      <td>400000.0</td>\n",
       "      <td>6600060120</td>\n",
       "      <td>4.0</td>\n",
       "      <td>2.50</td>\n",
       "      <td>2310.0</td>\n",
       "      <td>5813.0</td>\n",
       "      <td>2.0</td>\n",
       "      <td>0</td>\n",
       "      <td>0.0</td>\n",
       "      <td>3</td>\n",
       "      <td>...</td>\n",
       "      <td>2310.0</td>\n",
       "      <td>0.0</td>\n",
       "      <td>2014</td>\n",
       "      <td>0</td>\n",
       "      <td>98146</td>\n",
       "      <td>47.5107</td>\n",
       "      <td>-122.362</td>\n",
       "      <td>1830.0</td>\n",
       "      <td>7200.0</td>\n",
       "      <td>2015-02-23</td>\n",
       "    </tr>\n",
       "    <tr>\n",
       "      <th>17695</th>\n",
       "      <td>402101.0</td>\n",
       "      <td>1523300141</td>\n",
       "      <td>2.0</td>\n",
       "      <td>0.75</td>\n",
       "      <td>1020.0</td>\n",
       "      <td>1350.0</td>\n",
       "      <td>2.0</td>\n",
       "      <td>0</td>\n",
       "      <td>0.0</td>\n",
       "      <td>3</td>\n",
       "      <td>...</td>\n",
       "      <td>1020.0</td>\n",
       "      <td>0.0</td>\n",
       "      <td>2009</td>\n",
       "      <td>0</td>\n",
       "      <td>98144</td>\n",
       "      <td>47.5944</td>\n",
       "      <td>-122.299</td>\n",
       "      <td>1020.0</td>\n",
       "      <td>2007.0</td>\n",
       "      <td>2014-06-23</td>\n",
       "    </tr>\n",
       "    <tr>\n",
       "      <th>17696</th>\n",
       "      <td>400000.0</td>\n",
       "      <td>291310100</td>\n",
       "      <td>3.0</td>\n",
       "      <td>2.50</td>\n",
       "      <td>1600.0</td>\n",
       "      <td>2388.0</td>\n",
       "      <td>2.0</td>\n",
       "      <td>1</td>\n",
       "      <td>0.0</td>\n",
       "      <td>3</td>\n",
       "      <td>...</td>\n",
       "      <td>1600.0</td>\n",
       "      <td>0.0</td>\n",
       "      <td>2004</td>\n",
       "      <td>0</td>\n",
       "      <td>98027</td>\n",
       "      <td>47.5345</td>\n",
       "      <td>-122.069</td>\n",
       "      <td>1410.0</td>\n",
       "      <td>1287.0</td>\n",
       "      <td>2015-01-16</td>\n",
       "    </tr>\n",
       "    <tr>\n",
       "      <th>17697</th>\n",
       "      <td>325000.0</td>\n",
       "      <td>1523300157</td>\n",
       "      <td>2.0</td>\n",
       "      <td>0.75</td>\n",
       "      <td>1020.0</td>\n",
       "      <td>1076.0</td>\n",
       "      <td>2.0</td>\n",
       "      <td>0</td>\n",
       "      <td>0.0</td>\n",
       "      <td>3</td>\n",
       "      <td>...</td>\n",
       "      <td>1020.0</td>\n",
       "      <td>0.0</td>\n",
       "      <td>2008</td>\n",
       "      <td>0</td>\n",
       "      <td>98144</td>\n",
       "      <td>47.5941</td>\n",
       "      <td>-122.299</td>\n",
       "      <td>1020.0</td>\n",
       "      <td>1357.0</td>\n",
       "      <td>2014-10-15</td>\n",
       "    </tr>\n",
       "  </tbody>\n",
       "</table>\n",
       "<p>17698 rows × 21 columns</p>\n",
       "</div>"
      ],
      "text/plain": [
       "           price          id  bedrooms  bathrooms  sqft_living  sqft_lot  \\\n",
       "0       221900.0  7129300520       3.0       1.00       1180.0    5650.0   \n",
       "1       538000.0  6414100192       3.0       2.25       2570.0    7242.0   \n",
       "2       604000.0  2487200875       4.0       3.00       1960.0    5000.0   \n",
       "3       510000.0  1954400510       3.0       2.00       1680.0    8080.0   \n",
       "4      1230000.0  7237550310       4.0       4.50       5420.0  101930.0   \n",
       "...          ...         ...       ...        ...          ...       ...   \n",
       "17693   360000.0   263000018       3.0       2.50       1530.0    1131.0   \n",
       "17694   400000.0  6600060120       4.0       2.50       2310.0    5813.0   \n",
       "17695   402101.0  1523300141       2.0       0.75       1020.0    1350.0   \n",
       "17696   400000.0   291310100       3.0       2.50       1600.0    2388.0   \n",
       "17697   325000.0  1523300157       2.0       0.75       1020.0    1076.0   \n",
       "\n",
       "       floors  waterfront  view  condition  ...  sqft_above  sqft_basement  \\\n",
       "0         1.0           1   0.0          3  ...      1180.0            0.0   \n",
       "1         2.0           0   0.0          3  ...      2170.0          400.0   \n",
       "2         1.0           0   0.0          5  ...      1050.0          910.0   \n",
       "3         1.0           0   0.0          3  ...      1680.0            0.0   \n",
       "4         1.0           0   0.0          3  ...      3890.0         1530.0   \n",
       "...       ...         ...   ...        ...  ...         ...            ...   \n",
       "17693     3.0           0   0.0          3  ...      1530.0            0.0   \n",
       "17694     2.0           0   0.0          3  ...      2310.0            0.0   \n",
       "17695     2.0           0   0.0          3  ...      1020.0            0.0   \n",
       "17696     2.0           1   0.0          3  ...      1600.0            0.0   \n",
       "17697     2.0           0   0.0          3  ...      1020.0            0.0   \n",
       "\n",
       "       yr_built  yr_renovated  zipcode      lat     long  sqft_living15  \\\n",
       "0          1955             0    98178  47.5112 -122.257         1340.0   \n",
       "1          1951          1991    98125  47.7210 -122.319         1690.0   \n",
       "2          1965             0    98136  47.5208 -122.393         1360.0   \n",
       "3          1987             0    98074  47.6168 -122.045         1800.0   \n",
       "4          2001             0    98053  47.6561 -122.005         4760.0   \n",
       "...         ...           ...      ...      ...      ...            ...   \n",
       "17693      2009             0    98103  47.6993 -122.346         1530.0   \n",
       "17694      2014             0    98146  47.5107 -122.362         1830.0   \n",
       "17695      2009             0    98144  47.5944 -122.299         1020.0   \n",
       "17696      2004             0    98027  47.5345 -122.069         1410.0   \n",
       "17697      2008             0    98144  47.5941 -122.299         1020.0   \n",
       "\n",
       "       sqft_lot15        date  \n",
       "0          5650.0  2014-10-13  \n",
       "1          7639.0  2014-12-09  \n",
       "2          5000.0  2014-12-09  \n",
       "3          7503.0  2015-02-18  \n",
       "4        101930.0  2014-05-12  \n",
       "...           ...         ...  \n",
       "17693      1509.0  2014-05-21  \n",
       "17694      7200.0  2015-02-23  \n",
       "17695      2007.0  2014-06-23  \n",
       "17696      1287.0  2015-01-16  \n",
       "17697      1357.0  2014-10-15  \n",
       "\n",
       "[17698 rows x 21 columns]"
      ]
     },
     "execution_count": 961,
     "metadata": {},
     "output_type": "execute_result"
    }
   ],
   "source": [
    "import warnings\n",
    "\n",
    "warnings.filterwarnings(\"ignore\")\n",
    "\n",
    "import pandas as pd\n",
    "import numpy as np\n",
    "import matplotlib.pyplot as plt\n",
    "import seaborn as sns\n",
    "import plotly.express as px\n",
    "\n",
    "df_analysis=pd.read_csv(\"./data/DATA_EDA_clean.csv\")\n",
    "df_analysis"
   ]
  },
  {
   "cell_type": "code",
   "execution_count": 962,
   "id": "9b5ebb55",
   "metadata": {},
   "outputs": [
    {
     "data": {
      "text/html": [
       "<div>\n",
       "<style scoped>\n",
       "    .dataframe tbody tr th:only-of-type {\n",
       "        vertical-align: middle;\n",
       "    }\n",
       "\n",
       "    .dataframe tbody tr th {\n",
       "        vertical-align: top;\n",
       "    }\n",
       "\n",
       "    .dataframe thead th {\n",
       "        text-align: right;\n",
       "    }\n",
       "</style>\n",
       "<table border=\"1\" class=\"dataframe\">\n",
       "  <thead>\n",
       "    <tr style=\"text-align: right;\">\n",
       "      <th></th>\n",
       "      <th>price</th>\n",
       "      <th>id</th>\n",
       "      <th>bedrooms</th>\n",
       "      <th>bathrooms</th>\n",
       "      <th>sqft_living</th>\n",
       "      <th>sqft_lot</th>\n",
       "      <th>floors</th>\n",
       "      <th>waterfront</th>\n",
       "      <th>view</th>\n",
       "      <th>condition</th>\n",
       "      <th>grade</th>\n",
       "      <th>sqft_above</th>\n",
       "      <th>sqft_basement</th>\n",
       "      <th>yr_built</th>\n",
       "      <th>yr_renovated</th>\n",
       "      <th>zipcode</th>\n",
       "      <th>lat</th>\n",
       "      <th>long</th>\n",
       "      <th>sqft_living15</th>\n",
       "      <th>sqft_lot15</th>\n",
       "    </tr>\n",
       "  </thead>\n",
       "  <tbody>\n",
       "    <tr>\n",
       "      <th>count</th>\n",
       "      <td>1.769800e+04</td>\n",
       "      <td>1.769800e+04</td>\n",
       "      <td>17698.000000</td>\n",
       "      <td>17698.000000</td>\n",
       "      <td>17698.000000</td>\n",
       "      <td>1.769800e+04</td>\n",
       "      <td>17698.000000</td>\n",
       "      <td>17698.000000</td>\n",
       "      <td>17698.000000</td>\n",
       "      <td>17698.000000</td>\n",
       "      <td>17698.000000</td>\n",
       "      <td>17698.000000</td>\n",
       "      <td>17698.000000</td>\n",
       "      <td>17698.000000</td>\n",
       "      <td>17698.000000</td>\n",
       "      <td>17698.000000</td>\n",
       "      <td>17698.000000</td>\n",
       "      <td>17698.000000</td>\n",
       "      <td>17698.000000</td>\n",
       "      <td>17698.000000</td>\n",
       "    </tr>\n",
       "    <tr>\n",
       "      <th>mean</th>\n",
       "      <td>5.406358e+05</td>\n",
       "      <td>4.588336e+09</td>\n",
       "      <td>3.378404</td>\n",
       "      <td>2.121130</td>\n",
       "      <td>2084.372641</td>\n",
       "      <td>1.527142e+04</td>\n",
       "      <td>1.496214</td>\n",
       "      <td>0.117132</td>\n",
       "      <td>0.232512</td>\n",
       "      <td>3.410837</td>\n",
       "      <td>7.662674</td>\n",
       "      <td>1791.951689</td>\n",
       "      <td>292.420952</td>\n",
       "      <td>1971.139338</td>\n",
       "      <td>83.793423</td>\n",
       "      <td>98077.712453</td>\n",
       "      <td>47.559435</td>\n",
       "      <td>-122.213379</td>\n",
       "      <td>1990.129732</td>\n",
       "      <td>12854.134535</td>\n",
       "    </tr>\n",
       "    <tr>\n",
       "      <th>std</th>\n",
       "      <td>3.677709e+05</td>\n",
       "      <td>2.876690e+09</td>\n",
       "      <td>0.932266</td>\n",
       "      <td>0.767113</td>\n",
       "      <td>916.513070</td>\n",
       "      <td>4.206568e+04</td>\n",
       "      <td>0.538628</td>\n",
       "      <td>0.321586</td>\n",
       "      <td>0.762614</td>\n",
       "      <td>0.652032</td>\n",
       "      <td>1.169438</td>\n",
       "      <td>826.589740</td>\n",
       "      <td>443.384773</td>\n",
       "      <td>29.344582</td>\n",
       "      <td>400.304560</td>\n",
       "      <td>53.480367</td>\n",
       "      <td>0.138536</td>\n",
       "      <td>0.140898</td>\n",
       "      <td>684.720979</td>\n",
       "      <td>27694.496055</td>\n",
       "    </tr>\n",
       "    <tr>\n",
       "      <th>min</th>\n",
       "      <td>8.000000e+04</td>\n",
       "      <td>1.000102e+06</td>\n",
       "      <td>1.000000</td>\n",
       "      <td>0.500000</td>\n",
       "      <td>370.000000</td>\n",
       "      <td>5.200000e+02</td>\n",
       "      <td>1.000000</td>\n",
       "      <td>0.000000</td>\n",
       "      <td>0.000000</td>\n",
       "      <td>1.000000</td>\n",
       "      <td>3.000000</td>\n",
       "      <td>370.000000</td>\n",
       "      <td>0.000000</td>\n",
       "      <td>1900.000000</td>\n",
       "      <td>0.000000</td>\n",
       "      <td>98001.000000</td>\n",
       "      <td>47.155900</td>\n",
       "      <td>-122.519000</td>\n",
       "      <td>399.000000</td>\n",
       "      <td>659.000000</td>\n",
       "    </tr>\n",
       "    <tr>\n",
       "      <th>25%</th>\n",
       "      <td>3.220000e+05</td>\n",
       "      <td>2.126049e+09</td>\n",
       "      <td>3.000000</td>\n",
       "      <td>1.750000</td>\n",
       "      <td>1430.000000</td>\n",
       "      <td>5.040000e+03</td>\n",
       "      <td>1.000000</td>\n",
       "      <td>0.000000</td>\n",
       "      <td>0.000000</td>\n",
       "      <td>3.000000</td>\n",
       "      <td>7.000000</td>\n",
       "      <td>1200.000000</td>\n",
       "      <td>0.000000</td>\n",
       "      <td>1952.000000</td>\n",
       "      <td>0.000000</td>\n",
       "      <td>98033.000000</td>\n",
       "      <td>47.469500</td>\n",
       "      <td>-122.328000</td>\n",
       "      <td>1490.000000</td>\n",
       "      <td>5100.000000</td>\n",
       "    </tr>\n",
       "    <tr>\n",
       "      <th>50%</th>\n",
       "      <td>4.500000e+05</td>\n",
       "      <td>3.905030e+09</td>\n",
       "      <td>3.000000</td>\n",
       "      <td>2.250000</td>\n",
       "      <td>1920.000000</td>\n",
       "      <td>7.603500e+03</td>\n",
       "      <td>1.500000</td>\n",
       "      <td>0.000000</td>\n",
       "      <td>0.000000</td>\n",
       "      <td>3.000000</td>\n",
       "      <td>7.000000</td>\n",
       "      <td>1570.000000</td>\n",
       "      <td>0.000000</td>\n",
       "      <td>1975.000000</td>\n",
       "      <td>0.000000</td>\n",
       "      <td>98065.000000</td>\n",
       "      <td>47.571150</td>\n",
       "      <td>-122.229000</td>\n",
       "      <td>1840.000000</td>\n",
       "      <td>7620.000000</td>\n",
       "    </tr>\n",
       "    <tr>\n",
       "      <th>75%</th>\n",
       "      <td>6.450000e+05</td>\n",
       "      <td>7.334401e+09</td>\n",
       "      <td>4.000000</td>\n",
       "      <td>2.500000</td>\n",
       "      <td>2550.000000</td>\n",
       "      <td>1.068875e+04</td>\n",
       "      <td>2.000000</td>\n",
       "      <td>0.000000</td>\n",
       "      <td>0.000000</td>\n",
       "      <td>4.000000</td>\n",
       "      <td>8.000000</td>\n",
       "      <td>2220.000000</td>\n",
       "      <td>560.000000</td>\n",
       "      <td>1997.000000</td>\n",
       "      <td>0.000000</td>\n",
       "      <td>98117.000000</td>\n",
       "      <td>47.677300</td>\n",
       "      <td>-122.124000</td>\n",
       "      <td>2370.000000</td>\n",
       "      <td>10095.000000</td>\n",
       "    </tr>\n",
       "    <tr>\n",
       "      <th>max</th>\n",
       "      <td>7.700000e+06</td>\n",
       "      <td>9.895000e+09</td>\n",
       "      <td>33.000000</td>\n",
       "      <td>8.000000</td>\n",
       "      <td>13540.000000</td>\n",
       "      <td>1.651359e+06</td>\n",
       "      <td>3.500000</td>\n",
       "      <td>1.000000</td>\n",
       "      <td>4.000000</td>\n",
       "      <td>5.000000</td>\n",
       "      <td>13.000000</td>\n",
       "      <td>9410.000000</td>\n",
       "      <td>4820.000000</td>\n",
       "      <td>2015.000000</td>\n",
       "      <td>2015.000000</td>\n",
       "      <td>98199.000000</td>\n",
       "      <td>47.777600</td>\n",
       "      <td>-121.315000</td>\n",
       "      <td>6210.000000</td>\n",
       "      <td>871200.000000</td>\n",
       "    </tr>\n",
       "  </tbody>\n",
       "</table>\n",
       "</div>"
      ],
      "text/plain": [
       "              price            id      bedrooms     bathrooms   sqft_living  \\\n",
       "count  1.769800e+04  1.769800e+04  17698.000000  17698.000000  17698.000000   \n",
       "mean   5.406358e+05  4.588336e+09      3.378404      2.121130   2084.372641   \n",
       "std    3.677709e+05  2.876690e+09      0.932266      0.767113    916.513070   \n",
       "min    8.000000e+04  1.000102e+06      1.000000      0.500000    370.000000   \n",
       "25%    3.220000e+05  2.126049e+09      3.000000      1.750000   1430.000000   \n",
       "50%    4.500000e+05  3.905030e+09      3.000000      2.250000   1920.000000   \n",
       "75%    6.450000e+05  7.334401e+09      4.000000      2.500000   2550.000000   \n",
       "max    7.700000e+06  9.895000e+09     33.000000      8.000000  13540.000000   \n",
       "\n",
       "           sqft_lot        floors    waterfront          view     condition  \\\n",
       "count  1.769800e+04  17698.000000  17698.000000  17698.000000  17698.000000   \n",
       "mean   1.527142e+04      1.496214      0.117132      0.232512      3.410837   \n",
       "std    4.206568e+04      0.538628      0.321586      0.762614      0.652032   \n",
       "min    5.200000e+02      1.000000      0.000000      0.000000      1.000000   \n",
       "25%    5.040000e+03      1.000000      0.000000      0.000000      3.000000   \n",
       "50%    7.603500e+03      1.500000      0.000000      0.000000      3.000000   \n",
       "75%    1.068875e+04      2.000000      0.000000      0.000000      4.000000   \n",
       "max    1.651359e+06      3.500000      1.000000      4.000000      5.000000   \n",
       "\n",
       "              grade    sqft_above  sqft_basement      yr_built  yr_renovated  \\\n",
       "count  17698.000000  17698.000000   17698.000000  17698.000000  17698.000000   \n",
       "mean       7.662674   1791.951689     292.420952   1971.139338     83.793423   \n",
       "std        1.169438    826.589740     443.384773     29.344582    400.304560   \n",
       "min        3.000000    370.000000       0.000000   1900.000000      0.000000   \n",
       "25%        7.000000   1200.000000       0.000000   1952.000000      0.000000   \n",
       "50%        7.000000   1570.000000       0.000000   1975.000000      0.000000   \n",
       "75%        8.000000   2220.000000     560.000000   1997.000000      0.000000   \n",
       "max       13.000000   9410.000000    4820.000000   2015.000000   2015.000000   \n",
       "\n",
       "            zipcode           lat          long  sqft_living15     sqft_lot15  \n",
       "count  17698.000000  17698.000000  17698.000000   17698.000000   17698.000000  \n",
       "mean   98077.712453     47.559435   -122.213379    1990.129732   12854.134535  \n",
       "std       53.480367      0.138536      0.140898     684.720979   27694.496055  \n",
       "min    98001.000000     47.155900   -122.519000     399.000000     659.000000  \n",
       "25%    98033.000000     47.469500   -122.328000    1490.000000    5100.000000  \n",
       "50%    98065.000000     47.571150   -122.229000    1840.000000    7620.000000  \n",
       "75%    98117.000000     47.677300   -122.124000    2370.000000   10095.000000  \n",
       "max    98199.000000     47.777600   -121.315000    6210.000000  871200.000000  "
      ]
     },
     "execution_count": 962,
     "metadata": {},
     "output_type": "execute_result"
    }
   ],
   "source": [
    "df_analysis.describe()"
   ]
  },
  {
   "cell_type": "code",
   "execution_count": 963,
   "id": "c52d0cc9",
   "metadata": {},
   "outputs": [
    {
     "name": "stdout",
     "output_type": "stream",
     "text": [
      "<class 'pandas.core.frame.DataFrame'>\n",
      "RangeIndex: 17698 entries, 0 to 17697\n",
      "Data columns (total 21 columns):\n",
      " #   Column         Non-Null Count  Dtype  \n",
      "---  ------         --------------  -----  \n",
      " 0   price          17698 non-null  float64\n",
      " 1   id             17698 non-null  int64  \n",
      " 2   bedrooms       17698 non-null  float64\n",
      " 3   bathrooms      17698 non-null  float64\n",
      " 4   sqft_living    17698 non-null  float64\n",
      " 5   sqft_lot       17698 non-null  float64\n",
      " 6   floors         17698 non-null  float64\n",
      " 7   waterfront     17698 non-null  int64  \n",
      " 8   view           17698 non-null  float64\n",
      " 9   condition      17698 non-null  int64  \n",
      " 10  grade          17698 non-null  int64  \n",
      " 11  sqft_above     17698 non-null  float64\n",
      " 12  sqft_basement  17698 non-null  float64\n",
      " 13  yr_built       17698 non-null  int64  \n",
      " 14  yr_renovated   17698 non-null  int64  \n",
      " 15  zipcode        17698 non-null  int64  \n",
      " 16  lat            17698 non-null  float64\n",
      " 17  long           17698 non-null  float64\n",
      " 18  sqft_living15  17698 non-null  float64\n",
      " 19  sqft_lot15     17698 non-null  float64\n",
      " 20  date           17698 non-null  object \n",
      "dtypes: float64(13), int64(7), object(1)\n",
      "memory usage: 2.8+ MB\n"
     ]
    }
   ],
   "source": [
    "df_analysis.info()"
   ]
  },
  {
   "cell_type": "code",
   "execution_count": 964,
   "id": "011055f6",
   "metadata": {},
   "outputs": [
    {
     "name": "stdout",
     "output_type": "stream",
     "text": [
      "<class 'pandas.core.frame.DataFrame'>\n",
      "RangeIndex: 17698 entries, 0 to 17697\n",
      "Data columns (total 21 columns):\n",
      " #   Column         Non-Null Count  Dtype  \n",
      "---  ------         --------------  -----  \n",
      " 0   price          17698 non-null  float64\n",
      " 1   id             17698 non-null  int64  \n",
      " 2   bedrooms       17698 non-null  float64\n",
      " 3   bathrooms      17698 non-null  float64\n",
      " 4   sqft_living    17698 non-null  float64\n",
      " 5   sqft_lot       17698 non-null  float64\n",
      " 6   floors         17698 non-null  float64\n",
      " 7   waterfront     17698 non-null  object \n",
      " 8   view           17698 non-null  float64\n",
      " 9   condition      17698 non-null  int64  \n",
      " 10  grade          17698 non-null  int64  \n",
      " 11  sqft_above     17698 non-null  float64\n",
      " 12  sqft_basement  17698 non-null  float64\n",
      " 13  yr_built       17698 non-null  int64  \n",
      " 14  yr_renovated   17698 non-null  int64  \n",
      " 15  zipcode        17698 non-null  object \n",
      " 16  lat            17698 non-null  float64\n",
      " 17  long           17698 non-null  float64\n",
      " 18  sqft_living15  17698 non-null  float64\n",
      " 19  sqft_lot15     17698 non-null  float64\n",
      " 20  date           17698 non-null  object \n",
      "dtypes: float64(13), int64(5), object(3)\n",
      "memory usage: 2.8+ MB\n"
     ]
    }
   ],
   "source": [
    "df_analysis['zipcode'] = df_analysis['zipcode'].round().astype(str)\n",
    "df_analysis['waterfront'] = df_analysis['waterfront'].round().astype(str)\n",
    "df_analysis.info()\n"
   ]
  },
  {
   "cell_type": "markdown",
   "id": "c8382ba9",
   "metadata": {},
   "source": [
    "Client request:“Invest in poor neighborhood, buying & selling, costs back + little profit, socially responsible.”\n",
    "\n",
    "Based on her request it is necessary to determinate the price per total square foot\n",
    "\n",
    "The total square foot is defined as the sum of the sqft_lot and sqft_living ( the sqft_living contains also the sqft basement)\n",
    "\n",
    "Define new column tot_sqft"
   ]
  },
  {
   "cell_type": "code",
   "execution_count": 965,
   "id": "afba00f1",
   "metadata": {},
   "outputs": [
    {
     "data": {
      "text/html": [
       "<div>\n",
       "<style scoped>\n",
       "    .dataframe tbody tr th:only-of-type {\n",
       "        vertical-align: middle;\n",
       "    }\n",
       "\n",
       "    .dataframe tbody tr th {\n",
       "        vertical-align: top;\n",
       "    }\n",
       "\n",
       "    .dataframe thead th {\n",
       "        text-align: right;\n",
       "    }\n",
       "</style>\n",
       "<table border=\"1\" class=\"dataframe\">\n",
       "  <thead>\n",
       "    <tr style=\"text-align: right;\">\n",
       "      <th></th>\n",
       "      <th>price</th>\n",
       "      <th>id</th>\n",
       "      <th>bedrooms</th>\n",
       "      <th>bathrooms</th>\n",
       "      <th>sqft_living</th>\n",
       "      <th>sqft_lot</th>\n",
       "      <th>floors</th>\n",
       "      <th>waterfront</th>\n",
       "      <th>view</th>\n",
       "      <th>condition</th>\n",
       "      <th>...</th>\n",
       "      <th>sqft_basement</th>\n",
       "      <th>yr_built</th>\n",
       "      <th>yr_renovated</th>\n",
       "      <th>zipcode</th>\n",
       "      <th>lat</th>\n",
       "      <th>long</th>\n",
       "      <th>sqft_living15</th>\n",
       "      <th>sqft_lot15</th>\n",
       "      <th>date</th>\n",
       "      <th>tot_sqft</th>\n",
       "    </tr>\n",
       "  </thead>\n",
       "  <tbody>\n",
       "    <tr>\n",
       "      <th>0</th>\n",
       "      <td>221900.0</td>\n",
       "      <td>7129300520</td>\n",
       "      <td>3.0</td>\n",
       "      <td>1.00</td>\n",
       "      <td>1180.0</td>\n",
       "      <td>5650.0</td>\n",
       "      <td>1.0</td>\n",
       "      <td>1</td>\n",
       "      <td>0.0</td>\n",
       "      <td>3</td>\n",
       "      <td>...</td>\n",
       "      <td>0.0</td>\n",
       "      <td>1955</td>\n",
       "      <td>0</td>\n",
       "      <td>98178</td>\n",
       "      <td>47.5112</td>\n",
       "      <td>-122.257</td>\n",
       "      <td>1340.0</td>\n",
       "      <td>5650.0</td>\n",
       "      <td>2014-10-13</td>\n",
       "      <td>6830.0</td>\n",
       "    </tr>\n",
       "    <tr>\n",
       "      <th>1</th>\n",
       "      <td>538000.0</td>\n",
       "      <td>6414100192</td>\n",
       "      <td>3.0</td>\n",
       "      <td>2.25</td>\n",
       "      <td>2570.0</td>\n",
       "      <td>7242.0</td>\n",
       "      <td>2.0</td>\n",
       "      <td>0</td>\n",
       "      <td>0.0</td>\n",
       "      <td>3</td>\n",
       "      <td>...</td>\n",
       "      <td>400.0</td>\n",
       "      <td>1951</td>\n",
       "      <td>1991</td>\n",
       "      <td>98125</td>\n",
       "      <td>47.7210</td>\n",
       "      <td>-122.319</td>\n",
       "      <td>1690.0</td>\n",
       "      <td>7639.0</td>\n",
       "      <td>2014-12-09</td>\n",
       "      <td>9812.0</td>\n",
       "    </tr>\n",
       "    <tr>\n",
       "      <th>2</th>\n",
       "      <td>604000.0</td>\n",
       "      <td>2487200875</td>\n",
       "      <td>4.0</td>\n",
       "      <td>3.00</td>\n",
       "      <td>1960.0</td>\n",
       "      <td>5000.0</td>\n",
       "      <td>1.0</td>\n",
       "      <td>0</td>\n",
       "      <td>0.0</td>\n",
       "      <td>5</td>\n",
       "      <td>...</td>\n",
       "      <td>910.0</td>\n",
       "      <td>1965</td>\n",
       "      <td>0</td>\n",
       "      <td>98136</td>\n",
       "      <td>47.5208</td>\n",
       "      <td>-122.393</td>\n",
       "      <td>1360.0</td>\n",
       "      <td>5000.0</td>\n",
       "      <td>2014-12-09</td>\n",
       "      <td>6960.0</td>\n",
       "    </tr>\n",
       "    <tr>\n",
       "      <th>3</th>\n",
       "      <td>510000.0</td>\n",
       "      <td>1954400510</td>\n",
       "      <td>3.0</td>\n",
       "      <td>2.00</td>\n",
       "      <td>1680.0</td>\n",
       "      <td>8080.0</td>\n",
       "      <td>1.0</td>\n",
       "      <td>0</td>\n",
       "      <td>0.0</td>\n",
       "      <td>3</td>\n",
       "      <td>...</td>\n",
       "      <td>0.0</td>\n",
       "      <td>1987</td>\n",
       "      <td>0</td>\n",
       "      <td>98074</td>\n",
       "      <td>47.6168</td>\n",
       "      <td>-122.045</td>\n",
       "      <td>1800.0</td>\n",
       "      <td>7503.0</td>\n",
       "      <td>2015-02-18</td>\n",
       "      <td>9760.0</td>\n",
       "    </tr>\n",
       "    <tr>\n",
       "      <th>4</th>\n",
       "      <td>1230000.0</td>\n",
       "      <td>7237550310</td>\n",
       "      <td>4.0</td>\n",
       "      <td>4.50</td>\n",
       "      <td>5420.0</td>\n",
       "      <td>101930.0</td>\n",
       "      <td>1.0</td>\n",
       "      <td>0</td>\n",
       "      <td>0.0</td>\n",
       "      <td>3</td>\n",
       "      <td>...</td>\n",
       "      <td>1530.0</td>\n",
       "      <td>2001</td>\n",
       "      <td>0</td>\n",
       "      <td>98053</td>\n",
       "      <td>47.6561</td>\n",
       "      <td>-122.005</td>\n",
       "      <td>4760.0</td>\n",
       "      <td>101930.0</td>\n",
       "      <td>2014-05-12</td>\n",
       "      <td>107350.0</td>\n",
       "    </tr>\n",
       "    <tr>\n",
       "      <th>...</th>\n",
       "      <td>...</td>\n",
       "      <td>...</td>\n",
       "      <td>...</td>\n",
       "      <td>...</td>\n",
       "      <td>...</td>\n",
       "      <td>...</td>\n",
       "      <td>...</td>\n",
       "      <td>...</td>\n",
       "      <td>...</td>\n",
       "      <td>...</td>\n",
       "      <td>...</td>\n",
       "      <td>...</td>\n",
       "      <td>...</td>\n",
       "      <td>...</td>\n",
       "      <td>...</td>\n",
       "      <td>...</td>\n",
       "      <td>...</td>\n",
       "      <td>...</td>\n",
       "      <td>...</td>\n",
       "      <td>...</td>\n",
       "      <td>...</td>\n",
       "    </tr>\n",
       "    <tr>\n",
       "      <th>17693</th>\n",
       "      <td>360000.0</td>\n",
       "      <td>263000018</td>\n",
       "      <td>3.0</td>\n",
       "      <td>2.50</td>\n",
       "      <td>1530.0</td>\n",
       "      <td>1131.0</td>\n",
       "      <td>3.0</td>\n",
       "      <td>0</td>\n",
       "      <td>0.0</td>\n",
       "      <td>3</td>\n",
       "      <td>...</td>\n",
       "      <td>0.0</td>\n",
       "      <td>2009</td>\n",
       "      <td>0</td>\n",
       "      <td>98103</td>\n",
       "      <td>47.6993</td>\n",
       "      <td>-122.346</td>\n",
       "      <td>1530.0</td>\n",
       "      <td>1509.0</td>\n",
       "      <td>2014-05-21</td>\n",
       "      <td>2661.0</td>\n",
       "    </tr>\n",
       "    <tr>\n",
       "      <th>17694</th>\n",
       "      <td>400000.0</td>\n",
       "      <td>6600060120</td>\n",
       "      <td>4.0</td>\n",
       "      <td>2.50</td>\n",
       "      <td>2310.0</td>\n",
       "      <td>5813.0</td>\n",
       "      <td>2.0</td>\n",
       "      <td>0</td>\n",
       "      <td>0.0</td>\n",
       "      <td>3</td>\n",
       "      <td>...</td>\n",
       "      <td>0.0</td>\n",
       "      <td>2014</td>\n",
       "      <td>0</td>\n",
       "      <td>98146</td>\n",
       "      <td>47.5107</td>\n",
       "      <td>-122.362</td>\n",
       "      <td>1830.0</td>\n",
       "      <td>7200.0</td>\n",
       "      <td>2015-02-23</td>\n",
       "      <td>8123.0</td>\n",
       "    </tr>\n",
       "    <tr>\n",
       "      <th>17695</th>\n",
       "      <td>402101.0</td>\n",
       "      <td>1523300141</td>\n",
       "      <td>2.0</td>\n",
       "      <td>0.75</td>\n",
       "      <td>1020.0</td>\n",
       "      <td>1350.0</td>\n",
       "      <td>2.0</td>\n",
       "      <td>0</td>\n",
       "      <td>0.0</td>\n",
       "      <td>3</td>\n",
       "      <td>...</td>\n",
       "      <td>0.0</td>\n",
       "      <td>2009</td>\n",
       "      <td>0</td>\n",
       "      <td>98144</td>\n",
       "      <td>47.5944</td>\n",
       "      <td>-122.299</td>\n",
       "      <td>1020.0</td>\n",
       "      <td>2007.0</td>\n",
       "      <td>2014-06-23</td>\n",
       "      <td>2370.0</td>\n",
       "    </tr>\n",
       "    <tr>\n",
       "      <th>17696</th>\n",
       "      <td>400000.0</td>\n",
       "      <td>291310100</td>\n",
       "      <td>3.0</td>\n",
       "      <td>2.50</td>\n",
       "      <td>1600.0</td>\n",
       "      <td>2388.0</td>\n",
       "      <td>2.0</td>\n",
       "      <td>1</td>\n",
       "      <td>0.0</td>\n",
       "      <td>3</td>\n",
       "      <td>...</td>\n",
       "      <td>0.0</td>\n",
       "      <td>2004</td>\n",
       "      <td>0</td>\n",
       "      <td>98027</td>\n",
       "      <td>47.5345</td>\n",
       "      <td>-122.069</td>\n",
       "      <td>1410.0</td>\n",
       "      <td>1287.0</td>\n",
       "      <td>2015-01-16</td>\n",
       "      <td>3988.0</td>\n",
       "    </tr>\n",
       "    <tr>\n",
       "      <th>17697</th>\n",
       "      <td>325000.0</td>\n",
       "      <td>1523300157</td>\n",
       "      <td>2.0</td>\n",
       "      <td>0.75</td>\n",
       "      <td>1020.0</td>\n",
       "      <td>1076.0</td>\n",
       "      <td>2.0</td>\n",
       "      <td>0</td>\n",
       "      <td>0.0</td>\n",
       "      <td>3</td>\n",
       "      <td>...</td>\n",
       "      <td>0.0</td>\n",
       "      <td>2008</td>\n",
       "      <td>0</td>\n",
       "      <td>98144</td>\n",
       "      <td>47.5941</td>\n",
       "      <td>-122.299</td>\n",
       "      <td>1020.0</td>\n",
       "      <td>1357.0</td>\n",
       "      <td>2014-10-15</td>\n",
       "      <td>2096.0</td>\n",
       "    </tr>\n",
       "  </tbody>\n",
       "</table>\n",
       "<p>17698 rows × 22 columns</p>\n",
       "</div>"
      ],
      "text/plain": [
       "           price          id  bedrooms  bathrooms  sqft_living  sqft_lot  \\\n",
       "0       221900.0  7129300520       3.0       1.00       1180.0    5650.0   \n",
       "1       538000.0  6414100192       3.0       2.25       2570.0    7242.0   \n",
       "2       604000.0  2487200875       4.0       3.00       1960.0    5000.0   \n",
       "3       510000.0  1954400510       3.0       2.00       1680.0    8080.0   \n",
       "4      1230000.0  7237550310       4.0       4.50       5420.0  101930.0   \n",
       "...          ...         ...       ...        ...          ...       ...   \n",
       "17693   360000.0   263000018       3.0       2.50       1530.0    1131.0   \n",
       "17694   400000.0  6600060120       4.0       2.50       2310.0    5813.0   \n",
       "17695   402101.0  1523300141       2.0       0.75       1020.0    1350.0   \n",
       "17696   400000.0   291310100       3.0       2.50       1600.0    2388.0   \n",
       "17697   325000.0  1523300157       2.0       0.75       1020.0    1076.0   \n",
       "\n",
       "       floors waterfront  view  condition  ...  sqft_basement  yr_built  \\\n",
       "0         1.0          1   0.0          3  ...            0.0      1955   \n",
       "1         2.0          0   0.0          3  ...          400.0      1951   \n",
       "2         1.0          0   0.0          5  ...          910.0      1965   \n",
       "3         1.0          0   0.0          3  ...            0.0      1987   \n",
       "4         1.0          0   0.0          3  ...         1530.0      2001   \n",
       "...       ...        ...   ...        ...  ...            ...       ...   \n",
       "17693     3.0          0   0.0          3  ...            0.0      2009   \n",
       "17694     2.0          0   0.0          3  ...            0.0      2014   \n",
       "17695     2.0          0   0.0          3  ...            0.0      2009   \n",
       "17696     2.0          1   0.0          3  ...            0.0      2004   \n",
       "17697     2.0          0   0.0          3  ...            0.0      2008   \n",
       "\n",
       "       yr_renovated  zipcode      lat     long  sqft_living15  sqft_lot15  \\\n",
       "0                 0    98178  47.5112 -122.257         1340.0      5650.0   \n",
       "1              1991    98125  47.7210 -122.319         1690.0      7639.0   \n",
       "2                 0    98136  47.5208 -122.393         1360.0      5000.0   \n",
       "3                 0    98074  47.6168 -122.045         1800.0      7503.0   \n",
       "4                 0    98053  47.6561 -122.005         4760.0    101930.0   \n",
       "...             ...      ...      ...      ...            ...         ...   \n",
       "17693             0    98103  47.6993 -122.346         1530.0      1509.0   \n",
       "17694             0    98146  47.5107 -122.362         1830.0      7200.0   \n",
       "17695             0    98144  47.5944 -122.299         1020.0      2007.0   \n",
       "17696             0    98027  47.5345 -122.069         1410.0      1287.0   \n",
       "17697             0    98144  47.5941 -122.299         1020.0      1357.0   \n",
       "\n",
       "             date  tot_sqft  \n",
       "0      2014-10-13    6830.0  \n",
       "1      2014-12-09    9812.0  \n",
       "2      2014-12-09    6960.0  \n",
       "3      2015-02-18    9760.0  \n",
       "4      2014-05-12  107350.0  \n",
       "...           ...       ...  \n",
       "17693  2014-05-21    2661.0  \n",
       "17694  2015-02-23    8123.0  \n",
       "17695  2014-06-23    2370.0  \n",
       "17696  2015-01-16    3988.0  \n",
       "17697  2014-10-15    2096.0  \n",
       "\n",
       "[17698 rows x 22 columns]"
      ]
     },
     "execution_count": 965,
     "metadata": {},
     "output_type": "execute_result"
    }
   ],
   "source": [
    "df_analysis['tot_sqft'] = df_analysis['sqft_living'] + df_analysis['sqft_lot']\n",
    "df_analysis"
   ]
  },
  {
   "cell_type": "markdown",
   "id": "4cbbe126",
   "metadata": {},
   "source": [
    "Now it is important to determinate the price per square foot as it can be used as normalised criteria."
   ]
  },
  {
   "cell_type": "code",
   "execution_count": 966,
   "id": "fd52bace",
   "metadata": {},
   "outputs": [
    {
     "data": {
      "text/html": [
       "<div>\n",
       "<style scoped>\n",
       "    .dataframe tbody tr th:only-of-type {\n",
       "        vertical-align: middle;\n",
       "    }\n",
       "\n",
       "    .dataframe tbody tr th {\n",
       "        vertical-align: top;\n",
       "    }\n",
       "\n",
       "    .dataframe thead th {\n",
       "        text-align: right;\n",
       "    }\n",
       "</style>\n",
       "<table border=\"1\" class=\"dataframe\">\n",
       "  <thead>\n",
       "    <tr style=\"text-align: right;\">\n",
       "      <th></th>\n",
       "      <th>price</th>\n",
       "      <th>id</th>\n",
       "      <th>bedrooms</th>\n",
       "      <th>bathrooms</th>\n",
       "      <th>sqft_living</th>\n",
       "      <th>sqft_lot</th>\n",
       "      <th>floors</th>\n",
       "      <th>waterfront</th>\n",
       "      <th>view</th>\n",
       "      <th>condition</th>\n",
       "      <th>...</th>\n",
       "      <th>yr_built</th>\n",
       "      <th>yr_renovated</th>\n",
       "      <th>zipcode</th>\n",
       "      <th>lat</th>\n",
       "      <th>long</th>\n",
       "      <th>sqft_living15</th>\n",
       "      <th>sqft_lot15</th>\n",
       "      <th>date</th>\n",
       "      <th>tot_sqft</th>\n",
       "      <th>price_per_sqft</th>\n",
       "    </tr>\n",
       "  </thead>\n",
       "  <tbody>\n",
       "    <tr>\n",
       "      <th>0</th>\n",
       "      <td>221900.0</td>\n",
       "      <td>7129300520</td>\n",
       "      <td>3.0</td>\n",
       "      <td>1.00</td>\n",
       "      <td>1180.0</td>\n",
       "      <td>5650.0</td>\n",
       "      <td>1.0</td>\n",
       "      <td>1</td>\n",
       "      <td>0.0</td>\n",
       "      <td>3</td>\n",
       "      <td>...</td>\n",
       "      <td>1955</td>\n",
       "      <td>0</td>\n",
       "      <td>98178</td>\n",
       "      <td>47.5112</td>\n",
       "      <td>-122.257</td>\n",
       "      <td>1340.0</td>\n",
       "      <td>5650.0</td>\n",
       "      <td>2014-10-13</td>\n",
       "      <td>6830.0</td>\n",
       "      <td>32.489019</td>\n",
       "    </tr>\n",
       "    <tr>\n",
       "      <th>1</th>\n",
       "      <td>538000.0</td>\n",
       "      <td>6414100192</td>\n",
       "      <td>3.0</td>\n",
       "      <td>2.25</td>\n",
       "      <td>2570.0</td>\n",
       "      <td>7242.0</td>\n",
       "      <td>2.0</td>\n",
       "      <td>0</td>\n",
       "      <td>0.0</td>\n",
       "      <td>3</td>\n",
       "      <td>...</td>\n",
       "      <td>1951</td>\n",
       "      <td>1991</td>\n",
       "      <td>98125</td>\n",
       "      <td>47.7210</td>\n",
       "      <td>-122.319</td>\n",
       "      <td>1690.0</td>\n",
       "      <td>7639.0</td>\n",
       "      <td>2014-12-09</td>\n",
       "      <td>9812.0</td>\n",
       "      <td>54.830819</td>\n",
       "    </tr>\n",
       "    <tr>\n",
       "      <th>2</th>\n",
       "      <td>604000.0</td>\n",
       "      <td>2487200875</td>\n",
       "      <td>4.0</td>\n",
       "      <td>3.00</td>\n",
       "      <td>1960.0</td>\n",
       "      <td>5000.0</td>\n",
       "      <td>1.0</td>\n",
       "      <td>0</td>\n",
       "      <td>0.0</td>\n",
       "      <td>5</td>\n",
       "      <td>...</td>\n",
       "      <td>1965</td>\n",
       "      <td>0</td>\n",
       "      <td>98136</td>\n",
       "      <td>47.5208</td>\n",
       "      <td>-122.393</td>\n",
       "      <td>1360.0</td>\n",
       "      <td>5000.0</td>\n",
       "      <td>2014-12-09</td>\n",
       "      <td>6960.0</td>\n",
       "      <td>86.781609</td>\n",
       "    </tr>\n",
       "    <tr>\n",
       "      <th>3</th>\n",
       "      <td>510000.0</td>\n",
       "      <td>1954400510</td>\n",
       "      <td>3.0</td>\n",
       "      <td>2.00</td>\n",
       "      <td>1680.0</td>\n",
       "      <td>8080.0</td>\n",
       "      <td>1.0</td>\n",
       "      <td>0</td>\n",
       "      <td>0.0</td>\n",
       "      <td>3</td>\n",
       "      <td>...</td>\n",
       "      <td>1987</td>\n",
       "      <td>0</td>\n",
       "      <td>98074</td>\n",
       "      <td>47.6168</td>\n",
       "      <td>-122.045</td>\n",
       "      <td>1800.0</td>\n",
       "      <td>7503.0</td>\n",
       "      <td>2015-02-18</td>\n",
       "      <td>9760.0</td>\n",
       "      <td>52.254098</td>\n",
       "    </tr>\n",
       "    <tr>\n",
       "      <th>4</th>\n",
       "      <td>1230000.0</td>\n",
       "      <td>7237550310</td>\n",
       "      <td>4.0</td>\n",
       "      <td>4.50</td>\n",
       "      <td>5420.0</td>\n",
       "      <td>101930.0</td>\n",
       "      <td>1.0</td>\n",
       "      <td>0</td>\n",
       "      <td>0.0</td>\n",
       "      <td>3</td>\n",
       "      <td>...</td>\n",
       "      <td>2001</td>\n",
       "      <td>0</td>\n",
       "      <td>98053</td>\n",
       "      <td>47.6561</td>\n",
       "      <td>-122.005</td>\n",
       "      <td>4760.0</td>\n",
       "      <td>101930.0</td>\n",
       "      <td>2014-05-12</td>\n",
       "      <td>107350.0</td>\n",
       "      <td>11.457848</td>\n",
       "    </tr>\n",
       "    <tr>\n",
       "      <th>...</th>\n",
       "      <td>...</td>\n",
       "      <td>...</td>\n",
       "      <td>...</td>\n",
       "      <td>...</td>\n",
       "      <td>...</td>\n",
       "      <td>...</td>\n",
       "      <td>...</td>\n",
       "      <td>...</td>\n",
       "      <td>...</td>\n",
       "      <td>...</td>\n",
       "      <td>...</td>\n",
       "      <td>...</td>\n",
       "      <td>...</td>\n",
       "      <td>...</td>\n",
       "      <td>...</td>\n",
       "      <td>...</td>\n",
       "      <td>...</td>\n",
       "      <td>...</td>\n",
       "      <td>...</td>\n",
       "      <td>...</td>\n",
       "      <td>...</td>\n",
       "    </tr>\n",
       "    <tr>\n",
       "      <th>17693</th>\n",
       "      <td>360000.0</td>\n",
       "      <td>263000018</td>\n",
       "      <td>3.0</td>\n",
       "      <td>2.50</td>\n",
       "      <td>1530.0</td>\n",
       "      <td>1131.0</td>\n",
       "      <td>3.0</td>\n",
       "      <td>0</td>\n",
       "      <td>0.0</td>\n",
       "      <td>3</td>\n",
       "      <td>...</td>\n",
       "      <td>2009</td>\n",
       "      <td>0</td>\n",
       "      <td>98103</td>\n",
       "      <td>47.6993</td>\n",
       "      <td>-122.346</td>\n",
       "      <td>1530.0</td>\n",
       "      <td>1509.0</td>\n",
       "      <td>2014-05-21</td>\n",
       "      <td>2661.0</td>\n",
       "      <td>135.287486</td>\n",
       "    </tr>\n",
       "    <tr>\n",
       "      <th>17694</th>\n",
       "      <td>400000.0</td>\n",
       "      <td>6600060120</td>\n",
       "      <td>4.0</td>\n",
       "      <td>2.50</td>\n",
       "      <td>2310.0</td>\n",
       "      <td>5813.0</td>\n",
       "      <td>2.0</td>\n",
       "      <td>0</td>\n",
       "      <td>0.0</td>\n",
       "      <td>3</td>\n",
       "      <td>...</td>\n",
       "      <td>2014</td>\n",
       "      <td>0</td>\n",
       "      <td>98146</td>\n",
       "      <td>47.5107</td>\n",
       "      <td>-122.362</td>\n",
       "      <td>1830.0</td>\n",
       "      <td>7200.0</td>\n",
       "      <td>2015-02-23</td>\n",
       "      <td>8123.0</td>\n",
       "      <td>49.242891</td>\n",
       "    </tr>\n",
       "    <tr>\n",
       "      <th>17695</th>\n",
       "      <td>402101.0</td>\n",
       "      <td>1523300141</td>\n",
       "      <td>2.0</td>\n",
       "      <td>0.75</td>\n",
       "      <td>1020.0</td>\n",
       "      <td>1350.0</td>\n",
       "      <td>2.0</td>\n",
       "      <td>0</td>\n",
       "      <td>0.0</td>\n",
       "      <td>3</td>\n",
       "      <td>...</td>\n",
       "      <td>2009</td>\n",
       "      <td>0</td>\n",
       "      <td>98144</td>\n",
       "      <td>47.5944</td>\n",
       "      <td>-122.299</td>\n",
       "      <td>1020.0</td>\n",
       "      <td>2007.0</td>\n",
       "      <td>2014-06-23</td>\n",
       "      <td>2370.0</td>\n",
       "      <td>169.662869</td>\n",
       "    </tr>\n",
       "    <tr>\n",
       "      <th>17696</th>\n",
       "      <td>400000.0</td>\n",
       "      <td>291310100</td>\n",
       "      <td>3.0</td>\n",
       "      <td>2.50</td>\n",
       "      <td>1600.0</td>\n",
       "      <td>2388.0</td>\n",
       "      <td>2.0</td>\n",
       "      <td>1</td>\n",
       "      <td>0.0</td>\n",
       "      <td>3</td>\n",
       "      <td>...</td>\n",
       "      <td>2004</td>\n",
       "      <td>0</td>\n",
       "      <td>98027</td>\n",
       "      <td>47.5345</td>\n",
       "      <td>-122.069</td>\n",
       "      <td>1410.0</td>\n",
       "      <td>1287.0</td>\n",
       "      <td>2015-01-16</td>\n",
       "      <td>3988.0</td>\n",
       "      <td>100.300903</td>\n",
       "    </tr>\n",
       "    <tr>\n",
       "      <th>17697</th>\n",
       "      <td>325000.0</td>\n",
       "      <td>1523300157</td>\n",
       "      <td>2.0</td>\n",
       "      <td>0.75</td>\n",
       "      <td>1020.0</td>\n",
       "      <td>1076.0</td>\n",
       "      <td>2.0</td>\n",
       "      <td>0</td>\n",
       "      <td>0.0</td>\n",
       "      <td>3</td>\n",
       "      <td>...</td>\n",
       "      <td>2008</td>\n",
       "      <td>0</td>\n",
       "      <td>98144</td>\n",
       "      <td>47.5941</td>\n",
       "      <td>-122.299</td>\n",
       "      <td>1020.0</td>\n",
       "      <td>1357.0</td>\n",
       "      <td>2014-10-15</td>\n",
       "      <td>2096.0</td>\n",
       "      <td>155.057252</td>\n",
       "    </tr>\n",
       "  </tbody>\n",
       "</table>\n",
       "<p>17698 rows × 23 columns</p>\n",
       "</div>"
      ],
      "text/plain": [
       "           price          id  bedrooms  bathrooms  sqft_living  sqft_lot  \\\n",
       "0       221900.0  7129300520       3.0       1.00       1180.0    5650.0   \n",
       "1       538000.0  6414100192       3.0       2.25       2570.0    7242.0   \n",
       "2       604000.0  2487200875       4.0       3.00       1960.0    5000.0   \n",
       "3       510000.0  1954400510       3.0       2.00       1680.0    8080.0   \n",
       "4      1230000.0  7237550310       4.0       4.50       5420.0  101930.0   \n",
       "...          ...         ...       ...        ...          ...       ...   \n",
       "17693   360000.0   263000018       3.0       2.50       1530.0    1131.0   \n",
       "17694   400000.0  6600060120       4.0       2.50       2310.0    5813.0   \n",
       "17695   402101.0  1523300141       2.0       0.75       1020.0    1350.0   \n",
       "17696   400000.0   291310100       3.0       2.50       1600.0    2388.0   \n",
       "17697   325000.0  1523300157       2.0       0.75       1020.0    1076.0   \n",
       "\n",
       "       floors waterfront  view  condition  ...  yr_built  yr_renovated  \\\n",
       "0         1.0          1   0.0          3  ...      1955             0   \n",
       "1         2.0          0   0.0          3  ...      1951          1991   \n",
       "2         1.0          0   0.0          5  ...      1965             0   \n",
       "3         1.0          0   0.0          3  ...      1987             0   \n",
       "4         1.0          0   0.0          3  ...      2001             0   \n",
       "...       ...        ...   ...        ...  ...       ...           ...   \n",
       "17693     3.0          0   0.0          3  ...      2009             0   \n",
       "17694     2.0          0   0.0          3  ...      2014             0   \n",
       "17695     2.0          0   0.0          3  ...      2009             0   \n",
       "17696     2.0          1   0.0          3  ...      2004             0   \n",
       "17697     2.0          0   0.0          3  ...      2008             0   \n",
       "\n",
       "       zipcode      lat     long sqft_living15  sqft_lot15        date  \\\n",
       "0        98178  47.5112 -122.257        1340.0      5650.0  2014-10-13   \n",
       "1        98125  47.7210 -122.319        1690.0      7639.0  2014-12-09   \n",
       "2        98136  47.5208 -122.393        1360.0      5000.0  2014-12-09   \n",
       "3        98074  47.6168 -122.045        1800.0      7503.0  2015-02-18   \n",
       "4        98053  47.6561 -122.005        4760.0    101930.0  2014-05-12   \n",
       "...        ...      ...      ...           ...         ...         ...   \n",
       "17693    98103  47.6993 -122.346        1530.0      1509.0  2014-05-21   \n",
       "17694    98146  47.5107 -122.362        1830.0      7200.0  2015-02-23   \n",
       "17695    98144  47.5944 -122.299        1020.0      2007.0  2014-06-23   \n",
       "17696    98027  47.5345 -122.069        1410.0      1287.0  2015-01-16   \n",
       "17697    98144  47.5941 -122.299        1020.0      1357.0  2014-10-15   \n",
       "\n",
       "       tot_sqft  price_per_sqft  \n",
       "0        6830.0       32.489019  \n",
       "1        9812.0       54.830819  \n",
       "2        6960.0       86.781609  \n",
       "3        9760.0       52.254098  \n",
       "4      107350.0       11.457848  \n",
       "...         ...             ...  \n",
       "17693    2661.0      135.287486  \n",
       "17694    8123.0       49.242891  \n",
       "17695    2370.0      169.662869  \n",
       "17696    3988.0      100.300903  \n",
       "17697    2096.0      155.057252  \n",
       "\n",
       "[17698 rows x 23 columns]"
      ]
     },
     "execution_count": 966,
     "metadata": {},
     "output_type": "execute_result"
    }
   ],
   "source": [
    "#df_analysis['price_per_sqft'] = df_analysis['price'] / df_analysis['sqft_living']\n",
    "df_analysis['price_per_sqft'] = df_analysis['price'] / df_analysis['tot_sqft']\n",
    "df_analysis"
   ]
  },
  {
   "cell_type": "markdown",
   "id": "62193ad1",
   "metadata": {},
   "source": [
    "A plot can help better understand the price per sqft distribution respect the zipcode."
   ]
  },
  {
   "cell_type": "code",
   "execution_count": 967,
   "id": "7fc8dffd",
   "metadata": {},
   "outputs": [
    {
     "data": {
      "text/plain": [
       "<Axes: xlabel='zipcode', ylabel='price_per_sqft'>"
      ]
     },
     "execution_count": 967,
     "metadata": {},
     "output_type": "execute_result"
    },
    {
     "data": {
      "image/png": "[encoded data removed]",
      "text/plain": [
       "<Figure size 4000x600 with 1 Axes>"
      ]
     },
     "metadata": {},
     "output_type": "display_data"
    }
   ],
   "source": [
    "plt.figure(figsize=(40, 6))  # Set width=10, height=6 (in inches)\n",
    "\n",
    "sns.barplot(df_analysis,x='zipcode', y='price_per_sqft',  )"
   ]
  },
  {
   "cell_type": "code",
   "execution_count": 968,
   "id": "417eef38",
   "metadata": {},
   "outputs": [
    {
     "data": {
      "text/plain": [
       "Text(0.5, 1.0, 'Price per square foot by ZIP Code')"
      ]
     },
     "execution_count": 968,
     "metadata": {},
     "output_type": "execute_result"
    },
    {
     "data": {
      "image/png": "[encoded data removed]",
      "text/plain": [
       "<Figure size 4000x600 with 1 Axes>"
      ]
     },
     "metadata": {},
     "output_type": "display_data"
    }
   ],
   "source": [
    "plt.figure(figsize=(40, 6))  # Set width=10, height=6 (in inches)\n",
    "sns.boxplot(df_analysis, x='zipcode', y='price_per_sqft')\n",
    "plt.title(\"Price per square foot by ZIP Code\", fontsize=24, fontweight='bold')\n",
    "\n"
   ]
  },
  {
   "cell_type": "code",
   "execution_count": 969,
   "id": "e7b9ee82",
   "metadata": {},
   "outputs": [
    {
     "data": {
      "text/plain": [
       "Text(0.5, 1.0, 'Correlation Map')"
      ]
     },
     "execution_count": 969,
     "metadata": {},
     "output_type": "execute_result"
    },
    {
     "data": {
      "image/png": "[encoded data removed]",
      "text/plain": [
       "<Figure size 600x500 with 2 Axes>"
      ]
     },
     "metadata": {},
     "output_type": "display_data"
    }
   ],
   "source": [
    "plt.figure(figsize=(6,5),dpi=100)\n",
    "sns.heatmap(df_analysis[['zipcode','price_per_sqft', 'price', 'condition', 'grade']].corr(), annot=True, fmt='.2f',cmap='coolwarm', vmin=-1,vmax=1)\n",
    "plt.title(\"Correlation Map\", fontsize=18, fontweight='bold')"
   ]
  },
  {
   "cell_type": "markdown",
   "id": "80a0ede6",
   "metadata": {},
   "source": [
    "Now we have information about the distribution of the price per square foot and zipcode. \n",
    "\n",
    "We must identify those that are relatively cheap. From the Boxplot it can be observed that the price per sqft shows a common range between all zipcode. \n",
    "\n",
    "Therefore we need to identifies the poorest neighborhood: by considering the median value (so that outlier do not affect my analysis) and sorting them, it is possible to define the poorest neighborhood\n",
    "\n",
    "We define the poorest as the one below a threshold value that we assume to be the bottom 25% of the zip"
   ]
  },
  {
   "cell_type": "code",
   "execution_count": 970,
   "id": "fda55b37",
   "metadata": {},
   "outputs": [
    {
     "data": {
      "text/plain": [
       "zipcode\n",
       "98024      9.083674\n",
       "98070      9.663805\n",
       "98014     14.645858\n",
       "98077     15.079381\n",
       "98010     16.385139\n",
       "            ...    \n",
       "98107    126.939442\n",
       "98112    145.942238\n",
       "98109    148.951195\n",
       "98119    157.111356\n",
       "98102    165.137615\n",
       "Name: price_per_sqft, Length: 70, dtype: float64"
      ]
     },
     "execution_count": 970,
     "metadata": {},
     "output_type": "execute_result"
    }
   ],
   "source": [
    "# by group by the zipcode and the price per sqft, we extrapolate the median and we sort them\n",
    "zip_prices = df_analysis.groupby('zipcode')['price_per_sqft'].median().sort_values()\n",
    "zip_prices"
   ]
  },
  {
   "cell_type": "code",
   "execution_count": 971,
   "id": "3db17370",
   "metadata": {},
   "outputs": [
    {
     "data": {
      "text/plain": [
       "['98024',\n",
       " '98070',\n",
       " '98014',\n",
       " '98077',\n",
       " '98010',\n",
       " '98022',\n",
       " '98001',\n",
       " '98168',\n",
       " '98045',\n",
       " '98072',\n",
       " '98032',\n",
       " '98003',\n",
       " '98198',\n",
       " '98002',\n",
       " '98023',\n",
       " '98188',\n",
       " '98148',\n",
       " '98092']"
      ]
     },
     "execution_count": 971,
     "metadata": {},
     "output_type": "execute_result"
    }
   ],
   "source": [
    "#definition of the threshold\n",
    "threshold=zip_prices.quantile(0.25)\n",
    "\n",
    "# refining the data set so it will consider only the data below this value\n",
    "poor_zipcodes=zip_prices[zip_prices<threshold].index.tolist() # it creates a list of the poor zipcode\n",
    "poor_zipcodes"
   ]
  },
  {
   "cell_type": "markdown",
   "id": "c6c5423e",
   "metadata": {},
   "source": [
    "Now that we have the list of the poor_zipcode, we need to collect the other information from the data frame. Now we can associate to the house having this zipcode the poor_zipcode attribute"
   ]
  },
  {
   "cell_type": "code",
   "execution_count": 972,
   "id": "f2cbb95e",
   "metadata": {},
   "outputs": [
    {
     "data": {
      "text/html": [
       "<div>\n",
       "<style scoped>\n",
       "    .dataframe tbody tr th:only-of-type {\n",
       "        vertical-align: middle;\n",
       "    }\n",
       "\n",
       "    .dataframe tbody tr th {\n",
       "        vertical-align: top;\n",
       "    }\n",
       "\n",
       "    .dataframe thead th {\n",
       "        text-align: right;\n",
       "    }\n",
       "</style>\n",
       "<table border=\"1\" class=\"dataframe\">\n",
       "  <thead>\n",
       "    <tr style=\"text-align: right;\">\n",
       "      <th></th>\n",
       "      <th>price</th>\n",
       "      <th>id</th>\n",
       "      <th>bedrooms</th>\n",
       "      <th>bathrooms</th>\n",
       "      <th>sqft_living</th>\n",
       "      <th>sqft_lot</th>\n",
       "      <th>floors</th>\n",
       "      <th>waterfront</th>\n",
       "      <th>view</th>\n",
       "      <th>condition</th>\n",
       "      <th>...</th>\n",
       "      <th>yr_renovated</th>\n",
       "      <th>zipcode</th>\n",
       "      <th>lat</th>\n",
       "      <th>long</th>\n",
       "      <th>sqft_living15</th>\n",
       "      <th>sqft_lot15</th>\n",
       "      <th>date</th>\n",
       "      <th>tot_sqft</th>\n",
       "      <th>price_per_sqft</th>\n",
       "      <th>poor_neighborhood</th>\n",
       "    </tr>\n",
       "  </thead>\n",
       "  <tbody>\n",
       "    <tr>\n",
       "      <th>0</th>\n",
       "      <td>221900.0</td>\n",
       "      <td>7129300520</td>\n",
       "      <td>3.0</td>\n",
       "      <td>1.00</td>\n",
       "      <td>1180.0</td>\n",
       "      <td>5650.0</td>\n",
       "      <td>1.0</td>\n",
       "      <td>1</td>\n",
       "      <td>0.0</td>\n",
       "      <td>3</td>\n",
       "      <td>...</td>\n",
       "      <td>0</td>\n",
       "      <td>98178</td>\n",
       "      <td>47.5112</td>\n",
       "      <td>-122.257</td>\n",
       "      <td>1340.0</td>\n",
       "      <td>5650.0</td>\n",
       "      <td>2014-10-13</td>\n",
       "      <td>6830.0</td>\n",
       "      <td>32.489019</td>\n",
       "      <td>False</td>\n",
       "    </tr>\n",
       "    <tr>\n",
       "      <th>1</th>\n",
       "      <td>538000.0</td>\n",
       "      <td>6414100192</td>\n",
       "      <td>3.0</td>\n",
       "      <td>2.25</td>\n",
       "      <td>2570.0</td>\n",
       "      <td>7242.0</td>\n",
       "      <td>2.0</td>\n",
       "      <td>0</td>\n",
       "      <td>0.0</td>\n",
       "      <td>3</td>\n",
       "      <td>...</td>\n",
       "      <td>1991</td>\n",
       "      <td>98125</td>\n",
       "      <td>47.7210</td>\n",
       "      <td>-122.319</td>\n",
       "      <td>1690.0</td>\n",
       "      <td>7639.0</td>\n",
       "      <td>2014-12-09</td>\n",
       "      <td>9812.0</td>\n",
       "      <td>54.830819</td>\n",
       "      <td>False</td>\n",
       "    </tr>\n",
       "    <tr>\n",
       "      <th>2</th>\n",
       "      <td>604000.0</td>\n",
       "      <td>2487200875</td>\n",
       "      <td>4.0</td>\n",
       "      <td>3.00</td>\n",
       "      <td>1960.0</td>\n",
       "      <td>5000.0</td>\n",
       "      <td>1.0</td>\n",
       "      <td>0</td>\n",
       "      <td>0.0</td>\n",
       "      <td>5</td>\n",
       "      <td>...</td>\n",
       "      <td>0</td>\n",
       "      <td>98136</td>\n",
       "      <td>47.5208</td>\n",
       "      <td>-122.393</td>\n",
       "      <td>1360.0</td>\n",
       "      <td>5000.0</td>\n",
       "      <td>2014-12-09</td>\n",
       "      <td>6960.0</td>\n",
       "      <td>86.781609</td>\n",
       "      <td>False</td>\n",
       "    </tr>\n",
       "    <tr>\n",
       "      <th>3</th>\n",
       "      <td>510000.0</td>\n",
       "      <td>1954400510</td>\n",
       "      <td>3.0</td>\n",
       "      <td>2.00</td>\n",
       "      <td>1680.0</td>\n",
       "      <td>8080.0</td>\n",
       "      <td>1.0</td>\n",
       "      <td>0</td>\n",
       "      <td>0.0</td>\n",
       "      <td>3</td>\n",
       "      <td>...</td>\n",
       "      <td>0</td>\n",
       "      <td>98074</td>\n",
       "      <td>47.6168</td>\n",
       "      <td>-122.045</td>\n",
       "      <td>1800.0</td>\n",
       "      <td>7503.0</td>\n",
       "      <td>2015-02-18</td>\n",
       "      <td>9760.0</td>\n",
       "      <td>52.254098</td>\n",
       "      <td>False</td>\n",
       "    </tr>\n",
       "    <tr>\n",
       "      <th>4</th>\n",
       "      <td>1230000.0</td>\n",
       "      <td>7237550310</td>\n",
       "      <td>4.0</td>\n",
       "      <td>4.50</td>\n",
       "      <td>5420.0</td>\n",
       "      <td>101930.0</td>\n",
       "      <td>1.0</td>\n",
       "      <td>0</td>\n",
       "      <td>0.0</td>\n",
       "      <td>3</td>\n",
       "      <td>...</td>\n",
       "      <td>0</td>\n",
       "      <td>98053</td>\n",
       "      <td>47.6561</td>\n",
       "      <td>-122.005</td>\n",
       "      <td>4760.0</td>\n",
       "      <td>101930.0</td>\n",
       "      <td>2014-05-12</td>\n",
       "      <td>107350.0</td>\n",
       "      <td>11.457848</td>\n",
       "      <td>False</td>\n",
       "    </tr>\n",
       "    <tr>\n",
       "      <th>...</th>\n",
       "      <td>...</td>\n",
       "      <td>...</td>\n",
       "      <td>...</td>\n",
       "      <td>...</td>\n",
       "      <td>...</td>\n",
       "      <td>...</td>\n",
       "      <td>...</td>\n",
       "      <td>...</td>\n",
       "      <td>...</td>\n",
       "      <td>...</td>\n",
       "      <td>...</td>\n",
       "      <td>...</td>\n",
       "      <td>...</td>\n",
       "      <td>...</td>\n",
       "      <td>...</td>\n",
       "      <td>...</td>\n",
       "      <td>...</td>\n",
       "      <td>...</td>\n",
       "      <td>...</td>\n",
       "      <td>...</td>\n",
       "      <td>...</td>\n",
       "    </tr>\n",
       "    <tr>\n",
       "      <th>17693</th>\n",
       "      <td>360000.0</td>\n",
       "      <td>263000018</td>\n",
       "      <td>3.0</td>\n",
       "      <td>2.50</td>\n",
       "      <td>1530.0</td>\n",
       "      <td>1131.0</td>\n",
       "      <td>3.0</td>\n",
       "      <td>0</td>\n",
       "      <td>0.0</td>\n",
       "      <td>3</td>\n",
       "      <td>...</td>\n",
       "      <td>0</td>\n",
       "      <td>98103</td>\n",
       "      <td>47.6993</td>\n",
       "      <td>-122.346</td>\n",
       "      <td>1530.0</td>\n",
       "      <td>1509.0</td>\n",
       "      <td>2014-05-21</td>\n",
       "      <td>2661.0</td>\n",
       "      <td>135.287486</td>\n",
       "      <td>False</td>\n",
       "    </tr>\n",
       "    <tr>\n",
       "      <th>17694</th>\n",
       "      <td>400000.0</td>\n",
       "      <td>6600060120</td>\n",
       "      <td>4.0</td>\n",
       "      <td>2.50</td>\n",
       "      <td>2310.0</td>\n",
       "      <td>5813.0</td>\n",
       "      <td>2.0</td>\n",
       "      <td>0</td>\n",
       "      <td>0.0</td>\n",
       "      <td>3</td>\n",
       "      <td>...</td>\n",
       "      <td>0</td>\n",
       "      <td>98146</td>\n",
       "      <td>47.5107</td>\n",
       "      <td>-122.362</td>\n",
       "      <td>1830.0</td>\n",
       "      <td>7200.0</td>\n",
       "      <td>2015-02-23</td>\n",
       "      <td>8123.0</td>\n",
       "      <td>49.242891</td>\n",
       "      <td>False</td>\n",
       "    </tr>\n",
       "    <tr>\n",
       "      <th>17695</th>\n",
       "      <td>402101.0</td>\n",
       "      <td>1523300141</td>\n",
       "      <td>2.0</td>\n",
       "      <td>0.75</td>\n",
       "      <td>1020.0</td>\n",
       "      <td>1350.0</td>\n",
       "      <td>2.0</td>\n",
       "      <td>0</td>\n",
       "      <td>0.0</td>\n",
       "      <td>3</td>\n",
       "      <td>...</td>\n",
       "      <td>0</td>\n",
       "      <td>98144</td>\n",
       "      <td>47.5944</td>\n",
       "      <td>-122.299</td>\n",
       "      <td>1020.0</td>\n",
       "      <td>2007.0</td>\n",
       "      <td>2014-06-23</td>\n",
       "      <td>2370.0</td>\n",
       "      <td>169.662869</td>\n",
       "      <td>False</td>\n",
       "    </tr>\n",
       "    <tr>\n",
       "      <th>17696</th>\n",
       "      <td>400000.0</td>\n",
       "      <td>291310100</td>\n",
       "      <td>3.0</td>\n",
       "      <td>2.50</td>\n",
       "      <td>1600.0</td>\n",
       "      <td>2388.0</td>\n",
       "      <td>2.0</td>\n",
       "      <td>1</td>\n",
       "      <td>0.0</td>\n",
       "      <td>3</td>\n",
       "      <td>...</td>\n",
       "      <td>0</td>\n",
       "      <td>98027</td>\n",
       "      <td>47.5345</td>\n",
       "      <td>-122.069</td>\n",
       "      <td>1410.0</td>\n",
       "      <td>1287.0</td>\n",
       "      <td>2015-01-16</td>\n",
       "      <td>3988.0</td>\n",
       "      <td>100.300903</td>\n",
       "      <td>False</td>\n",
       "    </tr>\n",
       "    <tr>\n",
       "      <th>17697</th>\n",
       "      <td>325000.0</td>\n",
       "      <td>1523300157</td>\n",
       "      <td>2.0</td>\n",
       "      <td>0.75</td>\n",
       "      <td>1020.0</td>\n",
       "      <td>1076.0</td>\n",
       "      <td>2.0</td>\n",
       "      <td>0</td>\n",
       "      <td>0.0</td>\n",
       "      <td>3</td>\n",
       "      <td>...</td>\n",
       "      <td>0</td>\n",
       "      <td>98144</td>\n",
       "      <td>47.5941</td>\n",
       "      <td>-122.299</td>\n",
       "      <td>1020.0</td>\n",
       "      <td>1357.0</td>\n",
       "      <td>2014-10-15</td>\n",
       "      <td>2096.0</td>\n",
       "      <td>155.057252</td>\n",
       "      <td>False</td>\n",
       "    </tr>\n",
       "  </tbody>\n",
       "</table>\n",
       "<p>17698 rows × 24 columns</p>\n",
       "</div>"
      ],
      "text/plain": [
       "           price          id  bedrooms  bathrooms  sqft_living  sqft_lot  \\\n",
       "0       221900.0  7129300520       3.0       1.00       1180.0    5650.0   \n",
       "1       538000.0  6414100192       3.0       2.25       2570.0    7242.0   \n",
       "2       604000.0  2487200875       4.0       3.00       1960.0    5000.0   \n",
       "3       510000.0  1954400510       3.0       2.00       1680.0    8080.0   \n",
       "4      1230000.0  7237550310       4.0       4.50       5420.0  101930.0   \n",
       "...          ...         ...       ...        ...          ...       ...   \n",
       "17693   360000.0   263000018       3.0       2.50       1530.0    1131.0   \n",
       "17694   400000.0  6600060120       4.0       2.50       2310.0    5813.0   \n",
       "17695   402101.0  1523300141       2.0       0.75       1020.0    1350.0   \n",
       "17696   400000.0   291310100       3.0       2.50       1600.0    2388.0   \n",
       "17697   325000.0  1523300157       2.0       0.75       1020.0    1076.0   \n",
       "\n",
       "       floors waterfront  view  condition  ...  yr_renovated  zipcode  \\\n",
       "0         1.0          1   0.0          3  ...             0    98178   \n",
       "1         2.0          0   0.0          3  ...          1991    98125   \n",
       "2         1.0          0   0.0          5  ...             0    98136   \n",
       "3         1.0          0   0.0          3  ...             0    98074   \n",
       "4         1.0          0   0.0          3  ...             0    98053   \n",
       "...       ...        ...   ...        ...  ...           ...      ...   \n",
       "17693     3.0          0   0.0          3  ...             0    98103   \n",
       "17694     2.0          0   0.0          3  ...             0    98146   \n",
       "17695     2.0          0   0.0          3  ...             0    98144   \n",
       "17696     2.0          1   0.0          3  ...             0    98027   \n",
       "17697     2.0          0   0.0          3  ...             0    98144   \n",
       "\n",
       "           lat     long  sqft_living15 sqft_lot15        date  tot_sqft  \\\n",
       "0      47.5112 -122.257         1340.0     5650.0  2014-10-13    6830.0   \n",
       "1      47.7210 -122.319         1690.0     7639.0  2014-12-09    9812.0   \n",
       "2      47.5208 -122.393         1360.0     5000.0  2014-12-09    6960.0   \n",
       "3      47.6168 -122.045         1800.0     7503.0  2015-02-18    9760.0   \n",
       "4      47.6561 -122.005         4760.0   101930.0  2014-05-12  107350.0   \n",
       "...        ...      ...            ...        ...         ...       ...   \n",
       "17693  47.6993 -122.346         1530.0     1509.0  2014-05-21    2661.0   \n",
       "17694  47.5107 -122.362         1830.0     7200.0  2015-02-23    8123.0   \n",
       "17695  47.5944 -122.299         1020.0     2007.0  2014-06-23    2370.0   \n",
       "17696  47.5345 -122.069         1410.0     1287.0  2015-01-16    3988.0   \n",
       "17697  47.5941 -122.299         1020.0     1357.0  2014-10-15    2096.0   \n",
       "\n",
       "       price_per_sqft  poor_neighborhood  \n",
       "0           32.489019              False  \n",
       "1           54.830819              False  \n",
       "2           86.781609              False  \n",
       "3           52.254098              False  \n",
       "4           11.457848              False  \n",
       "...               ...                ...  \n",
       "17693      135.287486              False  \n",
       "17694       49.242891              False  \n",
       "17695      169.662869              False  \n",
       "17696      100.300903              False  \n",
       "17697      155.057252              False  \n",
       "\n",
       "[17698 rows x 24 columns]"
      ]
     },
     "execution_count": 972,
     "metadata": {},
     "output_type": "execute_result"
    }
   ],
   "source": [
    "df_analysis['poor_neighborhood'] = df_analysis['zipcode'].isin(poor_zipcodes) #define a new colone with values true or false indicating it belongs to a poor zipcode\n",
    "df_analysis\n"
   ]
  },
  {
   "cell_type": "code",
   "execution_count": 973,
   "id": "18f8bb3f",
   "metadata": {},
   "outputs": [
    {
     "data": {
      "text/html": [
       "<div>\n",
       "<style scoped>\n",
       "    .dataframe tbody tr th:only-of-type {\n",
       "        vertical-align: middle;\n",
       "    }\n",
       "\n",
       "    .dataframe tbody tr th {\n",
       "        vertical-align: top;\n",
       "    }\n",
       "\n",
       "    .dataframe thead th {\n",
       "        text-align: right;\n",
       "    }\n",
       "</style>\n",
       "<table border=\"1\" class=\"dataframe\">\n",
       "  <thead>\n",
       "    <tr style=\"text-align: right;\">\n",
       "      <th></th>\n",
       "      <th>price</th>\n",
       "      <th>id</th>\n",
       "      <th>bedrooms</th>\n",
       "      <th>bathrooms</th>\n",
       "      <th>sqft_living</th>\n",
       "      <th>sqft_lot</th>\n",
       "      <th>floors</th>\n",
       "      <th>waterfront</th>\n",
       "      <th>view</th>\n",
       "      <th>condition</th>\n",
       "      <th>...</th>\n",
       "      <th>yr_renovated</th>\n",
       "      <th>zipcode</th>\n",
       "      <th>lat</th>\n",
       "      <th>long</th>\n",
       "      <th>sqft_living15</th>\n",
       "      <th>sqft_lot15</th>\n",
       "      <th>date</th>\n",
       "      <th>tot_sqft</th>\n",
       "      <th>price_per_sqft</th>\n",
       "      <th>poor_neighborhood</th>\n",
       "    </tr>\n",
       "  </thead>\n",
       "  <tbody>\n",
       "    <tr>\n",
       "      <th>5</th>\n",
       "      <td>257500.0</td>\n",
       "      <td>1321400060</td>\n",
       "      <td>3.0</td>\n",
       "      <td>2.25</td>\n",
       "      <td>1715.0</td>\n",
       "      <td>6819.0</td>\n",
       "      <td>2.0</td>\n",
       "      <td>0</td>\n",
       "      <td>0.0</td>\n",
       "      <td>3</td>\n",
       "      <td>...</td>\n",
       "      <td>0</td>\n",
       "      <td>98003</td>\n",
       "      <td>47.3097</td>\n",
       "      <td>-122.327</td>\n",
       "      <td>2238.0</td>\n",
       "      <td>6819.0</td>\n",
       "      <td>2014-06-27</td>\n",
       "      <td>8534.0</td>\n",
       "      <td>30.173424</td>\n",
       "      <td>True</td>\n",
       "    </tr>\n",
       "    <tr>\n",
       "      <th>15</th>\n",
       "      <td>189000.0</td>\n",
       "      <td>16000397</td>\n",
       "      <td>2.0</td>\n",
       "      <td>1.00</td>\n",
       "      <td>1200.0</td>\n",
       "      <td>9850.0</td>\n",
       "      <td>1.0</td>\n",
       "      <td>0</td>\n",
       "      <td>0.0</td>\n",
       "      <td>4</td>\n",
       "      <td>...</td>\n",
       "      <td>0</td>\n",
       "      <td>98002</td>\n",
       "      <td>47.3089</td>\n",
       "      <td>-122.210</td>\n",
       "      <td>1060.0</td>\n",
       "      <td>5095.0</td>\n",
       "      <td>2014-12-05</td>\n",
       "      <td>11050.0</td>\n",
       "      <td>17.104072</td>\n",
       "      <td>True</td>\n",
       "    </tr>\n",
       "    <tr>\n",
       "      <th>16</th>\n",
       "      <td>230000.0</td>\n",
       "      <td>7983200060</td>\n",
       "      <td>3.0</td>\n",
       "      <td>1.00</td>\n",
       "      <td>1250.0</td>\n",
       "      <td>9774.0</td>\n",
       "      <td>1.0</td>\n",
       "      <td>0</td>\n",
       "      <td>0.0</td>\n",
       "      <td>4</td>\n",
       "      <td>...</td>\n",
       "      <td>0</td>\n",
       "      <td>98003</td>\n",
       "      <td>47.3343</td>\n",
       "      <td>-122.306</td>\n",
       "      <td>1280.0</td>\n",
       "      <td>8850.0</td>\n",
       "      <td>2015-04-24</td>\n",
       "      <td>11024.0</td>\n",
       "      <td>20.863570</td>\n",
       "      <td>True</td>\n",
       "    </tr>\n",
       "    <tr>\n",
       "      <th>19</th>\n",
       "      <td>285000.0</td>\n",
       "      <td>7137970340</td>\n",
       "      <td>5.0</td>\n",
       "      <td>2.50</td>\n",
       "      <td>2270.0</td>\n",
       "      <td>6300.0</td>\n",
       "      <td>2.0</td>\n",
       "      <td>0</td>\n",
       "      <td>0.0</td>\n",
       "      <td>3</td>\n",
       "      <td>...</td>\n",
       "      <td>0</td>\n",
       "      <td>98092</td>\n",
       "      <td>47.3266</td>\n",
       "      <td>-122.169</td>\n",
       "      <td>2240.0</td>\n",
       "      <td>7005.0</td>\n",
       "      <td>2014-07-03</td>\n",
       "      <td>8570.0</td>\n",
       "      <td>33.255543</td>\n",
       "      <td>True</td>\n",
       "    </tr>\n",
       "    <tr>\n",
       "      <th>21</th>\n",
       "      <td>233000.0</td>\n",
       "      <td>1202000200</td>\n",
       "      <td>3.0</td>\n",
       "      <td>2.00</td>\n",
       "      <td>1710.0</td>\n",
       "      <td>4697.0</td>\n",
       "      <td>1.5</td>\n",
       "      <td>0</td>\n",
       "      <td>0.0</td>\n",
       "      <td>5</td>\n",
       "      <td>...</td>\n",
       "      <td>0</td>\n",
       "      <td>98002</td>\n",
       "      <td>47.3048</td>\n",
       "      <td>-122.218</td>\n",
       "      <td>1030.0</td>\n",
       "      <td>4705.0</td>\n",
       "      <td>2014-11-03</td>\n",
       "      <td>6407.0</td>\n",
       "      <td>36.366474</td>\n",
       "      <td>True</td>\n",
       "    </tr>\n",
       "    <tr>\n",
       "      <th>...</th>\n",
       "      <td>...</td>\n",
       "      <td>...</td>\n",
       "      <td>...</td>\n",
       "      <td>...</td>\n",
       "      <td>...</td>\n",
       "      <td>...</td>\n",
       "      <td>...</td>\n",
       "      <td>...</td>\n",
       "      <td>...</td>\n",
       "      <td>...</td>\n",
       "      <td>...</td>\n",
       "      <td>...</td>\n",
       "      <td>...</td>\n",
       "      <td>...</td>\n",
       "      <td>...</td>\n",
       "      <td>...</td>\n",
       "      <td>...</td>\n",
       "      <td>...</td>\n",
       "      <td>...</td>\n",
       "      <td>...</td>\n",
       "      <td>...</td>\n",
       "    </tr>\n",
       "    <tr>\n",
       "      <th>17651</th>\n",
       "      <td>388000.0</td>\n",
       "      <td>2855000110</td>\n",
       "      <td>3.0</td>\n",
       "      <td>2.50</td>\n",
       "      <td>2198.0</td>\n",
       "      <td>6222.0</td>\n",
       "      <td>2.0</td>\n",
       "      <td>0</td>\n",
       "      <td>2.0</td>\n",
       "      <td>3</td>\n",
       "      <td>...</td>\n",
       "      <td>0</td>\n",
       "      <td>98198</td>\n",
       "      <td>47.3906</td>\n",
       "      <td>-122.304</td>\n",
       "      <td>2198.0</td>\n",
       "      <td>7621.0</td>\n",
       "      <td>2014-08-08</td>\n",
       "      <td>8420.0</td>\n",
       "      <td>46.080760</td>\n",
       "      <td>True</td>\n",
       "    </tr>\n",
       "    <tr>\n",
       "      <th>17660</th>\n",
       "      <td>341780.0</td>\n",
       "      <td>5007500120</td>\n",
       "      <td>4.0</td>\n",
       "      <td>2.75</td>\n",
       "      <td>2260.0</td>\n",
       "      <td>4440.0</td>\n",
       "      <td>2.0</td>\n",
       "      <td>0</td>\n",
       "      <td>0.0</td>\n",
       "      <td>3</td>\n",
       "      <td>...</td>\n",
       "      <td>0</td>\n",
       "      <td>98001</td>\n",
       "      <td>47.3507</td>\n",
       "      <td>-122.291</td>\n",
       "      <td>2260.0</td>\n",
       "      <td>4563.0</td>\n",
       "      <td>2015-02-26</td>\n",
       "      <td>6700.0</td>\n",
       "      <td>51.011940</td>\n",
       "      <td>True</td>\n",
       "    </tr>\n",
       "    <tr>\n",
       "      <th>17667</th>\n",
       "      <td>399950.0</td>\n",
       "      <td>9578500790</td>\n",
       "      <td>3.0</td>\n",
       "      <td>2.50</td>\n",
       "      <td>3087.0</td>\n",
       "      <td>5002.0</td>\n",
       "      <td>2.0</td>\n",
       "      <td>0</td>\n",
       "      <td>0.0</td>\n",
       "      <td>3</td>\n",
       "      <td>...</td>\n",
       "      <td>0</td>\n",
       "      <td>98023</td>\n",
       "      <td>47.2974</td>\n",
       "      <td>-122.349</td>\n",
       "      <td>2927.0</td>\n",
       "      <td>5183.0</td>\n",
       "      <td>2014-11-11</td>\n",
       "      <td>8089.0</td>\n",
       "      <td>49.443689</td>\n",
       "      <td>True</td>\n",
       "    </tr>\n",
       "    <tr>\n",
       "      <th>17685</th>\n",
       "      <td>541800.0</td>\n",
       "      <td>8956200760</td>\n",
       "      <td>4.0</td>\n",
       "      <td>2.50</td>\n",
       "      <td>3118.0</td>\n",
       "      <td>7866.0</td>\n",
       "      <td>2.0</td>\n",
       "      <td>1</td>\n",
       "      <td>2.0</td>\n",
       "      <td>3</td>\n",
       "      <td>...</td>\n",
       "      <td>0</td>\n",
       "      <td>98001</td>\n",
       "      <td>47.2931</td>\n",
       "      <td>-122.264</td>\n",
       "      <td>2673.0</td>\n",
       "      <td>6500.0</td>\n",
       "      <td>2014-10-13</td>\n",
       "      <td>10984.0</td>\n",
       "      <td>49.326293</td>\n",
       "      <td>True</td>\n",
       "    </tr>\n",
       "    <tr>\n",
       "      <th>17688</th>\n",
       "      <td>224000.0</td>\n",
       "      <td>844000965</td>\n",
       "      <td>3.0</td>\n",
       "      <td>1.75</td>\n",
       "      <td>1500.0</td>\n",
       "      <td>11968.0</td>\n",
       "      <td>1.0</td>\n",
       "      <td>1</td>\n",
       "      <td>0.0</td>\n",
       "      <td>3</td>\n",
       "      <td>...</td>\n",
       "      <td>0</td>\n",
       "      <td>98010</td>\n",
       "      <td>47.3095</td>\n",
       "      <td>-122.002</td>\n",
       "      <td>1320.0</td>\n",
       "      <td>11303.0</td>\n",
       "      <td>2014-06-26</td>\n",
       "      <td>13468.0</td>\n",
       "      <td>16.632017</td>\n",
       "      <td>True</td>\n",
       "    </tr>\n",
       "  </tbody>\n",
       "</table>\n",
       "<p>3233 rows × 24 columns</p>\n",
       "</div>"
      ],
      "text/plain": [
       "          price          id  bedrooms  bathrooms  sqft_living  sqft_lot  \\\n",
       "5      257500.0  1321400060       3.0       2.25       1715.0    6819.0   \n",
       "15     189000.0    16000397       2.0       1.00       1200.0    9850.0   \n",
       "16     230000.0  7983200060       3.0       1.00       1250.0    9774.0   \n",
       "19     285000.0  7137970340       5.0       2.50       2270.0    6300.0   \n",
       "21     233000.0  1202000200       3.0       2.00       1710.0    4697.0   \n",
       "...         ...         ...       ...        ...          ...       ...   \n",
       "17651  388000.0  2855000110       3.0       2.50       2198.0    6222.0   \n",
       "17660  341780.0  5007500120       4.0       2.75       2260.0    4440.0   \n",
       "17667  399950.0  9578500790       3.0       2.50       3087.0    5002.0   \n",
       "17685  541800.0  8956200760       4.0       2.50       3118.0    7866.0   \n",
       "17688  224000.0   844000965       3.0       1.75       1500.0   11968.0   \n",
       "\n",
       "       floors waterfront  view  condition  ...  yr_renovated  zipcode  \\\n",
       "5         2.0          0   0.0          3  ...             0    98003   \n",
       "15        1.0          0   0.0          4  ...             0    98002   \n",
       "16        1.0          0   0.0          4  ...             0    98003   \n",
       "19        2.0          0   0.0          3  ...             0    98092   \n",
       "21        1.5          0   0.0          5  ...             0    98002   \n",
       "...       ...        ...   ...        ...  ...           ...      ...   \n",
       "17651     2.0          0   2.0          3  ...             0    98198   \n",
       "17660     2.0          0   0.0          3  ...             0    98001   \n",
       "17667     2.0          0   0.0          3  ...             0    98023   \n",
       "17685     2.0          1   2.0          3  ...             0    98001   \n",
       "17688     1.0          1   0.0          3  ...             0    98010   \n",
       "\n",
       "           lat     long  sqft_living15 sqft_lot15        date  tot_sqft  \\\n",
       "5      47.3097 -122.327         2238.0     6819.0  2014-06-27    8534.0   \n",
       "15     47.3089 -122.210         1060.0     5095.0  2014-12-05   11050.0   \n",
       "16     47.3343 -122.306         1280.0     8850.0  2015-04-24   11024.0   \n",
       "19     47.3266 -122.169         2240.0     7005.0  2014-07-03    8570.0   \n",
       "21     47.3048 -122.218         1030.0     4705.0  2014-11-03    6407.0   \n",
       "...        ...      ...            ...        ...         ...       ...   \n",
       "17651  47.3906 -122.304         2198.0     7621.0  2014-08-08    8420.0   \n",
       "17660  47.3507 -122.291         2260.0     4563.0  2015-02-26    6700.0   \n",
       "17667  47.2974 -122.349         2927.0     5183.0  2014-11-11    8089.0   \n",
       "17685  47.2931 -122.264         2673.0     6500.0  2014-10-13   10984.0   \n",
       "17688  47.3095 -122.002         1320.0    11303.0  2014-06-26   13468.0   \n",
       "\n",
       "       price_per_sqft  poor_neighborhood  \n",
       "5           30.173424               True  \n",
       "15          17.104072               True  \n",
       "16          20.863570               True  \n",
       "19          33.255543               True  \n",
       "21          36.366474               True  \n",
       "...               ...                ...  \n",
       "17651       46.080760               True  \n",
       "17660       51.011940               True  \n",
       "17667       49.443689               True  \n",
       "17685       49.326293               True  \n",
       "17688       16.632017               True  \n",
       "\n",
       "[3233 rows x 24 columns]"
      ]
     },
     "execution_count": 973,
     "metadata": {},
     "output_type": "execute_result"
    }
   ],
   "source": [
    "df_small=df_analysis[df_analysis['poor_neighborhood']==True]\n",
    "df_small"
   ]
  },
  {
   "cell_type": "code",
   "execution_count": 974,
   "id": "7ac91e31",
   "metadata": {},
   "outputs": [
    {
     "data": {
      "application/vnd.plotly.v1+json": {
       "config": {
        "plotlyServerURL": "https://plot.ly"
       },
       "data": [
        {
         "customdata": [
          [
           "98003",
           257500
          ],
          [
           "98002",
           189000
          ],
          [
           "98003",
           230000
          ],
          [
           "98092",
           285000
          ],
          [
           "98002",
           233000
          ],
          [
           "98001",
           240000
          ],
          [
           "98023",
           210490
          ],
          [
           "98070",
           1350000
          ],
          [
           "98148",
           228000
          ],
          [
           "98148",
           289000
          ],
          [
           "98001",
           287000
          ],
          [
           "98010",
           720000
          ],
          [
           "98092",
           305000
          ],
          [
           "98023",
           243500
          ],
          [
           "98023",
           153000
          ],
          [
           "98032",
           247500
          ],
          [
           "98023",
           199000
          ],
          [
           "98045",
           437500
          ],
          [
           "98077",
           699950
          ],
          [
           "98198",
           188500
          ],
          [
           "98077",
           680000
          ],
          [
           "98168",
           171800
          ],
          [
           "98092",
           212000
          ],
          [
           "98003",
           220000
          ],
          [
           "98077",
           921500
          ],
          [
           "98032",
           258000
          ],
          [
           "98003",
           282950
          ],
          [
           "98023",
           320000
          ],
          [
           "98022",
           247000
          ],
          [
           "98198",
           269950
          ],
          [
           "98022",
           269950
          ],
          [
           "98023",
           269000
          ],
          [
           "98023",
           256883
          ],
          [
           "98024",
           440000
          ],
          [
           "98023",
           226500
          ],
          [
           "98001",
           465000
          ],
          [
           "98168",
           280000
          ],
          [
           "98198",
           279950
          ],
          [
           "98023",
           264950
          ],
          [
           "98023",
           315000
          ],
          [
           "98024",
           213000
          ],
          [
           "98010",
           416000
          ],
          [
           "98077",
           800000
          ],
          [
           "98003",
           472000
          ],
          [
           "98003",
           225000
          ],
          [
           "98002",
           225000
          ],
          [
           "98023",
           363000
          ],
          [
           "98032",
           260000
          ],
          [
           "98045",
           415000
          ],
          [
           "98198",
           237000
          ],
          [
           "98070",
           369900
          ],
          [
           "98023",
           272500
          ],
          [
           "98003",
           210000
          ],
          [
           "98072",
           467000
          ],
          [
           "98001",
           360000
          ],
          [
           "98188",
           267500
          ],
          [
           "98003",
           335000
          ],
          [
           "98001",
           230000
          ],
          [
           "98023",
           240000
          ],
          [
           "98077",
           274975
          ],
          [
           "98198",
           279000
          ],
          [
           "98022",
           295000
          ],
          [
           "98070",
           309600
          ],
          [
           "98014",
           299000
          ],
          [
           "98001",
           252000
          ],
          [
           "98023",
           380000
          ],
          [
           "98077",
           950000
          ],
          [
           "98072",
           365500
          ],
          [
           "98022",
           360000
          ],
          [
           "98045",
           437000
          ],
          [
           "98092",
           278500
          ],
          [
           "98070",
           517534
          ],
          [
           "98024",
           563500
          ],
          [
           "98024",
           1550000
          ],
          [
           "98001",
           227950
          ],
          [
           "98001",
           196000
          ],
          [
           "98032",
           205000
          ],
          [
           "98072",
           400000
          ],
          [
           "98072",
           496500
          ],
          [
           "98070",
           705000
          ],
          [
           "98014",
           80000
          ],
          [
           "98032",
           299000
          ],
          [
           "98188",
           240000
          ],
          [
           "98024",
           1600000
          ],
          [
           "98092",
           200000
          ],
          [
           "98198",
           160000
          ],
          [
           "98010",
           204000
          ],
          [
           "98032",
           318888
          ],
          [
           "98168",
           215000
          ],
          [
           "98188",
           238000
          ],
          [
           "98092",
           404950
          ],
          [
           "98014",
           405000
          ],
          [
           "98002",
           266000
          ],
          [
           "98077",
           930000
          ],
          [
           "98023",
           180000
          ],
          [
           "98003",
           264000
          ],
          [
           "98045",
           330000
          ],
          [
           "98022",
           265000
          ],
          [
           "98168",
           240500
          ],
          [
           "98045",
           595000
          ],
          [
           "98023",
           515000
          ],
          [
           "98010",
           185000
          ],
          [
           "98188",
           469000
          ],
          [
           "98045",
           175000
          ],
          [
           "98092",
           210000
          ],
          [
           "98002",
           200000
          ],
          [
           "98022",
           218000
          ],
          [
           "98002",
           214000
          ],
          [
           "98188",
           245000
          ],
          [
           "98003",
           314500
          ],
          [
           "98001",
           305000
          ],
          [
           "98198",
           157000
          ],
          [
           "98077",
           521000
          ],
          [
           "98045",
           269900
          ],
          [
           "98072",
           323000
          ],
          [
           "98003",
           290000
          ],
          [
           "98045",
           280000
          ],
          [
           "98023",
           222000
          ],
          [
           "98023",
           320000
          ],
          [
           "98198",
           268000
          ],
          [
           "98188",
           130000
          ],
          [
           "98198",
           325000
          ],
          [
           "98022",
           530000
          ],
          [
           "98001",
           243000
          ],
          [
           "98003",
           215000
          ],
          [
           "98032",
           250000
          ],
          [
           "98198",
           210000
          ],
          [
           "98077",
           985000
          ],
          [
           "98045",
           315000
          ],
          [
           "98077",
           740000
          ],
          [
           "98077",
           305000
          ],
          [
           "98023",
           316500
          ],
          [
           "98023",
           405000
          ],
          [
           "98168",
           269950
          ],
          [
           "98023",
           218000
          ],
          [
           "98010",
           379000
          ],
          [
           "98022",
           246500
          ],
          [
           "98092",
           325000
          ],
          [
           "98168",
           175000
          ],
          [
           "98032",
           285000
          ],
          [
           "98092",
           332000
          ],
          [
           "98022",
           330000
          ],
          [
           "98092",
           327000
          ],
          [
           "98168",
           245000
          ],
          [
           "98092",
           280000
          ],
          [
           "98092",
           289999
          ],
          [
           "98198",
           229000
          ],
          [
           "98168",
           185000
          ],
          [
           "98092",
           225000
          ],
          [
           "98072",
           480000
          ],
          [
           "98077",
           660000
          ],
          [
           "98002",
           234000
          ],
          [
           "98001",
           205000
          ],
          [
           "98198",
           250000
          ],
          [
           "98014",
           342000
          ],
          [
           "98188",
           255000
          ],
          [
           "98010",
           288349
          ],
          [
           "98092",
           299900
          ],
          [
           "98023",
           260000
          ],
          [
           "98045",
           369950
          ],
          [
           "98077",
           630000
          ],
          [
           "98001",
           196500
          ],
          [
           "98198",
           265000
          ],
          [
           "98023",
           237500
          ],
          [
           "98003",
           216000
          ],
          [
           "98022",
           283000
          ],
          [
           "98168",
           260000
          ],
          [
           "98003",
           253000
          ],
          [
           "98001",
           289000
          ],
          [
           "98023",
           258000
          ],
          [
           "98092",
           245000
          ],
          [
           "98023",
           325000
          ],
          [
           "98024",
           540000
          ],
          [
           "98072",
           475000
          ],
          [
           "98168",
           283000
          ],
          [
           "98077",
           840000
          ],
          [
           "98001",
           249900
          ],
          [
           "98002",
           218500
          ],
          [
           "98198",
           318000
          ],
          [
           "98168",
           320000
          ],
          [
           "98198",
           208000
          ],
          [
           "98003",
           515000
          ],
          [
           "98168",
           225000
          ],
          [
           "98092",
           241000
          ],
          [
           "98023",
           195000
          ],
          [
           "98003",
           275000
          ],
          [
           "98168",
           262000
          ],
          [
           "98092",
           224500
          ],
          [
           "98022",
           225000
          ],
          [
           "98072",
           425000
          ],
          [
           "98092",
           298900
          ],
          [
           "98023",
           194000
          ],
          [
           "98070",
           290000
          ],
          [
           "98024",
           535000
          ],
          [
           "98188",
           220000
          ],
          [
           "98168",
           173000
          ],
          [
           "98014",
           361000
          ],
          [
           "98003",
           179950
          ],
          [
           "98001",
           100000
          ],
          [
           "98014",
           307000
          ],
          [
           "98023",
           475000
          ],
          [
           "98072",
           659000
          ],
          [
           "98072",
           375000
          ],
          [
           "98092",
           170000
          ],
          [
           "98023",
           258000
          ],
          [
           "98024",
           600000
          ],
          [
           "98092",
           295700
          ],
          [
           "98092",
           390000
          ],
          [
           "98198",
           470000
          ],
          [
           "98072",
           345000
          ],
          [
           "98198",
           425000
          ],
          [
           "98168",
           170000
          ],
          [
           "98070",
           255000
          ],
          [
           "98092",
           835000
          ],
          [
           "98024",
           275000
          ],
          [
           "98003",
           375000
          ],
          [
           "98023",
           556000
          ],
          [
           "98014",
           595000
          ],
          [
           "98072",
           432000
          ],
          [
           "98023",
           515000
          ],
          [
           "98023",
           274500
          ],
          [
           "98070",
           585000
          ],
          [
           "98045",
           372000
          ],
          [
           "98022",
           330000
          ],
          [
           "98022",
           275000
          ],
          [
           "98077",
           465000
          ],
          [
           "98010",
           253000
          ],
          [
           "98198",
           345000
          ],
          [
           "98072",
           389000
          ],
          [
           "98001",
           350000
          ],
          [
           "98072",
           914600
          ],
          [
           "98168",
           290000
          ],
          [
           "98077",
           480000
          ],
          [
           "98198",
           352500
          ],
          [
           "98032",
           140000
          ],
          [
           "98003",
           280000
          ],
          [
           "98003",
           235000
          ],
          [
           "98014",
           504750
          ],
          [
           "98070",
           530000
          ],
          [
           "98023",
           340000
          ],
          [
           "98023",
           230000
          ],
          [
           "98001",
           355000
          ],
          [
           "98092",
           360000
          ],
          [
           "98198",
           170000
          ],
          [
           "98077",
           1250000
          ],
          [
           "98001",
           355000
          ],
          [
           "98003",
           245000
          ],
          [
           "98077",
           610000
          ],
          [
           "98072",
           828500
          ],
          [
           "98023",
           199990
          ],
          [
           "98198",
           284950
          ],
          [
           "98092",
           303000
          ],
          [
           "98198",
           140000
          ],
          [
           "98198",
           235000
          ],
          [
           "98168",
           300000
          ],
          [
           "98045",
           372500
          ],
          [
           "98010",
           650000
          ],
          [
           "98002",
           249950
          ],
          [
           "98092",
           336000
          ],
          [
           "98045",
           378000
          ],
          [
           "98045",
           454000
          ],
          [
           "98010",
           208000
          ],
          [
           "98032",
           248000
          ],
          [
           "98045",
           750000
          ],
          [
           "98072",
           520000
          ],
          [
           "98168",
           325000
          ],
          [
           "98188",
           255000
          ],
          [
           "98168",
           231500
          ],
          [
           "98001",
           330000
          ],
          [
           "98198",
           425000
          ],
          [
           "98023",
           335000
          ],
          [
           "98002",
           224000
          ],
          [
           "98022",
           165050
          ],
          [
           "98077",
           510000
          ],
          [
           "98070",
           510000
          ],
          [
           "98001",
           196440
          ],
          [
           "98077",
           825000
          ],
          [
           "98010",
           340000
          ],
          [
           "98003",
           229000
          ],
          [
           "98001",
           429000
          ],
          [
           "98023",
           187500
          ],
          [
           "98022",
           700000
          ],
          [
           "98023",
           264000
          ],
          [
           "98077",
           600000
          ],
          [
           "98072",
           541100
          ],
          [
           "98022",
           397000
          ],
          [
           "98077",
           805000
          ],
          [
           "98023",
           305000
          ],
          [
           "98072",
           883000
          ],
          [
           "98010",
           190000
          ],
          [
           "98023",
           285000
          ],
          [
           "98010",
           225000
          ],
          [
           "98001",
           215500
          ],
          [
           "98014",
           503000
          ],
          [
           "98001",
           206000
          ],
          [
           "98092",
           930000
          ],
          [
           "98188",
           300000
          ],
          [
           "98077",
           367500
          ],
          [
           "98198",
           189650
          ],
          [
           "98198",
           243000
          ],
          [
           "98092",
           249000
          ],
          [
           "98002",
           247500
          ],
          [
           "98168",
           340000
          ],
          [
           "98003",
           410500
          ],
          [
           "98198",
           133000
          ],
          [
           "98092",
           325000
          ],
          [
           "98001",
           210000
          ],
          [
           "98010",
           640000
          ],
          [
           "98003",
           740000
          ],
          [
           "98077",
           432000
          ],
          [
           "98188",
           598800
          ],
          [
           "98003",
           240000
          ],
          [
           "98001",
           284200
          ],
          [
           "98070",
           480000
          ],
          [
           "98023",
           232500
          ],
          [
           "98014",
           420850
          ],
          [
           "98188",
           345000
          ],
          [
           "98092",
           250000
          ],
          [
           "98023",
           402500
          ],
          [
           "98002",
           180000
          ],
          [
           "98045",
           276900
          ],
          [
           "98188",
           156000
          ],
          [
           "98188",
           380000
          ],
          [
           "98072",
           475000
          ],
          [
           "98022",
           152900
          ],
          [
           "98023",
           235000
          ],
          [
           "98092",
           272000
          ],
          [
           "98023",
           349000
          ],
          [
           "98077",
           361000
          ],
          [
           "98168",
           248000
          ],
          [
           "98092",
           383000
          ],
          [
           "98023",
           279000
          ],
          [
           "98198",
           280000
          ],
          [
           "98092",
           339900
          ],
          [
           "98092",
           235000
          ],
          [
           "98023",
           239900
          ],
          [
           "98001",
           185000
          ],
          [
           "98168",
           82500
          ],
          [
           "98023",
           292500
          ],
          [
           "98188",
           245990
          ],
          [
           "98001",
           332000
          ],
          [
           "98023",
           280000
          ],
          [
           "98001",
           238000
          ],
          [
           "98092",
           346300
          ],
          [
           "98022",
           342500
          ],
          [
           "98003",
           333000
          ],
          [
           "98168",
           275000
          ],
          [
           "98023",
           311750
          ],
          [
           "98092",
           235000
          ],
          [
           "98092",
           265000
          ],
          [
           "98072",
           600000
          ],
          [
           "98022",
           220000
          ],
          [
           "98092",
           295450
          ],
          [
           "98148",
           310000
          ],
          [
           "98168",
           284000
          ],
          [
           "98010",
           700000
          ],
          [
           "98198",
           340000
          ],
          [
           "98022",
           245000
          ],
          [
           "98002",
           208000
          ],
          [
           "98023",
           270000
          ],
          [
           "98001",
           213550
          ],
          [
           "98198",
           210000
          ],
          [
           "98002",
           183000
          ],
          [
           "98092",
           560000
          ],
          [
           "98188",
           288350
          ],
          [
           "98072",
           354950
          ],
          [
           "98077",
           522250
          ],
          [
           "98023",
           275000
          ],
          [
           "98148",
           260000
          ],
          [
           "98003",
           357000
          ],
          [
           "98002",
           210000
          ],
          [
           "98024",
           260000
          ],
          [
           "98092",
           226740
          ],
          [
           "98024",
           445000
          ],
          [
           "98023",
           315000
          ],
          [
           "98010",
           520000
          ],
          [
           "98003",
           255000
          ],
          [
           "98198",
           234000
          ],
          [
           "98168",
           230000
          ],
          [
           "98070",
           482000
          ],
          [
           "98001",
           175000
          ],
          [
           "98092",
           282000
          ],
          [
           "98023",
           269950
          ],
          [
           "98010",
           260000
          ],
          [
           "98023",
           193000
          ],
          [
           "98045",
           592000
          ],
          [
           "98168",
           300000
          ],
          [
           "98003",
           299500
          ],
          [
           "98003",
           280000
          ],
          [
           "98001",
           235000
          ],
          [
           "98022",
           487000
          ],
          [
           "98072",
           625000
          ],
          [
           "98001",
           165000
          ],
          [
           "98023",
           350000
          ],
          [
           "98077",
           306000
          ],
          [
           "98092",
           143000
          ],
          [
           "98092",
           306000
          ],
          [
           "98072",
           674250
          ],
          [
           "98023",
           262000
          ],
          [
           "98045",
           353000
          ],
          [
           "98022",
           340000
          ],
          [
           "98022",
           353000
          ],
          [
           "98045",
           195000
          ],
          [
           "98045",
           322000
          ],
          [
           "98002",
           280000
          ],
          [
           "98002",
           300000
          ],
          [
           "98072",
           475000
          ],
          [
           "98168",
           179900
          ],
          [
           "98168",
           166000
          ],
          [
           "98003",
           356500
          ],
          [
           "98198",
           225000
          ],
          [
           "98002",
           175000
          ],
          [
           "98072",
           552500
          ],
          [
           "98001",
           276000
          ],
          [
           "98003",
           265000
          ],
          [
           "98092",
           313000
          ],
          [
           "98001",
           265000
          ],
          [
           "98003",
           649000
          ],
          [
           "98023",
           330000
          ],
          [
           "98023",
           267345
          ],
          [
           "98045",
           275000
          ],
          [
           "98023",
           212000
          ],
          [
           "98092",
           378500
          ],
          [
           "98014",
           134000
          ],
          [
           "98045",
           399500
          ],
          [
           "98022",
           205500
          ],
          [
           "98077",
           299000
          ],
          [
           "98045",
           379000
          ],
          [
           "98198",
           230000
          ],
          [
           "98003",
           190000
          ],
          [
           "98168",
           305000
          ],
          [
           "98001",
           259000
          ],
          [
           "98148",
           202500
          ],
          [
           "98198",
           418200
          ],
          [
           "98045",
           471000
          ],
          [
           "98002",
           161500
          ],
          [
           "98045",
           271900
          ],
          [
           "98072",
           315500
          ],
          [
           "98072",
           326500
          ],
          [
           "98032",
           223000
          ],
          [
           "98092",
           298500
          ],
          [
           "98168",
           283000
          ],
          [
           "98045",
           535000
          ],
          [
           "98168",
           234500
          ],
          [
           "98198",
           397000
          ],
          [
           "98198",
           265000
          ],
          [
           "98045",
           370000
          ],
          [
           "98022",
           230000
          ],
          [
           "98023",
           172000
          ],
          [
           "98003",
           190000
          ],
          [
           "98003",
           212000
          ],
          [
           "98023",
           325900
          ],
          [
           "98023",
           223000
          ],
          [
           "98092",
           179500
          ],
          [
           "98003",
           175000
          ],
          [
           "98092",
           248000
          ],
          [
           "98077",
           460000
          ],
          [
           "98010",
           256000
          ],
          [
           "98023",
           280000
          ],
          [
           "98045",
           724950
          ],
          [
           "98022",
           302000
          ],
          [
           "98198",
           149900
          ],
          [
           "98023",
           205000
          ],
          [
           "98010",
           350000
          ],
          [
           "98032",
           240000
          ],
          [
           "98001",
           276000
          ],
          [
           "98024",
           315000
          ],
          [
           "98014",
           685530
          ],
          [
           "98002",
           254600
          ],
          [
           "98188",
           325000
          ],
          [
           "98148",
           225000
          ],
          [
           "98168",
           265000
          ],
          [
           "98072",
           590000
          ],
          [
           "98022",
           474000
          ],
          [
           "98070",
           999000
          ],
          [
           "98023",
           196000
          ],
          [
           "98001",
           299950
          ],
          [
           "98014",
           590000
          ],
          [
           "98188",
           259500
          ],
          [
           "98023",
           307450
          ],
          [
           "98188",
           200450
          ],
          [
           "98002",
           219950
          ],
          [
           "98077",
           316000
          ],
          [
           "98198",
           160000
          ],
          [
           "98198",
           170000
          ],
          [
           "98198",
           235000
          ],
          [
           "98023",
           272000
          ],
          [
           "98092",
           365000
          ],
          [
           "98002",
           255000
          ],
          [
           "98168",
           275000
          ],
          [
           "98045",
           280000
          ],
          [
           "98023",
           348000
          ],
          [
           "98023",
           222000
          ],
          [
           "98092",
           200000
          ],
          [
           "98023",
           247500
          ],
          [
           "98001",
           196000
          ],
          [
           "98072",
           775000
          ],
          [
           "98032",
           176500
          ],
          [
           "98023",
           215000
          ],
          [
           "98198",
           181100
          ],
          [
           "98072",
           415000
          ],
          [
           "98001",
           515000
          ],
          [
           "98023",
           414000
          ],
          [
           "98198",
           210000
          ],
          [
           "98077",
           528000
          ],
          [
           "98092",
           537000
          ],
          [
           "98077",
           845000
          ],
          [
           "98032",
           234000
          ],
          [
           "98045",
           290000
          ],
          [
           "98022",
           262000
          ],
          [
           "98032",
           299000
          ],
          [
           "98070",
           252000
          ],
          [
           "98168",
           230000
          ],
          [
           "98045",
           325000
          ],
          [
           "98168",
           299950
          ],
          [
           "98032",
           240000
          ],
          [
           "98023",
           218000
          ],
          [
           "98014",
           935000
          ],
          [
           "98003",
           153503
          ],
          [
           "98001",
           180000
          ],
          [
           "98148",
           193000
          ],
          [
           "98077",
           875000
          ],
          [
           "98002",
           257200
          ],
          [
           "98022",
           380000
          ],
          [
           "98023",
           282000
          ],
          [
           "98010",
           206000
          ],
          [
           "98024",
           430000
          ],
          [
           "98023",
           245000
          ],
          [
           "98045",
           496000
          ],
          [
           "98198",
           95000
          ],
          [
           "98045",
           452500
          ],
          [
           "98032",
           240000
          ],
          [
           "98092",
           250000
          ],
          [
           "98092",
           368500
          ],
          [
           "98022",
           340000
          ],
          [
           "98092",
           265000
          ],
          [
           "98045",
           845000
          ],
          [
           "98168",
           145000
          ],
          [
           "98003",
           304000
          ],
          [
           "98198",
           406000
          ],
          [
           "98045",
           189000
          ],
          [
           "98077",
           705000
          ],
          [
           "98072",
           356000
          ],
          [
           "98072",
           415000
          ],
          [
           "98077",
           783350
          ],
          [
           "98003",
           314900
          ],
          [
           "98022",
           122000
          ],
          [
           "98077",
           542126
          ],
          [
           "98001",
           115000
          ],
          [
           "98168",
           189000
          ],
          [
           "98188",
           216000
          ],
          [
           "98045",
           665000
          ],
          [
           "98070",
           329500
          ],
          [
           "98168",
           226950
          ],
          [
           "98001",
           195000
          ],
          [
           "98070",
           256500
          ],
          [
           "98072",
           749950
          ],
          [
           "98070",
           338500
          ],
          [
           "98001",
           299950
          ],
          [
           "98168",
           325000
          ],
          [
           "98022",
           195000
          ],
          [
           "98002",
           222000
          ],
          [
           "98010",
           430000
          ],
          [
           "98003",
           335000
          ],
          [
           "98188",
           197000
          ],
          [
           "98188",
           277500
          ],
          [
           "98024",
           529000
          ],
          [
           "98023",
           299000
          ],
          [
           "98001",
           299000
          ],
          [
           "98023",
           277950
          ],
          [
           "98072",
           760000
          ],
          [
           "98198",
           230000
          ],
          [
           "98045",
           307000
          ],
          [
           "98188",
           253779
          ],
          [
           "98023",
           221000
          ],
          [
           "98168",
           200000
          ],
          [
           "98032",
           249000
          ],
          [
           "98023",
           248000
          ],
          [
           "98072",
           484000
          ],
          [
           "98014",
           252500
          ],
          [
           "98092",
           322500
          ],
          [
           "98168",
           122000
          ],
          [
           "98014",
           406500
          ],
          [
           "98022",
           251000
          ],
          [
           "98002",
           206000
          ],
          [
           "98198",
           370000
          ],
          [
           "98003",
           225000
          ],
          [
           "98010",
           440000
          ],
          [
           "98045",
           350000
          ],
          [
           "98077",
           775000
          ],
          [
           "98010",
           590000
          ],
          [
           "98010",
           135000
          ],
          [
           "98002",
           213500
          ],
          [
           "98188",
           179950
          ],
          [
           "98002",
           188200
          ],
          [
           "98001",
           201700
          ],
          [
           "98188",
           240000
          ],
          [
           "98072",
           775000
          ],
          [
           "98045",
           470000
          ],
          [
           "98045",
           524500
          ],
          [
           "98168",
           84000
          ],
          [
           "98198",
           449900
          ],
          [
           "98001",
           286950
          ],
          [
           "98072",
           680000
          ],
          [
           "98002",
           95000
          ],
          [
           "98198",
           245000
          ],
          [
           "98198",
           239000
          ],
          [
           "98188",
           294950
          ],
          [
           "98198",
           205000
          ],
          [
           "98070",
           429592
          ],
          [
           "98072",
           414250
          ],
          [
           "98022",
           367000
          ],
          [
           "98022",
           535000
          ],
          [
           "98092",
           210000
          ],
          [
           "98072",
           730000
          ],
          [
           "98003",
           425000
          ],
          [
           "98198",
           308000
          ],
          [
           "98148",
           270000
          ],
          [
           "98168",
           220000
          ],
          [
           "98092",
           408500
          ],
          [
           "98168",
           210000
          ],
          [
           "98070",
           1380000
          ],
          [
           "98001",
           215000
          ],
          [
           "98023",
           317000
          ],
          [
           "98148",
           122000
          ],
          [
           "98002",
           276000
          ],
          [
           "98072",
           450000
          ],
          [
           "98023",
           350000
          ],
          [
           "98023",
           310597
          ],
          [
           "98070",
           525000
          ],
          [
           "98024",
           291000
          ],
          [
           "98077",
           420000
          ],
          [
           "98198",
           210000
          ],
          [
           "98148",
           295000
          ],
          [
           "98045",
           290000
          ],
          [
           "98045",
           494000
          ],
          [
           "98023",
           310000
          ],
          [
           "98168",
           228950
          ],
          [
           "98092",
           324888
          ],
          [
           "98022",
           252000
          ],
          [
           "98148",
           280000
          ],
          [
           "98092",
           905000
          ],
          [
           "98001",
           382450
          ],
          [
           "98168",
           135000
          ],
          [
           "98023",
           280000
          ],
          [
           "98072",
           1060000
          ],
          [
           "98001",
           269950
          ],
          [
           "98168",
           198500
          ],
          [
           "98024",
           340000
          ],
          [
           "98188",
           235000
          ],
          [
           "98023",
           277500
          ],
          [
           "98092",
           245000
          ],
          [
           "98072",
           525000
          ],
          [
           "98023",
           260000
          ],
          [
           "98003",
           222000
          ],
          [
           "98032",
           215000
          ],
          [
           "98198",
           232000
          ],
          [
           "98002",
           245000
          ],
          [
           "98003",
           273000
          ],
          [
           "98168",
           360000
          ],
          [
           "98168",
           235000
          ],
          [
           "98045",
           654000
          ],
          [
           "98014",
           150000
          ],
          [
           "98045",
           255000
          ],
          [
           "98002",
           270000
          ],
          [
           "98002",
           285000
          ],
          [
           "98198",
           379260
          ],
          [
           "98198",
           271500
          ],
          [
           "98022",
           271900
          ],
          [
           "98023",
           261500
          ],
          [
           "98024",
           435000
          ],
          [
           "98032",
           260000
          ],
          [
           "98003",
           530000
          ],
          [
           "98092",
           235000
          ],
          [
           "98022",
           585000
          ],
          [
           "98023",
           220000
          ],
          [
           "98023",
           235000
          ],
          [
           "98077",
           450000
          ],
          [
           "98002",
           183000
          ],
          [
           "98092",
           192950
          ],
          [
           "98002",
           156000
          ],
          [
           "98010",
           340000
          ],
          [
           "98188",
           535000
          ],
          [
           "98022",
           339000
          ],
          [
           "98023",
           560000
          ],
          [
           "98092",
           289500
          ],
          [
           "98032",
           281000
          ],
          [
           "98022",
           380000
          ],
          [
           "98045",
           242000
          ],
          [
           "98198",
           240415
          ],
          [
           "98010",
           435000
          ],
          [
           "98023",
           1150000
          ],
          [
           "98148",
           191000
          ],
          [
           "98001",
           221000
          ],
          [
           "98092",
           359950
          ],
          [
           "98070",
           550000
          ],
          [
           "98045",
           480000
          ],
          [
           "98092",
           353000
          ],
          [
           "98168",
           235000
          ],
          [
           "98188",
           335000
          ],
          [
           "98092",
           275000
          ],
          [
           "98077",
           355000
          ],
          [
           "98198",
           402000
          ],
          [
           "98092",
           675000
          ],
          [
           "98014",
           790000
          ],
          [
           "98092",
           284000
          ],
          [
           "98092",
           340000
          ],
          [
           "98014",
           425000
          ],
          [
           "98023",
           305000
          ],
          [
           "98023",
           295500
          ],
          [
           "98070",
           567035
          ],
          [
           "98045",
           303000
          ],
          [
           "98023",
           275000
          ],
          [
           "98001",
           263400
          ],
          [
           "98022",
           297000
          ],
          [
           "98072",
           466000
          ],
          [
           "98022",
           197500
          ],
          [
           "98168",
           245000
          ],
          [
           "98168",
           160000
          ],
          [
           "98188",
           185000
          ],
          [
           "98003",
           345000
          ],
          [
           "98168",
           203000
          ],
          [
           "98198",
           140000
          ],
          [
           "98198",
           421000
          ],
          [
           "98002",
           238000
          ],
          [
           "98070",
           363750
          ],
          [
           "98014",
           585000
          ],
          [
           "98023",
           268000
          ],
          [
           "98022",
           293000
          ],
          [
           "98002",
           245000
          ],
          [
           "98070",
           181000
          ],
          [
           "98022",
           370000
          ],
          [
           "98072",
           369900
          ],
          [
           "98014",
           641000
          ],
          [
           "98077",
           898000
          ],
          [
           "98148",
           289950
          ],
          [
           "98077",
           380000
          ],
          [
           "98045",
           415900
          ],
          [
           "98168",
           296000
          ],
          [
           "98072",
           435000
          ],
          [
           "98092",
           390000
          ],
          [
           "98001",
           267500
          ],
          [
           "98092",
           299800
          ],
          [
           "98072",
           925000
          ],
          [
           "98072",
           565000
          ],
          [
           "98002",
           190000
          ],
          [
           "98014",
           154000
          ],
          [
           "98198",
           196900
          ],
          [
           "98003",
           205500
          ],
          [
           "98002",
           248500
          ],
          [
           "98092",
           350000
          ],
          [
           "98045",
           390000
          ],
          [
           "98198",
           260000
          ],
          [
           "98072",
           470000
          ],
          [
           "98198",
           227500
          ],
          [
           "98023",
           274000
          ],
          [
           "98198",
           225000
          ],
          [
           "98002",
           195000
          ],
          [
           "98168",
           318000
          ],
          [
           "98092",
           404000
          ],
          [
           "98092",
           339900
          ],
          [
           "98003",
           219000
          ],
          [
           "98003",
           248000
          ],
          [
           "98001",
           224000
          ],
          [
           "98045",
           525000
          ],
          [
           "98002",
           199950
          ],
          [
           "98198",
           147500
          ],
          [
           "98032",
           320000
          ],
          [
           "98023",
           220000
          ],
          [
           "98023",
           268000
          ],
          [
           "98092",
           475000
          ],
          [
           "98023",
           285000
          ],
          [
           "98003",
           261000
          ],
          [
           "98032",
           330000
          ],
          [
           "98032",
           250000
          ],
          [
           "98072",
           930000
          ],
          [
           "98077",
           332900
          ],
          [
           "98023",
           298700
          ],
          [
           "98070",
           549000
          ],
          [
           "98168",
           278000
          ],
          [
           "98188",
           245000
          ],
          [
           "98077",
           820000
          ],
          [
           "98045",
           220650
          ],
          [
           "98168",
           300000
          ],
          [
           "98001",
           359000
          ],
          [
           "98023",
           266500
          ],
          [
           "98092",
           559000
          ],
          [
           "98168",
           225000
          ],
          [
           "98022",
           329999
          ],
          [
           "98072",
           474900
          ],
          [
           "98001",
           482000
          ],
          [
           "98024",
           1580000
          ],
          [
           "98022",
           239000
          ],
          [
           "98072",
           625000
          ],
          [
           "98188",
           147200
          ],
          [
           "98002",
           233500
          ],
          [
           "98072",
           699000
          ],
          [
           "98003",
           285000
          ],
          [
           "98072",
           540000
          ],
          [
           "98023",
           266000
          ],
          [
           "98023",
           195000
          ],
          [
           "98002",
           235000
          ],
          [
           "98001",
           340000
          ],
          [
           "98023",
           339000
          ],
          [
           "98001",
           465000
          ],
          [
           "98168",
           232000
          ],
          [
           "98092",
           350000
          ],
          [
           "98072",
           479000
          ],
          [
           "98024",
           460000
          ],
          [
           "98198",
           308130
          ],
          [
           "98023",
           210000
          ],
          [
           "98092",
           245000
          ],
          [
           "98001",
           299000
          ],
          [
           "98092",
           300000
          ],
          [
           "98092",
           507000
          ],
          [
           "98198",
           220000
          ],
          [
           "98022",
           235000
          ],
          [
           "98001",
           169000
          ],
          [
           "98092",
           240000
          ],
          [
           "98092",
           395000
          ],
          [
           "98003",
           308000
          ],
          [
           "98023",
           290256
          ],
          [
           "98022",
           195000
          ],
          [
           "98010",
           630000
          ],
          [
           "98077",
           850000
          ],
          [
           "98070",
           389000
          ],
          [
           "98023",
           368000
          ],
          [
           "98072",
           335000
          ],
          [
           "98022",
           278500
          ],
          [
           "98001",
           260000
          ],
          [
           "98168",
           239000
          ],
          [
           "98024",
           835000
          ],
          [
           "98010",
           199999
          ],
          [
           "98072",
           600000
          ],
          [
           "98003",
           379000
          ],
          [
           "98023",
           349000
          ],
          [
           "98188",
           220000
          ],
          [
           "98003",
           215000
          ],
          [
           "98032",
           226450
          ],
          [
           "98072",
           865000
          ],
          [
           "98188",
           249000
          ],
          [
           "98188",
           368500
          ],
          [
           "98023",
           321027
          ],
          [
           "98092",
           319950
          ],
          [
           "98023",
           210000
          ],
          [
           "98077",
           595000
          ],
          [
           "98198",
           279000
          ],
          [
           "98072",
           474000
          ],
          [
           "98024",
           589000
          ],
          [
           "98077",
           585000
          ],
          [
           "98092",
           335000
          ],
          [
           "98198",
           407000
          ],
          [
           "98077",
           766950
          ],
          [
           "98022",
           220000
          ],
          [
           "98032",
           231000
          ],
          [
           "98188",
           185850
          ],
          [
           "98092",
           319900
          ],
          [
           "98023",
           329000
          ],
          [
           "98010",
           345000
          ],
          [
           "98014",
           299800
          ],
          [
           "98198",
           250000
          ],
          [
           "98072",
           535000
          ],
          [
           "98032",
           215000
          ],
          [
           "98002",
           215000
          ],
          [
           "98072",
           680000
          ],
          [
           "98072",
           605500
          ],
          [
           "98198",
           250000
          ],
          [
           "98077",
           483000
          ],
          [
           "98072",
           1220000
          ],
          [
           "98092",
           323000
          ],
          [
           "98002",
           257500
          ],
          [
           "98072",
           410000
          ],
          [
           "98198",
           258000
          ],
          [
           "98198",
           130000
          ],
          [
           "98003",
           200000
          ],
          [
           "98003",
           140000
          ],
          [
           "98010",
           575000
          ],
          [
           "98188",
           421000
          ],
          [
           "98077",
           458000
          ],
          [
           "98045",
           288000
          ],
          [
           "98001",
           260000
          ],
          [
           "98022",
           346290
          ],
          [
           "98022",
           227000
          ],
          [
           "98072",
           465425
          ],
          [
           "98023",
           280500
          ],
          [
           "98002",
           142500
          ],
          [
           "98003",
           241500
          ],
          [
           "98032",
           158550
          ],
          [
           "98077",
           353000
          ],
          [
           "98003",
           360000
          ],
          [
           "98014",
           272000
          ],
          [
           "98072",
           365000
          ],
          [
           "98003",
           375000
          ],
          [
           "98148",
           362000
          ],
          [
           "98003",
           350000
          ],
          [
           "98002",
           269000
          ],
          [
           "98022",
           265000
          ],
          [
           "98070",
           350000
          ],
          [
           "98198",
           604700
          ],
          [
           "98092",
           359950
          ],
          [
           "98077",
           535000
          ],
          [
           "98003",
           258750
          ],
          [
           "98001",
           430000
          ],
          [
           "98045",
           299500
          ],
          [
           "98072",
           329000
          ],
          [
           "98032",
           203000
          ],
          [
           "98168",
           276500
          ],
          [
           "98024",
           530000
          ],
          [
           "98022",
           350000
          ],
          [
           "98092",
           555000
          ],
          [
           "98198",
           289950
          ],
          [
           "98023",
           96500
          ],
          [
           "98023",
           185000
          ],
          [
           "98168",
           150550
          ],
          [
           "98022",
           400000
          ],
          [
           "98023",
           267000
          ],
          [
           "98001",
           215000
          ],
          [
           "98198",
           335000
          ],
          [
           "98072",
           640000
          ],
          [
           "98072",
           310000
          ],
          [
           "98024",
           625700
          ],
          [
           "98023",
           310000
          ],
          [
           "98023",
           272000
          ],
          [
           "98168",
           207000
          ],
          [
           "98092",
           265000
          ],
          [
           "98045",
           287000
          ],
          [
           "98092",
           203000
          ],
          [
           "98077",
           900000
          ],
          [
           "98023",
           89000
          ],
          [
           "98002",
           230000
          ],
          [
           "98188",
           489000
          ],
          [
           "98148",
           250000
          ],
          [
           "98001",
           230000
          ],
          [
           "98072",
           440000
          ],
          [
           "98077",
           762500
          ],
          [
           "98014",
           840000
          ],
          [
           "98198",
           212500
          ],
          [
           "98188",
           225000
          ],
          [
           "98022",
           320000
          ],
          [
           "98001",
           285000
          ],
          [
           "98188",
           255000
          ],
          [
           "98188",
           253000
          ],
          [
           "98023",
           205000
          ],
          [
           "98024",
           255000
          ],
          [
           "98070",
           495000
          ],
          [
           "98198",
           176000
          ],
          [
           "98023",
           419000
          ],
          [
           "98003",
           230000
          ],
          [
           "98092",
           321000
          ],
          [
           "98023",
           295000
          ],
          [
           "98077",
           730000
          ],
          [
           "98198",
           199000
          ],
          [
           "98188",
           240000
          ],
          [
           "98032",
           237000
          ],
          [
           "98014",
           150000
          ],
          [
           "98010",
           792500
          ],
          [
           "98002",
           239000
          ],
          [
           "98092",
           427500
          ],
          [
           "98070",
           340000
          ],
          [
           "98092",
           320000
          ],
          [
           "98001",
           277500
          ],
          [
           "98188",
           325000
          ],
          [
           "98001",
           260000
          ],
          [
           "98001",
           639900
          ],
          [
           "98023",
           610000
          ],
          [
           "98188",
           239975
          ],
          [
           "98002",
           197000
          ],
          [
           "98003",
           219000
          ],
          [
           "98198",
           219950
          ],
          [
           "98092",
           640000
          ],
          [
           "98003",
           253000
          ],
          [
           "98072",
           810000
          ],
          [
           "98168",
           380000
          ],
          [
           "98198",
           200000
          ],
          [
           "98045",
           545000
          ],
          [
           "98023",
           630000
          ],
          [
           "98092",
           334000
          ],
          [
           "98001",
           275000
          ],
          [
           "98032",
           277000
          ],
          [
           "98003",
           236000
          ],
          [
           "98092",
           265953
          ],
          [
           "98092",
           367500
          ],
          [
           "98023",
           355000
          ],
          [
           "98168",
           240000
          ],
          [
           "98045",
           490000
          ],
          [
           "98072",
           435000
          ],
          [
           "98168",
           600000
          ],
          [
           "98168",
           170000
          ],
          [
           "98024",
           258000
          ],
          [
           "98002",
           225500
          ],
          [
           "98022",
           315000
          ],
          [
           "98032",
           327500
          ],
          [
           "98198",
           257950
          ],
          [
           "98077",
           625000
          ],
          [
           "98023",
           278500
          ],
          [
           "98002",
           286285
          ],
          [
           "98001",
           286000
          ],
          [
           "98198",
           259000
          ],
          [
           "98023",
           188000
          ],
          [
           "98014",
           755000
          ],
          [
           "98023",
           260000
          ],
          [
           "98045",
           320000
          ],
          [
           "98077",
           760000
          ],
          [
           "98024",
           710000
          ],
          [
           "98070",
           545000
          ],
          [
           "98002",
           194900
          ],
          [
           "98001",
           280000
          ],
          [
           "98014",
           280000
          ],
          [
           "98045",
           309212
          ],
          [
           "98023",
           219950
          ],
          [
           "98003",
           560000
          ],
          [
           "98022",
           199950
          ],
          [
           "98188",
           330000
          ],
          [
           "98092",
           500000
          ],
          [
           "98045",
           280000
          ],
          [
           "98072",
           557500
          ],
          [
           "98001",
           254000
          ],
          [
           "98023",
           260000
          ],
          [
           "98045",
           445000
          ],
          [
           "98003",
           302000
          ],
          [
           "98072",
           600000
          ],
          [
           "98023",
           204950
          ],
          [
           "98092",
           545000
          ],
          [
           "98072",
           550000
          ],
          [
           "98023",
           242550
          ],
          [
           "98001",
           850000
          ],
          [
           "98002",
           187000
          ],
          [
           "98023",
           212000
          ],
          [
           "98023",
           384900
          ],
          [
           "98077",
           580000
          ],
          [
           "98045",
           275000
          ],
          [
           "98188",
           193000
          ],
          [
           "98023",
           215000
          ],
          [
           "98092",
           323000
          ],
          [
           "98014",
           430000
          ],
          [
           "98198",
           385000
          ],
          [
           "98023",
           185000
          ],
          [
           "98168",
           203000
          ],
          [
           "98072",
           540000
          ],
          [
           "98168",
           235000
          ],
          [
           "98001",
           265000
          ],
          [
           "98045",
           600000
          ],
          [
           "98198",
           253000
          ],
          [
           "98077",
           875000
          ],
          [
           "98023",
           247000
          ],
          [
           "98092",
           204555
          ],
          [
           "98001",
           175000
          ],
          [
           "98045",
           286000
          ],
          [
           "98023",
           350000
          ],
          [
           "98092",
           277000
          ],
          [
           "98023",
           319000
          ],
          [
           "98168",
           217000
          ],
          [
           "98168",
           235000
          ],
          [
           "98002",
           224950
          ],
          [
           "98077",
           645000
          ],
          [
           "98002",
           135000
          ],
          [
           "98001",
           269500
          ],
          [
           "98198",
           220000
          ],
          [
           "98022",
           243000
          ],
          [
           "98045",
           340000
          ],
          [
           "98045",
           515055
          ],
          [
           "98168",
           190000
          ],
          [
           "98001",
           286651
          ],
          [
           "98001",
           270000
          ],
          [
           "98188",
           110000
          ],
          [
           "98198",
           217000
          ],
          [
           "98198",
           255000
          ],
          [
           "98003",
           465000
          ],
          [
           "98023",
           625000
          ],
          [
           "98077",
           790000
          ],
          [
           "98024",
           985000
          ],
          [
           "98023",
           223000
          ],
          [
           "98022",
           225000
          ],
          [
           "98077",
           589900
          ],
          [
           "98045",
           280000
          ],
          [
           "98014",
           265000
          ],
          [
           "98072",
           482000
          ],
          [
           "98092",
           280500
          ],
          [
           "98003",
           210500
          ],
          [
           "98023",
           196500
          ],
          [
           "98022",
           240000
          ],
          [
           "98168",
           272000
          ],
          [
           "98092",
           316000
          ],
          [
           "98072",
           665000
          ],
          [
           "98003",
           325000
          ],
          [
           "98072",
           595000
          ],
          [
           "98023",
           225000
          ],
          [
           "98092",
           149000
          ],
          [
           "98072",
           605000
          ],
          [
           "98168",
           199950
          ],
          [
           "98002",
           330000
          ],
          [
           "98023",
           209950
          ],
          [
           "98168",
           261000
          ],
          [
           "98188",
           213000
          ],
          [
           "98072",
           475000
          ],
          [
           "98070",
           649000
          ],
          [
           "98003",
           239999
          ],
          [
           "98003",
           225000
          ],
          [
           "98001",
           241000
          ],
          [
           "98002",
           319450
          ],
          [
           "98023",
           340000
          ],
          [
           "98072",
           622500
          ],
          [
           "98022",
           289000
          ],
          [
           "98014",
           309000
          ],
          [
           "98003",
           221000
          ],
          [
           "98023",
           199950
          ],
          [
           "98188",
           284000
          ],
          [
           "98148",
           295000
          ],
          [
           "98077",
           630000
          ],
          [
           "98198",
           361000
          ],
          [
           "98022",
           305000
          ],
          [
           "98023",
           222000
          ],
          [
           "98023",
           210000
          ],
          [
           "98045",
           255000
          ],
          [
           "98022",
           280017
          ],
          [
           "98010",
           570000
          ],
          [
           "98023",
           287000
          ],
          [
           "98092",
           249000
          ],
          [
           "98168",
           260000
          ],
          [
           "98070",
           410000
          ],
          [
           "98023",
           352500
          ],
          [
           "98010",
           615000
          ],
          [
           "98168",
           165000
          ],
          [
           "98092",
           292500
          ],
          [
           "98014",
           650000
          ],
          [
           "98023",
           230000
          ],
          [
           "98022",
           315000
          ],
          [
           "98168",
           118125
          ],
          [
           "98168",
           212000
          ],
          [
           "98070",
           950000
          ],
          [
           "98072",
           395000
          ],
          [
           "98022",
           308950
          ],
          [
           "98198",
           175000
          ],
          [
           "98092",
           245100
          ],
          [
           "98072",
           469500
          ],
          [
           "98023",
           195000
          ],
          [
           "98077",
           600000
          ],
          [
           "98070",
           700000
          ],
          [
           "98001",
           302000
          ],
          [
           "98072",
           585000
          ],
          [
           "98001",
           265000
          ],
          [
           "98188",
           525000
          ],
          [
           "98001",
           449888
          ],
          [
           "98001",
           263000
          ],
          [
           "98077",
           950000
          ],
          [
           "98014",
           330000
          ],
          [
           "98022",
           323000
          ],
          [
           "98023",
           325000
          ],
          [
           "98001",
           384000
          ],
          [
           "98022",
           295000
          ],
          [
           "98198",
           375000
          ],
          [
           "98001",
           190000
          ],
          [
           "98002",
           292500
          ],
          [
           "98072",
           879000
          ],
          [
           "98077",
           695000
          ],
          [
           "98023",
           183500
          ],
          [
           "98032",
           263000
          ],
          [
           "98023",
           340000
          ],
          [
           "98077",
           450000
          ],
          [
           "98092",
           294000
          ],
          [
           "98024",
           393000
          ],
          [
           "98002",
           245000
          ],
          [
           "98092",
           203000
          ],
          [
           "98045",
           325000
          ],
          [
           "98077",
           623000
          ],
          [
           "98023",
           297500
          ],
          [
           "98032",
           296500
          ],
          [
           "98168",
           330000
          ],
          [
           "98001",
           184000
          ],
          [
           "98022",
           358000
          ],
          [
           "98070",
           330000
          ],
          [
           "98072",
           614285
          ],
          [
           "98148",
           290000
          ],
          [
           "98001",
           255000
          ],
          [
           "98003",
           219900
          ],
          [
           "98032",
           310000
          ],
          [
           "98023",
           320000
          ],
          [
           "98023",
           236775
          ],
          [
           "98023",
           205000
          ],
          [
           "98032",
           163000
          ],
          [
           "98022",
           224500
          ],
          [
           "98003",
           380000
          ],
          [
           "98022",
           275000
          ],
          [
           "98072",
           575000
          ],
          [
           "98045",
           830000
          ],
          [
           "98092",
           190000
          ],
          [
           "98024",
           465000
          ],
          [
           "98148",
           285000
          ],
          [
           "98001",
           220000
          ],
          [
           "98032",
           320000
          ],
          [
           "98198",
           299900
          ],
          [
           "98077",
           697000
          ],
          [
           "98022",
           485000
          ],
          [
           "98022",
           245000
          ],
          [
           "98072",
           458000
          ],
          [
           "98092",
           152000
          ],
          [
           "98168",
           324950
          ],
          [
           "98092",
           305000
          ],
          [
           "98014",
           345000
          ],
          [
           "98022",
           224950
          ],
          [
           "98168",
           174000
          ],
          [
           "98010",
           407450
          ],
          [
           "98045",
           855000
          ],
          [
           "98198",
           270000
          ],
          [
           "98168",
           216000
          ],
          [
           "98022",
           210000
          ],
          [
           "98032",
           182000
          ],
          [
           "98003",
           225000
          ],
          [
           "98003",
           358000
          ],
          [
           "98024",
           700000
          ],
          [
           "98022",
           325000
          ],
          [
           "98003",
           266000
          ],
          [
           "98070",
           490000
          ],
          [
           "98023",
           280000
          ],
          [
           "98001",
           160000
          ],
          [
           "98001",
           375000
          ],
          [
           "98022",
           169900
          ],
          [
           "98077",
           330000
          ],
          [
           "98022",
           231200
          ],
          [
           "98092",
           299995
          ],
          [
           "98092",
           185000
          ],
          [
           "98198",
           204750
          ],
          [
           "98188",
           183000
          ],
          [
           "98001",
           225000
          ],
          [
           "98045",
           329000
          ],
          [
           "98072",
           435000
          ],
          [
           "98003",
           475000
          ],
          [
           "98077",
           305000
          ],
          [
           "98014",
           535000
          ],
          [
           "98168",
           200000
          ],
          [
           "98023",
           299950
          ],
          [
           "98002",
           193000
          ],
          [
           "98022",
           285000
          ],
          [
           "98001",
           259900
          ],
          [
           "98168",
           250000
          ],
          [
           "98198",
           249950
          ],
          [
           "98148",
           569950
          ],
          [
           "98070",
           275000
          ],
          [
           "98023",
           278100
          ],
          [
           "98023",
           184000
          ],
          [
           "98072",
           408000
          ],
          [
           "98003",
           278000
          ],
          [
           "98023",
           200000
          ],
          [
           "98001",
           260000
          ],
          [
           "98023",
           287500
          ],
          [
           "98092",
           284000
          ],
          [
           "98077",
           540000
          ],
          [
           "98014",
           522500
          ],
          [
           "98014",
           720000
          ],
          [
           "98023",
           238000
          ],
          [
           "98077",
           970000
          ],
          [
           "98045",
           435000
          ],
          [
           "98070",
           285000
          ],
          [
           "98092",
           220000
          ],
          [
           "98023",
           255000
          ],
          [
           "98022",
           287000
          ],
          [
           "98024",
           212000
          ],
          [
           "98188",
           345000
          ],
          [
           "98092",
           183000
          ],
          [
           "98092",
           335000
          ],
          [
           "98045",
           275000
          ],
          [
           "98002",
           186000
          ],
          [
           "98092",
           328000
          ],
          [
           "98168",
           285950
          ],
          [
           "98003",
           258000
          ],
          [
           "98022",
           297000
          ],
          [
           "98168",
           339950
          ],
          [
           "98188",
           170000
          ],
          [
           "98023",
           389500
          ],
          [
           "98032",
           249000
          ],
          [
           "98010",
           579000
          ],
          [
           "98001",
           170000
          ],
          [
           "98010",
           320900
          ],
          [
           "98023",
           228950
          ],
          [
           "98072",
           370000
          ],
          [
           "98002",
           389000
          ],
          [
           "98168",
           285000
          ],
          [
           "98092",
           359950
          ],
          [
           "98023",
           315000
          ],
          [
           "98092",
           220000
          ],
          [
           "98188",
           340000
          ],
          [
           "98045",
           620000
          ],
          [
           "98003",
           285000
          ],
          [
           "98014",
           305000
          ],
          [
           "98001",
           317000
          ],
          [
           "98072",
           375000
          ],
          [
           "98014",
           500000
          ],
          [
           "98003",
           452000
          ],
          [
           "98032",
           319000
          ],
          [
           "98023",
           255000
          ],
          [
           "98168",
           185000
          ],
          [
           "98022",
           262500
          ],
          [
           "98092",
           370000
          ],
          [
           "98072",
           910000
          ],
          [
           "98001",
           335000
          ],
          [
           "98045",
           390000
          ],
          [
           "98002",
           288000
          ],
          [
           "98001",
           359500
          ],
          [
           "98001",
           248000
          ],
          [
           "98072",
           700000
          ],
          [
           "98022",
           307999
          ],
          [
           "98092",
           235000
          ],
          [
           "98032",
           374900
          ],
          [
           "98072",
           607000
          ],
          [
           "98023",
           425000
          ],
          [
           "98002",
           224000
          ],
          [
           "98092",
           345000
          ],
          [
           "98070",
           695000
          ],
          [
           "98072",
           410988
          ],
          [
           "98002",
           236000
          ],
          [
           "98168",
           175000
          ],
          [
           "98092",
           360000
          ],
          [
           "98023",
           355000
          ],
          [
           "98014",
           475000
          ],
          [
           "98003",
           320000
          ],
          [
           "98001",
           215000
          ],
          [
           "98022",
           215000
          ],
          [
           "98077",
           599000
          ],
          [
           "98168",
           224000
          ],
          [
           "98092",
           299900
          ],
          [
           "98168",
           287000
          ],
          [
           "98010",
           679000
          ],
          [
           "98014",
           498000
          ],
          [
           "98072",
           448000
          ],
          [
           "98003",
           560000
          ],
          [
           "98092",
           279000
          ],
          [
           "98070",
           645000
          ],
          [
           "98188",
           265000
          ],
          [
           "98022",
           299990
          ],
          [
           "98168",
           312000
          ],
          [
           "98077",
           760000
          ],
          [
           "98168",
           286000
          ],
          [
           "98003",
           318000
          ],
          [
           "98168",
           255000
          ],
          [
           "98001",
           139000
          ],
          [
           "98014",
           549950
          ],
          [
           "98168",
           245000
          ],
          [
           "98070",
           445000
          ],
          [
           "98022",
           195000
          ],
          [
           "98188",
           242000
          ],
          [
           "98045",
           380000
          ],
          [
           "98077",
           390000
          ],
          [
           "98023",
           275000
          ],
          [
           "98023",
           300000
          ],
          [
           "98188",
           249000
          ],
          [
           "98032",
           249000
          ],
          [
           "98072",
           434500
          ],
          [
           "98022",
           590000
          ],
          [
           "98148",
           348000
          ],
          [
           "98072",
           373000
          ],
          [
           "98023",
           364988
          ],
          [
           "98022",
           237500
          ],
          [
           "98001",
           199129
          ],
          [
           "98198",
           272000
          ],
          [
           "98032",
           270500
          ],
          [
           "98188",
           309950
          ],
          [
           "98188",
           270000
          ],
          [
           "98198",
           550000
          ],
          [
           "98045",
           492000
          ],
          [
           "98168",
           175000
          ],
          [
           "98001",
           285000
          ],
          [
           "98168",
           235000
          ],
          [
           "98168",
           213500
          ],
          [
           "98003",
           275000
          ],
          [
           "98023",
           565000
          ],
          [
           "98023",
           490600
          ],
          [
           "98092",
           380000
          ],
          [
           "98023",
           291000
          ],
          [
           "98014",
           539000
          ],
          [
           "98010",
           200000
          ],
          [
           "98072",
           562000
          ],
          [
           "98023",
           205950
          ],
          [
           "98070",
           310000
          ],
          [
           "98001",
           280000
          ],
          [
           "98168",
           309000
          ],
          [
           "98022",
           525000
          ],
          [
           "98001",
           240000
          ],
          [
           "98198",
           204000
          ],
          [
           "98023",
           259950
          ],
          [
           "98045",
           290000
          ],
          [
           "98022",
           475000
          ],
          [
           "98001",
           214000
          ],
          [
           "98001",
           275000
          ],
          [
           "98023",
           305000
          ],
          [
           "98092",
           449000
          ],
          [
           "98198",
           290000
          ],
          [
           "98077",
           725000
          ],
          [
           "98022",
           188000
          ],
          [
           "98198",
           205000
          ],
          [
           "98045",
           390000
          ],
          [
           "98010",
           790000
          ],
          [
           "98077",
           320000
          ],
          [
           "98092",
           355000
          ],
          [
           "98077",
           710800
          ],
          [
           "98003",
           349950
          ],
          [
           "98092",
           667000
          ],
          [
           "98188",
           254000
          ],
          [
           "98023",
           354950
          ],
          [
           "98010",
           545000
          ],
          [
           "98198",
           255000
          ],
          [
           "98024",
           765000
          ],
          [
           "98198",
           650000
          ],
          [
           "98045",
           425000
          ],
          [
           "98001",
           204700
          ],
          [
           "98045",
           245000
          ],
          [
           "98077",
           862500
          ],
          [
           "98198",
           575000
          ],
          [
           "98092",
           250000
          ],
          [
           "98003",
           284850
          ],
          [
           "98198",
           325000
          ],
          [
           "98023",
           305000
          ],
          [
           "98002",
           200000
          ],
          [
           "98198",
           275000
          ],
          [
           "98023",
           196000
          ],
          [
           "98148",
           315000
          ],
          [
           "98003",
           338000
          ],
          [
           "98003",
           299000
          ],
          [
           "98032",
           400000
          ],
          [
           "98032",
           250000
          ],
          [
           "98022",
           272950
          ],
          [
           "98022",
           350000
          ],
          [
           "98077",
           850000
          ],
          [
           "98003",
           310000
          ],
          [
           "98077",
           510000
          ],
          [
           "98001",
           169100
          ],
          [
           "98001",
           250000
          ],
          [
           "98010",
           650000
          ],
          [
           "98188",
           240000
          ],
          [
           "98014",
           1680000
          ],
          [
           "98070",
           485000
          ],
          [
           "98022",
           200000
          ],
          [
           "98070",
           220500
          ],
          [
           "98070",
           329000
          ],
          [
           "98198",
           195000
          ],
          [
           "98010",
           510000
          ],
          [
           "98070",
           565000
          ],
          [
           "98002",
           224000
          ],
          [
           "98077",
           1080000
          ],
          [
           "98092",
           335000
          ],
          [
           "98045",
           452000
          ],
          [
           "98023",
           209950
          ],
          [
           "98023",
           218000
          ],
          [
           "98023",
           268500
          ],
          [
           "98188",
           245500
          ],
          [
           "98001",
           182500
          ],
          [
           "98003",
           295000
          ],
          [
           "98003",
           263500
          ],
          [
           "98148",
           251200
          ],
          [
           "98023",
           245000
          ],
          [
           "98072",
           1570000
          ],
          [
           "98024",
           430000
          ],
          [
           "98032",
           201500
          ],
          [
           "98003",
           285000
          ],
          [
           "98077",
           879000
          ],
          [
           "98010",
           262000
          ],
          [
           "98188",
           270000
          ],
          [
           "98023",
           246000
          ],
          [
           "98003",
           255000
          ],
          [
           "98045",
           665000
          ],
          [
           "98188",
           355000
          ],
          [
           "98003",
           309900
          ],
          [
           "98003",
           257000
          ],
          [
           "98023",
           569950
          ],
          [
           "98168",
           258000
          ],
          [
           "98001",
           250600
          ],
          [
           "98003",
           279000
          ],
          [
           "98014",
           490000
          ],
          [
           "98023",
           215000
          ],
          [
           "98032",
           165000
          ],
          [
           "98072",
           308000
          ],
          [
           "98045",
           230000
          ],
          [
           "98023",
           1280000
          ],
          [
           "98072",
           464000
          ],
          [
           "98032",
           280927
          ],
          [
           "98045",
           450000
          ],
          [
           "98002",
           275000
          ],
          [
           "98092",
           395000
          ],
          [
           "98022",
           215000
          ],
          [
           "98198",
           175000
          ],
          [
           "98002",
           305000
          ],
          [
           "98032",
           268000
          ],
          [
           "98003",
           244000
          ],
          [
           "98148",
           340000
          ],
          [
           "98077",
           730000
          ],
          [
           "98092",
           325000
          ],
          [
           "98023",
           236000
          ],
          [
           "98003",
           460000
          ],
          [
           "98072",
           1160000
          ],
          [
           "98001",
           541500
          ],
          [
           "98092",
           297300
          ],
          [
           "98023",
           323800
          ],
          [
           "98045",
           446250
          ],
          [
           "98010",
           330000
          ],
          [
           "98072",
           760500
          ],
          [
           "98188",
           261000
          ],
          [
           "98092",
           331950
          ],
          [
           "98077",
           1180000
          ],
          [
           "98198",
           265000
          ],
          [
           "98001",
           303000
          ],
          [
           "98003",
           260750
          ],
          [
           "98092",
           315000
          ],
          [
           "98001",
           200000
          ],
          [
           "98198",
           174500
          ],
          [
           "98023",
           510000
          ],
          [
           "98023",
           265000
          ],
          [
           "98014",
           937500
          ],
          [
           "98077",
           669000
          ],
          [
           "98092",
           272000
          ],
          [
           "98003",
           215000
          ],
          [
           "98168",
           292000
          ],
          [
           "98092",
           259500
          ],
          [
           "98023",
           309950
          ],
          [
           "98003",
           329000
          ],
          [
           "98003",
           306500
          ],
          [
           "98092",
           265500
          ],
          [
           "98001",
           219000
          ],
          [
           "98010",
           499000
          ],
          [
           "98077",
           725000
          ],
          [
           "98022",
           216500
          ],
          [
           "98003",
           325000
          ],
          [
           "98077",
           550000
          ],
          [
           "98023",
           246600
          ],
          [
           "98032",
           275000
          ],
          [
           "98001",
           225000
          ],
          [
           "98014",
           435000
          ],
          [
           "98168",
           352000
          ],
          [
           "98072",
           565000
          ],
          [
           "98023",
           629000
          ],
          [
           "98001",
           360000
          ],
          [
           "98072",
           450000
          ],
          [
           "98077",
           600000
          ],
          [
           "98003",
           260000
          ],
          [
           "98198",
           210500
          ],
          [
           "98188",
           375000
          ],
          [
           "98023",
           240000
          ],
          [
           "98077",
           775000
          ],
          [
           "98077",
           820000
          ],
          [
           "98077",
           380000
          ],
          [
           "98023",
           374950
          ],
          [
           "98045",
           319900
          ],
          [
           "98023",
           359999
          ],
          [
           "98148",
           280000
          ],
          [
           "98032",
           290000
          ],
          [
           "98023",
           234000
          ],
          [
           "98168",
           330000
          ],
          [
           "98023",
           262000
          ],
          [
           "98092",
           285000
          ],
          [
           "98077",
           462500
          ],
          [
           "98001",
           124500
          ],
          [
           "98002",
           160000
          ],
          [
           "98002",
           200000
          ],
          [
           "98003",
           230000
          ],
          [
           "98003",
           583000
          ],
          [
           "98092",
           262000
          ],
          [
           "98023",
           249900
          ],
          [
           "98023",
           220000
          ],
          [
           "98188",
           356000
          ],
          [
           "98072",
           965000
          ],
          [
           "98168",
           270000
          ],
          [
           "98023",
           200000
          ],
          [
           "98045",
           397000
          ],
          [
           "98014",
           200000
          ],
          [
           "98023",
           299000
          ],
          [
           "98070",
           485000
          ],
          [
           "98023",
           255000
          ],
          [
           "98077",
           700000
          ],
          [
           "98023",
           350000
          ],
          [
           "98198",
           290000
          ],
          [
           "98168",
           309000
          ],
          [
           "98014",
           340000
          ],
          [
           "98002",
           112000
          ],
          [
           "98023",
           252000
          ],
          [
           "98023",
           245000
          ],
          [
           "98072",
           373000
          ],
          [
           "98045",
           193500
          ],
          [
           "98002",
           235000
          ],
          [
           "98010",
           600000
          ],
          [
           "98077",
           597000
          ],
          [
           "98045",
           445000
          ],
          [
           "98002",
           225000
          ],
          [
           "98045",
           471000
          ],
          [
           "98198",
           276200
          ],
          [
           "98003",
           245000
          ],
          [
           "98077",
           654950
          ],
          [
           "98003",
           383150
          ],
          [
           "98077",
           539000
          ],
          [
           "98002",
           215000
          ],
          [
           "98045",
           594950
          ],
          [
           "98045",
           350000
          ],
          [
           "98077",
           432500
          ],
          [
           "98092",
           225000
          ],
          [
           "98022",
           324360
          ],
          [
           "98003",
           395000
          ],
          [
           "98010",
           212644
          ],
          [
           "98032",
           85000
          ],
          [
           "98032",
           235000
          ],
          [
           "98188",
           217500
          ],
          [
           "98001",
           270000
          ],
          [
           "98023",
           218000
          ],
          [
           "98168",
           196700
          ],
          [
           "98092",
           309900
          ],
          [
           "98023",
           285000
          ],
          [
           "98003",
           350000
          ],
          [
           "98045",
           800000
          ],
          [
           "98168",
           150000
          ],
          [
           "98001",
           305000
          ],
          [
           "98072",
           385000
          ],
          [
           "98168",
           245000
          ],
          [
           "98198",
           216000
          ],
          [
           "98198",
           600000
          ],
          [
           "98023",
           276200
          ],
          [
           "98023",
           268450
          ],
          [
           "98072",
           350000
          ],
          [
           "98168",
           309950
          ],
          [
           "98198",
           405000
          ],
          [
           "98168",
           406500
          ],
          [
           "98023",
           353950
          ],
          [
           "98072",
           422800
          ],
          [
           "98024",
           810000
          ],
          [
           "98023",
           209950
          ],
          [
           "98198",
           170500
          ],
          [
           "98148",
           375000
          ],
          [
           "98077",
           575000
          ],
          [
           "98001",
           239950
          ],
          [
           "98072",
           455000
          ],
          [
           "98023",
           415000
          ],
          [
           "98014",
           396400
          ],
          [
           "98010",
           774950
          ],
          [
           "98032",
           290000
          ],
          [
           "98168",
           265000
          ],
          [
           "98092",
           359000
          ],
          [
           "98003",
           262500
          ],
          [
           "98072",
           390000
          ],
          [
           "98001",
           226500
          ],
          [
           "98003",
           342000
          ],
          [
           "98092",
           148226
          ],
          [
           "98198",
           150000
          ],
          [
           "98168",
           150000
          ],
          [
           "98198",
           310000
          ],
          [
           "98002",
           184500
          ],
          [
           "98070",
           729000
          ],
          [
           "98002",
           195000
          ],
          [
           "98072",
           360000
          ],
          [
           "98045",
           280000
          ],
          [
           "98045",
           345000
          ],
          [
           "98188",
           198000
          ],
          [
           "98032",
           244615
          ],
          [
           "98198",
           799000
          ],
          [
           "98092",
           449500
          ],
          [
           "98045",
           332000
          ],
          [
           "98077",
           1150000
          ],
          [
           "98072",
           425000
          ],
          [
           "98014",
           510000
          ],
          [
           "98198",
           295832
          ],
          [
           "98003",
           304500
          ],
          [
           "98072",
           730000
          ],
          [
           "98198",
           178500
          ],
          [
           "98198",
           300000
          ],
          [
           "98198",
           245000
          ],
          [
           "98045",
           278000
          ],
          [
           "98092",
           269100
          ],
          [
           "98001",
           340000
          ],
          [
           "98003",
           345000
          ],
          [
           "98003",
           420000
          ],
          [
           "98023",
           274900
          ],
          [
           "98072",
           499950
          ],
          [
           "98002",
           222000
          ],
          [
           "98072",
           575000
          ],
          [
           "98077",
           655000
          ],
          [
           "98024",
           392500
          ],
          [
           "98072",
           500000
          ],
          [
           "98001",
           238000
          ],
          [
           "98092",
           433495
          ],
          [
           "98045",
           455000
          ],
          [
           "98077",
           1040000
          ],
          [
           "98023",
           226750
          ],
          [
           "98023",
           194000
          ],
          [
           "98003",
           379750
          ],
          [
           "98092",
           240000
          ],
          [
           "98072",
           700500
          ],
          [
           "98001",
           250000
          ],
          [
           "98045",
           392000
          ],
          [
           "98001",
           209000
          ],
          [
           "98045",
           485000
          ],
          [
           "98092",
           218500
          ],
          [
           "98023",
           175000
          ],
          [
           "98188",
           325000
          ],
          [
           "98023",
           370000
          ],
          [
           "98198",
           819000
          ],
          [
           "98003",
           265000
          ],
          [
           "98072",
           995000
          ],
          [
           "98168",
           292000
          ],
          [
           "98168",
           250000
          ],
          [
           "98003",
           305000
          ],
          [
           "98045",
           440000
          ],
          [
           "98023",
           299950
          ],
          [
           "98045",
           312620
          ],
          [
           "98003",
           297262
          ],
          [
           "98014",
           241000
          ],
          [
           "98188",
           110700
          ],
          [
           "98022",
           332000
          ],
          [
           "98022",
           600000
          ],
          [
           "98032",
           305000
          ],
          [
           "98002",
           235000
          ],
          [
           "98002",
           272000
          ],
          [
           "98003",
           291000
          ],
          [
           "98023",
           170000
          ],
          [
           "98014",
           1610000
          ],
          [
           "98045",
           440000
          ],
          [
           "98045",
           271000
          ],
          [
           "98003",
           465000
          ],
          [
           "98023",
           282000
          ],
          [
           "98045",
           427000
          ],
          [
           "98045",
           375000
          ],
          [
           "98032",
           545000
          ],
          [
           "98023",
           299990
          ],
          [
           "98032",
           320000
          ],
          [
           "98023",
           186000
          ],
          [
           "98070",
           665000
          ],
          [
           "98024",
           235000
          ],
          [
           "98032",
           268500
          ],
          [
           "98072",
           494950
          ],
          [
           "98045",
           280000
          ],
          [
           "98072",
           1120000
          ],
          [
           "98010",
           314500
          ],
          [
           "98022",
           290000
          ],
          [
           "98077",
           630000
          ],
          [
           "98023",
           272000
          ],
          [
           "98092",
           289950
          ],
          [
           "98077",
           1820000
          ],
          [
           "98023",
           219000
          ],
          [
           "98072",
           545000
          ],
          [
           "98092",
           485000
          ],
          [
           "98168",
           255000
          ],
          [
           "98168",
           394950
          ],
          [
           "98188",
           368000
          ],
          [
           "98023",
           232500
          ],
          [
           "98001",
           256000
          ],
          [
           "98032",
           165000
          ],
          [
           "98023",
           575000
          ],
          [
           "98072",
           375000
          ],
          [
           "98077",
           1070000
          ],
          [
           "98070",
           350000
          ],
          [
           "98003",
           280000
          ],
          [
           "98070",
           319000
          ],
          [
           "98023",
           225000
          ],
          [
           "98077",
           591000
          ],
          [
           "98032",
           260000
          ],
          [
           "98023",
           300000
          ],
          [
           "98023",
           310000
          ],
          [
           "98023",
           209000
          ],
          [
           "98032",
           336950
          ],
          [
           "98014",
           443500
          ],
          [
           "98014",
           471000
          ],
          [
           "98014",
           240000
          ],
          [
           "98168",
           264950
          ],
          [
           "98077",
           1400000
          ],
          [
           "98003",
           225000
          ],
          [
           "98198",
           403900
          ],
          [
           "98002",
           269950
          ],
          [
           "98001",
           246900
          ],
          [
           "98077",
           450000
          ],
          [
           "98092",
           785000
          ],
          [
           "98092",
           150000
          ],
          [
           "98001",
           199950
          ],
          [
           "98032",
           245700
          ],
          [
           "98092",
           257000
          ],
          [
           "98168",
           205000
          ],
          [
           "98072",
           514000
          ],
          [
           "98092",
           511000
          ],
          [
           "98003",
           236000
          ],
          [
           "98003",
           182000
          ],
          [
           "98072",
           203700
          ],
          [
           "98003",
           128000
          ],
          [
           "98023",
           310000
          ],
          [
           "98072",
           1080000
          ],
          [
           "98168",
           202000
          ],
          [
           "98168",
           270000
          ],
          [
           "98010",
           240000
          ],
          [
           "98077",
           862000
          ],
          [
           "98077",
           870000
          ],
          [
           "98003",
           334950
          ],
          [
           "98092",
           495000
          ],
          [
           "98003",
           275900
          ],
          [
           "98001",
           233000
          ],
          [
           "98198",
           420000
          ],
          [
           "98168",
           290000
          ],
          [
           "98023",
           275000
          ],
          [
           "98092",
           300000
          ],
          [
           "98022",
           253500
          ],
          [
           "98077",
           590000
          ],
          [
           "98002",
           189000
          ],
          [
           "98092",
           273000
          ],
          [
           "98023",
           281000
          ],
          [
           "98023",
           245000
          ],
          [
           "98023",
           250000
          ],
          [
           "98003",
           514500
          ],
          [
           "98023",
           268000
          ],
          [
           "98168",
           195000
          ],
          [
           "98002",
           255000
          ],
          [
           "98198",
           339000
          ],
          [
           "98168",
           240000
          ],
          [
           "98168",
           250000
          ],
          [
           "98014",
           510000
          ],
          [
           "98092",
           254500
          ],
          [
           "98168",
           192500
          ],
          [
           "98023",
           264500
          ],
          [
           "98023",
           515000
          ],
          [
           "98001",
           299999
          ],
          [
           "98198",
           357000
          ],
          [
           "98014",
           315000
          ],
          [
           "98023",
           258950
          ],
          [
           "98072",
           400000
          ],
          [
           "98002",
           185000
          ],
          [
           "98198",
           306500
          ],
          [
           "98045",
           255000
          ],
          [
           "98188",
           355000
          ],
          [
           "98023",
           305000
          ],
          [
           "98198",
           275000
          ],
          [
           "98072",
           614000
          ],
          [
           "98001",
           178500
          ],
          [
           "98023",
           198000
          ],
          [
           "98188",
           190000
          ],
          [
           "98072",
           665000
          ],
          [
           "98072",
           355000
          ],
          [
           "98148",
           255000
          ],
          [
           "98148",
           255000
          ],
          [
           "98072",
           410000
          ],
          [
           "98072",
           752875
          ],
          [
           "98168",
           218000
          ],
          [
           "98077",
           900000
          ],
          [
           "98092",
           400000
          ],
          [
           "98023",
           245000
          ],
          [
           "98003",
           191950
          ],
          [
           "98022",
           265000
          ],
          [
           "98022",
           705000
          ],
          [
           "98188",
           219950
          ],
          [
           "98188",
           170000
          ],
          [
           "98092",
           489950
          ],
          [
           "98092",
           255000
          ],
          [
           "98072",
           465000
          ],
          [
           "98032",
           245000
          ],
          [
           "98022",
           303000
          ],
          [
           "98168",
           206000
          ],
          [
           "98072",
           395000
          ],
          [
           "98092",
           260000
          ],
          [
           "98072",
           465000
          ],
          [
           "98198",
           256000
          ],
          [
           "98168",
           225000
          ],
          [
           "98092",
           206990
          ],
          [
           "98092",
           319950
          ],
          [
           "98092",
           400000
          ],
          [
           "98168",
           320000
          ],
          [
           "98198",
           240000
          ],
          [
           "98198",
           199950
          ],
          [
           "98092",
           255000
          ],
          [
           "98148",
           154500
          ],
          [
           "98023",
           349900
          ],
          [
           "98148",
           339950
          ],
          [
           "98023",
           367999
          ],
          [
           "98045",
           365000
          ],
          [
           "98010",
           655000
          ],
          [
           "98010",
           902500
          ],
          [
           "98045",
           447000
          ],
          [
           "98001",
           271920
          ],
          [
           "98023",
           229000
          ],
          [
           "98003",
           250000
          ],
          [
           "98077",
           535000
          ],
          [
           "98023",
           185000
          ],
          [
           "98022",
           201000
          ],
          [
           "98010",
           625000
          ],
          [
           "98023",
           239950
          ],
          [
           "98072",
           484000
          ],
          [
           "98092",
           395000
          ],
          [
           "98092",
           185000
          ],
          [
           "98188",
           225000
          ],
          [
           "98003",
           250000
          ],
          [
           "98003",
           263000
          ],
          [
           "98032",
           185000
          ],
          [
           "98003",
           247000
          ],
          [
           "98070",
           430000
          ],
          [
           "98010",
           365000
          ],
          [
           "98168",
           215000
          ],
          [
           "98045",
           280000
          ],
          [
           "98002",
           140000
          ],
          [
           "98014",
           805000
          ],
          [
           "98014",
           156000
          ],
          [
           "98023",
           216300
          ],
          [
           "98077",
           325000
          ],
          [
           "98001",
           210000
          ],
          [
           "98070",
           295000
          ],
          [
           "98003",
           279900
          ],
          [
           "98092",
           267300
          ],
          [
           "98070",
           467500
          ],
          [
           "98045",
           299500
          ],
          [
           "98010",
           675000
          ],
          [
           "98003",
           219950
          ],
          [
           "98077",
           525000
          ],
          [
           "98092",
           460000
          ],
          [
           "98022",
           231000
          ],
          [
           "98092",
           340000
          ],
          [
           "98003",
           310000
          ],
          [
           "98168",
           200000
          ],
          [
           "98077",
           490000
          ],
          [
           "98045",
           676000
          ],
          [
           "98198",
           240000
          ],
          [
           "98198",
           170000
          ],
          [
           "98072",
           480000
          ],
          [
           "98168",
           225000
          ],
          [
           "98022",
           438950
          ],
          [
           "98003",
           242000
          ],
          [
           "98188",
           335000
          ],
          [
           "98001",
           115000
          ],
          [
           "98001",
           227000
          ],
          [
           "98198",
           250000
          ],
          [
           "98198",
           265500
          ],
          [
           "98072",
           525000
          ],
          [
           "98003",
           197400
          ],
          [
           "98072",
           595000
          ],
          [
           "98002",
           128750
          ],
          [
           "98003",
           485000
          ],
          [
           "98072",
           375000
          ],
          [
           "98022",
           432000
          ],
          [
           "98001",
           198000
          ],
          [
           "98001",
           185900
          ],
          [
           "98003",
           325000
          ],
          [
           "98024",
           295000
          ],
          [
           "98002",
           190000
          ],
          [
           "98014",
           420000
          ],
          [
           "98003",
           305000
          ],
          [
           "98070",
           417000
          ],
          [
           "98023",
           604000
          ],
          [
           "98092",
           549900
          ],
          [
           "98092",
           164000
          ],
          [
           "98198",
           204000
          ],
          [
           "98001",
           190848
          ],
          [
           "98072",
           550000
          ],
          [
           "98014",
           649000
          ],
          [
           "98001",
           314950
          ],
          [
           "98003",
           297000
          ],
          [
           "98168",
           234550
          ],
          [
           "98003",
           230500
          ],
          [
           "98188",
           377500
          ],
          [
           "98092",
           399000
          ],
          [
           "98003",
           450000
          ],
          [
           "98072",
           485000
          ],
          [
           "98001",
           185000
          ],
          [
           "98072",
           535500
          ],
          [
           "98168",
           209977
          ],
          [
           "98001",
           174000
          ],
          [
           "98198",
           230000
          ],
          [
           "98023",
           313000
          ],
          [
           "98023",
           445000
          ],
          [
           "98001",
           184000
          ],
          [
           "98014",
           587000
          ],
          [
           "98168",
           205000
          ],
          [
           "98014",
           495500
          ],
          [
           "98092",
           288000
          ],
          [
           "98003",
           227490
          ],
          [
           "98014",
           470950
          ],
          [
           "98023",
           225000
          ],
          [
           "98023",
           335000
          ],
          [
           "98022",
           379500
          ],
          [
           "98003",
           158000
          ],
          [
           "98198",
           278000
          ],
          [
           "98022",
           335000
          ],
          [
           "98072",
           410000
          ],
          [
           "98023",
           252000
          ],
          [
           "98198",
           260000
          ],
          [
           "98003",
           258500
          ],
          [
           "98198",
           230000
          ],
          [
           "98168",
           245000
          ],
          [
           "98001",
           313100
          ],
          [
           "98168",
           335000
          ],
          [
           "98032",
           287000
          ],
          [
           "98023",
           320000
          ],
          [
           "98023",
           135000
          ],
          [
           "98198",
           210000
          ],
          [
           "98002",
           292000
          ],
          [
           "98092",
           450000
          ],
          [
           "98014",
           475000
          ],
          [
           "98003",
           245000
          ],
          [
           "98003",
           316000
          ],
          [
           "98077",
           824000
          ],
          [
           "98198",
           149500
          ],
          [
           "98014",
           560000
          ],
          [
           "98045",
           433200
          ],
          [
           "98001",
           166000
          ],
          [
           "98072",
           400000
          ],
          [
           "98072",
           599000
          ],
          [
           "98001",
           165000
          ],
          [
           "98010",
           214000
          ],
          [
           "98092",
           799950
          ],
          [
           "98198",
           310000
          ],
          [
           "98045",
           240000
          ],
          [
           "98070",
           385000
          ],
          [
           "98001",
           132500
          ],
          [
           "98168",
           235000
          ],
          [
           "98168",
           209000
          ],
          [
           "98014",
           312000
          ],
          [
           "98023",
           330000
          ],
          [
           "98023",
           275000
          ],
          [
           "98001",
           290000
          ],
          [
           "98168",
           327200
          ],
          [
           "98045",
           313500
          ],
          [
           "98168",
           244500
          ],
          [
           "98001",
           206000
          ],
          [
           "98092",
           329950
          ],
          [
           "98092",
           250000
          ],
          [
           "98022",
           246000
          ],
          [
           "98072",
           440000
          ],
          [
           "98072",
           395000
          ],
          [
           "98003",
           160000
          ],
          [
           "98003",
           269000
          ],
          [
           "98023",
           169500
          ],
          [
           "98003",
           250000
          ],
          [
           "98002",
           250000
          ],
          [
           "98168",
           248500
          ],
          [
           "98072",
           200000
          ],
          [
           "98023",
           146000
          ],
          [
           "98001",
           500000
          ],
          [
           "98023",
           300000
          ],
          [
           "98045",
           545000
          ],
          [
           "98032",
           180000
          ],
          [
           "98023",
           245000
          ],
          [
           "98023",
           330000
          ],
          [
           "98198",
           230000
          ],
          [
           "98023",
           182700
          ],
          [
           "98023",
           305000
          ],
          [
           "98014",
           300000
          ],
          [
           "98092",
           413000
          ],
          [
           "98072",
           500000
          ],
          [
           "98070",
           777700
          ],
          [
           "98077",
           590000
          ],
          [
           "98168",
           315000
          ],
          [
           "98198",
           270000
          ],
          [
           "98022",
           305000
          ],
          [
           "98045",
           315000
          ],
          [
           "98022",
           319950
          ],
          [
           "98022",
           378000
          ],
          [
           "98032",
           262500
          ],
          [
           "98072",
           575000
          ],
          [
           "98072",
           548000
          ],
          [
           "98072",
           425000
          ],
          [
           "98014",
           225000
          ],
          [
           "98168",
           161000
          ],
          [
           "98168",
           220000
          ],
          [
           "98023",
           245000
          ],
          [
           "98077",
           835000
          ],
          [
           "98077",
           1090000
          ],
          [
           "98168",
           259000
          ],
          [
           "98092",
           265000
          ],
          [
           "98022",
           570000
          ],
          [
           "98001",
           429000
          ],
          [
           "98045",
           299000
          ],
          [
           "98014",
           375000
          ],
          [
           "98198",
           392000
          ],
          [
           "98022",
           415000
          ],
          [
           "98001",
           270000
          ],
          [
           "98188",
           272450
          ],
          [
           "98010",
           162000
          ],
          [
           "98198",
           337500
          ],
          [
           "98010",
           740000
          ],
          [
           "98010",
           700000
          ],
          [
           "98032",
           241000
          ],
          [
           "98002",
           246000
          ],
          [
           "98168",
           270000
          ],
          [
           "98070",
           600000
          ],
          [
           "98077",
           570000
          ],
          [
           "98022",
           220000
          ],
          [
           "98003",
           210000
          ],
          [
           "98032",
           336000
          ],
          [
           "98168",
           200000
          ],
          [
           "98148",
           257500
          ],
          [
           "98092",
           271675
          ],
          [
           "98001",
           227000
          ],
          [
           "98168",
           285000
          ],
          [
           "98168",
           260000
          ],
          [
           "98023",
           185000
          ],
          [
           "98023",
           235000
          ],
          [
           "98072",
           1140000
          ],
          [
           "98072",
           720000
          ],
          [
           "98198",
           292500
          ],
          [
           "98072",
           1050000
          ],
          [
           "98077",
           840000
          ],
          [
           "98022",
           790000
          ],
          [
           "98070",
           849900
          ],
          [
           "98168",
           295500
          ],
          [
           "98003",
           200000
          ],
          [
           "98198",
           207000
          ],
          [
           "98072",
           869000
          ],
          [
           "98023",
           172380
          ],
          [
           "98092",
           355000
          ],
          [
           "98022",
           215000
          ],
          [
           "98023",
           220000
          ],
          [
           "98198",
           500000
          ],
          [
           "98188",
           233000
          ],
          [
           "98077",
           896000
          ],
          [
           "98072",
           905000
          ],
          [
           "98003",
           217500
          ],
          [
           "98077",
           682000
          ],
          [
           "98070",
           635000
          ],
          [
           "98023",
           304400
          ],
          [
           "98070",
           520000
          ],
          [
           "98023",
           230000
          ],
          [
           "98002",
           150000
          ],
          [
           "98024",
           610000
          ],
          [
           "98022",
           495000
          ],
          [
           "98003",
           210000
          ],
          [
           "98032",
           240000
          ],
          [
           "98022",
           390500
          ],
          [
           "98001",
           300000
          ],
          [
           "98092",
           267500
          ],
          [
           "98001",
           201000
          ],
          [
           "98077",
           785000
          ],
          [
           "98072",
           831500
          ],
          [
           "98092",
           369000
          ],
          [
           "98023",
           295000
          ],
          [
           "98024",
           515000
          ],
          [
           "98198",
           157000
          ],
          [
           "98198",
           246500
          ],
          [
           "98023",
           300000
          ],
          [
           "98023",
           240000
          ],
          [
           "98022",
           249000
          ],
          [
           "98032",
           265000
          ],
          [
           "98002",
           247200
          ],
          [
           "98022",
           180000
          ],
          [
           "98045",
           472000
          ],
          [
           "98023",
           252000
          ],
          [
           "98022",
           599950
          ],
          [
           "98023",
           86500
          ],
          [
           "98023",
           199950
          ],
          [
           "98045",
           718000
          ],
          [
           "98023",
           263850
          ],
          [
           "98198",
           1350000
          ],
          [
           "98010",
           531500
          ],
          [
           "98188",
           375000
          ],
          [
           "98198",
           293550
          ],
          [
           "98077",
           585000
          ],
          [
           "98168",
           350000
          ],
          [
           "98198",
           168000
          ],
          [
           "98001",
           215000
          ],
          [
           "98045",
           447500
          ],
          [
           "98092",
           339100
          ],
          [
           "98023",
           280000
          ],
          [
           "98070",
           355000
          ],
          [
           "98003",
           345000
          ],
          [
           "98001",
           199900
          ],
          [
           "98198",
           375000
          ],
          [
           "98072",
           330000
          ],
          [
           "98070",
           575000
          ],
          [
           "98001",
           367950
          ],
          [
           "98072",
           374000
          ],
          [
           "98198",
           243500
          ],
          [
           "98023",
           230000
          ],
          [
           "98014",
           335000
          ],
          [
           "98072",
           810000
          ],
          [
           "98003",
           235500
          ],
          [
           "98003",
           240000
          ],
          [
           "98168",
           246000
          ],
          [
           "98002",
           269950
          ],
          [
           "98001",
           262500
          ],
          [
           "98023",
           306500
          ],
          [
           "98022",
           277500
          ],
          [
           "98198",
           212000
          ],
          [
           "98002",
           160000
          ],
          [
           "98023",
           279900
          ],
          [
           "98014",
           307000
          ],
          [
           "98014",
           399950
          ],
          [
           "98032",
           129000
          ],
          [
           "98188",
           230000
          ],
          [
           "98003",
           170000
          ],
          [
           "98001",
           289000
          ],
          [
           "98022",
           327000
          ],
          [
           "98077",
           875000
          ],
          [
           "98168",
           201000
          ],
          [
           "98092",
           357500
          ],
          [
           "98001",
           300000
          ],
          [
           "98188",
           221000
          ],
          [
           "98168",
           294000
          ],
          [
           "98022",
           280000
          ],
          [
           "98023",
           294000
          ],
          [
           "98092",
           255500
          ],
          [
           "98077",
           450000
          ],
          [
           "98072",
           368000
          ],
          [
           "98024",
           335000
          ],
          [
           "98072",
           521900
          ],
          [
           "98070",
           407185
          ],
          [
           "98072",
           468000
          ],
          [
           "98022",
           219950
          ],
          [
           "98070",
           358000
          ],
          [
           "98077",
           515000
          ],
          [
           "98092",
           657500
          ],
          [
           "98092",
           260000
          ],
          [
           "98032",
           225000
          ],
          [
           "98045",
           290000
          ],
          [
           "98198",
           538250
          ],
          [
           "98023",
           212000
          ],
          [
           "98002",
           275000
          ],
          [
           "98002",
           179500
          ],
          [
           "98032",
           205000
          ],
          [
           "98003",
           199950
          ],
          [
           "98001",
           245000
          ],
          [
           "98001",
           199000
          ],
          [
           "98022",
           273000
          ],
          [
           "98023",
           289950
          ],
          [
           "98168",
           290000
          ],
          [
           "98001",
           175000
          ],
          [
           "98032",
           374000
          ],
          [
           "98168",
           235000
          ],
          [
           "98022",
           185000
          ],
          [
           "98092",
           196000
          ],
          [
           "98070",
           295000
          ],
          [
           "98003",
           229000
          ],
          [
           "98024",
           400000
          ],
          [
           "98023",
           105000
          ],
          [
           "98168",
           300000
          ],
          [
           "98002",
           250000
          ],
          [
           "98002",
           167000
          ],
          [
           "98024",
           495000
          ],
          [
           "98023",
           340000
          ],
          [
           "98092",
           234000
          ],
          [
           "98022",
           314000
          ],
          [
           "98077",
           795000
          ],
          [
           "98003",
           230000
          ],
          [
           "98045",
           585000
          ],
          [
           "98070",
           519000
          ],
          [
           "98092",
           510000
          ],
          [
           "98023",
           270000
          ],
          [
           "98168",
           305000
          ],
          [
           "98003",
           290000
          ],
          [
           "98023",
           115000
          ],
          [
           "98001",
           234000
          ],
          [
           "98001",
           234950
          ],
          [
           "98003",
           200126
          ],
          [
           "98198",
           248000
          ],
          [
           "98070",
           600000
          ],
          [
           "98198",
           275000
          ],
          [
           "98077",
           610000
          ],
          [
           "98022",
           349990
          ],
          [
           "98003",
           645000
          ],
          [
           "98092",
           299999
          ],
          [
           "98001",
           171500
          ],
          [
           "98092",
           320000
          ],
          [
           "98092",
           359800
          ],
          [
           "98001",
           234500
          ],
          [
           "98198",
           325000
          ],
          [
           "98003",
           156000
          ],
          [
           "98023",
           260000
          ],
          [
           "98045",
           310000
          ],
          [
           "98032",
           380000
          ],
          [
           "98022",
           195000
          ],
          [
           "98198",
           95000
          ],
          [
           "98198",
           525000
          ],
          [
           "98198",
           485000
          ],
          [
           "98001",
           246000
          ],
          [
           "98003",
           194000
          ],
          [
           "98032",
           309000
          ],
          [
           "98014",
           160000
          ],
          [
           "98023",
           310000
          ],
          [
           "98014",
           350000
          ],
          [
           "98003",
           267000
          ],
          [
           "98077",
           835000
          ],
          [
           "98045",
           295000
          ],
          [
           "98010",
           760000
          ],
          [
           "98023",
           275000
          ],
          [
           "98010",
           460000
          ],
          [
           "98077",
           696500
          ],
          [
           "98070",
           390000
          ],
          [
           "98001",
           220000
          ],
          [
           "98168",
           369900
          ],
          [
           "98072",
           526500
          ],
          [
           "98045",
           383000
          ],
          [
           "98003",
           242000
          ],
          [
           "98148",
           289000
          ],
          [
           "98002",
           270000
          ],
          [
           "98023",
           236000
          ],
          [
           "98168",
           110000
          ],
          [
           "98072",
           420000
          ],
          [
           "98198",
           446000
          ],
          [
           "98092",
           490000
          ],
          [
           "98003",
           312200
          ],
          [
           "98023",
           160000
          ],
          [
           "98188",
           239000
          ],
          [
           "98014",
           530000
          ],
          [
           "98023",
           213675
          ],
          [
           "98168",
           110000
          ],
          [
           "98003",
           179000
          ],
          [
           "98092",
           299000
          ],
          [
           "98198",
           343000
          ],
          [
           "98022",
           255000
          ],
          [
           "98022",
           250000
          ],
          [
           "98023",
           240000
          ],
          [
           "98198",
           245000
          ],
          [
           "98198",
           270000
          ],
          [
           "98001",
           290000
          ],
          [
           "98014",
           410000
          ],
          [
           "98001",
           250000
          ],
          [
           "98070",
           465000
          ],
          [
           "98070",
           160000
          ],
          [
           "98092",
           305950
          ],
          [
           "98022",
           220000
          ],
          [
           "98001",
           289000
          ],
          [
           "98023",
           345000
          ],
          [
           "98023",
           235000
          ],
          [
           "98001",
           234950
          ],
          [
           "98001",
           285000
          ],
          [
           "98022",
           530000
          ],
          [
           "98022",
           251000
          ],
          [
           "98072",
           430000
          ],
          [
           "98014",
           455000
          ],
          [
           "98092",
           263950
          ],
          [
           "98070",
           437500
          ],
          [
           "98001",
           335000
          ],
          [
           "98022",
           187000
          ],
          [
           "98001",
           220000
          ],
          [
           "98001",
           367300
          ],
          [
           "98045",
           458000
          ],
          [
           "98092",
           308000
          ],
          [
           "98023",
           217000
          ],
          [
           "98092",
           480000
          ],
          [
           "98077",
           1640000
          ],
          [
           "98032",
           269950
          ],
          [
           "98188",
           240000
          ],
          [
           "98032",
           270000
          ],
          [
           "98032",
           265000
          ],
          [
           "98023",
           266000
          ],
          [
           "98023",
           310000
          ],
          [
           "98032",
           250000
          ],
          [
           "98045",
           439000
          ],
          [
           "98002",
           270000
          ],
          [
           "98003",
           299500
          ],
          [
           "98032",
           227000
          ],
          [
           "98168",
           229000
          ],
          [
           "98198",
           267000
          ],
          [
           "98010",
           475000
          ],
          [
           "98148",
           260000
          ],
          [
           "98003",
           360000
          ],
          [
           "98168",
           150000
          ],
          [
           "98198",
           340000
          ],
          [
           "98002",
           288000
          ],
          [
           "98002",
           209950
          ],
          [
           "98023",
           283748
          ],
          [
           "98001",
           321000
          ],
          [
           "98023",
           257000
          ],
          [
           "98002",
           235000
          ],
          [
           "98002",
           268000
          ],
          [
           "98003",
           299000
          ],
          [
           "98198",
           285000
          ],
          [
           "98032",
           270000
          ],
          [
           "98168",
           225000
          ],
          [
           "98045",
           316000
          ],
          [
           "98001",
           289950
          ],
          [
           "98001",
           250000
          ],
          [
           "98003",
           155000
          ],
          [
           "98001",
           175000
          ],
          [
           "98045",
           480000
          ],
          [
           "98072",
           1400000
          ],
          [
           "98092",
           283500
          ],
          [
           "98188",
           370000
          ],
          [
           "98022",
           192500
          ],
          [
           "98003",
           250000
          ],
          [
           "98001",
           360000
          ],
          [
           "98070",
           300000
          ],
          [
           "98092",
           339999
          ],
          [
           "98188",
           314000
          ],
          [
           "98188",
           275000
          ],
          [
           "98168",
           297975
          ],
          [
           "98023",
           340000
          ],
          [
           "98092",
           365000
          ],
          [
           "98003",
           550000
          ],
          [
           "98198",
           520000
          ],
          [
           "98023",
           307000
          ],
          [
           "98023",
           275000
          ],
          [
           "98001",
           389000
          ],
          [
           "98168",
           350000
          ],
          [
           "98003",
           287000
          ],
          [
           "98010",
           424900
          ],
          [
           "98022",
           325000
          ],
          [
           "98092",
           281000
          ],
          [
           "98023",
           273000
          ],
          [
           "98168",
           200000
          ],
          [
           "98023",
           305000
          ],
          [
           "98022",
           175000
          ],
          [
           "98077",
           685000
          ],
          [
           "98023",
           305000
          ],
          [
           "98148",
           195000
          ],
          [
           "98045",
           590000
          ],
          [
           "98001",
           100000
          ],
          [
           "98002",
           208000
          ],
          [
           "98092",
           405000
          ],
          [
           "98168",
           235000
          ],
          [
           "98045",
           295000
          ],
          [
           "98003",
           225900
          ],
          [
           "98002",
           195500
          ],
          [
           "98092",
           335000
          ],
          [
           "98188",
           320000
          ],
          [
           "98198",
           250000
          ],
          [
           "98014",
           509950
          ],
          [
           "98072",
           537000
          ],
          [
           "98198",
           260000
          ],
          [
           "98198",
           266750
          ],
          [
           "98077",
           890000
          ],
          [
           "98032",
           242000
          ],
          [
           "98148",
           415000
          ],
          [
           "98198",
           265000
          ],
          [
           "98198",
           262000
          ],
          [
           "98072",
           615000
          ],
          [
           "98168",
           135000
          ],
          [
           "98023",
           210000
          ],
          [
           "98148",
           339950
          ],
          [
           "98072",
           547000
          ],
          [
           "98198",
           348000
          ],
          [
           "98070",
           230000
          ],
          [
           "98072",
           1090000
          ],
          [
           "98198",
           237000
          ],
          [
           "98198",
           180000
          ],
          [
           "98198",
           309950
          ],
          [
           "98198",
           330000
          ],
          [
           "98092",
           294000
          ],
          [
           "98003",
           250000
          ],
          [
           "98072",
           624000
          ],
          [
           "98022",
           687000
          ],
          [
           "98023",
           275000
          ],
          [
           "98077",
           483500
          ],
          [
           "98003",
           220000
          ],
          [
           "98092",
           506000
          ],
          [
           "98188",
           237000
          ],
          [
           "98168",
           235000
          ],
          [
           "98023",
           252000
          ],
          [
           "98072",
           419950
          ],
          [
           "98023",
           160000
          ],
          [
           "98198",
           210000
          ],
          [
           "98198",
           475000
          ],
          [
           "98148",
           185000
          ],
          [
           "98045",
           345000
          ],
          [
           "98023",
           128000
          ],
          [
           "98023",
           450000
          ],
          [
           "98077",
           619000
          ],
          [
           "98003",
           205000
          ],
          [
           "98023",
           150000
          ],
          [
           "98072",
           440000
          ],
          [
           "98023",
           300000
          ],
          [
           "98072",
           447000
          ],
          [
           "98168",
           182200
          ],
          [
           "98092",
           443000
          ],
          [
           "98002",
           265000
          ],
          [
           "98072",
           650000
          ],
          [
           "98023",
           277500
          ],
          [
           "98003",
           335000
          ],
          [
           "98002",
           292000
          ],
          [
           "98198",
           172500
          ],
          [
           "98023",
           499950
          ],
          [
           "98045",
           251000
          ],
          [
           "98001",
           205000
          ],
          [
           "98003",
           183000
          ],
          [
           "98022",
           312000
          ],
          [
           "98023",
           570000
          ],
          [
           "98024",
           400000
          ],
          [
           "98001",
           245000
          ],
          [
           "98072",
           480500
          ],
          [
           "98023",
           299250
          ],
          [
           "98045",
           745000
          ],
          [
           "98022",
           470000
          ],
          [
           "98001",
           276000
          ],
          [
           "98148",
           235000
          ],
          [
           "98001",
           264500
          ],
          [
           "98003",
           240000
          ],
          [
           "98188",
           294950
          ],
          [
           "98001",
           154000
          ],
          [
           "98014",
           499950
          ],
          [
           "98168",
           274950
          ],
          [
           "98001",
           225000
          ],
          [
           "98002",
           265000
          ],
          [
           "98001",
           215000
          ],
          [
           "98045",
           775000
          ],
          [
           "98077",
           640000
          ],
          [
           "98001",
           455000
          ],
          [
           "98092",
           264000
          ],
          [
           "98003",
           300000
          ],
          [
           "98045",
           560000
          ],
          [
           "98023",
           278000
          ],
          [
           "98168",
           280000
          ],
          [
           "98077",
           734000
          ],
          [
           "98002",
           180000
          ],
          [
           "98003",
           549000
          ],
          [
           "98072",
           587000
          ],
          [
           "98002",
           250000
          ],
          [
           "98022",
           329990
          ],
          [
           "98023",
           240000
          ],
          [
           "98002",
           367500
          ],
          [
           "98003",
           229900
          ],
          [
           "98092",
           329000
          ],
          [
           "98002",
           205000
          ],
          [
           "98188",
           314000
          ],
          [
           "98014",
           310000
          ],
          [
           "98023",
           250500
          ],
          [
           "98010",
           257000
          ],
          [
           "98092",
           264500
          ],
          [
           "98168",
           81000
          ],
          [
           "98032",
           185000
          ],
          [
           "98045",
           234000
          ],
          [
           "98023",
           287500
          ],
          [
           "98072",
           375000
          ],
          [
           "98023",
           275000
          ],
          [
           "98168",
           165000
          ],
          [
           "98001",
           212000
          ],
          [
           "98023",
           265000
          ],
          [
           "98168",
           185000
          ],
          [
           "98092",
           270000
          ],
          [
           "98022",
           264950
          ],
          [
           "98168",
           209950
          ],
          [
           "98077",
           632500
          ],
          [
           "98023",
           248500
          ],
          [
           "98188",
           330000
          ],
          [
           "98045",
           445000
          ],
          [
           "98023",
           198500
          ],
          [
           "98092",
           280000
          ],
          [
           "98010",
           267000
          ],
          [
           "98077",
           315000
          ],
          [
           "98001",
           274950
          ],
          [
           "98168",
           180000
          ],
          [
           "98023",
           261350
          ],
          [
           "98003",
           253500
          ],
          [
           "98072",
           625000
          ],
          [
           "98002",
           257000
          ],
          [
           "98032",
           100000
          ],
          [
           "98001",
           280000
          ],
          [
           "98023",
           486000
          ],
          [
           "98002",
           201000
          ],
          [
           "98001",
           295000
          ],
          [
           "98002",
           190000
          ],
          [
           "98003",
           207000
          ],
          [
           "98023",
           230000
          ],
          [
           "98072",
           318000
          ],
          [
           "98092",
           332100
          ],
          [
           "98168",
           175000
          ],
          [
           "98002",
           189000
          ],
          [
           "98072",
           415000
          ],
          [
           "98023",
           302300
          ],
          [
           "98198",
           245000
          ],
          [
           "98188",
           706000
          ],
          [
           "98072",
           653000
          ],
          [
           "98072",
           667400
          ],
          [
           "98188",
           175000
          ],
          [
           "98002",
           340000
          ],
          [
           "98198",
           269000
          ],
          [
           "98188",
           298500
          ],
          [
           "98001",
           338500
          ],
          [
           "98092",
           324900
          ],
          [
           "98077",
           360000
          ],
          [
           "98001",
           250000
          ],
          [
           "98022",
           460000
          ],
          [
           "98070",
           355000
          ],
          [
           "98010",
           213000
          ],
          [
           "98002",
           163500
          ],
          [
           "98198",
           185000
          ],
          [
           "98070",
           445000
          ],
          [
           "98070",
           340000
          ],
          [
           "98092",
           438500
          ],
          [
           "98168",
           109500
          ],
          [
           "98092",
           289950
          ],
          [
           "98077",
           500000
          ],
          [
           "98010",
           355500
          ],
          [
           "98045",
           470000
          ],
          [
           "98092",
           225000
          ],
          [
           "98022",
           222500
          ],
          [
           "98022",
           430000
          ],
          [
           "98001",
           245000
          ],
          [
           "98032",
           324900
          ],
          [
           "98001",
           237000
          ],
          [
           "98077",
           795000
          ],
          [
           "98003",
           190500
          ],
          [
           "98070",
           645000
          ],
          [
           "98014",
           598800
          ],
          [
           "98070",
           585000
          ],
          [
           "98023",
           347500
          ],
          [
           "98077",
           425000
          ],
          [
           "98045",
           429000
          ],
          [
           "98024",
           324950
          ],
          [
           "98003",
           221000
          ],
          [
           "98168",
           210000
          ],
          [
           "98072",
           495000
          ],
          [
           "98032",
           85000
          ],
          [
           "98023",
           184900
          ],
          [
           "98168",
           340000
          ],
          [
           "98168",
           280000
          ],
          [
           "98032",
           209950
          ],
          [
           "98198",
           237100
          ],
          [
           "98003",
           336000
          ],
          [
           "98092",
           146300
          ],
          [
           "98023",
           277500
          ],
          [
           "98003",
           205000
          ],
          [
           "98092",
           330000
          ],
          [
           "98072",
           615000
          ],
          [
           "98077",
           1920000
          ],
          [
           "98070",
           800000
          ],
          [
           "98045",
           273000
          ],
          [
           "98023",
           400000
          ],
          [
           "98023",
           230000
          ],
          [
           "98001",
           278000
          ],
          [
           "98001",
           210000
          ],
          [
           "98032",
           225000
          ],
          [
           "98002",
           300000
          ],
          [
           "98001",
           150000
          ],
          [
           "98092",
           299950
          ],
          [
           "98023",
           305000
          ],
          [
           "98198",
           280500
          ],
          [
           "98077",
           482000
          ],
          [
           "98092",
           449950
          ],
          [
           "98022",
           202000
          ],
          [
           "98022",
           277000
          ],
          [
           "98010",
           325000
          ],
          [
           "98072",
           995000
          ],
          [
           "98014",
           470000
          ],
          [
           "98198",
           237600
          ],
          [
           "98198",
           162950
          ],
          [
           "98024",
           457000
          ],
          [
           "98024",
           425000
          ],
          [
           "98002",
           137000
          ],
          [
           "98010",
           415000
          ],
          [
           "98077",
           949000
          ],
          [
           "98072",
           350500
          ],
          [
           "98010",
           240000
          ],
          [
           "98003",
           240000
          ],
          [
           "98014",
           160000
          ],
          [
           "98077",
           480000
          ],
          [
           "98168",
           499950
          ],
          [
           "98092",
           152500
          ],
          [
           "98022",
           225000
          ],
          [
           "98032",
           229950
          ],
          [
           "98014",
           445000
          ],
          [
           "98023",
           295000
          ],
          [
           "98077",
           440000
          ],
          [
           "98092",
           302000
          ],
          [
           "98022",
           667000
          ],
          [
           "98003",
           298000
          ],
          [
           "98023",
           230000
          ],
          [
           "98023",
           420000
          ],
          [
           "98045",
           488000
          ],
          [
           "98168",
           170000
          ],
          [
           "98168",
           173250
          ],
          [
           "98023",
           179950
          ],
          [
           "98003",
           275000
          ],
          [
           "98001",
           190000
          ],
          [
           "98024",
           303000
          ],
          [
           "98010",
           269950
          ],
          [
           "98198",
           360500
          ],
          [
           "98022",
           272000
          ],
          [
           "98022",
           225000
          ],
          [
           "98023",
           375900
          ],
          [
           "98003",
           272000
          ],
          [
           "98168",
           242000
          ],
          [
           "98003",
           375000
          ],
          [
           "98001",
           182500
          ],
          [
           "98198",
           310000
          ],
          [
           "98010",
           224400
          ],
          [
           "98002",
           315000
          ],
          [
           "98001",
           175000
          ],
          [
           "98001",
           299000
          ],
          [
           "98168",
           146000
          ],
          [
           "98014",
           334999
          ],
          [
           "98023",
           204250
          ],
          [
           "98070",
           750000
          ],
          [
           "98168",
           280000
          ],
          [
           "98072",
           275000
          ],
          [
           "98072",
           1200000
          ],
          [
           "98024",
           997950
          ],
          [
           "98168",
           187250
          ],
          [
           "98077",
           549950
          ],
          [
           "98001",
           197000
          ],
          [
           "98023",
           299900
          ],
          [
           "98002",
           265000
          ],
          [
           "98168",
           212500
          ],
          [
           "98045",
           349900
          ],
          [
           "98045",
           696000
          ],
          [
           "98168",
           280000
          ],
          [
           "98045",
           308000
          ],
          [
           "98010",
           255000
          ],
          [
           "98014",
           545000
          ],
          [
           "98001",
           305000
          ],
          [
           "98198",
           368000
          ],
          [
           "98023",
           232000
          ],
          [
           "98077",
           340000
          ],
          [
           "98014",
           190000
          ],
          [
           "98072",
           475000
          ],
          [
           "98198",
           242000
          ],
          [
           "98032",
           160000
          ],
          [
           "98014",
           800000
          ],
          [
           "98092",
           425000
          ],
          [
           "98072",
           905000
          ],
          [
           "98023",
           286000
          ],
          [
           "98070",
           492500
          ],
          [
           "98045",
           440000
          ],
          [
           "98003",
           225000
          ],
          [
           "98003",
           199000
          ],
          [
           "98032",
           135000
          ],
          [
           "98014",
           739000
          ],
          [
           "98002",
           219000
          ],
          [
           "98003",
           302000
          ],
          [
           "98045",
           345000
          ],
          [
           "98023",
           231000
          ],
          [
           "98003",
           209950
          ],
          [
           "98002",
           235000
          ],
          [
           "98023",
           465000
          ],
          [
           "98001",
           287600
          ],
          [
           "98072",
           490000
          ],
          [
           "98002",
           219500
          ],
          [
           "98045",
           240000
          ],
          [
           "98014",
           284000
          ],
          [
           "98003",
           339900
          ],
          [
           "98001",
           258000
          ],
          [
           "98022",
           431000
          ],
          [
           "98001",
           199500
          ],
          [
           "98022",
           160000
          ],
          [
           "98001",
           179900
          ],
          [
           "98072",
           965000
          ],
          [
           "98198",
           265000
          ],
          [
           "98023",
           545400
          ],
          [
           "98092",
           350000
          ],
          [
           "98003",
           355000
          ],
          [
           "98001",
           270000
          ],
          [
           "98022",
           269500
          ],
          [
           "98072",
           840000
          ],
          [
           "98024",
           1650000
          ],
          [
           "98168",
           245000
          ],
          [
           "98003",
           320000
          ],
          [
           "98072",
           451000
          ],
          [
           "98045",
           315000
          ],
          [
           "98003",
           280000
          ],
          [
           "98045",
           390000
          ],
          [
           "98077",
           805000
          ],
          [
           "98198",
           820000
          ],
          [
           "98022",
           370000
          ],
          [
           "98198",
           243500
          ],
          [
           "98003",
           315000
          ],
          [
           "98024",
           721500
          ],
          [
           "98001",
           425000
          ],
          [
           "98003",
           242000
          ],
          [
           "98002",
           217000
          ],
          [
           "98077",
           839000
          ],
          [
           "98077",
           665000
          ],
          [
           "98003",
           635000
          ],
          [
           "98072",
           799000
          ],
          [
           "98023",
           160000
          ],
          [
           "98077",
           530000
          ],
          [
           "98077",
           583500
          ],
          [
           "98148",
           345000
          ],
          [
           "98198",
           234000
          ],
          [
           "98092",
           386000
          ],
          [
           "98003",
           389000
          ],
          [
           "98198",
           270000
          ],
          [
           "98001",
           287500
          ],
          [
           "98092",
           345000
          ],
          [
           "98023",
           510000
          ],
          [
           "98002",
           206000
          ],
          [
           "98045",
           850000
          ],
          [
           "98022",
           184900
          ],
          [
           "98148",
           245000
          ],
          [
           "98022",
           425000
          ],
          [
           "98168",
           170000
          ],
          [
           "98077",
           330000
          ],
          [
           "98023",
           295000
          ],
          [
           "98168",
           285000
          ],
          [
           "98148",
           278000
          ],
          [
           "98045",
           335000
          ],
          [
           "98070",
           462500
          ],
          [
           "98003",
           239000
          ],
          [
           "98070",
           428000
          ],
          [
           "98168",
           292000
          ],
          [
           "98023",
           227000
          ],
          [
           "98168",
           206000
          ],
          [
           "98010",
           360000
          ],
          [
           "98072",
           550000
          ],
          [
           "98023",
           213000
          ],
          [
           "98198",
           287000
          ],
          [
           "98070",
           260000
          ],
          [
           "98198",
           239900
          ],
          [
           "98072",
           437000
          ],
          [
           "98032",
           240000
          ],
          [
           "98003",
           260000
          ],
          [
           "98092",
           450000
          ],
          [
           "98168",
           311000
          ],
          [
           "98092",
           298000
          ],
          [
           "98022",
           212000
          ],
          [
           "98198",
           550000
          ],
          [
           "98001",
           255000
          ],
          [
           "98001",
           315000
          ],
          [
           "98023",
           285500
          ],
          [
           "98022",
           199000
          ],
          [
           "98070",
           528000
          ],
          [
           "98045",
           304950
          ],
          [
           "98168",
           215000
          ],
          [
           "98001",
           240000
          ],
          [
           "98077",
           800000
          ],
          [
           "98045",
           410000
          ],
          [
           "98148",
           244000
          ],
          [
           "98198",
           320000
          ],
          [
           "98168",
           259000
          ],
          [
           "98002",
           230000
          ],
          [
           "98198",
           180500
          ],
          [
           "98002",
           279950
          ],
          [
           "98023",
           176000
          ],
          [
           "98072",
           576925
          ],
          [
           "98003",
           253400
          ],
          [
           "98077",
           542950
          ],
          [
           "98188",
           376000
          ],
          [
           "98045",
           417000
          ],
          [
           "98168",
           158000
          ],
          [
           "98168",
           273500
          ],
          [
           "98001",
           225000
          ],
          [
           "98072",
           488000
          ],
          [
           "98077",
           1060000
          ],
          [
           "98188",
           312000
          ],
          [
           "98022",
           525000
          ],
          [
           "98168",
           250000
          ],
          [
           "98002",
           235000
          ],
          [
           "98072",
           712000
          ],
          [
           "98072",
           510000
          ],
          [
           "98023",
           270000
          ],
          [
           "98001",
           260000
          ],
          [
           "98024",
           740000
          ],
          [
           "98002",
           148900
          ],
          [
           "98002",
           229500
          ],
          [
           "98001",
           230000
          ],
          [
           "98070",
           285000
          ],
          [
           "98023",
           318989
          ],
          [
           "98023",
           330000
          ],
          [
           "98024",
           1860000
          ],
          [
           "98198",
           182500
          ],
          [
           "98023",
           218250
          ],
          [
           "98168",
           424305
          ],
          [
           "98022",
           468000
          ],
          [
           "98010",
           337000
          ],
          [
           "98001",
           260000
          ],
          [
           "98001",
           290000
          ],
          [
           "98022",
           200000
          ],
          [
           "98077",
           319000
          ],
          [
           "98022",
           390000
          ],
          [
           "98023",
           230000
          ],
          [
           "98045",
           259000
          ],
          [
           "98168",
           306000
          ],
          [
           "98024",
           650000
          ],
          [
           "98023",
           274000
          ],
          [
           "98022",
           295000
          ],
          [
           "98023",
           270000
          ],
          [
           "98014",
           325000
          ],
          [
           "98022",
           245000
          ],
          [
           "98092",
           305000
          ],
          [
           "98002",
           219200
          ],
          [
           "98072",
           300000
          ],
          [
           "98168",
           83000
          ],
          [
           "98003",
           174500
          ],
          [
           "98003",
           186950
          ],
          [
           "98024",
           520000
          ],
          [
           "98148",
           330000
          ],
          [
           "98198",
           340000
          ],
          [
           "98023",
           245000
          ],
          [
           "98032",
           287500
          ],
          [
           "98002",
           206000
          ],
          [
           "98003",
           390000
          ],
          [
           "98010",
           625000
          ],
          [
           "98023",
           223000
          ],
          [
           "98198",
           196000
          ],
          [
           "98001",
           160000
          ],
          [
           "98148",
           195000
          ],
          [
           "98032",
           250200
          ],
          [
           "98001",
           194250
          ],
          [
           "98198",
           570000
          ],
          [
           "98168",
           283450
          ],
          [
           "98023",
           179950
          ],
          [
           "98001",
           222400
          ],
          [
           "98003",
           247500
          ],
          [
           "98023",
           249000
          ],
          [
           "98070",
           395000
          ],
          [
           "98070",
           383000
          ],
          [
           "98024",
           475000
          ],
          [
           "98168",
           262000
          ],
          [
           "98023",
           300000
          ],
          [
           "98092",
           250000
          ],
          [
           "98003",
           280000
          ],
          [
           "98003",
           215000
          ],
          [
           "98022",
           199990
          ],
          [
           "98024",
           750000
          ],
          [
           "98198",
           1230000
          ],
          [
           "98001",
           183500
          ],
          [
           "98188",
           707000
          ],
          [
           "98023",
           192500
          ],
          [
           "98002",
           247500
          ],
          [
           "98198",
           275000
          ],
          [
           "98072",
           505000
          ],
          [
           "98072",
           1270000
          ],
          [
           "98032",
           239000
          ],
          [
           "98070",
           510000
          ],
          [
           "98072",
           1000000
          ],
          [
           "98092",
           293000
          ],
          [
           "98001",
           625000
          ],
          [
           "98188",
           239950
          ],
          [
           "98198",
           200000
          ],
          [
           "98023",
           345000
          ],
          [
           "98003",
           208000
          ],
          [
           "98092",
           760000
          ],
          [
           "98001",
           310000
          ],
          [
           "98003",
           265000
          ],
          [
           "98077",
           475000
          ],
          [
           "98198",
           229500
          ],
          [
           "98003",
           335000
          ],
          [
           "98077",
           680000
          ],
          [
           "98003",
           270000
          ],
          [
           "98003",
           450000
          ],
          [
           "98092",
           280000
          ],
          [
           "98032",
           245000
          ],
          [
           "98002",
           232603
          ],
          [
           "98002",
           234000
          ],
          [
           "98092",
           224000
          ],
          [
           "98002",
           185000
          ],
          [
           "98032",
           268000
          ],
          [
           "98092",
           465000
          ],
          [
           "98001",
           254999
          ],
          [
           "98001",
           460000
          ],
          [
           "98092",
           90000
          ],
          [
           "98198",
           309000
          ],
          [
           "98045",
           556000
          ],
          [
           "98092",
           308900
          ],
          [
           "98023",
           335000
          ],
          [
           "98092",
           203700
          ],
          [
           "98023",
           412000
          ],
          [
           "98092",
           200000
          ],
          [
           "98070",
           385000
          ],
          [
           "98070",
           475000
          ],
          [
           "98014",
           375000
          ],
          [
           "98023",
           310000
          ],
          [
           "98072",
           872000
          ],
          [
           "98023",
           218000
          ],
          [
           "98092",
           289999
          ],
          [
           "98022",
           495000
          ],
          [
           "98002",
           260000
          ],
          [
           "98003",
           250000
          ],
          [
           "98003",
           205000
          ],
          [
           "98023",
           191000
          ],
          [
           "98092",
           299500
          ],
          [
           "98023",
           420000
          ],
          [
           "98070",
           615000
          ],
          [
           "98168",
           182000
          ],
          [
           "98198",
           163000
          ],
          [
           "98010",
           335000
          ],
          [
           "98198",
           235000
          ],
          [
           "98148",
           600600
          ],
          [
           "98022",
           858000
          ],
          [
           "98023",
           252000
          ],
          [
           "98072",
           585000
          ],
          [
           "98001",
           230000
          ],
          [
           "98045",
           450000
          ],
          [
           "98198",
           205950
          ],
          [
           "98022",
           209000
          ],
          [
           "98198",
           324950
          ],
          [
           "98198",
           216500
          ],
          [
           "98188",
           360000
          ],
          [
           "98077",
           535000
          ],
          [
           "98032",
           265000
          ],
          [
           "98072",
           374500
          ],
          [
           "98072",
           661000
          ],
          [
           "98092",
           229500
          ],
          [
           "98023",
           218250
          ],
          [
           "98045",
           338000
          ],
          [
           "98023",
           263000
          ],
          [
           "98198",
           279950
          ],
          [
           "98023",
           252500
          ],
          [
           "98077",
           1150000
          ],
          [
           "98001",
           205000
          ],
          [
           "98024",
           200000
          ],
          [
           "98092",
           340000
          ],
          [
           "98032",
           178500
          ],
          [
           "98022",
           270000
          ],
          [
           "98001",
           168000
          ],
          [
           "98045",
           320000
          ],
          [
           "98045",
           391500
          ],
          [
           "98010",
           208500
          ],
          [
           "98092",
           342000
          ],
          [
           "98022",
           316000
          ],
          [
           "98022",
           279000
          ],
          [
           "98001",
           159000
          ],
          [
           "98023",
           160000
          ],
          [
           "98032",
           215000
          ],
          [
           "98072",
           383000
          ],
          [
           "98092",
           225000
          ],
          [
           "98077",
           805000
          ],
          [
           "98168",
           211000
          ],
          [
           "98023",
           133400
          ],
          [
           "98045",
           688000
          ],
          [
           "98023",
           369000
          ],
          [
           "98002",
           229950
          ],
          [
           "98092",
           229999
          ],
          [
           "98198",
           205000
          ],
          [
           "98168",
           215000
          ],
          [
           "98002",
           193000
          ],
          [
           "98188",
           289950
          ],
          [
           "98003",
           480000
          ],
          [
           "98072",
           351000
          ],
          [
           "98022",
           399950
          ],
          [
           "98032",
           299500
          ],
          [
           "98032",
           234000
          ],
          [
           "98077",
           649950
          ],
          [
           "98148",
           246500
          ],
          [
           "98092",
           268000
          ],
          [
           "98023",
           147000
          ],
          [
           "98072",
           991500
          ],
          [
           "98198",
           210000
          ],
          [
           "98072",
           385000
          ],
          [
           "98023",
           255000
          ],
          [
           "98188",
           171000
          ],
          [
           "98092",
           491500
          ],
          [
           "98188",
           383962
          ],
          [
           "98168",
           270950
          ],
          [
           "98188",
           263000
          ],
          [
           "98092",
           257000
          ],
          [
           "98092",
           725000
          ],
          [
           "98023",
           187500
          ],
          [
           "98198",
           279900
          ],
          [
           "98077",
           413100
          ],
          [
           "98092",
           370000
          ],
          [
           "98148",
           338000
          ],
          [
           "98168",
           185000
          ],
          [
           "98198",
           235000
          ],
          [
           "98002",
           329900
          ],
          [
           "98014",
           399000
          ],
          [
           "98045",
           456000
          ],
          [
           "98014",
           155000
          ],
          [
           "98002",
           319500
          ],
          [
           "98045",
           499431
          ],
          [
           "98022",
           340000
          ],
          [
           "98022",
           280000
          ],
          [
           "98001",
           359000
          ],
          [
           "98023",
           319000
          ],
          [
           "98045",
           505657
          ],
          [
           "98001",
           250000
          ],
          [
           "98001",
           349500
          ],
          [
           "98002",
           319900
          ],
          [
           "98002",
           263000
          ],
          [
           "98003",
           384435
          ],
          [
           "98045",
           484259
          ],
          [
           "98001",
           355000
          ],
          [
           "98002",
           292000
          ],
          [
           "98001",
           331210
          ],
          [
           "98023",
           450000
          ],
          [
           "98003",
           349900
          ],
          [
           "98092",
           335606
          ],
          [
           "98002",
           285000
          ],
          [
           "98092",
           418395
          ],
          [
           "98045",
           427874
          ],
          [
           "98001",
           215000
          ],
          [
           "98010",
           390000
          ],
          [
           "98022",
           425000
          ],
          [
           "98024",
           802945
          ],
          [
           "98092",
           411605
          ],
          [
           "98023",
           409950
          ],
          [
           "98070",
           730000
          ],
          [
           "98188",
           408000
          ],
          [
           "98092",
           339990
          ],
          [
           "98023",
           430236
          ],
          [
           "98014",
           415000
          ],
          [
           "98002",
           260000
          ],
          [
           "98092",
           287000
          ],
          [
           "98002",
           240000
          ],
          [
           "98092",
           399440
          ],
          [
           "98070",
           692000
          ],
          [
           "98023",
           429900
          ],
          [
           "98001",
           275000
          ],
          [
           "98003",
           379900
          ],
          [
           "98001",
           245000
          ],
          [
           "98092",
           428900
          ],
          [
           "98092",
           329900
          ],
          [
           "98045",
           594491
          ],
          [
           "98023",
           424950
          ],
          [
           "98001",
           351000
          ],
          [
           "98092",
           388500
          ],
          [
           "98001",
           254950
          ],
          [
           "98014",
           785000
          ],
          [
           "98001",
           309000
          ],
          [
           "98001",
           370228
          ],
          [
           "98077",
           749950
          ],
          [
           "98072",
           525000
          ],
          [
           "98010",
           780000
          ],
          [
           "98198",
           550000
          ],
          [
           "98001",
           205000
          ],
          [
           "98198",
           204000
          ],
          [
           "98092",
           392440
          ],
          [
           "98024",
           771005
          ],
          [
           "98045",
           475000
          ],
          [
           "98001",
           216000
          ],
          [
           "98003",
           950000
          ],
          [
           "98002",
           289950
          ],
          [
           "98001",
           255000
          ],
          [
           "98001",
           415000
          ],
          [
           "98092",
           399895
          ],
          [
           "98092",
           309780
          ],
          [
           "98092",
           356250
          ],
          [
           "98188",
           400200
          ],
          [
           "98198",
           263900
          ],
          [
           "98092",
           279000
          ],
          [
           "98092",
           310000
          ],
          [
           "98070",
           420000
          ],
          [
           "98002",
           267000
          ],
          [
           "98188",
           262000
          ],
          [
           "98014",
           1600000
          ],
          [
           "98198",
           510000
          ],
          [
           "98023",
           432500
          ],
          [
           "98045",
           760000
          ],
          [
           "98092",
           280000
          ],
          [
           "98032",
           324950
          ],
          [
           "98092",
           374500
          ],
          [
           "98003",
           298450
          ],
          [
           "98092",
           379500
          ],
          [
           "98002",
           273500
          ],
          [
           "98001",
           453000
          ],
          [
           "98002",
           297000
          ],
          [
           "98072",
           680000
          ],
          [
           "98002",
           255900
          ],
          [
           "98023",
           418000
          ],
          [
           "98001",
           552900
          ],
          [
           "98092",
           306000
          ],
          [
           "98045",
           449990
          ],
          [
           "98045",
           502000
          ],
          [
           "98001",
           349950
          ],
          [
           "98092",
           274950
          ],
          [
           "98002",
           282900
          ],
          [
           "98001",
           424000
          ],
          [
           "98022",
           256703
          ],
          [
           "98188",
           500000
          ],
          [
           "98001",
           317500
          ],
          [
           "98002",
           275000
          ],
          [
           "98014",
           441000
          ],
          [
           "98001",
           345500
          ],
          [
           "98002",
           298900
          ],
          [
           "98001",
           260000
          ],
          [
           "98198",
           380000
          ],
          [
           "98198",
           770000
          ],
          [
           "98022",
           369000
          ],
          [
           "98045",
           483453
          ],
          [
           "98045",
           504058
          ],
          [
           "98001",
           499160
          ],
          [
           "98072",
           536000
          ],
          [
           "98092",
           334888
          ],
          [
           "98014",
           580000
          ],
          [
           "98198",
           735000
          ],
          [
           "98001",
           329995
          ],
          [
           "98092",
           402395
          ],
          [
           "98001",
           447500
          ],
          [
           "98188",
           399500
          ],
          [
           "98032",
           375000
          ],
          [
           "98002",
           300000
          ],
          [
           "98022",
           275000
          ],
          [
           "98072",
           644000
          ],
          [
           "98001",
           270500
          ],
          [
           "98168",
           355000
          ],
          [
           "98045",
           533112
          ],
          [
           "98001",
           274900
          ],
          [
           "98168",
           350000
          ],
          [
           "98092",
           303000
          ],
          [
           "98023",
           329950
          ],
          [
           "98022",
           246950
          ],
          [
           "98001",
           280000
          ],
          [
           "98023",
           427000
          ],
          [
           "98198",
           269800
          ],
          [
           "98001",
           110000
          ],
          [
           "98045",
           533380
          ],
          [
           "98045",
           950000
          ],
          [
           "98168",
           268000
          ],
          [
           "98092",
           303210
          ],
          [
           "98002",
           343000
          ],
          [
           "98001",
           353500
          ],
          [
           "98001",
           255000
          ],
          [
           "98001",
           549950
          ],
          [
           "98001",
           510000
          ],
          [
           "98092",
           471275
          ],
          [
           "98072",
           613500
          ],
          [
           "98092",
           400950
          ],
          [
           "98023",
           395950
          ],
          [
           "98045",
           439990
          ],
          [
           "98002",
           223990
          ],
          [
           "98024",
           720000
          ],
          [
           "98001",
           277950
          ],
          [
           "98023",
           363000
          ],
          [
           "98045",
           598992
          ],
          [
           "98003",
           333490
          ],
          [
           "98092",
           345000
          ],
          [
           "98072",
           515000
          ],
          [
           "98002",
           250000
          ],
          [
           "98072",
           415000
          ],
          [
           "98045",
           459990
          ],
          [
           "98001",
           375900
          ],
          [
           "98001",
           215000
          ],
          [
           "98001",
           235245
          ],
          [
           "98092",
           279950
          ],
          [
           "98001",
           375500
          ],
          [
           "98092",
           478830
          ],
          [
           "98014",
           425000
          ],
          [
           "98002",
           259000
          ],
          [
           "98072",
           623300
          ],
          [
           "98092",
           299000
          ],
          [
           "98045",
           485000
          ],
          [
           "98001",
           349950
          ],
          [
           "98045",
           499990
          ],
          [
           "98022",
           272000
          ],
          [
           "98092",
           471835
          ],
          [
           "98022",
           249950
          ],
          [
           "98010",
           440000
          ],
          [
           "98001",
           495000
          ],
          [
           "98002",
           335900
          ],
          [
           "98092",
           333000
          ],
          [
           "98024",
           332220
          ],
          [
           "98045",
           1490000
          ],
          [
           "98045",
           535365
          ],
          [
           "98022",
           565000
          ],
          [
           "98045",
           472000
          ],
          [
           "98022",
           325000
          ],
          [
           "98045",
           499990
          ],
          [
           "98014",
           320000
          ],
          [
           "98001",
           269950
          ],
          [
           "98092",
           353900
          ],
          [
           "98168",
           334950
          ],
          [
           "98092",
           436952
          ],
          [
           "98023",
           380000
          ],
          [
           "98023",
           249000
          ],
          [
           "98024",
           1460000
          ],
          [
           "98001",
           480000
          ],
          [
           "98023",
           332000
          ],
          [
           "98045",
           1060000
          ],
          [
           "98198",
           388000
          ],
          [
           "98001",
           341780
          ],
          [
           "98023",
           399950
          ],
          [
           "98001",
           541800
          ],
          [
           "98010",
           224000
          ]
         ],
         "hovertemplate": "lat=%{lat}<br>long=%{lon}<br>zipcode=%{customdata[0]}<br>price=%{customdata[1]}<br>price_per_sqft=%{marker.color}<extra></extra>",
         "lat": {
          "bdata": "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",
          "dtype": "f8"
         },
         "legendgroup": "",
         "lon": {
          "bdata": "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",
          "dtype": "f8"
         },
         "marker": {
          "color": {
           "bdata": "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",
           "dtype": "f8"
          },
          "coloraxis": "coloraxis"
         },
         "mode": "markers",
         "name": "",
         "showlegend": false,
         "subplot": "mapbox",
         "type": "scattermapbox"
        }
       ],
       "layout": {
        "coloraxis": {
         "colorbar": {
          "title": {
           "text": "price_per_sqft"
          }
         },
         "colorscale": [
          [
           0,
           "#0d0887"
          ],
          [
           0.1111111111111111,
           "#46039f"
          ],
          [
           0.2222222222222222,
           "#7201a8"
          ],
          [
           0.3333333333333333,
           "#9c179e"
          ],
          [
           0.4444444444444444,
           "#bd3786"
          ],
          [
           0.5555555555555556,
           "#d8576b"
          ],
          [
           0.6666666666666666,
           "#ed7953"
          ],
          [
           0.7777777777777778,
           "#fb9f3a"
          ],
          [
           0.8888888888888888,
           "#fdca26"
          ],
          [
           1,
           "#f0f921"
          ]
         ]
        },
        "height": 600,
        "legend": {
         "tracegroupgap": 0
        },
        "mapbox": {
         "center": {
          "lat": 47.414237086297554,
          "lon": -122.19191122796165
         },
         "domain": {
          "x": [
           0,
           1
          ],
          "y": [
           0,
           1
          ]
         },
         "style": "open-street-map",
         "zoom": 8.9
        },
        "template": {
         "data": {
          "bar": [
           {
            "error_x": {
             "color": "#2a3f5f"
            },
            "error_y": {
             "color": "#2a3f5f"
            },
            "marker": {
             "line": {
              "color": "#E5ECF6",
              "width": 0.5
             },
             "pattern": {
              "fillmode": "overlay",
              "size": 10,
              "solidity": 0.2
             }
            },
            "type": "bar"
           }
          ],
          "barpolar": [
           {
            "marker": {
             "line": {
              "color": "#E5ECF6",
              "width": 0.5
             },
             "pattern": {
              "fillmode": "overlay",
              "size": 10,
              "solidity": 0.2
             }
            },
            "type": "barpolar"
           }
          ],
          "carpet": [
           {
            "aaxis": {
             "endlinecolor": "#2a3f5f",
             "gridcolor": "white",
             "linecolor": "white",
             "minorgridcolor": "white",
             "startlinecolor": "#2a3f5f"
            },
            "baxis": {
             "endlinecolor": "#2a3f5f",
             "gridcolor": "white",
             "linecolor": "white",
             "minorgridcolor": "white",
             "startlinecolor": "#2a3f5f"
            },
            "type": "carpet"
           }
          ],
          "choropleth": [
           {
            "colorbar": {
             "outlinewidth": 0,
             "ticks": ""
            },
            "type": "choropleth"
           }
          ],
          "contour": [
           {
            "colorbar": {
             "outlinewidth": 0,
             "ticks": ""
            },
            "colorscale": [
             [
              0,
              "#0d0887"
             ],
             [
              0.1111111111111111,
              "#46039f"
             ],
             [
              0.2222222222222222,
              "#7201a8"
             ],
             [
              0.3333333333333333,
              "#9c179e"
             ],
             [
              0.4444444444444444,
              "#bd3786"
             ],
             [
              0.5555555555555556,
              "#d8576b"
             ],
             [
              0.6666666666666666,
              "#ed7953"
             ],
             [
              0.7777777777777778,
              "#fb9f3a"
             ],
             [
              0.8888888888888888,
              "#fdca26"
             ],
             [
              1,
              "#f0f921"
             ]
            ],
            "type": "contour"
           }
          ],
          "contourcarpet": [
           {
            "colorbar": {
             "outlinewidth": 0,
             "ticks": ""
            },
            "type": "contourcarpet"
           }
          ],
          "heatmap": [
           {
            "colorbar": {
             "outlinewidth": 0,
             "ticks": ""
            },
            "colorscale": [
             [
              0,
              "#0d0887"
             ],
             [
              0.1111111111111111,
              "#46039f"
             ],
             [
              0.2222222222222222,
              "#7201a8"
             ],
             [
              0.3333333333333333,
              "#9c179e"
             ],
             [
              0.4444444444444444,
              "#bd3786"
             ],
             [
              0.5555555555555556,
              "#d8576b"
             ],
             [
              0.6666666666666666,
              "#ed7953"
             ],
             [
              0.7777777777777778,
              "#fb9f3a"
             ],
             [
              0.8888888888888888,
              "#fdca26"
             ],
             [
              1,
              "#f0f921"
             ]
            ],
            "type": "heatmap"
           }
          ],
          "histogram": [
           {
            "marker": {
             "pattern": {
              "fillmode": "overlay",
              "size": 10,
              "solidity": 0.2
             }
            },
            "type": "histogram"
           }
          ],
          "histogram2d": [
           {
            "colorbar": {
             "outlinewidth": 0,
             "ticks": ""
            },
            "colorscale": [
             [
              0,
              "#0d0887"
             ],
             [
              0.1111111111111111,
              "#46039f"
             ],
             [
              0.2222222222222222,
              "#7201a8"
             ],
             [
              0.3333333333333333,
              "#9c179e"
             ],
             [
              0.4444444444444444,
              "#bd3786"
             ],
             [
              0.5555555555555556,
              "#d8576b"
             ],
             [
              0.6666666666666666,
              "#ed7953"
             ],
             [
              0.7777777777777778,
              "#fb9f3a"
             ],
             [
              0.8888888888888888,
              "#fdca26"
             ],
             [
              1,
              "#f0f921"
             ]
            ],
            "type": "histogram2d"
           }
          ],
          "histogram2dcontour": [
           {
            "colorbar": {
             "outlinewidth": 0,
             "ticks": ""
            },
            "colorscale": [
             [
              0,
              "#0d0887"
             ],
             [
              0.1111111111111111,
              "#46039f"
             ],
             [
              0.2222222222222222,
              "#7201a8"
             ],
             [
              0.3333333333333333,
              "#9c179e"
             ],
             [
              0.4444444444444444,
              "#bd3786"
             ],
             [
              0.5555555555555556,
              "#d8576b"
             ],
             [
              0.6666666666666666,
              "#ed7953"
             ],
             [
              0.7777777777777778,
              "#fb9f3a"
             ],
             [
              0.8888888888888888,
              "#fdca26"
             ],
             [
              1,
              "#f0f921"
             ]
            ],
            "type": "histogram2dcontour"
           }
          ],
          "mesh3d": [
           {
            "colorbar": {
             "outlinewidth": 0,
             "ticks": ""
            },
            "type": "mesh3d"
           }
          ],
          "parcoords": [
           {
            "line": {
             "colorbar": {
              "outlinewidth": 0,
              "ticks": ""
             }
            },
            "type": "parcoords"
           }
          ],
          "pie": [
           {
            "automargin": true,
            "type": "pie"
           }
          ],
          "scatter": [
           {
            "fillpattern": {
             "fillmode": "overlay",
             "size": 10,
             "solidity": 0.2
            },
            "type": "scatter"
           }
          ],
          "scatter3d": [
           {
            "line": {
             "colorbar": {
              "outlinewidth": 0,
              "ticks": ""
             }
            },
            "marker": {
             "colorbar": {
              "outlinewidth": 0,
              "ticks": ""
             }
            },
            "type": "scatter3d"
           }
          ],
          "scattercarpet": [
           {
            "marker": {
             "colorbar": {
              "outlinewidth": 0,
              "ticks": ""
             }
            },
            "type": "scattercarpet"
           }
          ],
          "scattergeo": [
           {
            "marker": {
             "colorbar": {
              "outlinewidth": 0,
              "ticks": ""
             }
            },
            "type": "scattergeo"
           }
          ],
          "scattergl": [
           {
            "marker": {
             "colorbar": {
              "outlinewidth": 0,
              "ticks": ""
             }
            },
            "type": "scattergl"
           }
          ],
          "scattermap": [
           {
            "marker": {
             "colorbar": {
              "outlinewidth": 0,
              "ticks": ""
             }
            },
            "type": "scattermap"
           }
          ],
          "scattermapbox": [
           {
            "marker": {
             "colorbar": {
              "outlinewidth": 0,
              "ticks": ""
             }
            },
            "type": "scattermapbox"
           }
          ],
          "scatterpolar": [
           {
            "marker": {
             "colorbar": {
              "outlinewidth": 0,
              "ticks": ""
             }
            },
            "type": "scatterpolar"
           }
          ],
          "scatterpolargl": [
           {
            "marker": {
             "colorbar": {
              "outlinewidth": 0,
              "ticks": ""
             }
            },
            "type": "scatterpolargl"
           }
          ],
          "scatterternary": [
           {
            "marker": {
             "colorbar": {
              "outlinewidth": 0,
              "ticks": ""
             }
            },
            "type": "scatterternary"
           }
          ],
          "surface": [
           {
            "colorbar": {
             "outlinewidth": 0,
             "ticks": ""
            },
            "colorscale": [
             [
              0,
              "#0d0887"
             ],
             [
              0.1111111111111111,
              "#46039f"
             ],
             [
              0.2222222222222222,
              "#7201a8"
             ],
             [
              0.3333333333333333,
              "#9c179e"
             ],
             [
              0.4444444444444444,
              "#bd3786"
             ],
             [
              0.5555555555555556,
              "#d8576b"
             ],
             [
              0.6666666666666666,
              "#ed7953"
             ],
             [
              0.7777777777777778,
              "#fb9f3a"
             ],
             [
              0.8888888888888888,
              "#fdca26"
             ],
             [
              1,
              "#f0f921"
             ]
            ],
            "type": "surface"
           }
          ],
          "table": [
           {
            "cells": {
             "fill": {
              "color": "#EBF0F8"
             },
             "line": {
              "color": "white"
             }
            },
            "header": {
             "fill": {
              "color": "#C8D4E3"
             },
             "line": {
              "color": "white"
             }
            },
            "type": "table"
           }
          ]
         },
         "layout": {
          "annotationdefaults": {
           "arrowcolor": "#2a3f5f",
           "arrowhead": 0,
           "arrowwidth": 1
          },
          "autotypenumbers": "strict",
          "coloraxis": {
           "colorbar": {
            "outlinewidth": 0,
            "ticks": ""
           }
          },
          "colorscale": {
           "diverging": [
            [
             0,
             "#8e0152"
            ],
            [
             0.1,
             "#c51b7d"
            ],
            [
             0.2,
             "#de77ae"
            ],
            [
             0.3,
             "#f1b6da"
            ],
            [
             0.4,
             "#fde0ef"
            ],
            [
             0.5,
             "#f7f7f7"
            ],
            [
             0.6,
             "#e6f5d0"
            ],
            [
             0.7,
             "#b8e186"
            ],
            [
             0.8,
             "#7fbc41"
            ],
            [
             0.9,
             "#4d9221"
            ],
            [
             1,
             "#276419"
            ]
           ],
           "sequential": [
            [
             0,
             "#0d0887"
            ],
            [
             0.1111111111111111,
             "#46039f"
            ],
            [
             0.2222222222222222,
             "#7201a8"
            ],
            [
             0.3333333333333333,
             "#9c179e"
            ],
            [
             0.4444444444444444,
             "#bd3786"
            ],
            [
             0.5555555555555556,
             "#d8576b"
            ],
            [
             0.6666666666666666,
             "#ed7953"
            ],
            [
             0.7777777777777778,
             "#fb9f3a"
            ],
            [
             0.8888888888888888,
             "#fdca26"
            ],
            [
             1,
             "#f0f921"
            ]
           ],
           "sequentialminus": [
            [
             0,
             "#0d0887"
            ],
            [
             0.1111111111111111,
             "#46039f"
            ],
            [
             0.2222222222222222,
             "#7201a8"
            ],
            [
             0.3333333333333333,
             "#9c179e"
            ],
            [
             0.4444444444444444,
             "#bd3786"
            ],
            [
             0.5555555555555556,
             "#d8576b"
            ],
            [
             0.6666666666666666,
             "#ed7953"
            ],
            [
             0.7777777777777778,
             "#fb9f3a"
            ],
            [
             0.8888888888888888,
             "#fdca26"
            ],
            [
             1,
             "#f0f921"
            ]
           ]
          },
          "colorway": [
           "#636efa",
           "#EF553B",
           "#00cc96",
           "#ab63fa",
           "#FFA15A",
           "#19d3f3",
           "#FF6692",
           "#B6E880",
           "#FF97FF",
           "#FECB52"
          ],
          "font": {
           "color": "#2a3f5f"
          },
          "geo": {
           "bgcolor": "white",
           "lakecolor": "white",
           "landcolor": "#E5ECF6",
           "showlakes": true,
           "showland": true,
           "subunitcolor": "white"
          },
          "hoverlabel": {
           "align": "left"
          },
          "hovermode": "closest",
          "mapbox": {
           "style": "light"
          },
          "paper_bgcolor": "white",
          "plot_bgcolor": "#E5ECF6",
          "polar": {
           "angularaxis": {
            "gridcolor": "white",
            "linecolor": "white",
            "ticks": ""
           },
           "bgcolor": "#E5ECF6",
           "radialaxis": {
            "gridcolor": "white",
            "linecolor": "white",
            "ticks": ""
           }
          },
          "scene": {
           "xaxis": {
            "backgroundcolor": "#E5ECF6",
            "gridcolor": "white",
            "gridwidth": 2,
            "linecolor": "white",
            "showbackground": true,
            "ticks": "",
            "zerolinecolor": "white"
           },
           "yaxis": {
            "backgroundcolor": "#E5ECF6",
            "gridcolor": "white",
            "gridwidth": 2,
            "linecolor": "white",
            "showbackground": true,
            "ticks": "",
            "zerolinecolor": "white"
           },
           "zaxis": {
            "backgroundcolor": "#E5ECF6",
            "gridcolor": "white",
            "gridwidth": 2,
            "linecolor": "white",
            "showbackground": true,
            "ticks": "",
            "zerolinecolor": "white"
           }
          },
          "shapedefaults": {
           "line": {
            "color": "#2a3f5f"
           }
          },
          "ternary": {
           "aaxis": {
            "gridcolor": "white",
            "linecolor": "white",
            "ticks": ""
           },
           "baxis": {
            "gridcolor": "white",
            "linecolor": "white",
            "ticks": ""
           },
           "bgcolor": "#E5ECF6",
           "caxis": {
            "gridcolor": "white",
            "linecolor": "white",
            "ticks": ""
           }
          },
          "title": {
           "x": 0.05
          },
          "xaxis": {
           "automargin": true,
           "gridcolor": "white",
           "linecolor": "white",
           "ticks": "",
           "title": {
            "standoff": 15
           },
           "zerolinecolor": "white",
           "zerolinewidth": 2
          },
          "yaxis": {
           "automargin": true,
           "gridcolor": "white",
           "linecolor": "white",
           "ticks": "",
           "title": {
            "standoff": 15
           },
           "zerolinecolor": "white",
           "zerolinewidth": 2
          }
         }
        },
        "title": {
         "text": "Poor neighborhood by Location"
        },
        "width": 600
       }
      }
     },
     "metadata": {},
     "output_type": "display_data"
    }
   ],
   "source": [
    "fig_2=px.scatter_mapbox(df_small,\n",
    "    lat=\"lat\", lon=\"long\",\n",
    "    color=\"price_per_sqft\",\n",
    "    #size=\"sqft_living\",\n",
    "    hover_data=[\"zipcode\", \"price\"],\n",
    "    mapbox_style=\"open-street-map\", zoom=8.9,\n",
    "    title=\"Poor neighborhood by Location\"\n",
    ")\n",
    "\n",
    "fig_2.update_layout(width=600, height=600)\n",
    "\n",
    "fig_2.show()"
   ]
  },
  {
   "cell_type": "code",
   "execution_count": 975,
   "id": "7ab9f064",
   "metadata": {},
   "outputs": [
    {
     "data": {
      "text/plain": [
       "<Axes: xlabel='year_sold', ylabel='price'>"
      ]
     },
     "execution_count": 975,
     "metadata": {},
     "output_type": "execute_result"
    },
    {
     "data": {
      "image/png": "[encoded data removed]",
      "text/plain": [
       "<Figure size 640x480 with 1 Axes>"
      ]
     },
     "metadata": {},
     "output_type": "display_data"
    }
   ],
   "source": [
    "df_analysis['year_sold'] = pd.to_datetime(df_analysis['date']).dt.year\n",
    "sns.lineplot(data=df_analysis[df_analysis['zipcode'].isin(poor_zipcodes)],\n",
    "             x='year_sold', y='price', estimator='mean', ci=None)\n"
   ]
  },
  {
   "cell_type": "markdown",
   "id": "998b90ee",
   "metadata": {},
   "source": [
    "Since the client is looking for buying and to selling, we need to determinate what houses could be renovated and sold at higher price.\n",
    "\n",
    "The house condition should be low and and have a low grade too. They must be old and not being renovated."
   ]
  },
  {
   "cell_type": "code",
   "execution_count": 976,
   "id": "d9350aa6",
   "metadata": {},
   "outputs": [
    {
     "data": {
      "text/html": [
       "<div>\n",
       "<style scoped>\n",
       "    .dataframe tbody tr th:only-of-type {\n",
       "        vertical-align: middle;\n",
       "    }\n",
       "\n",
       "    .dataframe tbody tr th {\n",
       "        vertical-align: top;\n",
       "    }\n",
       "\n",
       "    .dataframe thead th {\n",
       "        text-align: right;\n",
       "    }\n",
       "</style>\n",
       "<table border=\"1\" class=\"dataframe\">\n",
       "  <thead>\n",
       "    <tr style=\"text-align: right;\">\n",
       "      <th></th>\n",
       "      <th>price</th>\n",
       "      <th>id</th>\n",
       "      <th>bedrooms</th>\n",
       "      <th>bathrooms</th>\n",
       "      <th>sqft_living</th>\n",
       "      <th>sqft_lot</th>\n",
       "      <th>floors</th>\n",
       "      <th>waterfront</th>\n",
       "      <th>view</th>\n",
       "      <th>condition</th>\n",
       "      <th>...</th>\n",
       "      <th>zipcode</th>\n",
       "      <th>lat</th>\n",
       "      <th>long</th>\n",
       "      <th>sqft_living15</th>\n",
       "      <th>sqft_lot15</th>\n",
       "      <th>date</th>\n",
       "      <th>tot_sqft</th>\n",
       "      <th>price_per_sqft</th>\n",
       "      <th>poor_neighborhood</th>\n",
       "      <th>year_sold</th>\n",
       "    </tr>\n",
       "  </thead>\n",
       "  <tbody>\n",
       "    <tr>\n",
       "      <th>38</th>\n",
       "      <td>210490.0</td>\n",
       "      <td>8945200830</td>\n",
       "      <td>3.0</td>\n",
       "      <td>1.00</td>\n",
       "      <td>990.0</td>\n",
       "      <td>8528.0</td>\n",
       "      <td>1.0</td>\n",
       "      <td>0</td>\n",
       "      <td>0.0</td>\n",
       "      <td>3</td>\n",
       "      <td>...</td>\n",
       "      <td>98023</td>\n",
       "      <td>47.3066</td>\n",
       "      <td>-122.371</td>\n",
       "      <td>1228.0</td>\n",
       "      <td>8840.0</td>\n",
       "      <td>2015-03-25</td>\n",
       "      <td>9518.0</td>\n",
       "      <td>22.114940</td>\n",
       "      <td>True</td>\n",
       "      <td>2015</td>\n",
       "    </tr>\n",
       "    <tr>\n",
       "      <th>97</th>\n",
       "      <td>171800.0</td>\n",
       "      <td>3454800060</td>\n",
       "      <td>4.0</td>\n",
       "      <td>2.00</td>\n",
       "      <td>1570.0</td>\n",
       "      <td>9600.0</td>\n",
       "      <td>1.0</td>\n",
       "      <td>1</td>\n",
       "      <td>0.0</td>\n",
       "      <td>3</td>\n",
       "      <td>...</td>\n",
       "      <td>98168</td>\n",
       "      <td>47.4965</td>\n",
       "      <td>-122.303</td>\n",
       "      <td>1880.0</td>\n",
       "      <td>9000.0</td>\n",
       "      <td>2015-01-08</td>\n",
       "      <td>11170.0</td>\n",
       "      <td>15.380483</td>\n",
       "      <td>True</td>\n",
       "      <td>2015</td>\n",
       "    </tr>\n",
       "    <tr>\n",
       "      <th>177</th>\n",
       "      <td>280000.0</td>\n",
       "      <td>257000138</td>\n",
       "      <td>2.0</td>\n",
       "      <td>1.00</td>\n",
       "      <td>850.0</td>\n",
       "      <td>16400.0</td>\n",
       "      <td>1.0</td>\n",
       "      <td>0</td>\n",
       "      <td>0.0</td>\n",
       "      <td>3</td>\n",
       "      <td>...</td>\n",
       "      <td>98168</td>\n",
       "      <td>47.4889</td>\n",
       "      <td>-122.299</td>\n",
       "      <td>1100.0</td>\n",
       "      <td>14459.0</td>\n",
       "      <td>2015-01-15</td>\n",
       "      <td>17250.0</td>\n",
       "      <td>16.231884</td>\n",
       "      <td>True</td>\n",
       "      <td>2015</td>\n",
       "    </tr>\n",
       "    <tr>\n",
       "      <th>194</th>\n",
       "      <td>213000.0</td>\n",
       "      <td>943100260</td>\n",
       "      <td>2.0</td>\n",
       "      <td>1.00</td>\n",
       "      <td>1000.0</td>\n",
       "      <td>10200.0</td>\n",
       "      <td>1.0</td>\n",
       "      <td>0</td>\n",
       "      <td>0.0</td>\n",
       "      <td>3</td>\n",
       "      <td>...</td>\n",
       "      <td>98024</td>\n",
       "      <td>47.5687</td>\n",
       "      <td>-121.899</td>\n",
       "      <td>1150.0</td>\n",
       "      <td>13702.0</td>\n",
       "      <td>2014-11-20</td>\n",
       "      <td>11200.0</td>\n",
       "      <td>19.017857</td>\n",
       "      <td>True</td>\n",
       "      <td>2014</td>\n",
       "    </tr>\n",
       "    <tr>\n",
       "      <th>289</th>\n",
       "      <td>299000.0</td>\n",
       "      <td>7325600160</td>\n",
       "      <td>1.0</td>\n",
       "      <td>0.75</td>\n",
       "      <td>560.0</td>\n",
       "      <td>12120.0</td>\n",
       "      <td>1.0</td>\n",
       "      <td>1</td>\n",
       "      <td>0.0</td>\n",
       "      <td>3</td>\n",
       "      <td>...</td>\n",
       "      <td>98014</td>\n",
       "      <td>47.6750</td>\n",
       "      <td>-121.854</td>\n",
       "      <td>1300.0</td>\n",
       "      <td>19207.0</td>\n",
       "      <td>2014-06-04</td>\n",
       "      <td>12680.0</td>\n",
       "      <td>23.580442</td>\n",
       "      <td>True</td>\n",
       "      <td>2014</td>\n",
       "    </tr>\n",
       "    <tr>\n",
       "      <th>...</th>\n",
       "      <td>...</td>\n",
       "      <td>...</td>\n",
       "      <td>...</td>\n",
       "      <td>...</td>\n",
       "      <td>...</td>\n",
       "      <td>...</td>\n",
       "      <td>...</td>\n",
       "      <td>...</td>\n",
       "      <td>...</td>\n",
       "      <td>...</td>\n",
       "      <td>...</td>\n",
       "      <td>...</td>\n",
       "      <td>...</td>\n",
       "      <td>...</td>\n",
       "      <td>...</td>\n",
       "      <td>...</td>\n",
       "      <td>...</td>\n",
       "      <td>...</td>\n",
       "      <td>...</td>\n",
       "      <td>...</td>\n",
       "      <td>...</td>\n",
       "    </tr>\n",
       "    <tr>\n",
       "      <th>16052</th>\n",
       "      <td>263000.0</td>\n",
       "      <td>4435000145</td>\n",
       "      <td>4.0</td>\n",
       "      <td>1.75</td>\n",
       "      <td>1340.0</td>\n",
       "      <td>8700.0</td>\n",
       "      <td>1.5</td>\n",
       "      <td>0</td>\n",
       "      <td>0.0</td>\n",
       "      <td>3</td>\n",
       "      <td>...</td>\n",
       "      <td>98188</td>\n",
       "      <td>47.4514</td>\n",
       "      <td>-122.287</td>\n",
       "      <td>1240.0</td>\n",
       "      <td>8700.0</td>\n",
       "      <td>2015-05-01</td>\n",
       "      <td>10040.0</td>\n",
       "      <td>26.195219</td>\n",
       "      <td>True</td>\n",
       "      <td>2015</td>\n",
       "    </tr>\n",
       "    <tr>\n",
       "      <th>16056</th>\n",
       "      <td>187500.0</td>\n",
       "      <td>1788800770</td>\n",
       "      <td>3.0</td>\n",
       "      <td>1.00</td>\n",
       "      <td>840.0</td>\n",
       "      <td>8400.0</td>\n",
       "      <td>1.0</td>\n",
       "      <td>0</td>\n",
       "      <td>0.0</td>\n",
       "      <td>3</td>\n",
       "      <td>...</td>\n",
       "      <td>98023</td>\n",
       "      <td>47.3281</td>\n",
       "      <td>-122.344</td>\n",
       "      <td>1030.0</td>\n",
       "      <td>8640.0</td>\n",
       "      <td>2014-07-28</td>\n",
       "      <td>9240.0</td>\n",
       "      <td>20.292208</td>\n",
       "      <td>True</td>\n",
       "      <td>2014</td>\n",
       "    </tr>\n",
       "    <tr>\n",
       "      <th>16070</th>\n",
       "      <td>338000.0</td>\n",
       "      <td>7250000065</td>\n",
       "      <td>3.0</td>\n",
       "      <td>2.00</td>\n",
       "      <td>2440.0</td>\n",
       "      <td>23512.0</td>\n",
       "      <td>1.0</td>\n",
       "      <td>1</td>\n",
       "      <td>0.0</td>\n",
       "      <td>3</td>\n",
       "      <td>...</td>\n",
       "      <td>98148</td>\n",
       "      <td>47.4594</td>\n",
       "      <td>-122.326</td>\n",
       "      <td>1630.0</td>\n",
       "      <td>19613.0</td>\n",
       "      <td>2014-08-25</td>\n",
       "      <td>25952.0</td>\n",
       "      <td>13.024044</td>\n",
       "      <td>True</td>\n",
       "      <td>2014</td>\n",
       "    </tr>\n",
       "    <tr>\n",
       "      <th>17588</th>\n",
       "      <td>249000.0</td>\n",
       "      <td>121039156</td>\n",
       "      <td>3.0</td>\n",
       "      <td>1.00</td>\n",
       "      <td>1030.0</td>\n",
       "      <td>24750.0</td>\n",
       "      <td>1.0</td>\n",
       "      <td>0</td>\n",
       "      <td>2.0</td>\n",
       "      <td>3</td>\n",
       "      <td>...</td>\n",
       "      <td>98023</td>\n",
       "      <td>47.3343</td>\n",
       "      <td>-122.362</td>\n",
       "      <td>2810.0</td>\n",
       "      <td>28800.0</td>\n",
       "      <td>2015-01-09</td>\n",
       "      <td>25780.0</td>\n",
       "      <td>9.658650</td>\n",
       "      <td>True</td>\n",
       "      <td>2015</td>\n",
       "    </tr>\n",
       "    <tr>\n",
       "      <th>17688</th>\n",
       "      <td>224000.0</td>\n",
       "      <td>844000965</td>\n",
       "      <td>3.0</td>\n",
       "      <td>1.75</td>\n",
       "      <td>1500.0</td>\n",
       "      <td>11968.0</td>\n",
       "      <td>1.0</td>\n",
       "      <td>1</td>\n",
       "      <td>0.0</td>\n",
       "      <td>3</td>\n",
       "      <td>...</td>\n",
       "      <td>98010</td>\n",
       "      <td>47.3095</td>\n",
       "      <td>-122.002</td>\n",
       "      <td>1320.0</td>\n",
       "      <td>11303.0</td>\n",
       "      <td>2014-06-26</td>\n",
       "      <td>13468.0</td>\n",
       "      <td>16.632017</td>\n",
       "      <td>True</td>\n",
       "      <td>2014</td>\n",
       "    </tr>\n",
       "  </tbody>\n",
       "</table>\n",
       "<p>184 rows × 25 columns</p>\n",
       "</div>"
      ],
      "text/plain": [
       "          price          id  bedrooms  bathrooms  sqft_living  sqft_lot  \\\n",
       "38     210490.0  8945200830       3.0       1.00        990.0    8528.0   \n",
       "97     171800.0  3454800060       4.0       2.00       1570.0    9600.0   \n",
       "177    280000.0   257000138       2.0       1.00        850.0   16400.0   \n",
       "194    213000.0   943100260       2.0       1.00       1000.0   10200.0   \n",
       "289    299000.0  7325600160       1.0       0.75        560.0   12120.0   \n",
       "...         ...         ...       ...        ...          ...       ...   \n",
       "16052  263000.0  4435000145       4.0       1.75       1340.0    8700.0   \n",
       "16056  187500.0  1788800770       3.0       1.00        840.0    8400.0   \n",
       "16070  338000.0  7250000065       3.0       2.00       2440.0   23512.0   \n",
       "17588  249000.0   121039156       3.0       1.00       1030.0   24750.0   \n",
       "17688  224000.0   844000965       3.0       1.75       1500.0   11968.0   \n",
       "\n",
       "       floors waterfront  view  condition  ...  zipcode      lat     long  \\\n",
       "38        1.0          0   0.0          3  ...    98023  47.3066 -122.371   \n",
       "97        1.0          1   0.0          3  ...    98168  47.4965 -122.303   \n",
       "177       1.0          0   0.0          3  ...    98168  47.4889 -122.299   \n",
       "194       1.0          0   0.0          3  ...    98024  47.5687 -121.899   \n",
       "289       1.0          1   0.0          3  ...    98014  47.6750 -121.854   \n",
       "...       ...        ...   ...        ...  ...      ...      ...      ...   \n",
       "16052     1.5          0   0.0          3  ...    98188  47.4514 -122.287   \n",
       "16056     1.0          0   0.0          3  ...    98023  47.3281 -122.344   \n",
       "16070     1.0          1   0.0          3  ...    98148  47.4594 -122.326   \n",
       "17588     1.0          0   2.0          3  ...    98023  47.3343 -122.362   \n",
       "17688     1.0          1   0.0          3  ...    98010  47.3095 -122.002   \n",
       "\n",
       "       sqft_living15  sqft_lot15        date  tot_sqft  price_per_sqft  \\\n",
       "38            1228.0      8840.0  2015-03-25    9518.0       22.114940   \n",
       "97            1880.0      9000.0  2015-01-08   11170.0       15.380483   \n",
       "177           1100.0     14459.0  2015-01-15   17250.0       16.231884   \n",
       "194           1150.0     13702.0  2014-11-20   11200.0       19.017857   \n",
       "289           1300.0     19207.0  2014-06-04   12680.0       23.580442   \n",
       "...              ...         ...         ...       ...             ...   \n",
       "16052         1240.0      8700.0  2015-05-01   10040.0       26.195219   \n",
       "16056         1030.0      8640.0  2014-07-28    9240.0       20.292208   \n",
       "16070         1630.0     19613.0  2014-08-25   25952.0       13.024044   \n",
       "17588         2810.0     28800.0  2015-01-09   25780.0        9.658650   \n",
       "17688         1320.0     11303.0  2014-06-26   13468.0       16.632017   \n",
       "\n",
       "       poor_neighborhood  year_sold  \n",
       "38                  True       2015  \n",
       "97                  True       2015  \n",
       "177                 True       2015  \n",
       "194                 True       2014  \n",
       "289                 True       2014  \n",
       "...                  ...        ...  \n",
       "16052               True       2015  \n",
       "16056               True       2014  \n",
       "16070               True       2014  \n",
       "17588               True       2015  \n",
       "17688               True       2014  \n",
       "\n",
       "[184 rows x 25 columns]"
      ]
     },
     "execution_count": 976,
     "metadata": {},
     "output_type": "execute_result"
    }
   ],
   "source": [
    "candidates = df_analysis[               #it creates a new data frame with the following conditions\n",
    "    (df_analysis['poor_neighborhood']) &\n",
    "    (df_analysis['condition'] <= 3) &  # Slightly lower condition\n",
    "    (df_analysis['grade'] <= 6) &      # Modest homes\n",
    "    (df_analysis['price'] < df_analysis['price'].quantile(0.3)) & # Cheap relative to rest\n",
    "    (df_analysis['yr_renovated'] == 0)  #no renovation\n",
    "]\n",
    "candidates"
   ]
  },
  {
   "cell_type": "code",
   "execution_count": 977,
   "id": "2ceabfbe",
   "metadata": {},
   "outputs": [
    {
     "data": {
      "application/vnd.plotly.v1+json": {
       "config": {
        "plotlyServerURL": "https://plot.ly"
       },
       "data": [
        {
         "customdata": [
          [
           "98023",
           210490
          ],
          [
           "98168",
           171800
          ],
          [
           "98168",
           280000
          ],
          [
           "98024",
           213000
          ],
          [
           "98014",
           299000
          ],
          [
           "98014",
           80000
          ],
          [
           "98198",
           157000
          ],
          [
           "98188",
           130000
          ],
          [
           "98168",
           175000
          ],
          [
           "98168",
           245000
          ],
          [
           "98168",
           185000
          ],
          [
           "98168",
           260000
          ],
          [
           "98168",
           173000
          ],
          [
           "98168",
           170000
          ],
          [
           "98023",
           199990
          ],
          [
           "98001",
           196440
          ],
          [
           "98010",
           190000
          ],
          [
           "98001",
           215500
          ],
          [
           "98198",
           189650
          ],
          [
           "98168",
           340000
          ],
          [
           "98188",
           156000
          ],
          [
           "98168",
           82500
          ],
          [
           "98024",
           260000
          ],
          [
           "98010",
           260000
          ],
          [
           "98001",
           235000
          ],
          [
           "98168",
           179900
          ],
          [
           "98077",
           299000
          ],
          [
           "98188",
           200450
          ],
          [
           "98002",
           219950
          ],
          [
           "98023",
           222000
          ],
          [
           "98001",
           196000
          ],
          [
           "98168",
           230000
          ],
          [
           "98168",
           145000
          ],
          [
           "98022",
           122000
          ],
          [
           "98001",
           115000
          ],
          [
           "98168",
           189000
          ],
          [
           "98188",
           216000
          ],
          [
           "98168",
           226950
          ],
          [
           "98188",
           253779
          ],
          [
           "98168",
           122000
          ],
          [
           "98168",
           84000
          ],
          [
           "98168",
           210000
          ],
          [
           "98148",
           122000
          ],
          [
           "98168",
           228950
          ],
          [
           "98168",
           135000
          ],
          [
           "98168",
           198500
          ],
          [
           "98024",
           340000
          ],
          [
           "98001",
           263400
          ],
          [
           "98168",
           160000
          ],
          [
           "98198",
           196900
          ],
          [
           "98003",
           219000
          ],
          [
           "98168",
           225000
          ],
          [
           "98168",
           232000
          ],
          [
           "98168",
           239000
          ],
          [
           "98198",
           258000
          ],
          [
           "98023",
           96500
          ],
          [
           "98023",
           185000
          ],
          [
           "98188",
           255000
          ],
          [
           "98014",
           150000
          ],
          [
           "98198",
           219950
          ],
          [
           "98168",
           170000
          ],
          [
           "98024",
           258000
          ],
          [
           "98001",
           286000
          ],
          [
           "98014",
           280000
          ],
          [
           "98002",
           187000
          ],
          [
           "98045",
           275000
          ],
          [
           "98168",
           203000
          ],
          [
           "98168",
           235000
          ],
          [
           "98045",
           340000
          ],
          [
           "98168",
           190000
          ],
          [
           "98188",
           110000
          ],
          [
           "98023",
           223000
          ],
          [
           "98045",
           280000
          ],
          [
           "98168",
           272000
          ],
          [
           "98092",
           149000
          ],
          [
           "98168",
           199950
          ],
          [
           "98168",
           261000
          ],
          [
           "98023",
           199950
          ],
          [
           "98168",
           250000
          ],
          [
           "98023",
           184000
          ],
          [
           "98070",
           285000
          ],
          [
           "98024",
           212000
          ],
          [
           "98168",
           285950
          ],
          [
           "98014",
           305000
          ],
          [
           "98168",
           175000
          ],
          [
           "98198",
           204000
          ],
          [
           "98198",
           275000
          ],
          [
           "98070",
           220500
          ],
          [
           "98070",
           329000
          ],
          [
           "98045",
           230000
          ],
          [
           "98198",
           265000
          ],
          [
           "98003",
           215000
          ],
          [
           "98002",
           112000
          ],
          [
           "98032",
           85000
          ],
          [
           "98032",
           235000
          ],
          [
           "98168",
           245000
          ],
          [
           "98023",
           209950
          ],
          [
           "98002",
           184500
          ],
          [
           "98188",
           110700
          ],
          [
           "98024",
           235000
          ],
          [
           "98023",
           232500
          ],
          [
           "98014",
           240000
          ],
          [
           "98168",
           205000
          ],
          [
           "98168",
           195000
          ],
          [
           "98168",
           250000
          ],
          [
           "98168",
           192500
          ],
          [
           "98198",
           275000
          ],
          [
           "98148",
           154500
          ],
          [
           "98188",
           225000
          ],
          [
           "98014",
           156000
          ],
          [
           "98168",
           225000
          ],
          [
           "98002",
           128750
          ],
          [
           "98001",
           174000
          ],
          [
           "98168",
           205000
          ],
          [
           "98168",
           245000
          ],
          [
           "98168",
           335000
          ],
          [
           "98023",
           135000
          ],
          [
           "98168",
           235000
          ],
          [
           "98168",
           209000
          ],
          [
           "98045",
           313500
          ],
          [
           "98168",
           244500
          ],
          [
           "98023",
           169500
          ],
          [
           "98168",
           315000
          ],
          [
           "98168",
           200000
          ],
          [
           "98023",
           86500
          ],
          [
           "98023",
           199950
          ],
          [
           "98198",
           243500
          ],
          [
           "98023",
           279900
          ],
          [
           "98032",
           129000
          ],
          [
           "98168",
           235000
          ],
          [
           "98023",
           105000
          ],
          [
           "98198",
           95000
          ],
          [
           "98168",
           110000
          ],
          [
           "98168",
           110000
          ],
          [
           "98070",
           300000
          ],
          [
           "98001",
           100000
          ],
          [
           "98032",
           242000
          ],
          [
           "98198",
           210000
          ],
          [
           "98148",
           185000
          ],
          [
           "98023",
           150000
          ],
          [
           "98168",
           182200
          ],
          [
           "98148",
           235000
          ],
          [
           "98001",
           154000
          ],
          [
           "98168",
           274950
          ],
          [
           "98001",
           225000
          ],
          [
           "98014",
           310000
          ],
          [
           "98168",
           81000
          ],
          [
           "98168",
           165000
          ],
          [
           "98168",
           175000
          ],
          [
           "98070",
           340000
          ],
          [
           "98168",
           109500
          ],
          [
           "98032",
           85000
          ],
          [
           "98023",
           184900
          ],
          [
           "98168",
           280000
          ],
          [
           "98003",
           205000
          ],
          [
           "98023",
           179950
          ],
          [
           "98024",
           303000
          ],
          [
           "98168",
           146000
          ],
          [
           "98168",
           280000
          ],
          [
           "98014",
           190000
          ],
          [
           "98001",
           179900
          ],
          [
           "98168",
           245000
          ],
          [
           "98045",
           315000
          ],
          [
           "98070",
           260000
          ],
          [
           "98022",
           199000
          ],
          [
           "98198",
           180500
          ],
          [
           "98168",
           158000
          ],
          [
           "98168",
           250000
          ],
          [
           "98070",
           285000
          ],
          [
           "98198",
           182500
          ],
          [
           "98168",
           83000
          ],
          [
           "98002",
           206000
          ],
          [
           "98198",
           196000
          ],
          [
           "98198",
           200000
          ],
          [
           "98198",
           229500
          ],
          [
           "98168",
           182000
          ],
          [
           "98024",
           200000
          ],
          [
           "98188",
           171000
          ],
          [
           "98168",
           270950
          ],
          [
           "98188",
           263000
          ],
          [
           "98023",
           187500
          ],
          [
           "98148",
           338000
          ],
          [
           "98023",
           249000
          ],
          [
           "98010",
           224000
          ]
         ],
         "hovertemplate": "lat=%{lat}<br>long=%{lon}<br>zipcode=%{customdata[0]}<br>price=%{customdata[1]}<br>price_per_sqft=%{marker.color}<extra></extra>",
         "lat": {
          "bdata": "EHo2qz6nR0BkO99Pjb9HQNiBc0aUvkdAG55eKcvIR0BmZmZmZtZHQNDVVuwv00dATKYKRiW1R0B5WKg1zbtHQLAD54wovUdAIbByaJG9R0CsHFpkO79HQKqCUUmdwEdAc9cS8kG/R0AibHh6pbxHQCcxCKwcqkdAMuauJeSjR0A6kst/SKdHQD/G3LWEpEdAFNBE2PC0R0BU46WbxMBHQBniWBe3uUdA2qz6XG29R0Abnl4py8hHQDMzMzMzq0dAl5APejajR0DgnBGlvcFHQPkx5q4l3EdAq8/VVuy3R0AdWmQ736dHQCxlGeJYp0dAEqW9wRemR0DnHafoSL5HQHctIR/0vEdA+1xtxf6aR0CVZYhjXaRHQJ+rrdhfvkdAHHxhMlW4R0Cu2F92T75HQKmkTkATuUdA5/up8dK9R0CUh4Va07xHQBniWBe3wUdAH4XrUbi2R0D129eBc75HQIJzRpT2vkdAdEaU9ga/R0AcfGEyVchHQMKGp1fKokdAN4lBYOXAR0BnRGlv8LVHQI2XbhKDqEdA9pfdk4e9R0CsHFpkO79HQLn8h/Tbv0dAp3nHKTqyR0Cn6Egu/6lHQKfoSC7/qUdA30+Nl266R0BtVn2uttpHQD0s1JrmtUdAdLUV+8u+R0Cq8dJNYshHQLFQa5p3pEdAS+oENBHWR0Am5IOezapHQFg5tMh2vkdAEoPAyqG9R0Cu2F92T75HQMgHPZtVv0dAVcGopE7AR0CL/WX35LlHQOCcEaW9qUdA9pfdk4e9R0C6SQwCK79HQGN/2T15qEdAaLPqc7W9R0CoNc07TsFHQJm7lpAPqkdAsVBrmne8R0BlqmBUUqdHQKW9wRcmu0dARpT2Bl/IR0DVCWgibMBHQIcW2c7300dAkst/SL+9R0AwTKYKRrVHQBKlvcEXtkdAkxgEVg61R0CTGARWDrVHQKyL22gAv0dAdQKaCBu2R0BE+u3rwKlHQI/C9Shcp0dAf/s6cM6wR0B/+zpwzrBHQJ7vp8ZLv0dAnl4pyxCnR0CYbhKDwKpHQHnpJjEIvEdAY3/ZPXnIR0B90LNZ9alHQF5LyAc900dANxrAWyDBR0DZX3ZPHr5HQFdbsb/svkdAlWWIY128R0DV52or9q9HQA6+MJkquEdAufyH9Nu3R0Ay5q4l5NNHQHS1FfvLvkdAylTBqKSmR0AaUdobfKFHQCGwcmiRvUdA5fIf0m+/R0DhehSuR8FHQESLbOf7qUdAVFInoInAR0C5/If0279HQCGwcmiRvUdAufyH9Nu/R0B4nKIjuaRHQLpJDAIrv0dAi2zn+6nBR0AZc9cS8qlHQBlz1xLyqUdAJQaBlUOzR0D+1HjpJqlHQIts5/upsUdA/7J78rDAR0AZc9cS8qlHQFOWIY51sUdAkDF3LSG/R0DV52or9r9HQPKwUGuar0dAswxxrIujR0CitDf4wrRHQBTQRNjwtEdAvAUSFD+2R0B2cRsN4KVHQEi/fR04v0dAOiNKe4O3R0Bbsb/snqRHQJXUCWgivEdABhIUP8akR0BtVn2uttJHQFr1udqKvUdAzczMzMy8R0BYqDXNO75HQMNkqmBUukdAc2iR7Xy/R0AnoImw4bFHQCcxCKwcqkdA8KfGSzfBR0DSb18HzqlHQBlz1xLyqUdA48eYu5bIR0B24JwRpb1HQHZxGw3gvUdADr4wmSrYR0D35GGh1qRHQHe+nxovvUdAb/CFyVTBR0CNKO0NvrhHQE+vlGWIm0dADXGsi9uwR0ADCYofY75HQKOSOgFNvEdAlWWIY128R0BVMCqpE7BHQNxoAG+BvEdArfpcbcWmR0Doaiv2l7VHQMuhRbbztUdA7MA5I0qzR0Bb07zjFL1HQHKKjuTyx0dAwFsgQfG7R0B+HThnRMFHQAu1pnnHuUdAp+hILv+pR0Am5IOezbpHQMKGp1fKqkdAVg4tsp2nR0A=",
          "dtype": "f8"
         },
         "legendgroup": "",
         "lon": {
          "bdata": "ObTIdr6XXsAIrBxaZJNewEJg5dAik17AqMZLN4l5XsAtsp3vp3ZewBkEVg4tel7AMzMzMzOTXsC0yHa+n5JewPyp8dJNkl7A6SYxCKyUXsDP91PjpZNewCUGgZVDk17A+n5qvHSTXsBGtvP91JBewBKDwMqhlV7A8tJNYhCQXsBGtvP91IBewClcj8L1kF7AMQisHFqUXsB3vp8aL5VewJqZmZmZkV7Abef7qfGSXsC28/3UeHlewFCNl24Sg17A46WbxCCQXsBOYhBYOZRewD0K16NwhV7AxSCwcmiRXsBMN4lBYI1ewDm0yHa+l17A001iEFiRXsAIrBxaZJNewJhuEoPAkl7A16NwPQp/XsC4HoXrUZBewNv5fmq8lF7AYOXQItuRXsCF61G4HpVewMUgsHJokV7AhetRuB6VXsDTTWIQWJFewD0K16NwlV7A2/l+aryUXsBoke18P5VewJZDi2znk17AlkOLbOeTXsApXI/C9XhewClcj8L1kF7AF9nO91OTXsBOYhBYOZRewM3MzMzMlF7A0SLb+X6SXsD6fmq8dJNewBfZzvdTk17AwcqhRbaTXsDLoUW285VewMuhRbbzlV7Ai2zn+6mRXsBKDAIrh1ZewGq8dJMYlF7A3SQGgZWTXsApXI/C9XhewPLSTWIQkF7Aj8L1KFx3XsDn+6nx0o1ewO58PzVecl7Ad76fGi+VXsAIrBxaZJNewIts5/upcV7AFK5H4XqUXsD8qfHSTZJewDvfT42Xll7AmpmZmZlxXsDdJAaBlZNewMHKoUW2i17Ad76fGi+VXsCF61G4HpVewC/dJAaBlV7A001iEFiRXsCsHFpkO5dewC/dJAaBnV7AKVyPwvV4XsB3vp8aL5VewN9PjZduel7AqMZLN4mRXsCTGARWDpVewLByaJHtlF7AEoPAyqGdXsASg8DKoZ1ewCcxCKwccl7AaJHtfD+VXsBMN4lBYJVewNnO91PjjV7AZDvfT42PXsBkO99PjY9ewPp+arx0k17AukkMAiuXXsAEVg4tso1ewFCNl24Sk17AYhBYObR4XsAhsHJokZVewPyp8dJNel7AWmQ730+VXsD6fmq8dJNewMHKoUW2k17AVOOlm8SQXsDdJAaBlZNewKJFtvP9lF7ANV66SQySXsAnMQisHHpewN0kBoGVk17A5/up8dKNXsDy0k1iEJBewKabxCCwkl7ABoGVQ4uUXsDpJjEIrJRewCGwcmiRlV7AkxgEVg6VXsA/NV66SZRewN9PjZducl7AkxgEVg6VXsDXo3A9CpdewAaBlUOLlF7AWmQ730+VXsDn+6nx0pVewOf7qfHSlV7AmG4Sg8CSXsCoxks3iZlewOXQItv5jl7AJQaBlUOTXsDLoUW285VewM/3U+Olk17ATmIQWDmUXsA/NV66SZRewC/dJAaBnV7A46WbxCCQXsAMAiuHFpFewFpkO99PlV7AaJHtfD+VXsDjpZvEIJhewDMzMzMzk17AkxgEVg6VXsDjpZvEIJBewDeJQWDlkF7A8tJNYhCQXsAZBFYOLXpewFyPwvUolF7AjZduEoOQXsCF61G4HpVewDEIrBxanF7APzVeukmUXsDJdr6fGo9ewMuhRbbzlV7Ad76fGi+VXsBMN4lBYJVewHWTGARWll7AKVyPwvV4XsD4U+Olm5RewGiR7Xw/lV7AGQRWDi16XsDy0k1iEJBewG8Sg8DKkV7A7nw/NV5yXsAj2/l+apxewGQ730+Nf17Aarx0kxiUXsDdJAaBlZNewLTIdr6fkl7AFK5H4XqcXsDdJAaBlZNewOF6FK5HkV7AoBov3SSOXsCTGARWDpVewDEIrBxalF7A6SYxCKyUXsDwp8ZLN5FewLpJDAIrd17ARIts5/uRXsCF61G4HpVewO58PzVekl7AvHSTGASWXsC+nxov3ZRewLpJDAIrl17A46WbxCCAXsA=",
          "dtype": "f8"
         },
         "marker": {
          "color": {
           "bdata": "TFkct2wdNkAV3qO5zsIuQARz7cBcOzBASZIkSZIEM0CXqcbSl5Q3QGOzoNpzMi1ASz8hI3UXF0AN5TWU11AqQEYj13je3zdA5FQB/AvcL0AAAAAAAAA0QDc5cNmzDT1AFQJNIdCUMUDHbNeeinItQKPEzyjxszRA7RHd+8wKNkA8eWLtfQYtQK6ky0vPnylAGMikeIHMNUAlSZIkSZI8QHJdYDtlqC1AW13zOwThDEBvJfR2/B41QHLJ6y3s6ShARU37LipaIkAhuYDX22g5QAiTOcoAG/k/epC7frbYM0A0dEq/RKw8QHNDSzl8lTZA9AdWc18IJECkJhhvZR87QOzETuzETjZAKd+zCcXIMUCkGxNN7T8aQH6EuU2i3jdAHRHYB0MOREDCJm58siM+QLWQH2Ux0jVAcsu4ZdwyNEAPrNi/bSEQQH3URsJAwDRAq3Vux7dbMECEJVEpno89QLLf4qXkfSNAXGiHje7tNkD84S1ByHk8QKxfyDbQBBFAJZegSj9zMkDqYAQVmHM2QAAAAAAAADlA/Hwxod8SQECibSaMaJs5QOLnXXD95zhALFIcmi3TJ0AbE+mBytkdQOWi9GkInSxAz9lp/JRPI0B5JUSaqVQ0QAGz3Naz4TdAx9tn7YXzNkCllFJKKaVAQOvlw4sVrC9ApPgqd4jeCEAgg3LX2k9AQIo1pAu3ADhAvJX7hIMBNECRfE29c4I2QPYIcHhhwj1AV2S+NHEYM0BqYaWnFlYoQHaDQKgbowhAFV16yIKUKUDcOEloGHg9QMP4TujTJkNAVk2hg52nOEB185U5W2AzQMg1Ecg1ETJAjvjMQfXXJ0D+Y5kjXNAyQBbnI2DDtixAjbT8OdBIO0Ao0J1e0/BDQBb33PGtSi1AYYp81g2mF0AEjhQN8cctQDB+xPmZ7TZAVjUWHtYoDkCm3uMy/X8WQEKCMrFyViZAIwK/AtGVP0CK6VUevnIzQED7d6pv/DlA/Ihec0NLIUARcsZqCug3QESBSafmQThA2Yqg4aTuNEAAAAAAAMBCQPLxC+n5USlA+e1ST8avNED0ayRlHsw3QMtTQVEgpDVA+oFSln6gNkDllDcBK5o0QAgzvyzBOi1AD8y1A3PtM0CommlAKR1AQHNd1EY11y1ALMhLPeYDL0B0Bit0BiskQE/Ng9z1sz1ASp0ndZ5UMEB+gjxzYB0oQAgdFfjiaipA/4MDVTaWLkCl8ZEJ9E4/QEB7oGPMFCtABHbs7NdVQEByQMVKchE9QCxSBp5uzQlA5ne1uAnzLkAC7kDvXpYuQLRuMEU+6zJA4Bc6SIusO0CRN+QNecMgQAAAAAAAYDNAmmE8ygWWOEC0bjBFPrMzQAAAAAAAgDVAtprXjFCsO0C66KKLLromQG397YGN3idAsmcgKh3ZG0DoeZ7neV4wQKyQB1PL4zVA2gx/9al1EUDpndnlADglQEmSJEmSJDFAKndQAU8bNUBTw+OwuuAFQCHNr9yMMyhAaTf/aAqNNEDJO6S7SbgqQIubML+rxTpAywrKDbtYKkCc42vMkKY8QBi5hLInRB5AO7ETO7ETJ0BXlkx0/Dw4QCWcdVbrFTpAU5OxKyIrI0BWWbFTzuIfQFH8Rc6woDBAPClI/rzKQkCQPVhchIo0QGRkZGRkpDFAzqIxAKV/OUBaZteS9LorQJMvGzT5skFAnc/ljNPdxD8ic4fMHTIrQAqad8/WJzBAvO4dCePaE0DjqMLwMjkJQE0/UtrC6zRArc3arM3aPkC+Owl9ljMrQCUbwLKjaCJAMqWq5zBkFEDmiBRD/WUoQLAx2k6zgiFAq6qqqqqqOkD1yYMDMbA4QPmHaRxqpjZA14fflDLNI0DvAKZsi/EiQN+R7EI46e0/rv3XzV4jIEBW7EkLX0VDQA8DZ+H5MTpAOSs/Ic5KNEA6VdaLTwwqQBOgipY6USNAHQqN18uhMEA=",
           "dtype": "f8"
          },
          "coloraxis": "coloraxis"
         },
         "mode": "markers",
         "name": "",
         "showlegend": false,
         "subplot": "mapbox",
         "type": "scattermapbox"
        }
       ],
       "layout": {
        "coloraxis": {
         "colorbar": {
          "title": {
           "text": "price_per_sqft"
          }
         },
         "colorscale": [
          [
           0,
           "#0d0887"
          ],
          [
           0.1111111111111111,
           "#46039f"
          ],
          [
           0.2222222222222222,
           "#7201a8"
          ],
          [
           0.3333333333333333,
           "#9c179e"
          ],
          [
           0.4444444444444444,
           "#bd3786"
          ],
          [
           0.5555555555555556,
           "#d8576b"
          ],
          [
           0.6666666666666666,
           "#ed7953"
          ],
          [
           0.7777777777777778,
           "#fb9f3a"
          ],
          [
           0.8888888888888888,
           "#fdca26"
          ],
          [
           1,
           "#f0f921"
          ]
         ]
        },
        "height": 600,
        "legend": {
         "tracegroupgap": 0
        },
        "mapbox": {
         "center": {
          "lat": 47.43908967391304,
          "lon": -122.2419456521739
         },
         "domain": {
          "x": [
           0,
           1
          ],
          "y": [
           0,
           1
          ]
         },
         "style": "open-street-map",
         "zoom": 8.9
        },
        "template": {
         "data": {
          "bar": [
           {
            "error_x": {
             "color": "#2a3f5f"
            },
            "error_y": {
             "color": "#2a3f5f"
            },
            "marker": {
             "line": {
              "color": "#E5ECF6",
              "width": 0.5
             },
             "pattern": {
              "fillmode": "overlay",
              "size": 10,
              "solidity": 0.2
             }
            },
            "type": "bar"
           }
          ],
          "barpolar": [
           {
            "marker": {
             "line": {
              "color": "#E5ECF6",
              "width": 0.5
             },
             "pattern": {
              "fillmode": "overlay",
              "size": 10,
              "solidity": 0.2
             }
            },
            "type": "barpolar"
           }
          ],
          "carpet": [
           {
            "aaxis": {
             "endlinecolor": "#2a3f5f",
             "gridcolor": "white",
             "linecolor": "white",
             "minorgridcolor": "white",
             "startlinecolor": "#2a3f5f"
            },
            "baxis": {
             "endlinecolor": "#2a3f5f",
             "gridcolor": "white",
             "linecolor": "white",
             "minorgridcolor": "white",
             "startlinecolor": "#2a3f5f"
            },
            "type": "carpet"
           }
          ],
          "choropleth": [
           {
            "colorbar": {
             "outlinewidth": 0,
             "ticks": ""
            },
            "type": "choropleth"
           }
          ],
          "contour": [
           {
            "colorbar": {
             "outlinewidth": 0,
             "ticks": ""
            },
            "colorscale": [
             [
              0,
              "#0d0887"
             ],
             [
              0.1111111111111111,
              "#46039f"
             ],
             [
              0.2222222222222222,
              "#7201a8"
             ],
             [
              0.3333333333333333,
              "#9c179e"
             ],
             [
              0.4444444444444444,
              "#bd3786"
             ],
             [
              0.5555555555555556,
              "#d8576b"
             ],
             [
              0.6666666666666666,
              "#ed7953"
             ],
             [
              0.7777777777777778,
              "#fb9f3a"
             ],
             [
              0.8888888888888888,
              "#fdca26"
             ],
             [
              1,
              "#f0f921"
             ]
            ],
            "type": "contour"
           }
          ],
          "contourcarpet": [
           {
            "colorbar": {
             "outlinewidth": 0,
             "ticks": ""
            },
            "type": "contourcarpet"
           }
          ],
          "heatmap": [
           {
            "colorbar": {
             "outlinewidth": 0,
             "ticks": ""
            },
            "colorscale": [
             [
              0,
              "#0d0887"
             ],
             [
              0.1111111111111111,
              "#46039f"
             ],
             [
              0.2222222222222222,
              "#7201a8"
             ],
             [
              0.3333333333333333,
              "#9c179e"
             ],
             [
              0.4444444444444444,
              "#bd3786"
             ],
             [
              0.5555555555555556,
              "#d8576b"
             ],
             [
              0.6666666666666666,
              "#ed7953"
             ],
             [
              0.7777777777777778,
              "#fb9f3a"
             ],
             [
              0.8888888888888888,
              "#fdca26"
             ],
             [
              1,
              "#f0f921"
             ]
            ],
            "type": "heatmap"
           }
          ],
          "histogram": [
           {
            "marker": {
             "pattern": {
              "fillmode": "overlay",
              "size": 10,
              "solidity": 0.2
             }
            },
            "type": "histogram"
           }
          ],
          "histogram2d": [
           {
            "colorbar": {
             "outlinewidth": 0,
             "ticks": ""
            },
            "colorscale": [
             [
              0,
              "#0d0887"
             ],
             [
              0.1111111111111111,
              "#46039f"
             ],
             [
              0.2222222222222222,
              "#7201a8"
             ],
             [
              0.3333333333333333,
              "#9c179e"
             ],
             [
              0.4444444444444444,
              "#bd3786"
             ],
             [
              0.5555555555555556,
              "#d8576b"
             ],
             [
              0.6666666666666666,
              "#ed7953"
             ],
             [
              0.7777777777777778,
              "#fb9f3a"
             ],
             [
              0.8888888888888888,
              "#fdca26"
             ],
             [
              1,
              "#f0f921"
             ]
            ],
            "type": "histogram2d"
           }
          ],
          "histogram2dcontour": [
           {
            "colorbar": {
             "outlinewidth": 0,
             "ticks": ""
            },
            "colorscale": [
             [
              0,
              "#0d0887"
             ],
             [
              0.1111111111111111,
              "#46039f"
             ],
             [
              0.2222222222222222,
              "#7201a8"
             ],
             [
              0.3333333333333333,
              "#9c179e"
             ],
             [
              0.4444444444444444,
              "#bd3786"
             ],
             [
              0.5555555555555556,
              "#d8576b"
             ],
             [
              0.6666666666666666,
              "#ed7953"
             ],
             [
              0.7777777777777778,
              "#fb9f3a"
             ],
             [
              0.8888888888888888,
              "#fdca26"
             ],
             [
              1,
              "#f0f921"
             ]
            ],
            "type": "histogram2dcontour"
           }
          ],
          "mesh3d": [
           {
            "colorbar": {
             "outlinewidth": 0,
             "ticks": ""
            },
            "type": "mesh3d"
           }
          ],
          "parcoords": [
           {
            "line": {
             "colorbar": {
              "outlinewidth": 0,
              "ticks": ""
             }
            },
            "type": "parcoords"
           }
          ],
          "pie": [
           {
            "automargin": true,
            "type": "pie"
           }
          ],
          "scatter": [
           {
            "fillpattern": {
             "fillmode": "overlay",
             "size": 10,
             "solidity": 0.2
            },
            "type": "scatter"
           }
          ],
          "scatter3d": [
           {
            "line": {
             "colorbar": {
              "outlinewidth": 0,
              "ticks": ""
             }
            },
            "marker": {
             "colorbar": {
              "outlinewidth": 0,
              "ticks": ""
             }
            },
            "type": "scatter3d"
           }
          ],
          "scattercarpet": [
           {
            "marker": {
             "colorbar": {
              "outlinewidth": 0,
              "ticks": ""
             }
            },
            "type": "scattercarpet"
           }
          ],
          "scattergeo": [
           {
            "marker": {
             "colorbar": {
              "outlinewidth": 0,
              "ticks": ""
             }
            },
            "type": "scattergeo"
           }
          ],
          "scattergl": [
           {
            "marker": {
             "colorbar": {
              "outlinewidth": 0,
              "ticks": ""
             }
            },
            "type": "scattergl"
           }
          ],
          "scattermap": [
           {
            "marker": {
             "colorbar": {
              "outlinewidth": 0,
              "ticks": ""
             }
            },
            "type": "scattermap"
           }
          ],
          "scattermapbox": [
           {
            "marker": {
             "colorbar": {
              "outlinewidth": 0,
              "ticks": ""
             }
            },
            "type": "scattermapbox"
           }
          ],
          "scatterpolar": [
           {
            "marker": {
             "colorbar": {
              "outlinewidth": 0,
              "ticks": ""
             }
            },
            "type": "scatterpolar"
           }
          ],
          "scatterpolargl": [
           {
            "marker": {
             "colorbar": {
              "outlinewidth": 0,
              "ticks": ""
             }
            },
            "type": "scatterpolargl"
           }
          ],
          "scatterternary": [
           {
            "marker": {
             "colorbar": {
              "outlinewidth": 0,
              "ticks": ""
             }
            },
            "type": "scatterternary"
           }
          ],
          "surface": [
           {
            "colorbar": {
             "outlinewidth": 0,
             "ticks": ""
            },
            "colorscale": [
             [
              0,
              "#0d0887"
             ],
             [
              0.1111111111111111,
              "#46039f"
             ],
             [
              0.2222222222222222,
              "#7201a8"
             ],
             [
              0.3333333333333333,
              "#9c179e"
             ],
             [
              0.4444444444444444,
              "#bd3786"
             ],
             [
              0.5555555555555556,
              "#d8576b"
             ],
             [
              0.6666666666666666,
              "#ed7953"
             ],
             [
              0.7777777777777778,
              "#fb9f3a"
             ],
             [
              0.8888888888888888,
              "#fdca26"
             ],
             [
              1,
              "#f0f921"
             ]
            ],
            "type": "surface"
           }
          ],
          "table": [
           {
            "cells": {
             "fill": {
              "color": "#EBF0F8"
             },
             "line": {
              "color": "white"
             }
            },
            "header": {
             "fill": {
              "color": "#C8D4E3"
             },
             "line": {
              "color": "white"
             }
            },
            "type": "table"
           }
          ]
         },
         "layout": {
          "annotationdefaults": {
           "arrowcolor": "#2a3f5f",
           "arrowhead": 0,
           "arrowwidth": 1
          },
          "autotypenumbers": "strict",
          "coloraxis": {
           "colorbar": {
            "outlinewidth": 0,
            "ticks": ""
           }
          },
          "colorscale": {
           "diverging": [
            [
             0,
             "#8e0152"
            ],
            [
             0.1,
             "#c51b7d"
            ],
            [
             0.2,
             "#de77ae"
            ],
            [
             0.3,
             "#f1b6da"
            ],
            [
             0.4,
             "#fde0ef"
            ],
            [
             0.5,
             "#f7f7f7"
            ],
            [
             0.6,
             "#e6f5d0"
            ],
            [
             0.7,
             "#b8e186"
            ],
            [
             0.8,
             "#7fbc41"
            ],
            [
             0.9,
             "#4d9221"
            ],
            [
             1,
             "#276419"
            ]
           ],
           "sequential": [
            [
             0,
             "#0d0887"
            ],
            [
             0.1111111111111111,
             "#46039f"
            ],
            [
             0.2222222222222222,
             "#7201a8"
            ],
            [
             0.3333333333333333,
             "#9c179e"
            ],
            [
             0.4444444444444444,
             "#bd3786"
            ],
            [
             0.5555555555555556,
             "#d8576b"
            ],
            [
             0.6666666666666666,
             "#ed7953"
            ],
            [
             0.7777777777777778,
             "#fb9f3a"
            ],
            [
             0.8888888888888888,
             "#fdca26"
            ],
            [
             1,
             "#f0f921"
            ]
           ],
           "sequentialminus": [
            [
             0,
             "#0d0887"
            ],
            [
             0.1111111111111111,
             "#46039f"
            ],
            [
             0.2222222222222222,
             "#7201a8"
            ],
            [
             0.3333333333333333,
             "#9c179e"
            ],
            [
             0.4444444444444444,
             "#bd3786"
            ],
            [
             0.5555555555555556,
             "#d8576b"
            ],
            [
             0.6666666666666666,
             "#ed7953"
            ],
            [
             0.7777777777777778,
             "#fb9f3a"
            ],
            [
             0.8888888888888888,
             "#fdca26"
            ],
            [
             1,
             "#f0f921"
            ]
           ]
          },
          "colorway": [
           "#636efa",
           "#EF553B",
           "#00cc96",
           "#ab63fa",
           "#FFA15A",
           "#19d3f3",
           "#FF6692",
           "#B6E880",
           "#FF97FF",
           "#FECB52"
          ],
          "font": {
           "color": "#2a3f5f"
          },
          "geo": {
           "bgcolor": "white",
           "lakecolor": "white",
           "landcolor": "#E5ECF6",
           "showlakes": true,
           "showland": true,
           "subunitcolor": "white"
          },
          "hoverlabel": {
           "align": "left"
          },
          "hovermode": "closest",
          "mapbox": {
           "style": "light"
          },
          "paper_bgcolor": "white",
          "plot_bgcolor": "#E5ECF6",
          "polar": {
           "angularaxis": {
            "gridcolor": "white",
            "linecolor": "white",
            "ticks": ""
           },
           "bgcolor": "#E5ECF6",
           "radialaxis": {
            "gridcolor": "white",
            "linecolor": "white",
            "ticks": ""
           }
          },
          "scene": {
           "xaxis": {
            "backgroundcolor": "#E5ECF6",
            "gridcolor": "white",
            "gridwidth": 2,
            "linecolor": "white",
            "showbackground": true,
            "ticks": "",
            "zerolinecolor": "white"
           },
           "yaxis": {
            "backgroundcolor": "#E5ECF6",
            "gridcolor": "white",
            "gridwidth": 2,
            "linecolor": "white",
            "showbackground": true,
            "ticks": "",
            "zerolinecolor": "white"
           },
           "zaxis": {
            "backgroundcolor": "#E5ECF6",
            "gridcolor": "white",
            "gridwidth": 2,
            "linecolor": "white",
            "showbackground": true,
            "ticks": "",
            "zerolinecolor": "white"
           }
          },
          "shapedefaults": {
           "line": {
            "color": "#2a3f5f"
           }
          },
          "ternary": {
           "aaxis": {
            "gridcolor": "white",
            "linecolor": "white",
            "ticks": ""
           },
           "baxis": {
            "gridcolor": "white",
            "linecolor": "white",
            "ticks": ""
           },
           "bgcolor": "#E5ECF6",
           "caxis": {
            "gridcolor": "white",
            "linecolor": "white",
            "ticks": ""
           }
          },
          "title": {
           "x": 0.05
          },
          "xaxis": {
           "automargin": true,
           "gridcolor": "white",
           "linecolor": "white",
           "ticks": "",
           "title": {
            "standoff": 15
           },
           "zerolinecolor": "white",
           "zerolinewidth": 2
          },
          "yaxis": {
           "automargin": true,
           "gridcolor": "white",
           "linecolor": "white",
           "ticks": "",
           "title": {
            "standoff": 15
           },
           "zerolinecolor": "white",
           "zerolinewidth": 2
          }
         }
        },
        "title": {
         "text": "Investment Candidates by Location"
        },
        "width": 600
       }
      }
     },
     "metadata": {},
     "output_type": "display_data"
    }
   ],
   "source": [
    "\n",
    "\n",
    "fig_1=px.scatter_mapbox(candidates,\n",
    "    lat=\"lat\", lon=\"long\",\n",
    "    color=\"price_per_sqft\",\n",
    "    #size=\"sqft_living\",\n",
    "    hover_data=[\"zipcode\", \"price\"],\n",
    "    mapbox_style=\"open-street-map\", zoom=8.9,\n",
    "    title=\"Investment Candidates by Location\"\n",
    ")\n",
    "\n",
    "fig_1.update_layout(width=600, height=600)\n",
    "\n",
    "fig_1.show()"
   ]
  },
  {
   "cell_type": "code",
   "execution_count": 978,
   "id": "a4d7e93d",
   "metadata": {},
   "outputs": [
    {
     "data": {
      "text/plain": [
       "Text(0.5, 1.0, 'House Condition Distribution in Poor ZIP Codes')"
      ]
     },
     "execution_count": 978,
     "metadata": {},
     "output_type": "execute_result"
    },
    {
     "data": {
      "image/png": "[encoded data removed]",
      "text/plain": [
       "<Figure size 640x480 with 1 Axes>"
      ]
     },
     "metadata": {},
     "output_type": "display_data"
    }
   ],
   "source": [
    "sns.countplot(candidates, x='condition')\n",
    "plt.title(\"House Condition Distribution in Poor ZIP Codes\")\n"
   ]
  },
  {
   "cell_type": "code",
   "execution_count": 979,
   "id": "27bf9514",
   "metadata": {},
   "outputs": [
    {
     "data": {
      "text/plain": [
       "<Axes: xlabel='zipcode', ylabel='price_per_sqft'>"
      ]
     },
     "execution_count": 979,
     "metadata": {},
     "output_type": "execute_result"
    },
    {
     "data": {
      "image/png": "[encoded data removed]",
      "text/plain": [
       "<Figure size 1500x600 with 1 Axes>"
      ]
     },
     "metadata": {},
     "output_type": "display_data"
    }
   ],
   "source": [
    "plt.figure(figsize=(15, 6))  # Set width=10, height=6 (in inches)\n",
    "sns.scatterplot(candidates, x='zipcode', y='price_per_sqft')"
   ]
  },
  {
   "cell_type": "markdown",
   "id": "be27e6c4",
   "metadata": {},
   "source": [
    "At this point we need to determinate which houses can increase in value.\n",
    "\n",
    "To do so, we need to determinate the new value they will acquire after the renovation. We assume that such value is the median of the price per sqft in the same zipcode"
   ]
  },
  {
   "cell_type": "code",
   "execution_count": 980,
   "id": "437b1559",
   "metadata": {},
   "outputs": [
    {
     "data": {
      "text/plain": [
       "38       25.493614\n",
       "97       22.598870\n",
       "177      22.598870\n",
       "194       9.083674\n",
       "289      14.645858\n",
       "           ...    \n",
       "16052    26.009700\n",
       "16056    25.493614\n",
       "16070    26.151720\n",
       "17588    25.493614\n",
       "17688    16.385139\n",
       "Name: zipcode, Length: 184, dtype: float64"
      ]
     },
     "execution_count": 980,
     "metadata": {},
     "output_type": "execute_result"
    }
   ],
   "source": [
    "median_price_per_sqft_by_zip = df_analysis.groupby('zipcode')['price_per_sqft'].median()\n",
    "\n",
    "# It creates a new column with an estimate potential resale value. The new value of the house is equal of sqft_living * the price_per_sqft\n",
    "candidates['est_resale_price'] = (\n",
    "    #candidates['sqft_living'] * candidates['zipcode'].map(median_price_per_sqft_by_zip) # it multiplicate the sqft_living for the median of the price per sqft in the same zip code. Map return the index of the median value for that zipcode\n",
    "    candidates['tot_sqft'] * candidates['zipcode'].map(median_price_per_sqft_by_zip)\n",
    ")\n",
    "candidates['zipcode'].map(median_price_per_sqft_by_zip)"
   ]
  },
  {
   "cell_type": "markdown",
   "id": "62a03097",
   "metadata": {},
   "source": [
    "At this point we need to estimate the profit for selling the house after the renovation.\n",
    "\n",
    "We assume a cost of 300$ per square foot and we expect a profit of at least 10000$."
   ]
  },
  {
   "cell_type": "code",
   "execution_count": 981,
   "id": "097817f2",
   "metadata": {},
   "outputs": [
    {
     "data": {
      "text/plain": [
       "38      -314341.779830\n",
       "97      -468870.621469\n",
       "177     -187669.491525\n",
       "194     -461262.850190\n",
       "289     -309290.516206\n",
       "             ...      \n",
       "16052   -470862.610229\n",
       "16056   -245939.004584\n",
       "16070   -513310.564558\n",
       "17588     47725.374656\n",
       "17688   -528324.947114\n",
       "Name: expected_profit, Length: 184, dtype: float64"
      ]
     },
     "execution_count": 981,
     "metadata": {},
     "output_type": "execute_result"
    }
   ],
   "source": [
    "renovation_cost_per_sqft = 350 # Assuming a cost of 70$ per square foot\n",
    "candidates['renovation_cost'] = candidates['sqft_living'] * renovation_cost_per_sqft\n",
    "#candidates['renovation_cost'] = candidates['tot_sqft'] * renovation_cost_per_sqft\n",
    "\n",
    "candidates['expected_profit'] = (\n",
    "    candidates['est_resale_price'] - candidates['price'] - candidates['renovation_cost']\n",
    ")\n",
    "candidates['expected_profit']\n",
    "\n"
   ]
  },
  {
   "cell_type": "code",
   "execution_count": 982,
   "id": "879fdbf2",
   "metadata": {},
   "outputs": [
    {
     "data": {
      "text/html": [
       "<div>\n",
       "<style scoped>\n",
       "    .dataframe tbody tr th:only-of-type {\n",
       "        vertical-align: middle;\n",
       "    }\n",
       "\n",
       "    .dataframe tbody tr th {\n",
       "        vertical-align: top;\n",
       "    }\n",
       "\n",
       "    .dataframe thead th {\n",
       "        text-align: right;\n",
       "    }\n",
       "</style>\n",
       "<table border=\"1\" class=\"dataframe\">\n",
       "  <thead>\n",
       "    <tr style=\"text-align: right;\">\n",
       "      <th></th>\n",
       "      <th>price</th>\n",
       "      <th>id</th>\n",
       "      <th>bedrooms</th>\n",
       "      <th>bathrooms</th>\n",
       "      <th>sqft_living</th>\n",
       "      <th>sqft_lot</th>\n",
       "      <th>floors</th>\n",
       "      <th>waterfront</th>\n",
       "      <th>view</th>\n",
       "      <th>condition</th>\n",
       "      <th>...</th>\n",
       "      <th>sqft_living15</th>\n",
       "      <th>sqft_lot15</th>\n",
       "      <th>date</th>\n",
       "      <th>tot_sqft</th>\n",
       "      <th>price_per_sqft</th>\n",
       "      <th>poor_neighborhood</th>\n",
       "      <th>year_sold</th>\n",
       "      <th>est_resale_price</th>\n",
       "      <th>renovation_cost</th>\n",
       "      <th>expected_profit</th>\n",
       "    </tr>\n",
       "  </thead>\n",
       "  <tbody>\n",
       "    <tr>\n",
       "      <th>543</th>\n",
       "      <td>157000.0</td>\n",
       "      <td>922049078</td>\n",
       "      <td>1.0</td>\n",
       "      <td>1.00</td>\n",
       "      <td>870.0</td>\n",
       "      <td>26326.0</td>\n",
       "      <td>1.0</td>\n",
       "      <td>0</td>\n",
       "      <td>0.0</td>\n",
       "      <td>3</td>\n",
       "      <td>...</td>\n",
       "      <td>1250.0</td>\n",
       "      <td>10608.0</td>\n",
       "      <td>2014-11-18</td>\n",
       "      <td>27196.0</td>\n",
       "      <td>5.772908</td>\n",
       "      <td>True</td>\n",
       "      <td>2014</td>\n",
       "      <td>6.884906e+05</td>\n",
       "      <td>304500.0</td>\n",
       "      <td>226990.644352</td>\n",
       "    </tr>\n",
       "    <tr>\n",
       "      <th>1767</th>\n",
       "      <td>82500.0</td>\n",
       "      <td>1623049041</td>\n",
       "      <td>2.0</td>\n",
       "      <td>1.00</td>\n",
       "      <td>520.0</td>\n",
       "      <td>22334.0</td>\n",
       "      <td>1.0</td>\n",
       "      <td>0</td>\n",
       "      <td>0.0</td>\n",
       "      <td>2</td>\n",
       "      <td>...</td>\n",
       "      <td>1572.0</td>\n",
       "      <td>10570.0</td>\n",
       "      <td>2014-05-08</td>\n",
       "      <td>22854.0</td>\n",
       "      <td>3.609871</td>\n",
       "      <td>True</td>\n",
       "      <td>2014</td>\n",
       "      <td>5.164746e+05</td>\n",
       "      <td>182000.0</td>\n",
       "      <td>251974.576271</td>\n",
       "    </tr>\n",
       "    <tr>\n",
       "      <th>3095</th>\n",
       "      <td>84000.0</td>\n",
       "      <td>1523049188</td>\n",
       "      <td>2.0</td>\n",
       "      <td>1.00</td>\n",
       "      <td>700.0</td>\n",
       "      <td>20130.0</td>\n",
       "      <td>1.0</td>\n",
       "      <td>0</td>\n",
       "      <td>0.0</td>\n",
       "      <td>3</td>\n",
       "      <td>...</td>\n",
       "      <td>1490.0</td>\n",
       "      <td>18630.0</td>\n",
       "      <td>2015-04-30</td>\n",
       "      <td>20830.0</td>\n",
       "      <td>4.032645</td>\n",
       "      <td>True</td>\n",
       "      <td>2015</td>\n",
       "      <td>4.707345e+05</td>\n",
       "      <td>245000.0</td>\n",
       "      <td>141734.463277</td>\n",
       "    </tr>\n",
       "    <tr>\n",
       "      <th>3716</th>\n",
       "      <td>263400.0</td>\n",
       "      <td>3751606513</td>\n",
       "      <td>4.0</td>\n",
       "      <td>2.00</td>\n",
       "      <td>1360.0</td>\n",
       "      <td>60548.0</td>\n",
       "      <td>1.0</td>\n",
       "      <td>0</td>\n",
       "      <td>0.0</td>\n",
       "      <td>3</td>\n",
       "      <td>...</td>\n",
       "      <td>1930.0</td>\n",
       "      <td>28800.0</td>\n",
       "      <td>2014-06-30</td>\n",
       "      <td>61908.0</td>\n",
       "      <td>4.254701</td>\n",
       "      <td>True</td>\n",
       "      <td>2014</td>\n",
       "      <td>1.394103e+06</td>\n",
       "      <td>476000.0</td>\n",
       "      <td>654703.253886</td>\n",
       "    </tr>\n",
       "    <tr>\n",
       "      <th>4882</th>\n",
       "      <td>255000.0</td>\n",
       "      <td>5379800500</td>\n",
       "      <td>3.0</td>\n",
       "      <td>1.50</td>\n",
       "      <td>910.0</td>\n",
       "      <td>25500.0</td>\n",
       "      <td>1.0</td>\n",
       "      <td>0</td>\n",
       "      <td>0.0</td>\n",
       "      <td>3</td>\n",
       "      <td>...</td>\n",
       "      <td>1580.0</td>\n",
       "      <td>10019.0</td>\n",
       "      <td>2014-09-30</td>\n",
       "      <td>26410.0</td>\n",
       "      <td>9.655434</td>\n",
       "      <td>True</td>\n",
       "      <td>2014</td>\n",
       "      <td>6.869162e+05</td>\n",
       "      <td>318500.0</td>\n",
       "      <td>113416.181658</td>\n",
       "    </tr>\n",
       "    <tr>\n",
       "      <th>5323</th>\n",
       "      <td>280000.0</td>\n",
       "      <td>8656800190</td>\n",
       "      <td>3.0</td>\n",
       "      <td>1.75</td>\n",
       "      <td>2080.0</td>\n",
       "      <td>87991.0</td>\n",
       "      <td>1.0</td>\n",
       "      <td>0</td>\n",
       "      <td>0.0</td>\n",
       "      <td>3</td>\n",
       "      <td>...</td>\n",
       "      <td>2080.0</td>\n",
       "      <td>84300.0</td>\n",
       "      <td>2014-10-02</td>\n",
       "      <td>90071.0</td>\n",
       "      <td>3.108659</td>\n",
       "      <td>True</td>\n",
       "      <td>2014</td>\n",
       "      <td>1.319167e+06</td>\n",
       "      <td>728000.0</td>\n",
       "      <td>311167.106843</td>\n",
       "    </tr>\n",
       "    <tr>\n",
       "      <th>7216</th>\n",
       "      <td>175000.0</td>\n",
       "      <td>2613200025</td>\n",
       "      <td>2.0</td>\n",
       "      <td>1.00</td>\n",
       "      <td>1330.0</td>\n",
       "      <td>28270.0</td>\n",
       "      <td>1.5</td>\n",
       "      <td>0</td>\n",
       "      <td>0.0</td>\n",
       "      <td>3</td>\n",
       "      <td>...</td>\n",
       "      <td>1210.0</td>\n",
       "      <td>6926.0</td>\n",
       "      <td>2015-03-13</td>\n",
       "      <td>29600.0</td>\n",
       "      <td>5.912162</td>\n",
       "      <td>True</td>\n",
       "      <td>2015</td>\n",
       "      <td>6.689266e+05</td>\n",
       "      <td>465500.0</td>\n",
       "      <td>28426.553672</td>\n",
       "    </tr>\n",
       "    <tr>\n",
       "      <th>12654</th>\n",
       "      <td>100000.0</td>\n",
       "      <td>8856000545</td>\n",
       "      <td>2.0</td>\n",
       "      <td>1.00</td>\n",
       "      <td>910.0</td>\n",
       "      <td>22000.0</td>\n",
       "      <td>1.0</td>\n",
       "      <td>0</td>\n",
       "      <td>0.0</td>\n",
       "      <td>3</td>\n",
       "      <td>...</td>\n",
       "      <td>1326.0</td>\n",
       "      <td>9891.0</td>\n",
       "      <td>2014-05-07</td>\n",
       "      <td>22910.0</td>\n",
       "      <td>4.364906</td>\n",
       "      <td>True</td>\n",
       "      <td>2014</td>\n",
       "      <td>5.159092e+05</td>\n",
       "      <td>318500.0</td>\n",
       "      <td>97409.180502</td>\n",
       "    </tr>\n",
       "    <tr>\n",
       "      <th>12871</th>\n",
       "      <td>150000.0</td>\n",
       "      <td>3089000005</td>\n",
       "      <td>2.0</td>\n",
       "      <td>1.00</td>\n",
       "      <td>850.0</td>\n",
       "      <td>54000.0</td>\n",
       "      <td>1.5</td>\n",
       "      <td>0</td>\n",
       "      <td>0.0</td>\n",
       "      <td>1</td>\n",
       "      <td>...</td>\n",
       "      <td>1550.0</td>\n",
       "      <td>14440.0</td>\n",
       "      <td>2014-07-24</td>\n",
       "      <td>54850.0</td>\n",
       "      <td>2.734731</td>\n",
       "      <td>True</td>\n",
       "      <td>2014</td>\n",
       "      <td>1.398325e+06</td>\n",
       "      <td>297500.0</td>\n",
       "      <td>950824.740104</td>\n",
       "    </tr>\n",
       "    <tr>\n",
       "      <th>14447</th>\n",
       "      <td>315000.0</td>\n",
       "      <td>1593000690</td>\n",
       "      <td>3.0</td>\n",
       "      <td>1.00</td>\n",
       "      <td>1170.0</td>\n",
       "      <td>62290.0</td>\n",
       "      <td>2.0</td>\n",
       "      <td>0</td>\n",
       "      <td>0.0</td>\n",
       "      <td>3</td>\n",
       "      <td>...</td>\n",
       "      <td>1810.0</td>\n",
       "      <td>42173.0</td>\n",
       "      <td>2015-04-08</td>\n",
       "      <td>63460.0</td>\n",
       "      <td>4.963757</td>\n",
       "      <td>True</td>\n",
       "      <td>2015</td>\n",
       "      <td>1.453290e+06</td>\n",
       "      <td>409500.0</td>\n",
       "      <td>728790.443160</td>\n",
       "    </tr>\n",
       "    <tr>\n",
       "      <th>14707</th>\n",
       "      <td>260000.0</td>\n",
       "      <td>3223039010</td>\n",
       "      <td>2.0</td>\n",
       "      <td>1.00</td>\n",
       "      <td>570.0</td>\n",
       "      <td>81893.0</td>\n",
       "      <td>1.0</td>\n",
       "      <td>0</td>\n",
       "      <td>1.0</td>\n",
       "      <td>3</td>\n",
       "      <td>...</td>\n",
       "      <td>2040.0</td>\n",
       "      <td>115434.0</td>\n",
       "      <td>2014-08-04</td>\n",
       "      <td>82463.0</td>\n",
       "      <td>3.152929</td>\n",
       "      <td>True</td>\n",
       "      <td>2014</td>\n",
       "      <td>7.969064e+05</td>\n",
       "      <td>199500.0</td>\n",
       "      <td>337406.379348</td>\n",
       "    </tr>\n",
       "    <tr>\n",
       "      <th>17588</th>\n",
       "      <td>249000.0</td>\n",
       "      <td>121039156</td>\n",
       "      <td>3.0</td>\n",
       "      <td>1.00</td>\n",
       "      <td>1030.0</td>\n",
       "      <td>24750.0</td>\n",
       "      <td>1.0</td>\n",
       "      <td>0</td>\n",
       "      <td>2.0</td>\n",
       "      <td>3</td>\n",
       "      <td>...</td>\n",
       "      <td>2810.0</td>\n",
       "      <td>28800.0</td>\n",
       "      <td>2015-01-09</td>\n",
       "      <td>25780.0</td>\n",
       "      <td>9.658650</td>\n",
       "      <td>True</td>\n",
       "      <td>2015</td>\n",
       "      <td>6.572254e+05</td>\n",
       "      <td>360500.0</td>\n",
       "      <td>47725.374656</td>\n",
       "    </tr>\n",
       "  </tbody>\n",
       "</table>\n",
       "<p>12 rows × 28 columns</p>\n",
       "</div>"
      ],
      "text/plain": [
       "          price          id  bedrooms  bathrooms  sqft_living  sqft_lot  \\\n",
       "543    157000.0   922049078       1.0       1.00        870.0   26326.0   \n",
       "1767    82500.0  1623049041       2.0       1.00        520.0   22334.0   \n",
       "3095    84000.0  1523049188       2.0       1.00        700.0   20130.0   \n",
       "3716   263400.0  3751606513       4.0       2.00       1360.0   60548.0   \n",
       "4882   255000.0  5379800500       3.0       1.50        910.0   25500.0   \n",
       "5323   280000.0  8656800190       3.0       1.75       2080.0   87991.0   \n",
       "7216   175000.0  2613200025       2.0       1.00       1330.0   28270.0   \n",
       "12654  100000.0  8856000545       2.0       1.00        910.0   22000.0   \n",
       "12871  150000.0  3089000005       2.0       1.00        850.0   54000.0   \n",
       "14447  315000.0  1593000690       3.0       1.00       1170.0   62290.0   \n",
       "14707  260000.0  3223039010       2.0       1.00        570.0   81893.0   \n",
       "17588  249000.0   121039156       3.0       1.00       1030.0   24750.0   \n",
       "\n",
       "       floors waterfront  view  condition  ...  sqft_living15  sqft_lot15  \\\n",
       "543       1.0          0   0.0          3  ...         1250.0     10608.0   \n",
       "1767      1.0          0   0.0          2  ...         1572.0     10570.0   \n",
       "3095      1.0          0   0.0          3  ...         1490.0     18630.0   \n",
       "3716      1.0          0   0.0          3  ...         1930.0     28800.0   \n",
       "4882      1.0          0   0.0          3  ...         1580.0     10019.0   \n",
       "5323      1.0          0   0.0          3  ...         2080.0     84300.0   \n",
       "7216      1.5          0   0.0          3  ...         1210.0      6926.0   \n",
       "12654     1.0          0   0.0          3  ...         1326.0      9891.0   \n",
       "12871     1.5          0   0.0          1  ...         1550.0     14440.0   \n",
       "14447     2.0          0   0.0          3  ...         1810.0     42173.0   \n",
       "14707     1.0          0   1.0          3  ...         2040.0    115434.0   \n",
       "17588     1.0          0   2.0          3  ...         2810.0     28800.0   \n",
       "\n",
       "             date  tot_sqft  price_per_sqft poor_neighborhood  year_sold  \\\n",
       "543    2014-11-18   27196.0        5.772908              True       2014   \n",
       "1767   2014-05-08   22854.0        3.609871              True       2014   \n",
       "3095   2015-04-30   20830.0        4.032645              True       2015   \n",
       "3716   2014-06-30   61908.0        4.254701              True       2014   \n",
       "4882   2014-09-30   26410.0        9.655434              True       2014   \n",
       "5323   2014-10-02   90071.0        3.108659              True       2014   \n",
       "7216   2015-03-13   29600.0        5.912162              True       2015   \n",
       "12654  2014-05-07   22910.0        4.364906              True       2014   \n",
       "12871  2014-07-24   54850.0        2.734731              True       2014   \n",
       "14447  2015-04-08   63460.0        4.963757              True       2015   \n",
       "14707  2014-08-04   82463.0        3.152929              True       2014   \n",
       "17588  2015-01-09   25780.0        9.658650              True       2015   \n",
       "\n",
       "       est_resale_price  renovation_cost  expected_profit  \n",
       "543        6.884906e+05         304500.0    226990.644352  \n",
       "1767       5.164746e+05         182000.0    251974.576271  \n",
       "3095       4.707345e+05         245000.0    141734.463277  \n",
       "3716       1.394103e+06         476000.0    654703.253886  \n",
       "4882       6.869162e+05         318500.0    113416.181658  \n",
       "5323       1.319167e+06         728000.0    311167.106843  \n",
       "7216       6.689266e+05         465500.0     28426.553672  \n",
       "12654      5.159092e+05         318500.0     97409.180502  \n",
       "12871      1.398325e+06         297500.0    950824.740104  \n",
       "14447      1.453290e+06         409500.0    728790.443160  \n",
       "14707      7.969064e+05         199500.0    337406.379348  \n",
       "17588      6.572254e+05         360500.0     47725.374656  \n",
       "\n",
       "[12 rows x 28 columns]"
      ]
     },
     "execution_count": 982,
     "metadata": {},
     "output_type": "execute_result"
    }
   ],
   "source": [
    "# Add a small profit requirement\n",
    "max_profit = 1E6 # set threshold\n",
    "#min profit =\n",
    "candidates_2 = candidates[(candidates['expected_profit'] <= max_profit) & (candidates['expected_profit'] >= 3000)]\n",
    "candidates_2"
   ]
  },
  {
   "cell_type": "markdown",
   "id": "d7372544",
   "metadata": {},
   "source": []
  },
  {
   "cell_type": "code",
   "execution_count": 983,
   "id": "ead5fb60",
   "metadata": {},
   "outputs": [],
   "source": [
    "profit_by_zip = candidates_2.groupby('zipcode')['expected_profit'].mean().reset_index()\n",
    "\n",
    "# Sort by profit if desired\n",
    "profit_by_zip = profit_by_zip.sort_values('expected_profit', ascending=False)\n"
   ]
  },
  {
   "cell_type": "code",
   "execution_count": 984,
   "id": "a82d8a0b",
   "metadata": {},
   "outputs": [
    {
     "data": {
      "image/png": "[encoded data removed]",
      "text/plain": [
       "<Figure size 700x600 with 1 Axes>"
      ]
     },
     "metadata": {},
     "output_type": "display_data"
    }
   ],
   "source": [
    "plt.figure(figsize=(7, 6))\n",
    "sns.barplot(data=profit_by_zip, x='zipcode', y='expected_profit')\n",
    "plt.title('Average Expected Profit by ZIP Code')\n",
    "plt.ylabel('Expected Profit ($)')\n",
    "plt.xlabel('ZIP Code')\n",
    "plt.xticks(rotation=45)\n",
    "plt.tight_layout()\n",
    "plt.show()"
   ]
  },
  {
   "cell_type": "code",
   "execution_count": 985,
   "id": "1a0e96e8",
   "metadata": {},
   "outputs": [
    {
     "data": {
      "application/vnd.plotly.v1+json": {
       "config": {
        "plotlyServerURL": "https://plot.ly"
       },
       "data": [
        {
         "customdata": [
          [
           "98198",
           157000,
           226990.64435207285
          ],
          [
           "98168",
           82500,
           251974.57627118647
          ],
          [
           "98168",
           84000,
           141734.4632768362
          ],
          [
           "98001",
           263400,
           654703.2538859237
          ],
          [
           "98188",
           255000,
           113416.1816578483
          ],
          [
           "98014",
           280000,
           311167.10684273695
          ],
          [
           "98168",
           175000,
           28426.553672316368
          ],
          [
           "98001",
           100000,
           97409.18050214049
          ],
          [
           "98023",
           150000,
           950824.7401040923
          ],
          [
           "98045",
           315000,
           728790.4431600957
          ],
          [
           "98070",
           260000,
           337406.3793484899
          ],
          [
           "98023",
           249000,
           47725.37465603463
          ]
         ],
         "hovertemplate": "sqft_living=%{marker.size}<br>lat=%{lat}<br>long=%{lon}<br>zipcode=%{customdata[0]}<br>price=%{customdata[1]}<br>expected_profit=%{marker.color}<extra></extra>",
         "lat": {
          "bdata": "TKYKRiW1R0DarPpcbb1HQJSHhVrTvEdAwoanV8qiR0DfT42XbrpHQEvqBDQR1kdAkst/SL+9R0CzDHGsi6NHQHZxGw3gpUdAb/CFyVTBR0CNKO0NvrhHQMKGp1fKqkdA",
          "dtype": "f8"
         },
         "legendgroup": "",
         "lon": {
          "bdata": "MzMzMzOTXsBt5/up8ZJewNNNYhBYkV7AKVyPwvWQXsCLbOf7qZFewI/C9Shcd17AqMZLN4mRXsDjpZvEIJBewOOlm8QgmF7A7nw/NV5yXsAj2/l+apxewLpJDAIrl17A",
          "dtype": "f8"
         },
         "marker": {
          "color": {
           "bdata": "QA+iJ3W1C0FcETScNMIOQWR8yrQzTQFB9lX9gd76I0FYDxLogrD7QLQuaG38/RJB4AJeb6PC20BkNlbjEsj3QHDs7npRBC1BTOHl4qw9JkE47nOE+ZcUQQCnLv2rTedA",
           "dtype": "f8"
          },
          "coloraxis": "coloraxis",
          "size": {
           "bdata": "AAAAAAAwi0AAAAAAAECAQAAAAAAA4IVAAAAAAABAlUAAAAAAAHCMQAAAAAAAQKBAAAAAAADIlEAAAAAAAHCMQAAAAAAAkIpAAAAAAABIkkAAAAAAANCBQAAAAAAAGJBA",
           "dtype": "f8"
          },
          "sizemode": "area",
          "sizeref": 5.2
         },
         "mode": "markers",
         "name": "",
         "showlegend": false,
         "subplot": "mapbox",
         "type": "scattermapbox"
        }
       ],
       "layout": {
        "coloraxis": {
         "colorbar": {
          "title": {
           "text": "expected_profit"
          }
         },
         "colorscale": [
          [
           0,
           "#0d0887"
          ],
          [
           0.1111111111111111,
           "#46039f"
          ],
          [
           0.2222222222222222,
           "#7201a8"
          ],
          [
           0.3333333333333333,
           "#9c179e"
          ],
          [
           0.4444444444444444,
           "#bd3786"
          ],
          [
           0.5555555555555556,
           "#d8576b"
          ],
          [
           0.6666666666666666,
           "#ed7953"
          ],
          [
           0.7777777777777778,
           "#fb9f3a"
          ],
          [
           0.8888888888888888,
           "#fdca26"
          ],
          [
           1,
           "#f0f921"
          ]
         ]
        },
        "height": 600,
        "legend": {
         "itemsizing": "constant",
         "tracegroupgap": 0
        },
        "mapbox": {
         "center": {
          "lat": 47.42625,
          "lon": -122.23075
         },
         "domain": {
          "x": [
           0,
           1
          ],
          "y": [
           0,
           1
          ]
         },
         "style": "open-street-map",
         "zoom": 10
        },
        "template": {
         "data": {
          "bar": [
           {
            "error_x": {
             "color": "#2a3f5f"
            },
            "error_y": {
             "color": "#2a3f5f"
            },
            "marker": {
             "line": {
              "color": "#E5ECF6",
              "width": 0.5
             },
             "pattern": {
              "fillmode": "overlay",
              "size": 10,
              "solidity": 0.2
             }
            },
            "type": "bar"
           }
          ],
          "barpolar": [
           {
            "marker": {
             "line": {
              "color": "#E5ECF6",
              "width": 0.5
             },
             "pattern": {
              "fillmode": "overlay",
              "size": 10,
              "solidity": 0.2
             }
            },
            "type": "barpolar"
           }
          ],
          "carpet": [
           {
            "aaxis": {
             "endlinecolor": "#2a3f5f",
             "gridcolor": "white",
             "linecolor": "white",
             "minorgridcolor": "white",
             "startlinecolor": "#2a3f5f"
            },
            "baxis": {
             "endlinecolor": "#2a3f5f",
             "gridcolor": "white",
             "linecolor": "white",
             "minorgridcolor": "white",
             "startlinecolor": "#2a3f5f"
            },
            "type": "carpet"
           }
          ],
          "choropleth": [
           {
            "colorbar": {
             "outlinewidth": 0,
             "ticks": ""
            },
            "type": "choropleth"
           }
          ],
          "contour": [
           {
            "colorbar": {
             "outlinewidth": 0,
             "ticks": ""
            },
            "colorscale": [
             [
              0,
              "#0d0887"
             ],
             [
              0.1111111111111111,
              "#46039f"
             ],
             [
              0.2222222222222222,
              "#7201a8"
             ],
             [
              0.3333333333333333,
              "#9c179e"
             ],
             [
              0.4444444444444444,
              "#bd3786"
             ],
             [
              0.5555555555555556,
              "#d8576b"
             ],
             [
              0.6666666666666666,
              "#ed7953"
             ],
             [
              0.7777777777777778,
              "#fb9f3a"
             ],
             [
              0.8888888888888888,
              "#fdca26"
             ],
             [
              1,
              "#f0f921"
             ]
            ],
            "type": "contour"
           }
          ],
          "contourcarpet": [
           {
            "colorbar": {
             "outlinewidth": 0,
             "ticks": ""
            },
            "type": "contourcarpet"
           }
          ],
          "heatmap": [
           {
            "colorbar": {
             "outlinewidth": 0,
             "ticks": ""
            },
            "colorscale": [
             [
              0,
              "#0d0887"
             ],
             [
              0.1111111111111111,
              "#46039f"
             ],
             [
              0.2222222222222222,
              "#7201a8"
             ],
             [
              0.3333333333333333,
              "#9c179e"
             ],
             [
              0.4444444444444444,
              "#bd3786"
             ],
             [
              0.5555555555555556,
              "#d8576b"
             ],
             [
              0.6666666666666666,
              "#ed7953"
             ],
             [
              0.7777777777777778,
              "#fb9f3a"
             ],
             [
              0.8888888888888888,
              "#fdca26"
             ],
             [
              1,
              "#f0f921"
             ]
            ],
            "type": "heatmap"
           }
          ],
          "histogram": [
           {
            "marker": {
             "pattern": {
              "fillmode": "overlay",
              "size": 10,
              "solidity": 0.2
             }
            },
            "type": "histogram"
           }
          ],
          "histogram2d": [
           {
            "colorbar": {
             "outlinewidth": 0,
             "ticks": ""
            },
            "colorscale": [
             [
              0,
              "#0d0887"
             ],
             [
              0.1111111111111111,
              "#46039f"
             ],
             [
              0.2222222222222222,
              "#7201a8"
             ],
             [
              0.3333333333333333,
              "#9c179e"
             ],
             [
              0.4444444444444444,
              "#bd3786"
             ],
             [
              0.5555555555555556,
              "#d8576b"
             ],
             [
              0.6666666666666666,
              "#ed7953"
             ],
             [
              0.7777777777777778,
              "#fb9f3a"
             ],
             [
              0.8888888888888888,
              "#fdca26"
             ],
             [
              1,
              "#f0f921"
             ]
            ],
            "type": "histogram2d"
           }
          ],
          "histogram2dcontour": [
           {
            "colorbar": {
             "outlinewidth": 0,
             "ticks": ""
            },
            "colorscale": [
             [
              0,
              "#0d0887"
             ],
             [
              0.1111111111111111,
              "#46039f"
             ],
             [
              0.2222222222222222,
              "#7201a8"
             ],
             [
              0.3333333333333333,
              "#9c179e"
             ],
             [
              0.4444444444444444,
              "#bd3786"
             ],
             [
              0.5555555555555556,
              "#d8576b"
             ],
             [
              0.6666666666666666,
              "#ed7953"
             ],
             [
              0.7777777777777778,
              "#fb9f3a"
             ],
             [
              0.8888888888888888,
              "#fdca26"
             ],
             [
              1,
              "#f0f921"
             ]
            ],
            "type": "histogram2dcontour"
           }
          ],
          "mesh3d": [
           {
            "colorbar": {
             "outlinewidth": 0,
             "ticks": ""
            },
            "type": "mesh3d"
           }
          ],
          "parcoords": [
           {
            "line": {
             "colorbar": {
              "outlinewidth": 0,
              "ticks": ""
             }
            },
            "type": "parcoords"
           }
          ],
          "pie": [
           {
            "automargin": true,
            "type": "pie"
           }
          ],
          "scatter": [
           {
            "fillpattern": {
             "fillmode": "overlay",
             "size": 10,
             "solidity": 0.2
            },
            "type": "scatter"
           }
          ],
          "scatter3d": [
           {
            "line": {
             "colorbar": {
              "outlinewidth": 0,
              "ticks": ""
             }
            },
            "marker": {
             "colorbar": {
              "outlinewidth": 0,
              "ticks": ""
             }
            },
            "type": "scatter3d"
           }
          ],
          "scattercarpet": [
           {
            "marker": {
             "colorbar": {
              "outlinewidth": 0,
              "ticks": ""
             }
            },
            "type": "scattercarpet"
           }
          ],
          "scattergeo": [
           {
            "marker": {
             "colorbar": {
              "outlinewidth": 0,
              "ticks": ""
             }
            },
            "type": "scattergeo"
           }
          ],
          "scattergl": [
           {
            "marker": {
             "colorbar": {
              "outlinewidth": 0,
              "ticks": ""
             }
            },
            "type": "scattergl"
           }
          ],
          "scattermap": [
           {
            "marker": {
             "colorbar": {
              "outlinewidth": 0,
              "ticks": ""
             }
            },
            "type": "scattermap"
           }
          ],
          "scattermapbox": [
           {
            "marker": {
             "colorbar": {
              "outlinewidth": 0,
              "ticks": ""
             }
            },
            "type": "scattermapbox"
           }
          ],
          "scatterpolar": [
           {
            "marker": {
             "colorbar": {
              "outlinewidth": 0,
              "ticks": ""
             }
            },
            "type": "scatterpolar"
           }
          ],
          "scatterpolargl": [
           {
            "marker": {
             "colorbar": {
              "outlinewidth": 0,
              "ticks": ""
             }
            },
            "type": "scatterpolargl"
           }
          ],
          "scatterternary": [
           {
            "marker": {
             "colorbar": {
              "outlinewidth": 0,
              "ticks": ""
             }
            },
            "type": "scatterternary"
           }
          ],
          "surface": [
           {
            "colorbar": {
             "outlinewidth": 0,
             "ticks": ""
            },
            "colorscale": [
             [
              0,
              "#0d0887"
             ],
             [
              0.1111111111111111,
              "#46039f"
             ],
             [
              0.2222222222222222,
              "#7201a8"
             ],
             [
              0.3333333333333333,
              "#9c179e"
             ],
             [
              0.4444444444444444,
              "#bd3786"
             ],
             [
              0.5555555555555556,
              "#d8576b"
             ],
             [
              0.6666666666666666,
              "#ed7953"
             ],
             [
              0.7777777777777778,
              "#fb9f3a"
             ],
             [
              0.8888888888888888,
              "#fdca26"
             ],
             [
              1,
              "#f0f921"
             ]
            ],
            "type": "surface"
           }
          ],
          "table": [
           {
            "cells": {
             "fill": {
              "color": "#EBF0F8"
             },
             "line": {
              "color": "white"
             }
            },
            "header": {
             "fill": {
              "color": "#C8D4E3"
             },
             "line": {
              "color": "white"
             }
            },
            "type": "table"
           }
          ]
         },
         "layout": {
          "annotationdefaults": {
           "arrowcolor": "#2a3f5f",
           "arrowhead": 0,
           "arrowwidth": 1
          },
          "autotypenumbers": "strict",
          "coloraxis": {
           "colorbar": {
            "outlinewidth": 0,
            "ticks": ""
           }
          },
          "colorscale": {
           "diverging": [
            [
             0,
             "#8e0152"
            ],
            [
             0.1,
             "#c51b7d"
            ],
            [
             0.2,
             "#de77ae"
            ],
            [
             0.3,
             "#f1b6da"
            ],
            [
             0.4,
             "#fde0ef"
            ],
            [
             0.5,
             "#f7f7f7"
            ],
            [
             0.6,
             "#e6f5d0"
            ],
            [
             0.7,
             "#b8e186"
            ],
            [
             0.8,
             "#7fbc41"
            ],
            [
             0.9,
             "#4d9221"
            ],
            [
             1,
             "#276419"
            ]
           ],
           "sequential": [
            [
             0,
             "#0d0887"
            ],
            [
             0.1111111111111111,
             "#46039f"
            ],
            [
             0.2222222222222222,
             "#7201a8"
            ],
            [
             0.3333333333333333,
             "#9c179e"
            ],
            [
             0.4444444444444444,
             "#bd3786"
            ],
            [
             0.5555555555555556,
             "#d8576b"
            ],
            [
             0.6666666666666666,
             "#ed7953"
            ],
            [
             0.7777777777777778,
             "#fb9f3a"
            ],
            [
             0.8888888888888888,
             "#fdca26"
            ],
            [
             1,
             "#f0f921"
            ]
           ],
           "sequentialminus": [
            [
             0,
             "#0d0887"
            ],
            [
             0.1111111111111111,
             "#46039f"
            ],
            [
             0.2222222222222222,
             "#7201a8"
            ],
            [
             0.3333333333333333,
             "#9c179e"
            ],
            [
             0.4444444444444444,
             "#bd3786"
            ],
            [
             0.5555555555555556,
             "#d8576b"
            ],
            [
             0.6666666666666666,
             "#ed7953"
            ],
            [
             0.7777777777777778,
             "#fb9f3a"
            ],
            [
             0.8888888888888888,
             "#fdca26"
            ],
            [
             1,
             "#f0f921"
            ]
           ]
          },
          "colorway": [
           "#636efa",
           "#EF553B",
           "#00cc96",
           "#ab63fa",
           "#FFA15A",
           "#19d3f3",
           "#FF6692",
           "#B6E880",
           "#FF97FF",
           "#FECB52"
          ],
          "font": {
           "color": "#2a3f5f"
          },
          "geo": {
           "bgcolor": "white",
           "lakecolor": "white",
           "landcolor": "#E5ECF6",
           "showlakes": true,
           "showland": true,
           "subunitcolor": "white"
          },
          "hoverlabel": {
           "align": "left"
          },
          "hovermode": "closest",
          "mapbox": {
           "style": "light"
          },
          "paper_bgcolor": "white",
          "plot_bgcolor": "#E5ECF6",
          "polar": {
           "angularaxis": {
            "gridcolor": "white",
            "linecolor": "white",
            "ticks": ""
           },
           "bgcolor": "#E5ECF6",
           "radialaxis": {
            "gridcolor": "white",
            "linecolor": "white",
            "ticks": ""
           }
          },
          "scene": {
           "xaxis": {
            "backgroundcolor": "#E5ECF6",
            "gridcolor": "white",
            "gridwidth": 2,
            "linecolor": "white",
            "showbackground": true,
            "ticks": "",
            "zerolinecolor": "white"
           },
           "yaxis": {
            "backgroundcolor": "#E5ECF6",
            "gridcolor": "white",
            "gridwidth": 2,
            "linecolor": "white",
            "showbackground": true,
            "ticks": "",
            "zerolinecolor": "white"
           },
           "zaxis": {
            "backgroundcolor": "#E5ECF6",
            "gridcolor": "white",
            "gridwidth": 2,
            "linecolor": "white",
            "showbackground": true,
            "ticks": "",
            "zerolinecolor": "white"
           }
          },
          "shapedefaults": {
           "line": {
            "color": "#2a3f5f"
           }
          },
          "ternary": {
           "aaxis": {
            "gridcolor": "white",
            "linecolor": "white",
            "ticks": ""
           },
           "baxis": {
            "gridcolor": "white",
            "linecolor": "white",
            "ticks": ""
           },
           "bgcolor": "#E5ECF6",
           "caxis": {
            "gridcolor": "white",
            "linecolor": "white",
            "ticks": ""
           }
          },
          "title": {
           "x": 0.05
          },
          "xaxis": {
           "automargin": true,
           "gridcolor": "white",
           "linecolor": "white",
           "ticks": "",
           "title": {
            "standoff": 15
           },
           "zerolinecolor": "white",
           "zerolinewidth": 2
          },
          "yaxis": {
           "automargin": true,
           "gridcolor": "white",
           "linecolor": "white",
           "ticks": "",
           "title": {
            "standoff": 15
           },
           "zerolinecolor": "white",
           "zerolinewidth": 2
          }
         }
        },
        "title": {
         "text": "Investment Candidates by Location"
        },
        "width": 600
       }
      }
     },
     "metadata": {},
     "output_type": "display_data"
    }
   ],
   "source": [
    "import plotly.express as px\n",
    "\n",
    "fig_a=px.scatter_mapbox(candidates_2,\n",
    "    lat=\"lat\", lon=\"long\",\n",
    "    color=\"expected_profit\",\n",
    "    size=\"sqft_living\",\n",
    "    hover_data=[\"zipcode\", \"price\", \"expected_profit\"],\n",
    "    mapbox_style=\"open-street-map\", zoom=10,\n",
    "    title=\"Investment Candidates by Location\"\n",
    ")\n",
    "fig_a.update_layout(width=600, height=600)\n",
    "\n",
    "fig_a.show()"
   ]
  },
  {
   "cell_type": "code",
   "execution_count": 986,
   "id": "2b263ea5",
   "metadata": {},
   "outputs": [
    {
     "data": {
      "text/plain": [
       "<Axes: xlabel='price', ylabel='est_resale_price'>"
      ]
     },
     "execution_count": 986,
     "metadata": {},
     "output_type": "execute_result"
    },
    {
     "data": {
      "image/png": "[encoded data removed]",
      "text/plain": [
       "<Figure size 640x480 with 1 Axes>"
      ]
     },
     "metadata": {},
     "output_type": "display_data"
    }
   ],
   "source": [
    "sns.scatterplot(data=candidates_2, x='price', y='est_resale_price', hue='zipcode')\n"
   ]
  },
  {
   "cell_type": "code",
   "execution_count": 987,
   "id": "79102de6",
   "metadata": {},
   "outputs": [
    {
     "data": {
      "text/plain": [
       "<Axes: xlabel='renovation_cost', ylabel='expected_profit'>"
      ]
     },
     "execution_count": 987,
     "metadata": {},
     "output_type": "execute_result"
    },
    {
     "data": {
      "image/png": "[encoded data removed]",
      "text/plain": [
       "<Figure size 640x480 with 1 Axes>"
      ]
     },
     "metadata": {},
     "output_type": "display_data"
    }
   ],
   "source": [
    "sns.scatterplot(data=candidates_2, x='renovation_cost', y='expected_profit', hue='zipcode')\n"
   ]
  },
  {
   "cell_type": "code",
   "execution_count": 988,
   "id": "7e800786",
   "metadata": {},
   "outputs": [
    {
     "data": {
      "text/plain": [
       "<Axes: >"
      ]
     },
     "execution_count": 988,
     "metadata": {},
     "output_type": "execute_result"
    },
    {
     "data": {
      "image/png": "[encoded data removed]",
      "text/plain": [
       "<Figure size 600x500 with 2 Axes>"
      ]
     },
     "metadata": {},
     "output_type": "display_data"
    }
   ],
   "source": [
    "plt.figure(figsize=(6,5),dpi=100)\n",
    "sns.heatmap(df_analysis[['zipcode','price_per_sqft','floors', 'waterfront','sqft_living', 'yr_built', 'yr_renovated','lat','long']].corr(), annot=True, fmt='.2f',cmap='coolwarm', vmin=-1,\n",
    "    vmax=1)"
   ]
  },
  {
   "cell_type": "code",
   "execution_count": 989,
   "id": "97993219",
   "metadata": {},
   "outputs": [
    {
     "ename": "NameError",
     "evalue": "name 'group_by_zipcode' is not defined",
     "output_type": "error",
     "traceback": [
      "\u001b[31m---------------------------------------------------------------------------\u001b[39m",
      "\u001b[31mNameError\u001b[39m                                 Traceback (most recent call last)",
      "\u001b[36mCell\u001b[39m\u001b[36m \u001b[39m\u001b[32mIn[989]\u001b[39m\u001b[32m, line 2\u001b[39m\n\u001b[32m      1\u001b[39m plt.figure(figsize=(\u001b[32m30\u001b[39m, \u001b[32m6\u001b[39m))\n\u001b[32m----> \u001b[39m\u001b[32m2\u001b[39m \u001b[43mgroup_by_zipcode\u001b[49m.plot(kind=\u001b[33m'\u001b[39m\u001b[33mbar\u001b[39m\u001b[33m'\u001b[39m)\n\u001b[32m      3\u001b[39m plt.ylabel(\u001b[33m'\u001b[39m\u001b[33mprice_per_sqft\u001b[39m\u001b[33m'\u001b[39m)\n\u001b[32m      4\u001b[39m \u001b[38;5;66;03m#plt.title('Average by Group')\u001b[39;00m\n",
      "\u001b[31mNameError\u001b[39m: name 'group_by_zipcode' is not defined"
     ]
    },
    {
     "data": {
      "text/plain": [
       "<Figure size 3000x600 with 0 Axes>"
      ]
     },
     "metadata": {},
     "output_type": "display_data"
    }
   ],
   "source": [
    "plt.figure(figsize=(30, 6))\n",
    "group_by_zipcode.plot(kind='bar')\n",
    "plt.ylabel('price_per_sqft')\n",
    "#plt.title('Average by Group')\n",
    "plt.show()\n",
    "\n"
   ]
  },
  {
   "cell_type": "markdown",
   "id": "b0e7e3d2",
   "metadata": {},
   "source": [
    "Assuming that the poor part of King county are the one where the price per sqft is than 40$/sqft, we can reduce"
   ]
  },
  {
   "cell_type": "code",
   "execution_count": null,
   "id": "977d30f3",
   "metadata": {},
   "outputs": [],
   "source": []
  },
  {
   "cell_type": "markdown",
   "id": "dcb7461b",
   "metadata": {},
   "source": []
  },
  {
   "cell_type": "code",
   "execution_count": null,
   "id": "e5bf0532",
   "metadata": {},
   "outputs": [],
   "source": [
    "import optbinning as op\n",
    "# data analysis stack\n",
    "import numpy as np\n",
    "import pandas as pd\n",
    "\n",
    "# data visualization stack\n",
    "import matplotlib.pyplot as plt\n",
    "%matplotlib inline\n",
    "import seaborn as sns\n",
    "sns.set_style('whitegrid')\n",
    "\n",
    "# statistics stack\n",
    "from scipy import stats\n",
    "\n",
    "# machine learning stack\n",
    "from sklearn.preprocessing import LabelEncoder\n",
    "from sklearn.metrics import silhouette_score\n",
    "\n",
    "# miscellaneous\n",
    "import warnings\n",
    "warnings.simplefilter('ignore')\n",
    "\n",
    "df=df_analysis.copy()\n",
    "\n",
    "numerical_features = [\n",
    "    'price_per_sqft','sqft_living'\n",
    "]\n",
    "\n",
    "\n",
    "categorical_features = [\n",
    "    'zipcode','waterfront'\n",
    "]"
   ]
  },
  {
   "cell_type": "code",
   "execution_count": null,
   "id": "bdb93113",
   "metadata": {},
   "outputs": [],
   "source": [
    "def cat_num_correlation(df_,cat_col,num_col):\n",
    "    \"\"\"\n",
    "    This function spits out a sensible correlation coefficient\n",
    "    between a categorical column and a numerical column of a dataframe.\n",
    "    The correlation is essentially the corrected Cramer's correlation statistic,\n",
    "    after the numerical data points have been transformed under optimal binning\n",
    "    \"\"\"\n",
    "    _df = df_.copy()\n",
    "    class_number = _df[cat_col].nunique()\n",
    "    binning = op.MulticlassOptimalBinning()\n",
    "    _df['binned_feature'] =binning.fit_transform(_df[num_col], _df[cat_col])\n",
    "    result = cat_cat_correlation(_df,cat_col,'binned_feature')\n",
    "    return round(result,3)"
   ]
  },
  {
   "cell_type": "code",
   "execution_count": null,
   "id": "9eaadbc7",
   "metadata": {},
   "outputs": [],
   "source": [
    "def cat_cat_correlation(df_,cat_col1,cat_col2):\n",
    "    \"\"\"\n",
    "    This function spits out Cramer's correlation statistic, with Bergsma-Wicher \n",
    "    correction, between two categorical columns of a dataframe \n",
    "    \"\"\"\n",
    "    crosstab = pd.crosstab(df_[cat_col1], df_[cat_col2])\n",
    "    chi_sqr = stats.chi2_contingency(crosstab)[0]\n",
    "    n = crosstab.sum().sum()\n",
    "    r,k = crosstab.shape\n",
    "    phi_sqr_corr = max(0, chi_sqr/n - ((k-1)*(r-1))/(n-1))    \n",
    "    r_corr = r - ((r-1)**2)/(n-1)\n",
    "    k_corr = k - ((k-1)**2)/(n-1)\n",
    "    \n",
    "    result = np.sqrt(phi_sqr_corr / min( (k_corr-1), (r_corr-1)))\n",
    "    return round(result,3)"
   ]
  },
  {
   "cell_type": "code",
   "execution_count": null,
   "id": "fd1a6afd",
   "metadata": {},
   "outputs": [],
   "source": [
    "cat_num_corr_values = dict(\n",
    "    zip(\n",
    "        numerical_features,\n",
    "        [[cat_num_correlation(df,f1,f2) for f1 in categorical_features] for f2 in numerical_features]\n",
    "    )\n",
    ")\n",
    "\n",
    "plt.figure(figsize=(5,4),dpi=100)\n",
    "sns.heatmap(data=pd.DataFrame(data=cat_num_corr_values,index=categorical_features),\n",
    "            cmap='viridis',\n",
    "            linecolor='white',\n",
    "            linewidth=1,\n",
    "            annot=True,\n",
    "            vmin=0,\n",
    "            vmax=1\n",
    "           );"
   ]
  },
  {
   "cell_type": "code",
   "execution_count": null,
   "id": "54d5341e",
   "metadata": {},
   "outputs": [],
   "source": []
  }
 ],
 "metadata": {
  "kernelspec": {
   "display_name": ".venv",
   "language": "python",
   "name": "python3"
  },
  "language_info": {
   "codemirror_mode": {
    "name": "ipython",
    "version": 3
   },
   "file_extension": ".py",
   "mimetype": "text/x-python",
   "name": "python",
   "nbconvert_exporter": "python",
   "pygments_lexer": "ipython3",
   "version": "3.11.3"
  }
 },
 "nbformat": 4,
 "nbformat_minor": 5
}
